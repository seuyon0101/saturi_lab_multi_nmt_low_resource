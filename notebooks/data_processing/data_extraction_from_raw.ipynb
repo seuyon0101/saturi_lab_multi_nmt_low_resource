{
 "cells": [
  {
   "cell_type": "code",
   "execution_count": 1,
   "metadata": {},
   "outputs": [],
   "source": [
    "# libraries\n",
    "import os\n",
    "import glob\n",
    "import zipfile\n",
    "import pandas as pd\n",
    "import numpy as np\n",
    "import re"
   ]
  },
  {
   "cell_type": "code",
   "execution_count": 2,
   "metadata": {},
   "outputs": [],
   "source": [
    "# load and unzip files\n",
    "path = os.getenv(\"HOME\") + '/saturi_lab_multi_nmt_low_resource/data/raw/validation'\n",
    "zipfiles = ['[라벨]강원도_학습데이터_2.zip', '[라벨]경상도_학습데이터_2.zip', '[라벨]전라도_학습데이터_2.zip', '[라벨]제주도_학습용데이터_3.zip', '[라벨]충청도_학습데이터_2.zip']\n",
    "regs = ['kw','gs','jd','jj','cc']\n",
    "\n",
    "for zp,reg in zip(zipfiles, regs) :\n",
    "    extract_file = path +'/' + zp\n",
    "    val_dir = path + '/' + reg\n",
    "\n",
    "    os.makedirs(val_dir,exist_ok=True)    \n",
    "\n",
    "    if not len(os.listdir(val_dir)) :\n",
    "        with zipfile.ZipFile(zp,'r') as zip_ref :\n",
    "            zip_ref.extractall(val_dir)"
   ]
  },
  {
   "cell_type": "code",
   "execution_count": 3,
   "metadata": {},
   "outputs": [],
   "source": [
    "# extract saturi exerpts only\n",
    "def doc_preprocess(txt,reg):\n",
    "    raw = []\n",
    "    for doc in txt : \n",
    "        with open(doc,'r') as f :\n",
    "            lines = f.readlines() # 한줄 한줄씩 파일 가져오기\n",
    "            for line in lines :\n",
    "                line = re.sub(r'\\d\\W','',line)\n",
    "                match = re.search(r'\\(\\S+\\)\\/\\(\\S+\\)',line) # 찾기 조건\n",
    "                if match :\n",
    "                    line = line.strip() # \\n 부호 지우기\n",
    "                    pair = ' '.join(re.findall(r'\\(\\S+\\)\\/\\(\\S+\\)',line))\n",
    "                    normal = re.sub(r'\\(\\S+\\)\\/','', line) #표준어\n",
    "                    dialect = re.sub(r'\\/\\(\\S+\\)','', line) #사투리\n",
    "                    raw.append((normal, dialect,reg,pair)) #( 표준어, 사투리, 지역tag, original 표준어/사투리 )\n",
    "                    \n",
    "    return raw\n",
    "\n",
    "data = {}\n",
    "for reg in regs :\n",
    "    val_dir = path + '/' + reg\n",
    "    txt_files = glob.glob(val_dir + '/*.txt')\n",
    "    data[reg] = doc_preprocess(txt_files,reg)"
   ]
  },
  {
   "cell_type": "code",
   "execution_count": 8,
   "metadata": {},
   "outputs": [
    {
     "name": "stdout",
     "output_type": "stream",
     "text": [
      "<class 'pandas.core.frame.DataFrame'>\n",
      "RangeIndex: 316789 entries, 0 to 316788\n",
      "Data columns (total 4 columns):\n",
      " #   Column  Non-Null Count   Dtype \n",
      "---  ------  --------------   ----- \n",
      " 0   text    316789 non-null  object\n",
      " 1   dial    316789 non-null  object\n",
      " 2   reg     316789 non-null  object\n",
      " 3   pair    316789 non-null  object\n",
      "dtypes: object(4)\n",
      "memory usage: 9.7+ MB\n"
     ]
    },
    {
     "data": {
      "text/plain": [
       "reg\n",
       "jj    136097\n",
       "kw     60471\n",
       "jd     56155\n",
       "cc     33167\n",
       "gs     30899\n",
       "Name: count, dtype: int64"
      ]
     },
     "execution_count": 8,
     "metadata": {},
     "output_type": "execute_result"
    }
   ],
   "source": [
    "# put into dataframe\n",
    "\n",
    "a = pd.DataFrame(columns = ['text','dial','reg','pair'])\n",
    "\n",
    "for reg in regs :\n",
    "    b = pd.DataFrame(data[reg], columns = ['text','dial','reg','pair'])\n",
    "    a = a.merge(b,how='outer')\n",
    "\n",
    "a.to_csv(path + '/dataset_validation.csv',index=False) # save validation dataset\n",
    "\n",
    "a.info()\n",
    "a['reg'].value_counts() #check ouptput"
   ]
  }
 ],
 "metadata": {
  "kernelspec": {
   "display_name": "saturi",
   "language": "python",
   "name": "python3"
  },
  "language_info": {
   "codemirror_mode": {
    "name": "ipython",
    "version": 3
   },
   "file_extension": ".py",
   "mimetype": "text/x-python",
   "name": "python",
   "nbconvert_exporter": "python",
   "pygments_lexer": "ipython3",
   "version": "3.10.11"
  },
  "orig_nbformat": 4
 },
 "nbformat": 4,
 "nbformat_minor": 2
}
