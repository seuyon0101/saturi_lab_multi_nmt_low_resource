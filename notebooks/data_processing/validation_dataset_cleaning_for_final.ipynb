{
 "cells": [
  {
   "cell_type": "code",
   "execution_count": null,
   "metadata": {},
   "outputs": [],
   "source": [
    "import os\n",
    "import pandas as pd"
   ]
  },
  {
   "attachments": {},
   "cell_type": "markdown",
   "metadata": {},
   "source": [
    "# Load Dataset"
   ]
  },
  {
   "cell_type": "code",
   "execution_count": null,
   "metadata": {},
   "outputs": [],
   "source": [
    "df = pd.read_csv('/home/saturilab/saturi_lab_multi_nmt_low_resource/data/processed/validation_dataset_spell_trans_decon.csv')"
   ]
  },
  {
   "cell_type": "code",
   "execution_count": null,
   "metadata": {},
   "outputs": [],
   "source": [
    "df.head()"
   ]
  },
  {
   "cell_type": "code",
   "execution_count": null,
   "metadata": {},
   "outputs": [],
   "source": [
    "# number of data per region\n",
    "df.reg.value_counts()"
   ]
  },
  {
   "attachments": {},
   "cell_type": "markdown",
   "metadata": {},
   "source": [
    "# Check for Errors"
   ]
  },
  {
   "attachments": {},
   "cell_type": "markdown",
   "metadata": {},
   "source": [
    "### Anomal code like text in data e.i \"DD09... \""
   ]
  },
  {
   "cell_type": "code",
   "execution_count": null,
   "metadata": {},
   "outputs": [],
   "source": [
    "#check for alphabets in dial e.i. \"SD206...\"\n",
    "print('Number of errors in dial : ', len(df) - df.dial.str.extract('([A-Z]+\\d+)').isna().sum().values) # dial 3278개 오류들이 존재\n",
    "print(\"Number of errors in eng_decon :\", len(df) - df.eng_decon.str.extract('([A-Z]+\\d+)').isna().sum().values) # eng_decon 3597개 오류들이 존재"
   ]
  },
  {
   "cell_type": "code",
   "execution_count": null,
   "metadata": {},
   "outputs": [],
   "source": [
    "# replace\n",
    "import re #import to use regual expression\n",
    "\n",
    "concat_text = df.dial.values +'<sep>' + df.eng_decon.values #concatenate both text for faster process\n",
    "    \n",
    "new_dial =[]\n",
    "new_eng =[]\n",
    "\n",
    "for text in concat_text:\n",
    "    ver = re.search(r'([A-Z]+\\d+)', text)\n",
    "    if ver :\n",
    "        text = re.sub(r'([A-Z]+\\d+)','',text)\n",
    "        text_dial, text_eng = text.split('<sep>')\n",
    "        new_dial.append(text_dial)\n",
    "        new_eng.append(text_eng)\n",
    "    else :\n",
    "        text_dial, text_eng = text.split('<sep>')\n",
    "        new_dial.append(text_dial)\n",
    "        new_eng.append(text_eng)\n",
    "\n",
    "print('dial_correction :')\n",
    "print(new_dial[:10])\n",
    "print()\n",
    "print('eng_correction :')\n",
    "print(new_eng[:10])"
   ]
  },
  {
   "cell_type": "code",
   "execution_count": null,
   "metadata": {},
   "outputs": [],
   "source": [
    "# add to original dataframe\n",
    "df['dial2'] = new_dial\n",
    "df['eng_decon'] = new_eng"
   ]
  },
  {
   "cell_type": "code",
   "execution_count": null,
   "metadata": {},
   "outputs": [],
   "source": [
    "df.head()"
   ]
  },
  {
   "attachments": {},
   "cell_type": "markdown",
   "metadata": {},
   "source": [
    "### remove text with aliases that uses symbols like '@$&'"
   ]
  },
  {
   "cell_type": "code",
   "execution_count": null,
   "metadata": {},
   "outputs": [],
   "source": [
    "# search\n",
    "df.loc[df.dial.str.contains('[@$%&]')].index"
   ]
  },
  {
   "cell_type": "code",
   "execution_count": null,
   "metadata": {},
   "outputs": [],
   "source": [
    "#remove\n",
    "df.drop(index=df.loc[df.dial.str.contains('[@$%&]')].index, inplace=True)"
   ]
  },
  {
   "cell_type": "code",
   "execution_count": null,
   "metadata": {},
   "outputs": [],
   "source": [
    "#check it is removed\n",
    "df.loc[df.dial.str.contains('[@$%&]')] "
   ]
  },
  {
   "cell_type": "code",
   "execution_count": null,
   "metadata": {},
   "outputs": [],
   "source": [
    "#save to csv\n",
    "file_path = os.getenv('HOME') + '/saturi_lab_multi_nmt_low_resource/data/processed/validation_dataset_final.csv'\n",
    "df.to_csv(file_path, index=False)"
   ]
  }
 ],
 "metadata": {
  "kernelspec": {
   "display_name": "saturi",
   "language": "python",
   "name": "python3"
  },
  "language_info": {
   "codemirror_mode": {
    "name": "ipython",
    "version": 3
   },
   "file_extension": ".py",
   "mimetype": "text/x-python",
   "name": "python",
   "nbconvert_exporter": "python",
   "pygments_lexer": "ipython3",
   "version": "3.10.11"
  },
  "orig_nbformat": 4
 },
 "nbformat": 4,
 "nbformat_minor": 2
}
