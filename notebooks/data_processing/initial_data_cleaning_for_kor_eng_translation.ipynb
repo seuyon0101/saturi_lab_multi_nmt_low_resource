{
 "cells": [
  {
   "cell_type": "code",
   "execution_count": 1,
   "id": "34b39fad",
   "metadata": {},
   "outputs": [],
   "source": [
    "import pandas as pd\n",
    "import tqdm\n",
    "import os"
   ]
  },
  {
   "cell_type": "code",
   "execution_count": 2,
   "id": "23cb1499",
   "metadata": {},
   "outputs": [],
   "source": [
    "os.environ['HOME'] = os.getenv('HOME') + '/saturi_lab_multi_nmt_low_resource'\n",
    "path = os.getenv('HOME')\n",
    "# df = pd.read_csv(path +'/data/raw/dataset_full_v1.csv')\n",
    "df = pd.read_csv(path +'/data/raw/dataset_validation.csv')"
   ]
  },
  {
   "cell_type": "code",
   "execution_count": 3,
   "id": "968d890f",
   "metadata": {},
   "outputs": [],
   "source": [
    "#weighted sampling for valid set\n",
    "rw = len(df)/df.reg.value_counts()\n",
    "df['rw'] = df.reg.map(rw)\n",
    "df = df.sample(50000, weights='rw')\n"
   ]
  },
  {
   "cell_type": "code",
   "execution_count": 5,
   "id": "78e77490",
   "metadata": {},
   "outputs": [],
   "source": [
    "import re"
   ]
  },
  {
   "cell_type": "code",
   "execution_count": 6,
   "id": "e4b0cb4b",
   "metadata": {},
   "outputs": [],
   "source": [
    "#data cleaning\n",
    "\n",
    "df['text']=df['text'].apply(lambda x : re.sub('[\\(\\)]','',str(x))) # remove parenthesis\n",
    "df['text']=df['text'].apply(lambda x : re.sub('(\\&+[a-zA-Zㄱ-힣\\&]+)','',str(x))) # remove words like &&name, &company name, etc.\n",
    "df['text']=df['text'].apply(lambda x : re.sub('(\\@+[ㄱ-힣\\@]+)','',str(x))) # remove words like &&name, &company name, etc.\n",
    "df['text']=df['text'].apply(lambda x : re.sub('(x+[a-zㄱ-힣]+)','',str(x))) # remove words like xx하면, xxxx, etc\n",
    "df['text']=df['text'].apply(lambda x : re.sub('(\\-+[a-zㄱ-힣\\-]+)','',str(x))) # remove words like --하면, -시사- etc\n",
    "df['text']=df['text'].apply(lambda x : re.sub(r'(.+)\\1{2,}',r'\\1',str(x))) # remove repeating words\n",
    "df['text']=df['text'].apply(lambda x : re.sub('([ㄱ-힣]+)\\~$',r'\\1.',str(x))) # sub words ending in ~ to . ex 그럴거야~ 그럴거야.\n",
    "df['text']=df['text'].apply(lambda x : re.sub('([ㄱ-힣]+)\\~','',str(x))) # remove expressions like 어~ 아~ 으~ 오~\n",
    "\n",
    "df['dial']=df['dial'].apply(lambda x : re.sub('[\\(\\)]','',str(x)))\n",
    "df['dial']=df['dial'].apply(lambda x : re.sub('(\\&+[a-zA-Zㄱ-힣\\&]+)','',str(x)))\n",
    "df['dial']=df['dial'].apply(lambda x : re.sub('(\\@+[ㄱ-힣\\@]+)','',str(x))) # remove words like @이름,@주소,@상호명, etc.\n",
    "df['dial']=df['dial'].apply(lambda x : re.sub('(x+[a-zㄱ-힣]+)','',str(x))) # remove words like xx하면, xxxx, etc\n",
    "df['dial']=df['dial'].apply(lambda x : re.sub('(\\-+[a-zㄱ-힣\\-\\&]+)','',str(x))) # remove words like --하면, -시사- etc\n",
    "df['dial']=df['dial'].apply(lambda x : re.sub(r'(.+)\\1{2,}',r'\\1',str(x))) # remove repeating words\n",
    "df['dial']=df['dial'].apply(lambda x : re.sub('([ㄱ-힣]+)\\~$',r'\\1.',str(x))) # sub words ending in ~ to . ex 그럴거야~ 그럴거야.\n",
    "df['dial']=df['dial'].apply(lambda x : re.sub('([ㄱ-힣]+)\\~','',str(x))) # remove expressions like 어~ 아~ 으~ 오~\n",
    "\n",
    "#remove from training\n",
    "\n",
    "df.loc[df['text'].str.contains('/'),'rm'] = 1 #containing mislabelled data\n",
    "df['len'] = df['text'].apply(lambda x: len(x))\n",
    "df.loc[df['len'] < 2,'rm'] = 1 #length is less than 2\n",
    "df.drop_duplicates(subset='dial', inplace=True) # drop duplicated senteces in dial\n",
    "clean_df = df.loc[df['rm']!=1,['text','dial','reg','pair']]"
   ]
  },
  {
   "cell_type": "code",
   "execution_count": 7,
   "id": "c6d95c07",
   "metadata": {},
   "outputs": [
    {
     "data": {
      "text/html": [
       "<div>\n",
       "<style scoped>\n",
       "    .dataframe tbody tr th:only-of-type {\n",
       "        vertical-align: middle;\n",
       "    }\n",
       "\n",
       "    .dataframe tbody tr th {\n",
       "        vertical-align: top;\n",
       "    }\n",
       "\n",
       "    .dataframe thead th {\n",
       "        text-align: right;\n",
       "    }\n",
       "</style>\n",
       "<table border=\"1\" class=\"dataframe\">\n",
       "  <thead>\n",
       "    <tr style=\"text-align: right;\">\n",
       "      <th></th>\n",
       "      <th>text</th>\n",
       "      <th>dial</th>\n",
       "      <th>reg</th>\n",
       "      <th>pair</th>\n",
       "    </tr>\n",
       "  </thead>\n",
       "  <tbody>\n",
       "    <tr>\n",
       "      <th>310522</th>\n",
       "      <td>그날 근데 조금</td>\n",
       "      <td>그날 근데 쫌</td>\n",
       "      <td>cc</td>\n",
       "      <td>(쫌)/(조금)</td>\n",
       "    </tr>\n",
       "    <tr>\n",
       "      <th>110493</th>\n",
       "      <td>DD09근데 이제 빨리 은퇴를 하지.</td>\n",
       "      <td>DD09근데 인자 빨리 은퇴를 하지.</td>\n",
       "      <td>jd</td>\n",
       "      <td>(인자)/(이제)</td>\n",
       "    </tr>\n",
       "    <tr>\n",
       "      <th>292695</th>\n",
       "      <td>근데 너무 적극적이어 가지고 어.</td>\n",
       "      <td>근데 너무 적극적이어 가주구 어.</td>\n",
       "      <td>cc</td>\n",
       "      <td>(가주구)/(가지고)</td>\n",
       "    </tr>\n",
       "    <tr>\n",
       "      <th>113088</th>\n",
       "      <td>SD206예 그래요. 좀 좀  가볍게 보여요.</td>\n",
       "      <td>SD206예 그러요. 좀 좀  가볍게 보여요.</td>\n",
       "      <td>jd</td>\n",
       "      <td>(그러요.)/(그래요.)</td>\n",
       "    </tr>\n",
       "    <tr>\n",
       "      <th>5257</th>\n",
       "      <td>거기 있는   거기 나오는 어쨌든 그 음식들 그런 음식들을 다 한 개씩 가지고 와요.</td>\n",
       "      <td>거기 있는   거기 나오는 어쨌든 그 음식들 그런 음석들을 다 한 개씩 가지고 와요.</td>\n",
       "      <td>kw</td>\n",
       "      <td>(음석들을)/(음식들을)</td>\n",
       "    </tr>\n",
       "  </tbody>\n",
       "</table>\n",
       "</div>"
      ],
      "text/plain": [
       "                                                    text   \n",
       "310522                                          그날 근데 조금  \\\n",
       "110493                              DD09근데 이제 빨리 은퇴를 하지.   \n",
       "292695                                근데 너무 적극적이어 가지고 어.   \n",
       "113088                         SD206예 그래요. 좀 좀  가볍게 보여요.   \n",
       "5257     거기 있는   거기 나오는 어쨌든 그 음식들 그런 음식들을 다 한 개씩 가지고 와요.   \n",
       "\n",
       "                                                    dial reg           pair  \n",
       "310522                                           그날 근데 쫌  cc       (쫌)/(조금)  \n",
       "110493                              DD09근데 인자 빨리 은퇴를 하지.  jd      (인자)/(이제)  \n",
       "292695                                근데 너무 적극적이어 가주구 어.  cc    (가주구)/(가지고)  \n",
       "113088                         SD206예 그러요. 좀 좀  가볍게 보여요.  jd  (그러요.)/(그래요.)  \n",
       "5257     거기 있는   거기 나오는 어쨌든 그 음식들 그런 음석들을 다 한 개씩 가지고 와요.  kw  (음석들을)/(음식들을)  "
      ]
     },
     "execution_count": 7,
     "metadata": {},
     "output_type": "execute_result"
    }
   ],
   "source": [
    "clean_df.head()"
   ]
  },
  {
   "cell_type": "code",
   "execution_count": 8,
   "id": "908d8f1e",
   "metadata": {},
   "outputs": [
    {
     "name": "stderr",
     "output_type": "stream",
     "text": [
      "/home/saturilab/anaconda3/envs/saturi_torch/lib/python3.10/site-packages/tqdm/auto.py:21: TqdmWarning: IProgress not found. Please update jupyter and ipywidgets. See https://ipywidgets.readthedocs.io/en/stable/user_install.html\n",
      "  from .autonotebook import tqdm as notebook_tqdm\n",
      "You passed along `num_labels=3` with an incompatible id to label map: {'0': 'NEGATIVE', '1': 'POSITIVE'}. The number of labels wil be overwritten to 2.\n",
      "You passed along `num_labels=3` with an incompatible id to label map: {'0': 'NEGATIVE', '1': 'POSITIVE'}. The number of labels wil be overwritten to 2.\n",
      "You passed along `num_labels=3` with an incompatible id to label map: {'0': 'NEGATIVE', '1': 'POSITIVE'}. The number of labels wil be overwritten to 2.\n"
     ]
    }
   ],
   "source": [
    "from transformers import AutoModelForSeq2SeqLM, AutoTokenizer, pipeline\n",
    "ckpt = 'circulus/kobart-trans-ko-en-v2'\n",
    "tokenizer = AutoTokenizer.from_pretrained(ckpt)\n",
    "model = AutoModelForSeq2SeqLM.from_pretrained(ckpt)\n",
    "translator = pipeline(\"translation\", model=ckpt, max_length=60)"
   ]
  },
  {
   "cell_type": "code",
   "execution_count": 9,
   "id": "76862921",
   "metadata": {},
   "outputs": [
    {
     "data": {
      "text/plain": [
       "49617"
      ]
     },
     "execution_count": 9,
     "metadata": {},
     "output_type": "execute_result"
    }
   ],
   "source": [
    "text = clean_df.text.values.tolist()\n",
    "len(text)"
   ]
  },
  {
   "cell_type": "code",
   "execution_count": 10,
   "id": "5bf82f6b",
   "metadata": {},
   "outputs": [],
   "source": [
    "from torch.utils.data import DataLoader\n",
    "\n",
    "dataloader = DataLoader(text,  batch_size=512)"
   ]
  },
  {
   "cell_type": "code",
   "execution_count": 11,
   "id": "9e6a1a9a",
   "metadata": {},
   "outputs": [
    {
     "name": "stderr",
     "output_type": "stream",
     "text": [
      "100%|██████████| 97/97 [1:07:47<00:00, 41.93s/it]\n"
     ]
    }
   ],
   "source": [
    "data_processed_path = path  + '/data/processed/'\n",
    "translation_file = data_processed_path + input() # translation file name\n",
    "outputs = []\n",
    "for n,i in enumerate(tqdm.tqdm(dataloader)) :\n",
    "    inputs = tokenizer(i, return_tensors=\"pt\", padding=True).input_ids\n",
    "    out = model.generate(inputs,num_beams=3, max_new_tokens=60) # do_sample=True, top_k=30, top_p=0.95,\n",
    "    for j in out :\n",
    "        result = tokenizer.decode(j, skip_special_tokens=True)\n",
    "        outputs.append(result)\n",
    "    \n",
    "    if n % 100 == 0 :\n",
    "        with open(translation_file,'w') as f :\n",
    "            for sen in outputs :\n",
    "                f.write(sen+'\\n')\n",
    "                \n",
    "with open(translation_file,'w') as f :\n",
    "    for sen in outputs :\n",
    "        f.write(sen+'\\n')"
   ]
  },
  {
   "cell_type": "code",
   "execution_count": 12,
   "id": "b8c173c0",
   "metadata": {},
   "outputs": [],
   "source": [
    "with open(translation_file,'r') as f :\n",
    "    raw = f.read().splitlines()"
   ]
  },
  {
   "cell_type": "code",
   "execution_count": 13,
   "id": "33360048",
   "metadata": {},
   "outputs": [],
   "source": [
    "translated_train_data = data_processed_path+input() #file name for translated trained data\n",
    "clean_df['eng'] = raw\n",
    "clean_df.to_csv(f'{translated_train_data}.csv', index=False)"
   ]
  },
  {
   "cell_type": "code",
   "execution_count": 14,
   "id": "be2694f9",
   "metadata": {},
   "outputs": [
    {
     "data": {
      "text/html": [
       "<div>\n",
       "<style scoped>\n",
       "    .dataframe tbody tr th:only-of-type {\n",
       "        vertical-align: middle;\n",
       "    }\n",
       "\n",
       "    .dataframe tbody tr th {\n",
       "        vertical-align: top;\n",
       "    }\n",
       "\n",
       "    .dataframe thead th {\n",
       "        text-align: right;\n",
       "    }\n",
       "</style>\n",
       "<table border=\"1\" class=\"dataframe\">\n",
       "  <thead>\n",
       "    <tr style=\"text-align: right;\">\n",
       "      <th></th>\n",
       "      <th>Unnamed: 0</th>\n",
       "      <th>text</th>\n",
       "      <th>dial</th>\n",
       "      <th>reg</th>\n",
       "      <th>pair</th>\n",
       "      <th>eng</th>\n",
       "    </tr>\n",
       "  </thead>\n",
       "  <tbody>\n",
       "    <tr>\n",
       "      <th>0</th>\n",
       "      <td>310522</td>\n",
       "      <td>그날 근데 조금</td>\n",
       "      <td>그날 근데 쫌</td>\n",
       "      <td>cc</td>\n",
       "      <td>(쫌)/(조금)</td>\n",
       "      <td>But that day is a little bit</td>\n",
       "    </tr>\n",
       "    <tr>\n",
       "      <th>1</th>\n",
       "      <td>110493</td>\n",
       "      <td>DD09근데 이제 빨리 은퇴를 하지.</td>\n",
       "      <td>DD09근데 인자 빨리 은퇴를 하지.</td>\n",
       "      <td>jd</td>\n",
       "      <td>(인자)/(이제)</td>\n",
       "      <td>Its DD09 but now you retire quickly</td>\n",
       "    </tr>\n",
       "    <tr>\n",
       "      <th>2</th>\n",
       "      <td>292695</td>\n",
       "      <td>근데 너무 적극적이어 가지고 어.</td>\n",
       "      <td>근데 너무 적극적이어 가주구 어.</td>\n",
       "      <td>cc</td>\n",
       "      <td>(가주구)/(가지고)</td>\n",
       "      <td>But he was so active so huh</td>\n",
       "    </tr>\n",
       "    <tr>\n",
       "      <th>3</th>\n",
       "      <td>113088</td>\n",
       "      <td>SD206예 그래요. 좀 좀  가볍게 보여요.</td>\n",
       "      <td>SD206예 그러요. 좀 좀  가볍게 보여요.</td>\n",
       "      <td>jd</td>\n",
       "      <td>(그러요.)/(그래요.)</td>\n",
       "      <td>Its like SD206 it looks a little light</td>\n",
       "    </tr>\n",
       "    <tr>\n",
       "      <th>4</th>\n",
       "      <td>5257</td>\n",
       "      <td>거기 있는   거기 나오는 어쨌든 그 음식들 그런 음식들을 다 한 개씩 가지고 와요.</td>\n",
       "      <td>거기 있는   거기 나오는 어쨌든 그 음식들 그런 음석들을 다 한 개씩 가지고 와요.</td>\n",
       "      <td>kw</td>\n",
       "      <td>(음석들을)/(음식들을)</td>\n",
       "      <td>There  Anyway bring all those foods one by one</td>\n",
       "    </tr>\n",
       "  </tbody>\n",
       "</table>\n",
       "</div>"
      ],
      "text/plain": [
       "   Unnamed: 0                                              text   \n",
       "0      310522                                          그날 근데 조금  \\\n",
       "1      110493                              DD09근데 이제 빨리 은퇴를 하지.   \n",
       "2      292695                                근데 너무 적극적이어 가지고 어.   \n",
       "3      113088                         SD206예 그래요. 좀 좀  가볍게 보여요.   \n",
       "4        5257   거기 있는   거기 나오는 어쨌든 그 음식들 그런 음식들을 다 한 개씩 가지고 와요.   \n",
       "\n",
       "                                               dial reg           pair   \n",
       "0                                           그날 근데 쫌  cc       (쫌)/(조금)  \\\n",
       "1                              DD09근데 인자 빨리 은퇴를 하지.  jd      (인자)/(이제)   \n",
       "2                                근데 너무 적극적이어 가주구 어.  cc    (가주구)/(가지고)   \n",
       "3                         SD206예 그러요. 좀 좀  가볍게 보여요.  jd  (그러요.)/(그래요.)   \n",
       "4   거기 있는   거기 나오는 어쨌든 그 음식들 그런 음석들을 다 한 개씩 가지고 와요.  kw  (음석들을)/(음식들을)   \n",
       "\n",
       "                                              eng  \n",
       "0                    But that day is a little bit  \n",
       "1             Its DD09 but now you retire quickly  \n",
       "2                     But he was so active so huh  \n",
       "3          Its like SD206 it looks a little light  \n",
       "4  There  Anyway bring all those foods one by one  "
      ]
     },
     "execution_count": 14,
     "metadata": {},
     "output_type": "execute_result"
    }
   ],
   "source": [
    "tx = pd.read_csv(f'{translated_train_data}.csv')\n",
    "tx.head()"
   ]
  }
 ],
 "metadata": {
  "kernelspec": {
   "display_name": "Python 3 (ipykernel)",
   "language": "python",
   "name": "python3"
  },
  "language_info": {
   "codemirror_mode": {
    "name": "ipython",
    "version": 3
   },
   "file_extension": ".py",
   "mimetype": "text/x-python",
   "name": "python",
   "nbconvert_exporter": "python",
   "pygments_lexer": "ipython3",
   "version": "3.10.11"
  }
 },
 "nbformat": 4,
 "nbformat_minor": 5
}
