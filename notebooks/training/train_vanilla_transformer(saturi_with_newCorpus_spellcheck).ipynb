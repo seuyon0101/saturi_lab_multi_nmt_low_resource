{
 "cells": [
  {
   "cell_type": "code",
   "execution_count": 1,
   "id": "4caaa8de",
   "metadata": {},
   "outputs": [
    {
     "name": "stdout",
     "output_type": "stream",
     "text": [
      "2.8.0\n",
      "1.5.3\n",
      "1.24.2\n"
     ]
    }
   ],
   "source": [
    "import warnings\n",
    "warnings.filterwarnings('ignore')\n",
    "\n",
    "import tensorflow as tf\n",
    "import numpy as np\n",
    "import pandas as pd\n",
    "\n",
    "import matplotlib as mpl\n",
    "import matplotlib.ticker as ticker\n",
    "import matplotlib.pyplot as plt\n",
    "from sklearn.model_selection import train_test_split\n",
    "import time\n",
    "import re\n",
    "import os\n",
    "import io\n",
    "\n",
    "\n",
    "# from tqdm import tqdm_notebook \n",
    "from tqdm import tqdm \n",
    "import random\n",
    "\n",
    "import sentencepiece as spm\n",
    "from konlpy.tag import Mecab\n",
    "\n",
    "print(tf.__version__)\n",
    "print(pd.__version__)\n",
    "print(np.__version__)"
   ]
  },
  {
   "cell_type": "markdown",
   "id": "202946da",
   "metadata": {},
   "source": [
    "# Step1. 데이터 불러오기"
   ]
  },
  {
   "cell_type": "code",
   "execution_count": 2,
   "id": "52162de6",
   "metadata": {},
   "outputs": [],
   "source": [
    "data_dir = os.getenv(\"HOME\") + '/aiffel/s_DATA'\n",
    "tokenizer_name = 'spm'"
   ]
  },
  {
   "cell_type": "code",
   "execution_count": 3,
   "id": "86526021",
   "metadata": {},
   "outputs": [],
   "source": [
    "# train data load\n",
    "data_dir = os.getenv('HOME')+'/aiffel/s_DATA/pickle' # 파일 경로 지정\n",
    "data_train_path = data_dir+f\"/data_train_{tokenizer_name}_16000_spc_0606.pkl\"\n",
    "data_test_path = data_dir+f\"/data_test_{tokenizer_name}_16000_spc_0606.pkl\"\n",
    "full_data = pd.read_pickle(data_train_path, 'gzip')\n",
    "full_data_test = pd.read_pickle(data_test_path, 'gzip')"
   ]
  },
  {
   "cell_type": "code",
   "execution_count": 4,
   "id": "7160f5e6",
   "metadata": {},
   "outputs": [
    {
     "name": "stdout",
     "output_type": "stream",
     "text": [
      "<class 'pandas.core.frame.DataFrame'>\n",
      "Int64Index: 2447480 entries, 0 to 2448279\n",
      "Data columns (total 7 columns):\n",
      " #   Column    Dtype \n",
      "---  ------    ----- \n",
      " 0   reg       object\n",
      " 1   text      object\n",
      " 2   pair      object\n",
      " 3   dial      object\n",
      " 4   eng       object\n",
      " 5   toks_en   object\n",
      " 6   toks_dec  object\n",
      "dtypes: object(7)\n",
      "memory usage: 149.4+ MB\n"
     ]
    }
   ],
   "source": [
    "full_data.info()"
   ]
  },
  {
   "cell_type": "code",
   "execution_count": 5,
   "id": "43bdec92",
   "metadata": {},
   "outputs": [
    {
     "name": "stdout",
     "output_type": "stream",
     "text": [
      "<class 'pandas.core.frame.DataFrame'>\n",
      "Int64Index: 800 entries, 95559 to 1383009\n",
      "Data columns (total 7 columns):\n",
      " #   Column    Non-Null Count  Dtype \n",
      "---  ------    --------------  ----- \n",
      " 0   reg       800 non-null    object\n",
      " 1   text      800 non-null    object\n",
      " 2   pair      800 non-null    object\n",
      " 3   dial      800 non-null    object\n",
      " 4   eng       800 non-null    object\n",
      " 5   toks_en   800 non-null    object\n",
      " 6   toks_dec  800 non-null    object\n",
      "dtypes: object(7)\n",
      "memory usage: 50.0+ KB\n"
     ]
    }
   ],
   "source": [
    "full_data_test.info()"
   ]
  },
  {
   "cell_type": "code",
   "execution_count": 6,
   "id": "38a6af71",
   "metadata": {},
   "outputs": [],
   "source": [
    "regs = full_data.reg.unique()"
   ]
  },
  {
   "cell_type": "code",
   "execution_count": 7,
   "id": "68e212f0",
   "metadata": {},
   "outputs": [
    {
     "data": {
      "image/png": "[encoded data removed]",
      "text/plain": [
       "<Figure size 640x480 with 1 Axes>"
      ]
     },
     "metadata": {},
     "output_type": "display_data"
    }
   ],
   "source": [
    "import seaborn as sns\n",
    "full_data['tok_len'] = full_data['toks_en'].apply(lambda x : len(x))\n",
    "sns.histplot(x='tok_len',data = full_data, bins= 50,stat='probability' )\n",
    "plt.show()"
   ]
  },
  {
   "cell_type": "code",
   "execution_count": 8,
   "id": "da5801d3",
   "metadata": {},
   "outputs": [
    {
     "data": {
      "text/html": [
       "<div>\n",
       "<style scoped>\n",
       "    .dataframe tbody tr th:only-of-type {\n",
       "        vertical-align: middle;\n",
       "    }\n",
       "\n",
       "    .dataframe tbody tr th {\n",
       "        vertical-align: top;\n",
       "    }\n",
       "\n",
       "    .dataframe thead th {\n",
       "        text-align: right;\n",
       "    }\n",
       "</style>\n",
       "<table border=\"1\" class=\"dataframe\">\n",
       "  <thead>\n",
       "    <tr style=\"text-align: right;\">\n",
       "      <th></th>\n",
       "      <th>reg</th>\n",
       "      <th>text</th>\n",
       "      <th>pair</th>\n",
       "      <th>dial</th>\n",
       "      <th>eng</th>\n",
       "      <th>toks_en</th>\n",
       "      <th>toks_dec</th>\n",
       "      <th>tok_len</th>\n",
       "    </tr>\n",
       "  </thead>\n",
       "  <tbody>\n",
       "    <tr>\n",
       "      <th>0</th>\n",
       "      <td>cc</td>\n",
       "      <td>적극성을 나도 뭐든 나서서 적극성 있게 이렇게</td>\n",
       "      <td>(이케)/(이렇게)</td>\n",
       "      <td>적극성을 나도 뭐든 나서서 적극성 있게 이케</td>\n",
       "      <td>&lt;cc&gt; With acti haveness I took any acti havene...</td>\n",
       "      <td>[53, 7, 801, 1186, 4669, 10, 271, 241, 1186, 4...</td>\n",
       "      <td>[1, 568, 4026, 4519, 98, 4498, 719, 50, 568, 4...</td>\n",
       "      <td>12</td>\n",
       "    </tr>\n",
       "    <tr>\n",
       "      <th>1</th>\n",
       "      <td>cc</td>\n",
       "      <td>그러니까 소심함이 쪼끔 강해서 그런 거지</td>\n",
       "      <td>(그니까)/(그러니까)</td>\n",
       "      <td>그니까 소심함이 쪼끔 강해서 그런 거지</td>\n",
       "      <td>&lt;cc&gt; So it is because you are ti ami would</td>\n",
       "      <td>[53, 7, 41, 11, 12, 45, 15, 21, 51, 848, 25]</td>\n",
       "      <td>[1, 67, 9966, 5403, 260, 190, 276, 27, 379, 2]</td>\n",
       "      <td>11</td>\n",
       "    </tr>\n",
       "    <tr>\n",
       "      <th>2</th>\n",
       "      <td>cc</td>\n",
       "      <td>그 소심함이 아니라 조금 네가 적극적인 면도 어떤 면에서는 있을 거라고 생각해.</td>\n",
       "      <td>(쫌)/(조금) (니가)/(너가)</td>\n",
       "      <td>그 소심함이 아니라 쫌 니가 적극적인 면도 어떤 면에서는 있을 거라고 생각해.</td>\n",
       "      <td>&lt;cc&gt; You are a little acti have about this It ...</td>\n",
       "      <td>[53, 7, 48, 21, 13, 36, 1186, 24, 55, 30, 40, ...</td>\n",
       "      <td>[1, 13, 9966, 5403, 317, 16, 256, 568, 4026, 5...</td>\n",
       "      <td>17</td>\n",
       "    </tr>\n",
       "    <tr>\n",
       "      <th>3</th>\n",
       "      <td>cc</td>\n",
       "      <td>적극적으로 뭔가 딱딱 나서서 그래도 이렇게</td>\n",
       "      <td>(이케)/(이렇게)</td>\n",
       "      <td>적극적으로 뭔가 딱딱 나서서 그래도 이케</td>\n",
       "      <td>&lt;cc&gt; Astigiously something hard comes up like ...</td>\n",
       "      <td>[53, 7, 388, 659, 1445, 8779, 80, 143, 266, 83...</td>\n",
       "      <td>[1, 12364, 157, 3945, 719, 50, 158, 70, 2]</td>\n",
       "      <td>12</td>\n",
       "    </tr>\n",
       "    <tr>\n",
       "      <th>4</th>\n",
       "      <td>cc</td>\n",
       "      <td>끊고 맺고 이렇게 해야지 적극성을 하면서 내 자존감도 높여봐와서 이렇게 하는데</td>\n",
       "      <td>(이케)/(이렇게)</td>\n",
       "      <td>끊고 맺고 이렇게 해야지 적극성을 하면서 내 자존감도 높여봐와서 이케 하는데</td>\n",
       "      <td>&lt;cc&gt; You have to cut it off and make it like t...</td>\n",
       "      <td>[53, 7, 48, 24, 17, 365, 11, 236, 18, 150, 11,...</td>\n",
       "      <td>[1, 8385, 6602, 33, 53, 1281, 568, 4026, 4519,...</td>\n",
       "      <td>21</td>\n",
       "    </tr>\n",
       "    <tr>\n",
       "      <th>...</th>\n",
       "      <td>...</td>\n",
       "      <td>...</td>\n",
       "      <td>...</td>\n",
       "      <td>...</td>\n",
       "      <td>...</td>\n",
       "      <td>...</td>\n",
       "      <td>...</td>\n",
       "      <td>...</td>\n",
       "    </tr>\n",
       "    <tr>\n",
       "      <th>2448275</th>\n",
       "      <td>jj</td>\n",
       "      <td>계속 기다리고 있었어</td>\n",
       "      <td>(있언)/(있었어)</td>\n",
       "      <td>계속 기다리고 있언</td>\n",
       "      <td>&lt;jj&gt; I have been waiting for it</td>\n",
       "      <td>[53, 4, 10, 24, 112, 975, 52, 11]</td>\n",
       "      <td>[1, 192, 4663, 960, 2]</td>\n",
       "      <td>8</td>\n",
       "    </tr>\n",
       "    <tr>\n",
       "      <th>2448276</th>\n",
       "      <td>jj</td>\n",
       "      <td>다른 건 다 작동도 안 되는 거야</td>\n",
       "      <td>(거)/(거야)</td>\n",
       "      <td>다른 건 다 작동도 안 되는 거</td>\n",
       "      <td>&lt;jj&gt; Everything else does not work</td>\n",
       "      <td>[53, 4, 1389, 280, 118, 20, 162]</td>\n",
       "      <td>[1, 182, 129, 26, 1535, 502, 14, 18, 208, 15, 2]</td>\n",
       "      <td>7</td>\n",
       "    </tr>\n",
       "    <tr>\n",
       "      <th>2448277</th>\n",
       "      <td>jj</td>\n",
       "      <td>고객 응대도 안 해주는 거야</td>\n",
       "      <td>(거)/(거야)</td>\n",
       "      <td>고객 응대도 안 해주는 거</td>\n",
       "      <td>&lt;jj&gt; They do not even serve customers</td>\n",
       "      <td>[53, 4, 189, 22, 20, 94, 1864, 1162]</td>\n",
       "      <td>[1, 6478, 175, 140, 14, 18, 2673, 15, 2]</td>\n",
       "      <td>8</td>\n",
       "    </tr>\n",
       "    <tr>\n",
       "      <th>2448278</th>\n",
       "      <td>jj</td>\n",
       "      <td>차라리 샀으면 어떻게 안 하는데</td>\n",
       "      <td>(사시민)/(샀으면) (어떵)/(어떻게) (하는디)/(하는데)</td>\n",
       "      <td>차라리 사시민 어떵 안 하는디</td>\n",
       "      <td>&lt;jj&gt; If I bought it what would I do not do</td>\n",
       "      <td>[53, 4, 77, 10, 227, 11, 73, 25, 10, 22, 20, 22]</td>\n",
       "      <td>[1, 1542, 96, 3030, 203, 18, 612, 2]</td>\n",
       "      <td>12</td>\n",
       "    </tr>\n",
       "    <tr>\n",
       "      <th>2448279</th>\n",
       "      <td>jj</td>\n",
       "      <td>끊어 버리자</td>\n",
       "      <td>(불자)/(버리자)</td>\n",
       "      <td>끊어 불자</td>\n",
       "      <td>&lt;jj&gt; Let us throw it away</td>\n",
       "      <td>[53, 4, 225, 121, 637, 11, 188]</td>\n",
       "      <td>[1, 2194, 453, 184, 2]</td>\n",
       "      <td>7</td>\n",
       "    </tr>\n",
       "  </tbody>\n",
       "</table>\n",
       "<p>2447480 rows × 8 columns</p>\n",
       "</div>"
      ],
      "text/plain": [
       "        reg                                          text  \\\n",
       "0        cc                     적극성을 나도 뭐든 나서서 적극성 있게 이렇게   \n",
       "1        cc                        그러니까 소심함이 쪼끔 강해서 그런 거지   \n",
       "2        cc  그 소심함이 아니라 조금 네가 적극적인 면도 어떤 면에서는 있을 거라고 생각해.   \n",
       "3        cc                       적극적으로 뭔가 딱딱 나서서 그래도 이렇게   \n",
       "4        cc   끊고 맺고 이렇게 해야지 적극성을 하면서 내 자존감도 높여봐와서 이렇게 하는데   \n",
       "...      ..                                           ...   \n",
       "2448275  jj                                   계속 기다리고 있었어   \n",
       "2448276  jj                            다른 건 다 작동도 안 되는 거야   \n",
       "2448277  jj                               고객 응대도 안 해주는 거야   \n",
       "2448278  jj                             차라리 샀으면 어떻게 안 하는데   \n",
       "2448279  jj                                        끊어 버리자   \n",
       "\n",
       "                                       pair  \\\n",
       "0                                (이케)/(이렇게)   \n",
       "1                              (그니까)/(그러니까)   \n",
       "2                        (쫌)/(조금) (니가)/(너가)   \n",
       "3                                (이케)/(이렇게)   \n",
       "4                                (이케)/(이렇게)   \n",
       "...                                     ...   \n",
       "2448275                          (있언)/(있었어)   \n",
       "2448276                            (거)/(거야)   \n",
       "2448277                            (거)/(거야)   \n",
       "2448278  (사시민)/(샀으면) (어떵)/(어떻게) (하는디)/(하는데)   \n",
       "2448279                          (불자)/(버리자)   \n",
       "\n",
       "                                                dial  \\\n",
       "0                           적극성을 나도 뭐든 나서서 적극성 있게 이케   \n",
       "1                              그니까 소심함이 쪼끔 강해서 그런 거지   \n",
       "2        그 소심함이 아니라 쫌 니가 적극적인 면도 어떤 면에서는 있을 거라고 생각해.   \n",
       "3                             적극적으로 뭔가 딱딱 나서서 그래도 이케   \n",
       "4         끊고 맺고 이렇게 해야지 적극성을 하면서 내 자존감도 높여봐와서 이케 하는데   \n",
       "...                                              ...   \n",
       "2448275                                   계속 기다리고 있언   \n",
       "2448276                            다른 건 다 작동도 안 되는 거   \n",
       "2448277                               고객 응대도 안 해주는 거   \n",
       "2448278                             차라리 사시민 어떵 안 하는디   \n",
       "2448279                                        끊어 불자   \n",
       "\n",
       "                                                       eng  \\\n",
       "0        <cc> With acti haveness I took any acti havene...   \n",
       "1               <cc> So it is because you are ti ami would   \n",
       "2        <cc> You are a little acti have about this It ...   \n",
       "3        <cc> Astigiously something hard comes up like ...   \n",
       "4        <cc> You have to cut it off and make it like t...   \n",
       "...                                                    ...   \n",
       "2448275                    <jj> I have been waiting for it   \n",
       "2448276                 <jj> Everything else does not work   \n",
       "2448277              <jj> They do not even serve customers   \n",
       "2448278         <jj> If I bought it what would I do not do   \n",
       "2448279                          <jj> Let us throw it away   \n",
       "\n",
       "                                                   toks_en  \\\n",
       "0        [53, 7, 801, 1186, 4669, 10, 271, 241, 1186, 4...   \n",
       "1             [53, 7, 41, 11, 12, 45, 15, 21, 51, 848, 25]   \n",
       "2        [53, 7, 48, 21, 13, 36, 1186, 24, 55, 30, 40, ...   \n",
       "3        [53, 7, 388, 659, 1445, 8779, 80, 143, 266, 83...   \n",
       "4        [53, 7, 48, 24, 17, 365, 11, 236, 18, 150, 11,...   \n",
       "...                                                    ...   \n",
       "2448275                  [53, 4, 10, 24, 112, 975, 52, 11]   \n",
       "2448276                   [53, 4, 1389, 280, 118, 20, 162]   \n",
       "2448277               [53, 4, 189, 22, 20, 94, 1864, 1162]   \n",
       "2448278   [53, 4, 77, 10, 227, 11, 73, 25, 10, 22, 20, 22]   \n",
       "2448279                    [53, 4, 225, 121, 637, 11, 188]   \n",
       "\n",
       "                                                  toks_dec  tok_len  \n",
       "0        [1, 568, 4026, 4519, 98, 4498, 719, 50, 568, 4...       12  \n",
       "1           [1, 67, 9966, 5403, 260, 190, 276, 27, 379, 2]       11  \n",
       "2        [1, 13, 9966, 5403, 317, 16, 256, 568, 4026, 5...       17  \n",
       "3               [1, 12364, 157, 3945, 719, 50, 158, 70, 2]       12  \n",
       "4        [1, 8385, 6602, 33, 53, 1281, 568, 4026, 4519,...       21  \n",
       "...                                                    ...      ...  \n",
       "2448275                             [1, 192, 4663, 960, 2]        8  \n",
       "2448276   [1, 182, 129, 26, 1535, 502, 14, 18, 208, 15, 2]        7  \n",
       "2448277           [1, 6478, 175, 140, 14, 18, 2673, 15, 2]        8  \n",
       "2448278               [1, 1542, 96, 3030, 203, 18, 612, 2]       12  \n",
       "2448279                             [1, 2194, 453, 184, 2]        7  \n",
       "\n",
       "[2447480 rows x 8 columns]"
      ]
     },
     "execution_count": 8,
     "metadata": {},
     "output_type": "execute_result"
    }
   ],
   "source": [
    "full_data"
   ]
  },
  {
   "cell_type": "code",
   "execution_count": 9,
   "id": "8ba0f2c6",
   "metadata": {},
   "outputs": [
    {
     "data": {
      "text/plain": [
       "reg\n",
       "cc    17.487942\n",
       "jd    15.798906\n",
       "jj    13.309772\n",
       "kw    13.155958\n",
       "Name: tok_len, dtype: float64"
      ]
     },
     "execution_count": 9,
     "metadata": {},
     "output_type": "execute_result"
    }
   ],
   "source": [
    "full_data.groupby(full_data['reg'])['tok_len'].mean()"
   ]
  },
  {
   "cell_type": "code",
   "execution_count": 10,
   "id": "cde2307a",
   "metadata": {},
   "outputs": [],
   "source": [
    "full_data['tok_cat'] = pd.qcut(full_data['tok_len'], [0,0.9,0.9999,1],labels =[1,2,3])"
   ]
  },
  {
   "cell_type": "code",
   "execution_count": 11,
   "id": "da42b678",
   "metadata": {
    "scrolled": false
   },
   "outputs": [
    {
     "data": {
      "text/html": [
       "<div>\n",
       "<style scoped>\n",
       "    .dataframe tbody tr th:only-of-type {\n",
       "        vertical-align: middle;\n",
       "    }\n",
       "\n",
       "    .dataframe tbody tr th {\n",
       "        vertical-align: top;\n",
       "    }\n",
       "\n",
       "    .dataframe thead th {\n",
       "        text-align: right;\n",
       "    }\n",
       "</style>\n",
       "<table border=\"1\" class=\"dataframe\">\n",
       "  <thead>\n",
       "    <tr style=\"text-align: right;\">\n",
       "      <th></th>\n",
       "      <th>reg</th>\n",
       "      <th>text</th>\n",
       "      <th>pair</th>\n",
       "      <th>dial</th>\n",
       "      <th>eng</th>\n",
       "      <th>toks_en</th>\n",
       "      <th>toks_dec</th>\n",
       "      <th>tok_len</th>\n",
       "      <th>tok_cat</th>\n",
       "    </tr>\n",
       "  </thead>\n",
       "  <tbody>\n",
       "    <tr>\n",
       "      <th>0</th>\n",
       "      <td>cc</td>\n",
       "      <td>적극성을 나도 뭐든 나서서 적극성 있게 이렇게</td>\n",
       "      <td>(이케)/(이렇게)</td>\n",
       "      <td>적극성을 나도 뭐든 나서서 적극성 있게 이케</td>\n",
       "      <td>&lt;cc&gt; With acti haveness I took any acti havene...</td>\n",
       "      <td>[53, 7, 801, 1186, 4669, 10, 271, 241, 1186, 4...</td>\n",
       "      <td>[1, 568, 4026, 4519, 98, 4498, 719, 50, 568, 4...</td>\n",
       "      <td>12</td>\n",
       "      <td>1</td>\n",
       "    </tr>\n",
       "    <tr>\n",
       "      <th>1</th>\n",
       "      <td>cc</td>\n",
       "      <td>그러니까 소심함이 쪼끔 강해서 그런 거지</td>\n",
       "      <td>(그니까)/(그러니까)</td>\n",
       "      <td>그니까 소심함이 쪼끔 강해서 그런 거지</td>\n",
       "      <td>&lt;cc&gt; So it is because you are ti ami would</td>\n",
       "      <td>[53, 7, 41, 11, 12, 45, 15, 21, 51, 848, 25]</td>\n",
       "      <td>[1, 67, 9966, 5403, 260, 190, 276, 27, 379, 2]</td>\n",
       "      <td>11</td>\n",
       "      <td>1</td>\n",
       "    </tr>\n",
       "    <tr>\n",
       "      <th>2</th>\n",
       "      <td>cc</td>\n",
       "      <td>그 소심함이 아니라 조금 네가 적극적인 면도 어떤 면에서는 있을 거라고 생각해.</td>\n",
       "      <td>(쫌)/(조금) (니가)/(너가)</td>\n",
       "      <td>그 소심함이 아니라 쫌 니가 적극적인 면도 어떤 면에서는 있을 거라고 생각해.</td>\n",
       "      <td>&lt;cc&gt; You are a little acti have about this It ...</td>\n",
       "      <td>[53, 7, 48, 21, 13, 36, 1186, 24, 55, 30, 40, ...</td>\n",
       "      <td>[1, 13, 9966, 5403, 317, 16, 256, 568, 4026, 5...</td>\n",
       "      <td>17</td>\n",
       "      <td>1</td>\n",
       "    </tr>\n",
       "    <tr>\n",
       "      <th>3</th>\n",
       "      <td>cc</td>\n",
       "      <td>적극적으로 뭔가 딱딱 나서서 그래도 이렇게</td>\n",
       "      <td>(이케)/(이렇게)</td>\n",
       "      <td>적극적으로 뭔가 딱딱 나서서 그래도 이케</td>\n",
       "      <td>&lt;cc&gt; Astigiously something hard comes up like ...</td>\n",
       "      <td>[53, 7, 388, 659, 1445, 8779, 80, 143, 266, 83...</td>\n",
       "      <td>[1, 12364, 157, 3945, 719, 50, 158, 70, 2]</td>\n",
       "      <td>12</td>\n",
       "      <td>1</td>\n",
       "    </tr>\n",
       "    <tr>\n",
       "      <th>4</th>\n",
       "      <td>cc</td>\n",
       "      <td>끊고 맺고 이렇게 해야지 적극성을 하면서 내 자존감도 높여봐와서 이렇게 하는데</td>\n",
       "      <td>(이케)/(이렇게)</td>\n",
       "      <td>끊고 맺고 이렇게 해야지 적극성을 하면서 내 자존감도 높여봐와서 이케 하는데</td>\n",
       "      <td>&lt;cc&gt; You have to cut it off and make it like t...</td>\n",
       "      <td>[53, 7, 48, 24, 17, 365, 11, 236, 18, 150, 11,...</td>\n",
       "      <td>[1, 8385, 6602, 33, 53, 1281, 568, 4026, 4519,...</td>\n",
       "      <td>21</td>\n",
       "      <td>1</td>\n",
       "    </tr>\n",
       "    <tr>\n",
       "      <th>...</th>\n",
       "      <td>...</td>\n",
       "      <td>...</td>\n",
       "      <td>...</td>\n",
       "      <td>...</td>\n",
       "      <td>...</td>\n",
       "      <td>...</td>\n",
       "      <td>...</td>\n",
       "      <td>...</td>\n",
       "      <td>...</td>\n",
       "    </tr>\n",
       "    <tr>\n",
       "      <th>2448275</th>\n",
       "      <td>jj</td>\n",
       "      <td>계속 기다리고 있었어</td>\n",
       "      <td>(있언)/(있었어)</td>\n",
       "      <td>계속 기다리고 있언</td>\n",
       "      <td>&lt;jj&gt; I have been waiting for it</td>\n",
       "      <td>[53, 4, 10, 24, 112, 975, 52, 11]</td>\n",
       "      <td>[1, 192, 4663, 960, 2]</td>\n",
       "      <td>8</td>\n",
       "      <td>1</td>\n",
       "    </tr>\n",
       "    <tr>\n",
       "      <th>2448276</th>\n",
       "      <td>jj</td>\n",
       "      <td>다른 건 다 작동도 안 되는 거야</td>\n",
       "      <td>(거)/(거야)</td>\n",
       "      <td>다른 건 다 작동도 안 되는 거</td>\n",
       "      <td>&lt;jj&gt; Everything else does not work</td>\n",
       "      <td>[53, 4, 1389, 280, 118, 20, 162]</td>\n",
       "      <td>[1, 182, 129, 26, 1535, 502, 14, 18, 208, 15, 2]</td>\n",
       "      <td>7</td>\n",
       "      <td>1</td>\n",
       "    </tr>\n",
       "    <tr>\n",
       "      <th>2448277</th>\n",
       "      <td>jj</td>\n",
       "      <td>고객 응대도 안 해주는 거야</td>\n",
       "      <td>(거)/(거야)</td>\n",
       "      <td>고객 응대도 안 해주는 거</td>\n",
       "      <td>&lt;jj&gt; They do not even serve customers</td>\n",
       "      <td>[53, 4, 189, 22, 20, 94, 1864, 1162]</td>\n",
       "      <td>[1, 6478, 175, 140, 14, 18, 2673, 15, 2]</td>\n",
       "      <td>8</td>\n",
       "      <td>1</td>\n",
       "    </tr>\n",
       "    <tr>\n",
       "      <th>2448278</th>\n",
       "      <td>jj</td>\n",
       "      <td>차라리 샀으면 어떻게 안 하는데</td>\n",
       "      <td>(사시민)/(샀으면) (어떵)/(어떻게) (하는디)/(하는데)</td>\n",
       "      <td>차라리 사시민 어떵 안 하는디</td>\n",
       "      <td>&lt;jj&gt; If I bought it what would I do not do</td>\n",
       "      <td>[53, 4, 77, 10, 227, 11, 73, 25, 10, 22, 20, 22]</td>\n",
       "      <td>[1, 1542, 96, 3030, 203, 18, 612, 2]</td>\n",
       "      <td>12</td>\n",
       "      <td>1</td>\n",
       "    </tr>\n",
       "    <tr>\n",
       "      <th>2448279</th>\n",
       "      <td>jj</td>\n",
       "      <td>끊어 버리자</td>\n",
       "      <td>(불자)/(버리자)</td>\n",
       "      <td>끊어 불자</td>\n",
       "      <td>&lt;jj&gt; Let us throw it away</td>\n",
       "      <td>[53, 4, 225, 121, 637, 11, 188]</td>\n",
       "      <td>[1, 2194, 453, 184, 2]</td>\n",
       "      <td>7</td>\n",
       "      <td>1</td>\n",
       "    </tr>\n",
       "  </tbody>\n",
       "</table>\n",
       "<p>2447480 rows × 9 columns</p>\n",
       "</div>"
      ],
      "text/plain": [
       "        reg                                          text  \\\n",
       "0        cc                     적극성을 나도 뭐든 나서서 적극성 있게 이렇게   \n",
       "1        cc                        그러니까 소심함이 쪼끔 강해서 그런 거지   \n",
       "2        cc  그 소심함이 아니라 조금 네가 적극적인 면도 어떤 면에서는 있을 거라고 생각해.   \n",
       "3        cc                       적극적으로 뭔가 딱딱 나서서 그래도 이렇게   \n",
       "4        cc   끊고 맺고 이렇게 해야지 적극성을 하면서 내 자존감도 높여봐와서 이렇게 하는데   \n",
       "...      ..                                           ...   \n",
       "2448275  jj                                   계속 기다리고 있었어   \n",
       "2448276  jj                            다른 건 다 작동도 안 되는 거야   \n",
       "2448277  jj                               고객 응대도 안 해주는 거야   \n",
       "2448278  jj                             차라리 샀으면 어떻게 안 하는데   \n",
       "2448279  jj                                        끊어 버리자   \n",
       "\n",
       "                                       pair  \\\n",
       "0                                (이케)/(이렇게)   \n",
       "1                              (그니까)/(그러니까)   \n",
       "2                        (쫌)/(조금) (니가)/(너가)   \n",
       "3                                (이케)/(이렇게)   \n",
       "4                                (이케)/(이렇게)   \n",
       "...                                     ...   \n",
       "2448275                          (있언)/(있었어)   \n",
       "2448276                            (거)/(거야)   \n",
       "2448277                            (거)/(거야)   \n",
       "2448278  (사시민)/(샀으면) (어떵)/(어떻게) (하는디)/(하는데)   \n",
       "2448279                          (불자)/(버리자)   \n",
       "\n",
       "                                                dial  \\\n",
       "0                           적극성을 나도 뭐든 나서서 적극성 있게 이케   \n",
       "1                              그니까 소심함이 쪼끔 강해서 그런 거지   \n",
       "2        그 소심함이 아니라 쫌 니가 적극적인 면도 어떤 면에서는 있을 거라고 생각해.   \n",
       "3                             적극적으로 뭔가 딱딱 나서서 그래도 이케   \n",
       "4         끊고 맺고 이렇게 해야지 적극성을 하면서 내 자존감도 높여봐와서 이케 하는데   \n",
       "...                                              ...   \n",
       "2448275                                   계속 기다리고 있언   \n",
       "2448276                            다른 건 다 작동도 안 되는 거   \n",
       "2448277                               고객 응대도 안 해주는 거   \n",
       "2448278                             차라리 사시민 어떵 안 하는디   \n",
       "2448279                                        끊어 불자   \n",
       "\n",
       "                                                       eng  \\\n",
       "0        <cc> With acti haveness I took any acti havene...   \n",
       "1               <cc> So it is because you are ti ami would   \n",
       "2        <cc> You are a little acti have about this It ...   \n",
       "3        <cc> Astigiously something hard comes up like ...   \n",
       "4        <cc> You have to cut it off and make it like t...   \n",
       "...                                                    ...   \n",
       "2448275                    <jj> I have been waiting for it   \n",
       "2448276                 <jj> Everything else does not work   \n",
       "2448277              <jj> They do not even serve customers   \n",
       "2448278         <jj> If I bought it what would I do not do   \n",
       "2448279                          <jj> Let us throw it away   \n",
       "\n",
       "                                                   toks_en  \\\n",
       "0        [53, 7, 801, 1186, 4669, 10, 271, 241, 1186, 4...   \n",
       "1             [53, 7, 41, 11, 12, 45, 15, 21, 51, 848, 25]   \n",
       "2        [53, 7, 48, 21, 13, 36, 1186, 24, 55, 30, 40, ...   \n",
       "3        [53, 7, 388, 659, 1445, 8779, 80, 143, 266, 83...   \n",
       "4        [53, 7, 48, 24, 17, 365, 11, 236, 18, 150, 11,...   \n",
       "...                                                    ...   \n",
       "2448275                  [53, 4, 10, 24, 112, 975, 52, 11]   \n",
       "2448276                   [53, 4, 1389, 280, 118, 20, 162]   \n",
       "2448277               [53, 4, 189, 22, 20, 94, 1864, 1162]   \n",
       "2448278   [53, 4, 77, 10, 227, 11, 73, 25, 10, 22, 20, 22]   \n",
       "2448279                    [53, 4, 225, 121, 637, 11, 188]   \n",
       "\n",
       "                                                  toks_dec  tok_len tok_cat  \n",
       "0        [1, 568, 4026, 4519, 98, 4498, 719, 50, 568, 4...       12       1  \n",
       "1           [1, 67, 9966, 5403, 260, 190, 276, 27, 379, 2]       11       1  \n",
       "2        [1, 13, 9966, 5403, 317, 16, 256, 568, 4026, 5...       17       1  \n",
       "3               [1, 12364, 157, 3945, 719, 50, 158, 70, 2]       12       1  \n",
       "4        [1, 8385, 6602, 33, 53, 1281, 568, 4026, 4519,...       21       1  \n",
       "...                                                    ...      ...     ...  \n",
       "2448275                             [1, 192, 4663, 960, 2]        8       1  \n",
       "2448276   [1, 182, 129, 26, 1535, 502, 14, 18, 208, 15, 2]        7       1  \n",
       "2448277           [1, 6478, 175, 140, 14, 18, 2673, 15, 2]        8       1  \n",
       "2448278               [1, 1542, 96, 3030, 203, 18, 612, 2]       12       1  \n",
       "2448279                             [1, 2194, 453, 184, 2]        7       1  \n",
       "\n",
       "[2447480 rows x 9 columns]"
      ]
     },
     "execution_count": 11,
     "metadata": {},
     "output_type": "execute_result"
    }
   ],
   "source": [
    "full_data"
   ]
  },
  {
   "cell_type": "code",
   "execution_count": 12,
   "id": "2af0518a",
   "metadata": {},
   "outputs": [
    {
     "data": {
      "text/plain": [
       "6376       46\n",
       "17094      41\n",
       "19558      42\n",
       "23224      41\n",
       "49301      51\n",
       "           ..\n",
       "2418065    41\n",
       "2427831    42\n",
       "2433567    59\n",
       "2439219    42\n",
       "2439622    43\n",
       "Name: tok_len, Length: 235, dtype: int64"
      ]
     },
     "execution_count": 12,
     "metadata": {},
     "output_type": "execute_result"
    }
   ],
   "source": [
    "full_data.loc[full_data['tok_cat']==3,'tok_len']"
   ]
  },
  {
   "cell_type": "code",
   "execution_count": 13,
   "id": "bfc2da37",
   "metadata": {},
   "outputs": [
    {
     "data": {
      "text/plain": [
       "235"
      ]
     },
     "execution_count": 13,
     "metadata": {},
     "output_type": "execute_result"
    }
   ],
   "source": [
    "len(full_data.loc[full_data['tok_cat']==3,'tok_len'])"
   ]
  },
  {
   "cell_type": "code",
   "execution_count": 14,
   "id": "7cbe02d9",
   "metadata": {},
   "outputs": [
    {
     "data": {
      "text/plain": [
       "min     41\n",
       "max    108\n",
       "Name: tok_len, dtype: int64"
      ]
     },
     "execution_count": 14,
     "metadata": {},
     "output_type": "execute_result"
    }
   ],
   "source": [
    "full_data.loc[full_data['tok_cat']==3,'tok_len'].agg([min,max])"
   ]
  },
  {
   "cell_type": "code",
   "execution_count": 15,
   "id": "f472b3d4",
   "metadata": {},
   "outputs": [
    {
     "data": {
      "text/plain": [
       "True"
      ]
     },
     "execution_count": 15,
     "metadata": {},
     "output_type": "execute_result"
    }
   ],
   "source": [
    "data_path = os.getenv('HOME') + '/workspace/saturi/'\n",
    "sizes = 16009\n",
    "SRC_VOCAB_SIZE = sizes\n",
    "TGT_VOCAB_SIZE = sizes\n",
    "\n",
    "enc_tokenizer = spm.SentencePieceProcessor()\n",
    "enc_tokenizer.Load(data_path+'spm_enc_spm16000_spc.model')\n",
    "\n",
    "dec_tokenizer = spm.SentencePieceProcessor()\n",
    "dec_tokenizer.Load(data_path+f'spm_dec_{tokenizer_name}16000_spc.model')\n",
    "\n",
    "dec_tokenizer.set_encode_extra_options(\"bos:eos\")"
   ]
  },
  {
   "cell_type": "markdown",
   "id": "2d62d755",
   "metadata": {},
   "source": [
    "# Step 2. 모델 불러오기"
   ]
  },
  {
   "cell_type": "code",
   "execution_count": 16,
   "id": "24296d85",
   "metadata": {},
   "outputs": [
    {
     "name": "stderr",
     "output_type": "stream",
     "text": [
      "\u001b[34m\u001b[1mwandb\u001b[0m: Currently logged in as: \u001b[33maeolian83\u001b[0m (\u001b[33msaturi-lab\u001b[0m). Use \u001b[1m`wandb login --relogin`\u001b[0m to force relogin\n"
     ]
    },
    {
     "data": {
      "text/plain": [
       "True"
      ]
     },
     "execution_count": 16,
     "metadata": {},
     "output_type": "execute_result"
    }
   ],
   "source": [
    "import wandb\n",
    "wandb.login()"
   ]
  },
  {
   "cell_type": "code",
   "execution_count": 17,
   "id": "da9f9499",
   "metadata": {},
   "outputs": [
    {
     "data": {
      "text/html": [
       "wandb version 0.15.3 is available!  To upgrade, please run:\n",
       " $ pip install wandb --upgrade"
      ],
      "text/plain": [
       "<IPython.core.display.HTML object>"
      ]
     },
     "metadata": {},
     "output_type": "display_data"
    },
    {
     "data": {
      "text/html": [
       "Tracking run with wandb version 0.15.2"
      ],
      "text/plain": [
       "<IPython.core.display.HTML object>"
      ]
     },
     "metadata": {},
     "output_type": "display_data"
    },
    {
     "data": {
      "text/html": [
       "Run data is saved locally in <code>/home/aeolian83/workspace/saturi/wandb/run-20230606_204640-gwluolj8</code>"
      ],
      "text/plain": [
       "<IPython.core.display.HTML object>"
      ]
     },
     "metadata": {},
     "output_type": "display_data"
    },
    {
     "data": {
      "text/html": [
       "Syncing run <strong><a href='https://wandb.ai/saturi-lab/saturi_v_transformer_new_corpus_with_spellcheck/runs/gwluolj8' target=\"_blank\">stellar-hill-1</a></strong> to <a href='https://wandb.ai/saturi-lab/saturi_v_transformer_new_corpus_with_spellcheck' target=\"_blank\">Weights & Biases</a> (<a href='https://wandb.me/run' target=\"_blank\">docs</a>)<br/>"
      ],
      "text/plain": [
       "<IPython.core.display.HTML object>"
      ]
     },
     "metadata": {},
     "output_type": "display_data"
    },
    {
     "data": {
      "text/html": [
       " View project at <a href='https://wandb.ai/saturi-lab/saturi_v_transformer_new_corpus_with_spellcheck' target=\"_blank\">https://wandb.ai/saturi-lab/saturi_v_transformer_new_corpus_with_spellcheck</a>"
      ],
      "text/plain": [
       "<IPython.core.display.HTML object>"
      ]
     },
     "metadata": {},
     "output_type": "display_data"
    },
    {
     "data": {
      "text/html": [
       " View run at <a href='https://wandb.ai/saturi-lab/saturi_v_transformer_new_corpus_with_spellcheck/runs/gwluolj8' target=\"_blank\">https://wandb.ai/saturi-lab/saturi_v_transformer_new_corpus_with_spellcheck/runs/gwluolj8</a>"
      ],
      "text/plain": [
       "<IPython.core.display.HTML object>"
      ]
     },
     "metadata": {},
     "output_type": "display_data"
    }
   ],
   "source": [
    "#wandb 설정\n",
    "warmups = 8500\n",
    "project_name = 'saturi_v_transformer_new_corpus_with_spellcheck'\n",
    "run  = wandb.init(project = project_name ,\n",
    "                  entity = 'saturi-lab',\n",
    "                  config = {\n",
    "                      'model_name':'Vanilla_Transformer',\n",
    "                      'n_layers':6,\n",
    "                      'd_model':512,\n",
    "                      'n_heads':8,\n",
    "                      'd_ff':2048,\n",
    "                      'src_vocab_size':SRC_VOCAB_SIZE,\n",
    "                      'tgt_vocab_size':TGT_VOCAB_SIZE,\n",
    "                      'pos_len': 512,\n",
    "                      'dropout':0.2,\n",
    "                      'shared':True,\n",
    "                      'warmups' : warmups,\n",
    "                      'epochs':1,\n",
    "                      'optimizer' :'ADAM',\n",
    "                      'loss' : 'SparseCategoricalCrossentropy',\n",
    "                      'metric' : 'bleu'\n",
    "                  })\n",
    "config = wandb.config"
   ]
  },
  {
   "cell_type": "code",
   "execution_count": 18,
   "id": "3c0d31e1",
   "metadata": {},
   "outputs": [],
   "source": [
    "# config = {\n",
    "#             'model_name':'Vanilla_Transformer',\n",
    "#             'n_layers':6,\n",
    "#             'd_model':512,\n",
    "#             'n_heads':8,\n",
    "#             'd_ff':2048,\n",
    "#             'src_vocab_size':SRC_VOCAB_SIZE,\n",
    "#             'tgt_vocab_size':TGT_VOCAB_SIZE,\n",
    "#             'pos_len': 512,\n",
    "#             'dropout':0.2,\n",
    "#             'shared':True,\n",
    "#             'warmups' : warmups,\n",
    "#             'epochs':1,\n",
    "#             'optimizer' :'ADAM',\n",
    "#             'loss' : 'SparseCategoricalCrossentropy',\n",
    "#             'metric' : 'bleu'\n",
    "#                   }"
   ]
  },
  {
   "cell_type": "code",
   "execution_count": 19,
   "id": "b91b5c10",
   "metadata": {},
   "outputs": [],
   "source": [
    "import sys\n",
    "sys.path.insert(0,os.getenv('HOME') + '/aiffel/saturi/MODEL/') # vanilla transformer 파일경로에서 불러오기 위해 설정\n",
    "sys.path.insert(0,os.getenv('HOME') + '/aiffel/saturi/PRE/')\n",
    "sys.path.insert(0,os.getenv('HOME') + '/aiffel/saturi/POST/')"
   ]
  },
  {
   "cell_type": "code",
   "execution_count": 20,
   "id": "e8b6fe54",
   "metadata": {},
   "outputs": [
    {
     "name": "stderr",
     "output_type": "stream",
     "text": [
      "2023-06-06 20:46:44.382964: I tensorflow/stream_executor/cuda/cuda_gpu_executor.cc:936] successful NUMA node read from SysFS had negative value (-1), but there must be at least one NUMA node, so returning NUMA node zero\n",
      "2023-06-06 20:46:44.387792: I tensorflow/stream_executor/cuda/cuda_gpu_executor.cc:936] successful NUMA node read from SysFS had negative value (-1), but there must be at least one NUMA node, so returning NUMA node zero\n",
      "2023-06-06 20:46:44.387891: I tensorflow/stream_executor/cuda/cuda_gpu_executor.cc:936] successful NUMA node read from SysFS had negative value (-1), but there must be at least one NUMA node, so returning NUMA node zero\n",
      "2023-06-06 20:46:44.389148: I tensorflow/core/platform/cpu_feature_guard.cc:151] This TensorFlow binary is optimized with oneAPI Deep Neural Network Library (oneDNN) to use the following CPU instructions in performance-critical operations:  AVX2 FMA\n",
      "To enable them in other operations, rebuild TensorFlow with the appropriate compiler flags.\n",
      "2023-06-06 20:46:44.389941: I tensorflow/stream_executor/cuda/cuda_gpu_executor.cc:936] successful NUMA node read from SysFS had negative value (-1), but there must be at least one NUMA node, so returning NUMA node zero\n",
      "2023-06-06 20:46:44.390041: I tensorflow/stream_executor/cuda/cuda_gpu_executor.cc:936] successful NUMA node read from SysFS had negative value (-1), but there must be at least one NUMA node, so returning NUMA node zero\n",
      "2023-06-06 20:46:44.390101: I tensorflow/stream_executor/cuda/cuda_gpu_executor.cc:936] successful NUMA node read from SysFS had negative value (-1), but there must be at least one NUMA node, so returning NUMA node zero\n",
      "2023-06-06 20:46:44.809324: I tensorflow/stream_executor/cuda/cuda_gpu_executor.cc:936] successful NUMA node read from SysFS had negative value (-1), but there must be at least one NUMA node, so returning NUMA node zero\n",
      "2023-06-06 20:46:44.809507: I tensorflow/stream_executor/cuda/cuda_gpu_executor.cc:936] successful NUMA node read from SysFS had negative value (-1), but there must be at least one NUMA node, so returning NUMA node zero\n",
      "2023-06-06 20:46:44.809572: I tensorflow/stream_executor/cuda/cuda_gpu_executor.cc:936] successful NUMA node read from SysFS had negative value (-1), but there must be at least one NUMA node, so returning NUMA node zero\n",
      "2023-06-06 20:46:44.809649: I tensorflow/core/common_runtime/gpu/gpu_device.cc:1525] Created device /job:localhost/replica:0/task:0/device:GPU:0 with 22187 MB memory:  -> device: 0, name: NVIDIA GeForce RTX 3090, pci bus id: 0000:2e:00.0, compute capability: 8.6\n"
     ]
    }
   ],
   "source": [
    "from vanilla_transformer import Transformer, generate_masks\n",
    "\n",
    "transformer = Transformer(\n",
    "    n_layers=config.n_layers,\n",
    "    d_model=config.d_model,\n",
    "    n_heads=config.n_heads,\n",
    "    d_ff=config.d_ff,\n",
    "    src_vocab_size=config.src_vocab_size,\n",
    "    tgt_vocab_size=config.tgt_vocab_size,\n",
    "    pos_len=config.pos_len,\n",
    "    dropout=config.dropout,\n",
    "    shared=config.shared\n",
    ")"
   ]
  },
  {
   "cell_type": "code",
   "execution_count": 21,
   "id": "db6ea51f",
   "metadata": {},
   "outputs": [],
   "source": [
    "# from vanilla_transformer import Transformer, generate_masks\n",
    "\n",
    "# transformer = Transformer(\n",
    "#     n_layers=config['n_layers'],\n",
    "#     d_model=config['d_model'],\n",
    "#     n_heads=config['n_heads'],\n",
    "#     d_ff=config['d_ff'],\n",
    "#     src_vocab_size=config['src_vocab_size'],\n",
    "#     tgt_vocab_size=config['tgt_vocab_size'],\n",
    "#     pos_len=config['pos_len'],\n",
    "#     dropout=config['dropout'],\n",
    "#     shared=config['shared']\n",
    "# )"
   ]
  },
  {
   "cell_type": "markdown",
   "id": "3730286e",
   "metadata": {},
   "source": [
    "## Learning Rate Scheduler를 선언하고, 이를 포함하는 Adam Optimazer를 선언"
   ]
  },
  {
   "cell_type": "code",
   "execution_count": 22,
   "id": "bd64ea1e",
   "metadata": {},
   "outputs": [],
   "source": [
    "class LearningRateScheduler(tf.keras.optimizers.schedules.LearningRateSchedule):\n",
    "    def __init__(self, d_model, warmup_steps=config['warmups']):\n",
    "        super(LearningRateScheduler, self).__init__()\n",
    "        self.d_model = d_model\n",
    "        self.warmup_steps = warmup_steps\n",
    "    \n",
    "    def __call__(self, step):\n",
    "        arg1 = step ** np.array(-0.5)\n",
    "        arg2 = step * np.array(self.warmup_steps ** -1.5)\n",
    "        \n",
    "        return np.array(self.d_model ** -0.5) * tf.math.minimum(arg1, arg2)"
   ]
  },
  {
   "cell_type": "code",
   "execution_count": 23,
   "id": "b4a905aa",
   "metadata": {},
   "outputs": [],
   "source": [
    "learningrate = LearningRateScheduler(512)"
   ]
  },
  {
   "cell_type": "code",
   "execution_count": 24,
   "id": "4ad4d1c3",
   "metadata": {},
   "outputs": [],
   "source": [
    "optimizer = tf.keras.optimizers.Adam(learningrate, beta_1=0.9, beta_2=0.98, epsilon=1e-9)"
   ]
  },
  {
   "cell_type": "markdown",
   "id": "415a9d83",
   "metadata": {},
   "source": [
    "## Loss 함수를 정의\n",
    "- loss 함수에서 mask는 어떤 역활을 하는가?\n",
    "- tf.reduce_sum의 기능에 대해 확인"
   ]
  },
  {
   "cell_type": "code",
   "execution_count": 25,
   "id": "e6f0df05",
   "metadata": {},
   "outputs": [],
   "source": [
    "# Loss 함수 정의\n",
    "loss_object = tf.keras.losses.SparseCategoricalCrossentropy(from_logits=True, reduction='none')\n",
    "\n",
    "def loss_function(real, pred):\n",
    "    # 로스함수에서  mask는 어떤 역활을 하는가?\n",
    "    mask = tf.math.logical_not(tf.math.equal(real, 0))\n",
    "    loss_ = loss_object(real, pred)\n",
    "\n",
    "    # Masking 되지 않은 입력의 개수로 Scaling하는 과정\n",
    "    mask = tf.cast(mask, dtype=loss_.dtype)\n",
    "    loss_ *= mask\n",
    "\n",
    "    return tf.reduce_sum(loss_)/tf.reduce_sum(mask)"
   ]
  },
  {
   "cell_type": "markdown",
   "id": "e0ae3f4d",
   "metadata": {},
   "source": [
    "## train_step 함수를 정의"
   ]
  },
  {
   "cell_type": "code",
   "execution_count": 26,
   "id": "c6870a88",
   "metadata": {},
   "outputs": [],
   "source": [
    "@tf.function()\n",
    "def train_step(src, tgt, model, optimizer):\n",
    "    gold = tgt[:, 1:]\n",
    "        \n",
    "    enc_mask, dec_enc_mask, dec_mask = generate_masks(src, tgt)\n",
    "\n",
    "    # 계산된 loss에 tf.GradientTape()를 적용해 학습을 진행합니다.\n",
    "    with tf.GradientTape() as tape:\n",
    "        predictions, enc_attns, dec_attns, dec_enc_attns = model(src, tgt, enc_mask, dec_enc_mask, dec_mask)\n",
    "        loss = loss_function(gold, predictions[:, :-1])\n",
    "\n",
    "    # 최종적으로 optimizer.apply_gradients()가 사용됩니다. \n",
    "    gradients = tape.gradient(loss, model.trainable_variables)    \n",
    "    optimizer.apply_gradients(zip(gradients, model.trainable_variables))\n",
    "    \n",
    "    \n",
    "    return loss, enc_attns, dec_attns, dec_enc_attns, predictions"
   ]
  },
  {
   "cell_type": "code",
   "execution_count": 27,
   "id": "3c6f0154",
   "metadata": {},
   "outputs": [],
   "source": [
    "# Validating the model\n",
    "@tf.function\n",
    "def model_validate(src, tgt, model):\n",
    "    gold = tgt[:, 1:]\n",
    "        \n",
    "    enc_mask, dec_enc_mask, dec_mask = generate_masks(src, tgt)\n",
    "    predictions, enc_attns, dec_attns, dec_enc_attns = model(src, tgt, enc_mask, dec_enc_mask, dec_mask)\n",
    "    v_loss = loss_function(gold, predictions[:, :-1])\n",
    "    \n",
    "    return v_loss, predictions"
   ]
  },
  {
   "cell_type": "code",
   "execution_count": 28,
   "id": "097dff5e",
   "metadata": {},
   "outputs": [],
   "source": [
    "# 학습 매니저 설정\n",
    "from evaluation import evaluate, compute_metric, translate\n",
    "full_data = full_data.sample(frac=1).copy()"
   ]
  },
  {
   "cell_type": "code",
   "execution_count": 29,
   "id": "24c11690",
   "metadata": {},
   "outputs": [],
   "source": [
    "def train_and_checkpoint(transformer, manager, EPOCHS):\n",
    "    ckpt.restore(manager.latest_checkpoint)\n",
    "    if manager.latest_checkpoint:\n",
    "        print(\"Restored from {}\".format(manager.latest_checkpoint))\n",
    "    \n",
    "    else:\n",
    "        print(\"Initializing from scratch.\")\n",
    "\n",
    "\n",
    "    for epoch in range(EPOCHS):\n",
    "        \n",
    "        batch_size = 64\n",
    "        buckets = iter(reversed(full_data['tok_cat'].unique().tolist()))\n",
    "\n",
    "        for bucket in buckets :\n",
    "            total_loss = 0     \n",
    "            \n",
    "            src_corpus = full_data.loc[full_data['tok_cat']==bucket,'toks_en'].values\n",
    "            tgt_corpus = full_data.loc[full_data['tok_cat']==bucket,'toks_dec'].values\n",
    "            src_valid_corpus = full_data_test['toks_en'].values\n",
    "            tgt_valid_corpus = full_data_test['toks_dec'].values\n",
    "            max_len = full_data.loc[full_data['tok_cat']==bucket,'tok_len'].max()\n",
    "\n",
    "            if max_len > 380 :\n",
    "                batch_size = 8\n",
    "\n",
    "            if max_len > 512 : \n",
    "                max_len = 512\n",
    "\n",
    "\n",
    "            enc_train = tf.keras.preprocessing.sequence.pad_sequences(src_corpus, padding='post', maxlen=max_len)\n",
    "            dec_train = tf.keras.preprocessing.sequence.pad_sequences(tgt_corpus, padding='post', maxlen=max_len)\n",
    "            enc_test = tf.keras.preprocessing.sequence.pad_sequences(src_valid_corpus, padding='post', maxlen=max_len)\n",
    "            dec_test = tf.keras.preprocessing.sequence.pad_sequences(tgt_valid_corpus, padding='post', maxlen=max_len)\n",
    "            \n",
    "            idx_list = list(range(0, enc_train.shape[0], batch_size))\n",
    "            random.shuffle(idx_list)\n",
    "\n",
    "            t = tqdm(idx_list)\n",
    "            \n",
    "            for (batch, idx) in enumerate(t):\n",
    "                batch_loss, enc_attns, dec_attns, dec_enc_attns, preds = train_step(enc_train[idx:idx+batch_size],\n",
    "                                                                             dec_train[idx:idx+batch_size],\n",
    "                                                                             transformer,\n",
    "                                                                             optimizer)\n",
    "\n",
    "                total_loss += batch_loss\n",
    "\n",
    "                t.set_description_str('Bucket %2d' % (bucket))\n",
    "                t.set_postfix_str('Loss %.4f' % (total_loss.numpy() / (batch + 1)))\n",
    "            \n",
    "                wandb.log({\"train_loss\": (total_loss.numpy() / (batch + 1)),})\n",
    "            \n",
    "            #validation\n",
    "            total_loss_val = 0\n",
    "            val_size=25\n",
    "            tv = tqdm(range(0,enc_test.shape[0], val_size))\n",
    "            \n",
    "            for (batch_val,test_idx) in enumerate(tv) :\n",
    "                val_loss, val_preds = model_validate(enc_test[test_idx : test_idx + val_size],\n",
    "                                          dec_test[test_idx : test_idx + val_size],\n",
    "                                          transformer)\n",
    "                total_loss_val += val_loss\n",
    "                tv.set_postfix_str('val_Loss %.4f' % (total_loss_val.numpy() / (batch_val + 1)))\n",
    "                \n",
    "                wandb.log({\"valid_loss\" : (total_loss_val.numpy() / (batch_val + 1))                           })\n",
    "\n",
    "            save_path = manager.save()\n",
    "            print(\"Saved checkpoint for step {}: {}\".format(int(ckpt.step), save_path))\n",
    "            \n",
    "        # bleu score\n",
    "        from datasets import load_metric\n",
    "\n",
    "        bleu = load_metric(\"sacrebleu\")\n",
    "        test_translate = []\n",
    "        bleu_valid_score = []\n",
    "        \n",
    "        test_text = full_data_test.eng.values\n",
    "        test_tgt = full_data_test.dial.values\n",
    "        \n",
    "        for i in tqdm(range(len(test_text))) :\n",
    "            trans = translate(test_text[i], transformer, enc_tokenizer, dec_tokenizer, verbose =False)\n",
    "            test_translate.append(trans)\n",
    "            label = dec_tokenizer.decode(test_tgt[i])\n",
    "            result = bleu.compute(predictions=[trans], references=[[label]], smooth_method='add-k')['score']\n",
    "            bleu_valid_score.append(result)\n",
    "\n",
    "        sum(bleu_valid_score)/len(test_text)\n",
    "        wandb.log({\"bleu\": sum(bleu_valid_score)/len(test_text)})\n",
    "\n",
    "        full_data_test['bleu'] = np.array(bleu_valid_score)\n",
    "        full_data_test['pred'] = test_translate\n",
    "            \n",
    "directory = os.getenv('HOME') + '/aiffel/saturi/MODEL/'\n",
    "ckpt = tf.train.Checkpoint(step = tf.Variable(1), optimizer = optimizer , transformer = transformer)\n",
    "manager = tf.train.CheckpointManager(ckpt, directory +f'tf_{tokenizer_name}16000_ckpt_final_0603_newcorpus_spc',max_to_keep=10)"
   ]
  },
  {
   "cell_type": "code",
   "execution_count": 30,
   "id": "c6154df0",
   "metadata": {},
   "outputs": [],
   "source": [
    "manager.latest_checkpoint"
   ]
  },
  {
   "cell_type": "code",
   "execution_count": 31,
   "id": "ed92170b",
   "metadata": {
    "scrolled": true
   },
   "outputs": [
    {
     "data": {
      "text/plain": [
       "<tensorflow.python.training.tracking.util.InitializationOnlyStatus at 0x7f4fc2376700>"
      ]
     },
     "execution_count": 31,
     "metadata": {},
     "output_type": "execute_result"
    }
   ],
   "source": [
    "ckpt.restore(manager.latest_checkpoint)"
   ]
  },
  {
   "cell_type": "code",
   "execution_count": 32,
   "id": "a8baa5be",
   "metadata": {},
   "outputs": [
    {
     "data": {
      "text/html": [
       "Finishing last run (ID:gwluolj8) before initializing another..."
      ],
      "text/plain": [
       "<IPython.core.display.HTML object>"
      ]
     },
     "metadata": {},
     "output_type": "display_data"
    },
    {
     "data": {
      "text/html": [
       "Waiting for W&B process to finish... <strong style=\"color:green\">(success).</strong>"
      ],
      "text/plain": [
       "<IPython.core.display.HTML object>"
      ]
     },
     "metadata": {},
     "output_type": "display_data"
    },
    {
     "data": {
      "text/html": [
       " View run <strong style=\"color:#cdcd00\">stellar-hill-1</strong> at: <a href='https://wandb.ai/saturi-lab/saturi_v_transformer_new_corpus_with_spellcheck/runs/gwluolj8' target=\"_blank\">https://wandb.ai/saturi-lab/saturi_v_transformer_new_corpus_with_spellcheck/runs/gwluolj8</a><br/>Synced 6 W&B file(s), 0 media file(s), 0 artifact file(s) and 0 other file(s)"
      ],
      "text/plain": [
       "<IPython.core.display.HTML object>"
      ]
     },
     "metadata": {},
     "output_type": "display_data"
    },
    {
     "data": {
      "text/html": [
       "Find logs at: <code>./wandb/run-20230606_204640-gwluolj8/logs</code>"
      ],
      "text/plain": [
       "<IPython.core.display.HTML object>"
      ]
     },
     "metadata": {},
     "output_type": "display_data"
    },
    {
     "data": {
      "text/html": [
       "Successfully finished last run (ID:gwluolj8). Initializing new run:<br/>"
      ],
      "text/plain": [
       "<IPython.core.display.HTML object>"
      ]
     },
     "metadata": {},
     "output_type": "display_data"
    },
    {
     "data": {
      "application/vnd.jupyter.widget-view+json": {
       "model_id": "625cfd807cbe4c04ab90b08099fe90bf",
       "version_major": 2,
       "version_minor": 0
      },
      "text/plain": [
       "VBox(children=(Label(value='Waiting for wandb.init()...\\r'), FloatProgress(value=0.016670793966720037, max=1.0…"
      ]
     },
     "metadata": {},
     "output_type": "display_data"
    },
    {
     "data": {
      "text/html": [
       "wandb version 0.15.3 is available!  To upgrade, please run:\n",
       " $ pip install wandb --upgrade"
      ],
      "text/plain": [
       "<IPython.core.display.HTML object>"
      ]
     },
     "metadata": {},
     "output_type": "display_data"
    },
    {
     "data": {
      "text/html": [
       "Tracking run with wandb version 0.15.2"
      ],
      "text/plain": [
       "<IPython.core.display.HTML object>"
      ]
     },
     "metadata": {},
     "output_type": "display_data"
    },
    {
     "data": {
      "text/html": [
       "Run data is saved locally in <code>/home/aeolian83/workspace/saturi/wandb/run-20230606_204648-bz91xgwa</code>"
      ],
      "text/plain": [
       "<IPython.core.display.HTML object>"
      ]
     },
     "metadata": {},
     "output_type": "display_data"
    },
    {
     "data": {
      "text/html": [
       "Syncing run <strong><a href='https://wandb.ai/saturi-lab/saturi_v_transformer_new_corpus_with_spellcheck/runs/bz91xgwa' target=\"_blank\">rare-durian-2</a></strong> to <a href='https://wandb.ai/saturi-lab/saturi_v_transformer_new_corpus_with_spellcheck' target=\"_blank\">Weights & Biases</a> (<a href='https://wandb.me/run' target=\"_blank\">docs</a>)<br/>"
      ],
      "text/plain": [
       "<IPython.core.display.HTML object>"
      ]
     },
     "metadata": {},
     "output_type": "display_data"
    },
    {
     "data": {
      "text/html": [
       " View project at <a href='https://wandb.ai/saturi-lab/saturi_v_transformer_new_corpus_with_spellcheck' target=\"_blank\">https://wandb.ai/saturi-lab/saturi_v_transformer_new_corpus_with_spellcheck</a>"
      ],
      "text/plain": [
       "<IPython.core.display.HTML object>"
      ]
     },
     "metadata": {},
     "output_type": "display_data"
    },
    {
     "data": {
      "text/html": [
       " View run at <a href='https://wandb.ai/saturi-lab/saturi_v_transformer_new_corpus_with_spellcheck/runs/bz91xgwa' target=\"_blank\">https://wandb.ai/saturi-lab/saturi_v_transformer_new_corpus_with_spellcheck/runs/bz91xgwa</a>"
      ],
      "text/plain": [
       "<IPython.core.display.HTML object>"
      ]
     },
     "metadata": {},
     "output_type": "display_data"
    },
    {
     "name": "stdout",
     "output_type": "stream",
     "text": [
      "Initializing from scratch.\n"
     ]
    },
    {
     "name": "stderr",
     "output_type": "stream",
     "text": [
      "  0%|                                                                                             | 0/4 [00:00<?, ?it/s]2023-06-06 20:47:02.630689: I tensorflow/stream_executor/cuda/cuda_blas.cc:1786] TensorFloat-32 will be used for the matrix multiplication. This will only be logged once.\n",
      "Bucket  3: 100%|████████████████████████████████████████████████████████████| 4/4 [00:07<00:00,  1.93s/it, Loss 10.9453]\n",
      "100%|█████████████████████████████████████████████████████████████████| 32/32 [00:01<00:00, 18.37it/s, val_Loss 10.9584]\n"
     ]
    },
    {
     "name": "stdout",
     "output_type": "stream",
     "text": [
      "Saved checkpoint for step 1: /home/aeolian83/aiffel/saturi/MODEL/tf_spm16000_ckpt_final_0603_newcorpus_spc/ckpt-1\n"
     ]
    },
    {
     "name": "stderr",
     "output_type": "stream",
     "text": [
      "Bucket  2: 100%|███████████████████████████████████████████████████████| 3270/3270 [03:55<00:00, 13.87it/s, Loss 6.8669]\n",
      "100%|██████████████████████████████████████████████████████████████████| 32/32 [00:01<00:00, 28.52it/s, val_Loss 5.8731]\n"
     ]
    },
    {
     "name": "stdout",
     "output_type": "stream",
     "text": [
      "Saved checkpoint for step 1: /home/aeolian83/aiffel/saturi/MODEL/tf_spm16000_ckpt_final_0603_newcorpus_spc/ckpt-2\n"
     ]
    },
    {
     "name": "stderr",
     "output_type": "stream",
     "text": [
      "Bucket  1: 100%|█████████████████████████████████████████████████████| 34970/34970 [29:59<00:00, 19.44it/s, Loss 4.5236]\n",
      "100%|██████████████████████████████████████████████████████████████████| 32/32 [00:01<00:00, 30.83it/s, val_Loss 4.1131]\n"
     ]
    },
    {
     "name": "stdout",
     "output_type": "stream",
     "text": [
      "Saved checkpoint for step 1: /home/aeolian83/aiffel/saturi/MODEL/tf_spm16000_ckpt_final_0603_newcorpus_spc/ckpt-3\n"
     ]
    },
    {
     "name": "stderr",
     "output_type": "stream",
     "text": [
      "100%|█████████████████████████████████████████████████████████████████████████████████| 800/800 [07:29<00:00,  1.78it/s]\n"
     ]
    },
    {
     "data": {
      "text/html": [
       "Finishing last run (ID:bz91xgwa) before initializing another..."
      ],
      "text/plain": [
       "<IPython.core.display.HTML object>"
      ]
     },
     "metadata": {},
     "output_type": "display_data"
    },
    {
     "data": {
      "text/html": [
       "Waiting for W&B process to finish... <strong style=\"color:green\">(success).</strong>"
      ],
      "text/plain": [
       "<IPython.core.display.HTML object>"
      ]
     },
     "metadata": {},
     "output_type": "display_data"
    },
    {
     "data": {
      "application/vnd.jupyter.widget-view+json": {
       "model_id": "f401e8047f0d4f5d98440b52fcf87e44",
       "version_major": 2,
       "version_minor": 0
      },
      "text/plain": [
       "VBox(children=(Label(value='0.003 MB of 0.018 MB uploaded (0.000 MB deduped)\\r'), FloatProgress(value=0.144159…"
      ]
     },
     "metadata": {},
     "output_type": "display_data"
    },
    {
     "data": {
      "text/html": [
       "<style>\n",
       "    table.wandb td:nth-child(1) { padding: 0 10px; text-align: left ; width: auto;} td:nth-child(2) {text-align: left ; width: 100%}\n",
       "    .wandb-row { display: flex; flex-direction: row; flex-wrap: wrap; justify-content: flex-start; width: 100% }\n",
       "    .wandb-col { display: flex; flex-direction: column; flex-basis: 100%; flex: 1; padding: 10px; }\n",
       "    </style>\n",
       "<div class=\"wandb-row\"><div class=\"wandb-col\"><h3>Run history:</h3><br/><table class=\"wandb\"><tr><td>bleu</td><td>▁</td></tr><tr><td>train_loss</td><td>█▇▆▅▃▃▃▃▃▃▃▂▂▂▂▂▂▂▂▂▂▂▂▂▂▂▁▁▁▁▁▁▁▁▁▁▁▁▁▁</td></tr><tr><td>valid_loss</td><td>██████████████▃▃▃▃▃▃▃▃▃▃▃▃▃▁▁▁▁▁▁▁▁▁▁▁▁▁</td></tr></table><br/></div><div class=\"wandb-col\"><h3>Run summary:</h3><br/><table class=\"wandb\"><tr><td>bleu</td><td>15.41536</td></tr><tr><td>train_loss</td><td>4.52361</td></tr><tr><td>valid_loss</td><td>4.11306</td></tr></table><br/></div></div>"
      ],
      "text/plain": [
       "<IPython.core.display.HTML object>"
      ]
     },
     "metadata": {},
     "output_type": "display_data"
    },
    {
     "data": {
      "text/html": [
       " View run <strong style=\"color:#cdcd00\">rare-durian-2</strong> at: <a href='https://wandb.ai/saturi-lab/saturi_v_transformer_new_corpus_with_spellcheck/runs/bz91xgwa' target=\"_blank\">https://wandb.ai/saturi-lab/saturi_v_transformer_new_corpus_with_spellcheck/runs/bz91xgwa</a><br/>Synced 6 W&B file(s), 0 media file(s), 0 artifact file(s) and 0 other file(s)"
      ],
      "text/plain": [
       "<IPython.core.display.HTML object>"
      ]
     },
     "metadata": {},
     "output_type": "display_data"
    },
    {
     "data": {
      "text/html": [
       "Find logs at: <code>./wandb/run-20230606_204648-bz91xgwa/logs</code>"
      ],
      "text/plain": [
       "<IPython.core.display.HTML object>"
      ]
     },
     "metadata": {},
     "output_type": "display_data"
    },
    {
     "data": {
      "text/html": [
       "Successfully finished last run (ID:bz91xgwa). Initializing new run:<br/>"
      ],
      "text/plain": [
       "<IPython.core.display.HTML object>"
      ]
     },
     "metadata": {},
     "output_type": "display_data"
    },
    {
     "data": {
      "text/html": [
       "wandb version 0.15.3 is available!  To upgrade, please run:\n",
       " $ pip install wandb --upgrade"
      ],
      "text/plain": [
       "<IPython.core.display.HTML object>"
      ]
     },
     "metadata": {},
     "output_type": "display_data"
    },
    {
     "data": {
      "text/html": [
       "Tracking run with wandb version 0.15.2"
      ],
      "text/plain": [
       "<IPython.core.display.HTML object>"
      ]
     },
     "metadata": {},
     "output_type": "display_data"
    },
    {
     "data": {
      "text/html": [
       "Run data is saved locally in <code>/home/aeolian83/workspace/saturi/wandb/run-20230606_212848-6qmj5wfm</code>"
      ],
      "text/plain": [
       "<IPython.core.display.HTML object>"
      ]
     },
     "metadata": {},
     "output_type": "display_data"
    },
    {
     "data": {
      "text/html": [
       "Syncing run <strong><a href='https://wandb.ai/saturi-lab/saturi_v_transformer_new_corpus_with_spellcheck/runs/6qmj5wfm' target=\"_blank\">divine-snow-3</a></strong> to <a href='https://wandb.ai/saturi-lab/saturi_v_transformer_new_corpus_with_spellcheck' target=\"_blank\">Weights & Biases</a> (<a href='https://wandb.me/run' target=\"_blank\">docs</a>)<br/>"
      ],
      "text/plain": [
       "<IPython.core.display.HTML object>"
      ]
     },
     "metadata": {},
     "output_type": "display_data"
    },
    {
     "data": {
      "text/html": [
       " View project at <a href='https://wandb.ai/saturi-lab/saturi_v_transformer_new_corpus_with_spellcheck' target=\"_blank\">https://wandb.ai/saturi-lab/saturi_v_transformer_new_corpus_with_spellcheck</a>"
      ],
      "text/plain": [
       "<IPython.core.display.HTML object>"
      ]
     },
     "metadata": {},
     "output_type": "display_data"
    },
    {
     "data": {
      "text/html": [
       " View run at <a href='https://wandb.ai/saturi-lab/saturi_v_transformer_new_corpus_with_spellcheck/runs/6qmj5wfm' target=\"_blank\">https://wandb.ai/saturi-lab/saturi_v_transformer_new_corpus_with_spellcheck/runs/6qmj5wfm</a>"
      ],
      "text/plain": [
       "<IPython.core.display.HTML object>"
      ]
     },
     "metadata": {},
     "output_type": "display_data"
    },
    {
     "name": "stdout",
     "output_type": "stream",
     "text": [
      "Restored from /home/aeolian83/aiffel/saturi/MODEL/tf_spm16000_ckpt_final_0603_newcorpus_spc/ckpt-3\n"
     ]
    },
    {
     "name": "stderr",
     "output_type": "stream",
     "text": [
      "Bucket  3: 100%|█████████████████████████████████████████████████████████████| 4/4 [00:00<00:00,  6.28it/s, Loss 5.4376]\n",
      "100%|██████████████████████████████████████████████████████████████████| 32/32 [00:00<00:00, 32.21it/s, val_Loss 4.0920]\n"
     ]
    },
    {
     "name": "stdout",
     "output_type": "stream",
     "text": [
      "Saved checkpoint for step 1: /home/aeolian83/aiffel/saturi/MODEL/tf_spm16000_ckpt_final_0603_newcorpus_spc/ckpt-4\n"
     ]
    },
    {
     "name": "stderr",
     "output_type": "stream",
     "text": [
      "Bucket  2: 100%|███████████████████████████████████████████████████████| 3270/3270 [03:51<00:00, 14.10it/s, Loss 4.1162]\n",
      "100%|██████████████████████████████████████████████████████████████████| 32/32 [00:00<00:00, 76.61it/s, val_Loss 3.8571]\n"
     ]
    },
    {
     "name": "stdout",
     "output_type": "stream",
     "text": [
      "Saved checkpoint for step 1: /home/aeolian83/aiffel/saturi/MODEL/tf_spm16000_ckpt_final_0603_newcorpus_spc/ckpt-5\n"
     ]
    },
    {
     "name": "stderr",
     "output_type": "stream",
     "text": [
      "Bucket  1: 100%|█████████████████████████████████████████████████████| 34970/34970 [29:53<00:00, 19.50it/s, Loss 3.7603]\n",
      "100%|██████████████████████████████████████████████████████████████████| 32/32 [00:00<00:00, 85.35it/s, val_Loss 3.8653]\n"
     ]
    },
    {
     "name": "stdout",
     "output_type": "stream",
     "text": [
      "Saved checkpoint for step 1: /home/aeolian83/aiffel/saturi/MODEL/tf_spm16000_ckpt_final_0603_newcorpus_spc/ckpt-6\n"
     ]
    },
    {
     "name": "stderr",
     "output_type": "stream",
     "text": [
      "100%|█████████████████████████████████████████████████████████████████████████████████| 800/800 [07:56<00:00,  1.68it/s]\n"
     ]
    },
    {
     "data": {
      "text/html": [
       "Finishing last run (ID:6qmj5wfm) before initializing another..."
      ],
      "text/plain": [
       "<IPython.core.display.HTML object>"
      ]
     },
     "metadata": {},
     "output_type": "display_data"
    },
    {
     "data": {
      "text/html": [
       "Waiting for W&B process to finish... <strong style=\"color:green\">(success).</strong>"
      ],
      "text/plain": [
       "<IPython.core.display.HTML object>"
      ]
     },
     "metadata": {},
     "output_type": "display_data"
    },
    {
     "data": {
      "application/vnd.jupyter.widget-view+json": {
       "model_id": "da463baf64584db7ac5fd48e8e74dc39",
       "version_major": 2,
       "version_minor": 0
      },
      "text/plain": [
       "VBox(children=(Label(value='0.003 MB of 0.003 MB uploaded (0.000 MB deduped)\\r'), FloatProgress(value=0.928322…"
      ]
     },
     "metadata": {},
     "output_type": "display_data"
    },
    {
     "data": {
      "text/html": [
       "<style>\n",
       "    table.wandb td:nth-child(1) { padding: 0 10px; text-align: left ; width: auto;} td:nth-child(2) {text-align: left ; width: 100%}\n",
       "    .wandb-row { display: flex; flex-direction: row; flex-wrap: wrap; justify-content: flex-start; width: 100% }\n",
       "    .wandb-col { display: flex; flex-direction: column; flex-basis: 100%; flex: 1; padding: 10px; }\n",
       "    </style>\n",
       "<div class=\"wandb-row\"><div class=\"wandb-col\"><h3>Run history:</h3><br/><table class=\"wandb\"><tr><td>bleu</td><td>▁</td></tr><tr><td>train_loss</td><td>█▇▆▅▂▂▂▂▂▂▂▂▂▂▂▂▂▂▁▁▁▁▁▁▁▁▁▁▁▁▁▁▁▁▁▁▁▁▁▁</td></tr><tr><td>valid_loss</td><td>▇██▆▇▆▇▇▇▇▇▇▇█▁▂▁▂▂▃▃▃▃▃▄▄▄▂▄▃▄▄▄▄▄▃▃▄▄▄</td></tr></table><br/></div><div class=\"wandb-col\"><h3>Run summary:</h3><br/><table class=\"wandb\"><tr><td>bleu</td><td>16.00168</td></tr><tr><td>train_loss</td><td>3.76033</td></tr><tr><td>valid_loss</td><td>3.8653</td></tr></table><br/></div></div>"
      ],
      "text/plain": [
       "<IPython.core.display.HTML object>"
      ]
     },
     "metadata": {},
     "output_type": "display_data"
    },
    {
     "data": {
      "text/html": [
       " View run <strong style=\"color:#cdcd00\">divine-snow-3</strong> at: <a href='https://wandb.ai/saturi-lab/saturi_v_transformer_new_corpus_with_spellcheck/runs/6qmj5wfm' target=\"_blank\">https://wandb.ai/saturi-lab/saturi_v_transformer_new_corpus_with_spellcheck/runs/6qmj5wfm</a><br/>Synced 6 W&B file(s), 0 media file(s), 0 artifact file(s) and 0 other file(s)"
      ],
      "text/plain": [
       "<IPython.core.display.HTML object>"
      ]
     },
     "metadata": {},
     "output_type": "display_data"
    },
    {
     "data": {
      "text/html": [
       "Find logs at: <code>./wandb/run-20230606_212848-6qmj5wfm/logs</code>"
      ],
      "text/plain": [
       "<IPython.core.display.HTML object>"
      ]
     },
     "metadata": {},
     "output_type": "display_data"
    },
    {
     "data": {
      "text/html": [
       "Successfully finished last run (ID:6qmj5wfm). Initializing new run:<br/>"
      ],
      "text/plain": [
       "<IPython.core.display.HTML object>"
      ]
     },
     "metadata": {},
     "output_type": "display_data"
    },
    {
     "data": {
      "text/html": [
       "wandb version 0.15.3 is available!  To upgrade, please run:\n",
       " $ pip install wandb --upgrade"
      ],
      "text/plain": [
       "<IPython.core.display.HTML object>"
      ]
     },
     "metadata": {},
     "output_type": "display_data"
    },
    {
     "data": {
      "text/html": [
       "Tracking run with wandb version 0.15.2"
      ],
      "text/plain": [
       "<IPython.core.display.HTML object>"
      ]
     },
     "metadata": {},
     "output_type": "display_data"
    },
    {
     "data": {
      "text/html": [
       "Run data is saved locally in <code>/home/aeolian83/workspace/saturi/wandb/run-20230606_221108-fpxdl80n</code>"
      ],
      "text/plain": [
       "<IPython.core.display.HTML object>"
      ]
     },
     "metadata": {},
     "output_type": "display_data"
    },
    {
     "data": {
      "text/html": [
       "Syncing run <strong><a href='https://wandb.ai/saturi-lab/saturi_v_transformer_new_corpus_with_spellcheck/runs/fpxdl80n' target=\"_blank\">peachy-sunset-4</a></strong> to <a href='https://wandb.ai/saturi-lab/saturi_v_transformer_new_corpus_with_spellcheck' target=\"_blank\">Weights & Biases</a> (<a href='https://wandb.me/run' target=\"_blank\">docs</a>)<br/>"
      ],
      "text/plain": [
       "<IPython.core.display.HTML object>"
      ]
     },
     "metadata": {},
     "output_type": "display_data"
    },
    {
     "data": {
      "text/html": [
       " View project at <a href='https://wandb.ai/saturi-lab/saturi_v_transformer_new_corpus_with_spellcheck' target=\"_blank\">https://wandb.ai/saturi-lab/saturi_v_transformer_new_corpus_with_spellcheck</a>"
      ],
      "text/plain": [
       "<IPython.core.display.HTML object>"
      ]
     },
     "metadata": {},
     "output_type": "display_data"
    },
    {
     "data": {
      "text/html": [
       " View run at <a href='https://wandb.ai/saturi-lab/saturi_v_transformer_new_corpus_with_spellcheck/runs/fpxdl80n' target=\"_blank\">https://wandb.ai/saturi-lab/saturi_v_transformer_new_corpus_with_spellcheck/runs/fpxdl80n</a>"
      ],
      "text/plain": [
       "<IPython.core.display.HTML object>"
      ]
     },
     "metadata": {},
     "output_type": "display_data"
    },
    {
     "name": "stdout",
     "output_type": "stream",
     "text": [
      "Restored from /home/aeolian83/aiffel/saturi/MODEL/tf_spm16000_ckpt_final_0603_newcorpus_spc/ckpt-6\n"
     ]
    },
    {
     "name": "stderr",
     "output_type": "stream",
     "text": [
      "Bucket  3: 100%|█████████████████████████████████████████████████████████████| 4/4 [00:00<00:00,  6.28it/s, Loss 5.0243]\n",
      "100%|██████████████████████████████████████████████████████████████████| 32/32 [00:00<00:00, 32.10it/s, val_Loss 3.8122]\n"
     ]
    },
    {
     "name": "stdout",
     "output_type": "stream",
     "text": [
      "Saved checkpoint for step 1: /home/aeolian83/aiffel/saturi/MODEL/tf_spm16000_ckpt_final_0603_newcorpus_spc/ckpt-7\n"
     ]
    },
    {
     "name": "stderr",
     "output_type": "stream",
     "text": [
      "Bucket  2: 100%|███████████████████████████████████████████████████████| 3270/3270 [03:52<00:00, 14.09it/s, Loss 3.7728]\n",
      "100%|██████████████████████████████████████████████████████████████████| 32/32 [00:00<00:00, 76.95it/s, val_Loss 3.6326]\n"
     ]
    },
    {
     "name": "stdout",
     "output_type": "stream",
     "text": [
      "Saved checkpoint for step 1: /home/aeolian83/aiffel/saturi/MODEL/tf_spm16000_ckpt_final_0603_newcorpus_spc/ckpt-8\n"
     ]
    },
    {
     "name": "stderr",
     "output_type": "stream",
     "text": [
      "Bucket  1: 100%|█████████████████████████████████████████████████████| 34970/34970 [30:00<00:00, 19.42it/s, Loss 3.5264]\n",
      "100%|██████████████████████████████████████████████████████████████████| 32/32 [00:00<00:00, 97.49it/s, val_Loss 3.7546]\n"
     ]
    },
    {
     "name": "stdout",
     "output_type": "stream",
     "text": [
      "Saved checkpoint for step 1: /home/aeolian83/aiffel/saturi/MODEL/tf_spm16000_ckpt_final_0603_newcorpus_spc/ckpt-9\n"
     ]
    },
    {
     "name": "stderr",
     "output_type": "stream",
     "text": [
      "100%|█████████████████████████████████████████████████████████████████████████████████| 800/800 [07:46<00:00,  1.71it/s]\n"
     ]
    },
    {
     "data": {
      "text/html": [
       "Finishing last run (ID:fpxdl80n) before initializing another..."
      ],
      "text/plain": [
       "<IPython.core.display.HTML object>"
      ]
     },
     "metadata": {},
     "output_type": "display_data"
    },
    {
     "data": {
      "text/html": [
       "Waiting for W&B process to finish... <strong style=\"color:green\">(success).</strong>"
      ],
      "text/plain": [
       "<IPython.core.display.HTML object>"
      ]
     },
     "metadata": {},
     "output_type": "display_data"
    },
    {
     "data": {
      "text/html": [
       "<style>\n",
       "    table.wandb td:nth-child(1) { padding: 0 10px; text-align: left ; width: auto;} td:nth-child(2) {text-align: left ; width: 100%}\n",
       "    .wandb-row { display: flex; flex-direction: row; flex-wrap: wrap; justify-content: flex-start; width: 100% }\n",
       "    .wandb-col { display: flex; flex-direction: column; flex-basis: 100%; flex: 1; padding: 10px; }\n",
       "    </style>\n",
       "<div class=\"wandb-row\"><div class=\"wandb-col\"><h3>Run history:</h3><br/><table class=\"wandb\"><tr><td>bleu</td><td>▁</td></tr><tr><td>train_loss</td><td>█▇▆▅▁▁▁▁▁▁▁▁▁▁▁▁▁▁▁▁▁▁▁▁▁▁▁▁▁▁▁▁▁▁▁▁▁▁▁▁</td></tr><tr><td>valid_loss</td><td>▇▇▇▅▇▆▇▇▇▇▇▇▇█▂▂▁▃▂▄▃▄▄▄▅▅▅▄▆▅▆▆▇▇▇▆▆▇▇▇</td></tr></table><br/></div><div class=\"wandb-col\"><h3>Run summary:</h3><br/><table class=\"wandb\"><tr><td>bleu</td><td>16.50141</td></tr><tr><td>train_loss</td><td>3.52642</td></tr><tr><td>valid_loss</td><td>3.75459</td></tr></table><br/></div></div>"
      ],
      "text/plain": [
       "<IPython.core.display.HTML object>"
      ]
     },
     "metadata": {},
     "output_type": "display_data"
    },
    {
     "data": {
      "text/html": [
       " View run <strong style=\"color:#cdcd00\">peachy-sunset-4</strong> at: <a href='https://wandb.ai/saturi-lab/saturi_v_transformer_new_corpus_with_spellcheck/runs/fpxdl80n' target=\"_blank\">https://wandb.ai/saturi-lab/saturi_v_transformer_new_corpus_with_spellcheck/runs/fpxdl80n</a><br/>Synced 6 W&B file(s), 0 media file(s), 0 artifact file(s) and 0 other file(s)"
      ],
      "text/plain": [
       "<IPython.core.display.HTML object>"
      ]
     },
     "metadata": {},
     "output_type": "display_data"
    },
    {
     "data": {
      "text/html": [
       "Find logs at: <code>./wandb/run-20230606_221108-fpxdl80n/logs</code>"
      ],
      "text/plain": [
       "<IPython.core.display.HTML object>"
      ]
     },
     "metadata": {},
     "output_type": "display_data"
    },
    {
     "data": {
      "text/html": [
       "Successfully finished last run (ID:fpxdl80n). Initializing new run:<br/>"
      ],
      "text/plain": [
       "<IPython.core.display.HTML object>"
      ]
     },
     "metadata": {},
     "output_type": "display_data"
    },
    {
     "data": {
      "text/html": [
       "wandb version 0.15.3 is available!  To upgrade, please run:\n",
       " $ pip install wandb --upgrade"
      ],
      "text/plain": [
       "<IPython.core.display.HTML object>"
      ]
     },
     "metadata": {},
     "output_type": "display_data"
    },
    {
     "data": {
      "text/html": [
       "Tracking run with wandb version 0.15.2"
      ],
      "text/plain": [
       "<IPython.core.display.HTML object>"
      ]
     },
     "metadata": {},
     "output_type": "display_data"
    },
    {
     "data": {
      "text/html": [
       "Run data is saved locally in <code>/home/aeolian83/workspace/saturi/wandb/run-20230606_225324-e9w6v9g9</code>"
      ],
      "text/plain": [
       "<IPython.core.display.HTML object>"
      ]
     },
     "metadata": {},
     "output_type": "display_data"
    },
    {
     "data": {
      "text/html": [
       "Syncing run <strong><a href='https://wandb.ai/saturi-lab/saturi_v_transformer_new_corpus_with_spellcheck/runs/e9w6v9g9' target=\"_blank\">still-dust-5</a></strong> to <a href='https://wandb.ai/saturi-lab/saturi_v_transformer_new_corpus_with_spellcheck' target=\"_blank\">Weights & Biases</a> (<a href='https://wandb.me/run' target=\"_blank\">docs</a>)<br/>"
      ],
      "text/plain": [
       "<IPython.core.display.HTML object>"
      ]
     },
     "metadata": {},
     "output_type": "display_data"
    },
    {
     "data": {
      "text/html": [
       " View project at <a href='https://wandb.ai/saturi-lab/saturi_v_transformer_new_corpus_with_spellcheck' target=\"_blank\">https://wandb.ai/saturi-lab/saturi_v_transformer_new_corpus_with_spellcheck</a>"
      ],
      "text/plain": [
       "<IPython.core.display.HTML object>"
      ]
     },
     "metadata": {},
     "output_type": "display_data"
    },
    {
     "data": {
      "text/html": [
       " View run at <a href='https://wandb.ai/saturi-lab/saturi_v_transformer_new_corpus_with_spellcheck/runs/e9w6v9g9' target=\"_blank\">https://wandb.ai/saturi-lab/saturi_v_transformer_new_corpus_with_spellcheck/runs/e9w6v9g9</a>"
      ],
      "text/plain": [
       "<IPython.core.display.HTML object>"
      ]
     },
     "metadata": {},
     "output_type": "display_data"
    },
    {
     "name": "stdout",
     "output_type": "stream",
     "text": [
      "Restored from /home/aeolian83/aiffel/saturi/MODEL/tf_spm16000_ckpt_final_0603_newcorpus_spc/ckpt-9\n"
     ]
    },
    {
     "name": "stderr",
     "output_type": "stream",
     "text": [
      "Bucket  3: 100%|█████████████████████████████████████████████████████████████| 4/4 [00:00<00:00,  6.30it/s, Loss 4.6393]\n",
      "100%|██████████████████████████████████████████████████████████████████| 32/32 [00:00<00:00, 32.38it/s, val_Loss 3.7212]\n"
     ]
    },
    {
     "name": "stdout",
     "output_type": "stream",
     "text": [
      "Saved checkpoint for step 1: /home/aeolian83/aiffel/saturi/MODEL/tf_spm16000_ckpt_final_0603_newcorpus_spc/ckpt-10\n"
     ]
    },
    {
     "name": "stderr",
     "output_type": "stream",
     "text": [
      "Bucket  2: 100%|███████████████████████████████████████████████████████| 3270/3270 [03:52<00:00, 14.09it/s, Loss 3.5881]\n",
      "100%|██████████████████████████████████████████████████████████████████| 32/32 [00:00<00:00, 74.52it/s, val_Loss 3.5545]\n"
     ]
    },
    {
     "name": "stdout",
     "output_type": "stream",
     "text": [
      "Saved checkpoint for step 1: /home/aeolian83/aiffel/saturi/MODEL/tf_spm16000_ckpt_final_0603_newcorpus_spc/ckpt-11\n"
     ]
    },
    {
     "name": "stderr",
     "output_type": "stream",
     "text": [
      "Bucket  1: 100%|█████████████████████████████████████████████████████| 34970/34970 [30:01<00:00, 19.41it/s, Loss 3.3739]\n",
      "100%|█████████████████████████████████████████████████████████████████| 32/32 [00:00<00:00, 100.13it/s, val_Loss 3.6710]\n"
     ]
    },
    {
     "name": "stdout",
     "output_type": "stream",
     "text": [
      "Saved checkpoint for step 1: /home/aeolian83/aiffel/saturi/MODEL/tf_spm16000_ckpt_final_0603_newcorpus_spc/ckpt-12\n"
     ]
    },
    {
     "name": "stderr",
     "output_type": "stream",
     "text": [
      "100%|█████████████████████████████████████████████████████████████████████████████████| 800/800 [07:51<00:00,  1.70it/s]\n"
     ]
    },
    {
     "data": {
      "text/html": [
       "Finishing last run (ID:e9w6v9g9) before initializing another..."
      ],
      "text/plain": [
       "<IPython.core.display.HTML object>"
      ]
     },
     "metadata": {},
     "output_type": "display_data"
    },
    {
     "data": {
      "text/html": [
       "Waiting for W&B process to finish... <strong style=\"color:green\">(success).</strong>"
      ],
      "text/plain": [
       "<IPython.core.display.HTML object>"
      ]
     },
     "metadata": {},
     "output_type": "display_data"
    },
    {
     "data": {
      "application/vnd.jupyter.widget-view+json": {
       "model_id": "c07dbf8058ec433d94c560a0a7f1f16d",
       "version_major": 2,
       "version_minor": 0
      },
      "text/plain": [
       "VBox(children=(Label(value='0.003 MB of 0.003 MB uploaded (0.000 MB deduped)\\r'), FloatProgress(value=0.928720…"
      ]
     },
     "metadata": {},
     "output_type": "display_data"
    },
    {
     "data": {
      "text/html": [
       "<style>\n",
       "    table.wandb td:nth-child(1) { padding: 0 10px; text-align: left ; width: auto;} td:nth-child(2) {text-align: left ; width: 100%}\n",
       "    .wandb-row { display: flex; flex-direction: row; flex-wrap: wrap; justify-content: flex-start; width: 100% }\n",
       "    .wandb-col { display: flex; flex-direction: column; flex-basis: 100%; flex: 1; padding: 10px; }\n",
       "    </style>\n",
       "<div class=\"wandb-row\"><div class=\"wandb-col\"><h3>Run history:</h3><br/><table class=\"wandb\"><tr><td>bleu</td><td>▁</td></tr><tr><td>train_loss</td><td>█▇▅▅▁▁▁▁▁▁▁▁▁▁▁▁▁▁▁▁▁▁▁▁▁▁▁▁▁▁▁▁▂▂▂▂▂▂▂▂</td></tr><tr><td>valid_loss</td><td>▅▆▆▅▇▆▇█▇▇▇▇▇█▂▂▁▂▂▃▃▄▄▄▅▅▆▂▅▄▆▅▇▆▇▆▆▇▇▇</td></tr></table><br/></div><div class=\"wandb-col\"><h3>Run summary:</h3><br/><table class=\"wandb\"><tr><td>bleu</td><td>16.85048</td></tr><tr><td>train_loss</td><td>3.37395</td></tr><tr><td>valid_loss</td><td>3.67096</td></tr></table><br/></div></div>"
      ],
      "text/plain": [
       "<IPython.core.display.HTML object>"
      ]
     },
     "metadata": {},
     "output_type": "display_data"
    },
    {
     "data": {
      "text/html": [
       " View run <strong style=\"color:#cdcd00\">still-dust-5</strong> at: <a href='https://wandb.ai/saturi-lab/saturi_v_transformer_new_corpus_with_spellcheck/runs/e9w6v9g9' target=\"_blank\">https://wandb.ai/saturi-lab/saturi_v_transformer_new_corpus_with_spellcheck/runs/e9w6v9g9</a><br/>Synced 6 W&B file(s), 0 media file(s), 0 artifact file(s) and 0 other file(s)"
      ],
      "text/plain": [
       "<IPython.core.display.HTML object>"
      ]
     },
     "metadata": {},
     "output_type": "display_data"
    },
    {
     "data": {
      "text/html": [
       "Find logs at: <code>./wandb/run-20230606_225324-e9w6v9g9/logs</code>"
      ],
      "text/plain": [
       "<IPython.core.display.HTML object>"
      ]
     },
     "metadata": {},
     "output_type": "display_data"
    },
    {
     "data": {
      "text/html": [
       "Successfully finished last run (ID:e9w6v9g9). Initializing new run:<br/>"
      ],
      "text/plain": [
       "<IPython.core.display.HTML object>"
      ]
     },
     "metadata": {},
     "output_type": "display_data"
    },
    {
     "data": {
      "text/html": [
       "wandb version 0.15.3 is available!  To upgrade, please run:\n",
       " $ pip install wandb --upgrade"
      ],
      "text/plain": [
       "<IPython.core.display.HTML object>"
      ]
     },
     "metadata": {},
     "output_type": "display_data"
    },
    {
     "data": {
      "text/html": [
       "Tracking run with wandb version 0.15.2"
      ],
      "text/plain": [
       "<IPython.core.display.HTML object>"
      ]
     },
     "metadata": {},
     "output_type": "display_data"
    },
    {
     "data": {
      "text/html": [
       "Run data is saved locally in <code>/home/aeolian83/workspace/saturi/wandb/run-20230606_233550-g5kg35oq</code>"
      ],
      "text/plain": [
       "<IPython.core.display.HTML object>"
      ]
     },
     "metadata": {},
     "output_type": "display_data"
    },
    {
     "data": {
      "text/html": [
       "Syncing run <strong><a href='https://wandb.ai/saturi-lab/saturi_v_transformer_new_corpus_with_spellcheck/runs/g5kg35oq' target=\"_blank\">azure-dawn-6</a></strong> to <a href='https://wandb.ai/saturi-lab/saturi_v_transformer_new_corpus_with_spellcheck' target=\"_blank\">Weights & Biases</a> (<a href='https://wandb.me/run' target=\"_blank\">docs</a>)<br/>"
      ],
      "text/plain": [
       "<IPython.core.display.HTML object>"
      ]
     },
     "metadata": {},
     "output_type": "display_data"
    },
    {
     "data": {
      "text/html": [
       " View project at <a href='https://wandb.ai/saturi-lab/saturi_v_transformer_new_corpus_with_spellcheck' target=\"_blank\">https://wandb.ai/saturi-lab/saturi_v_transformer_new_corpus_with_spellcheck</a>"
      ],
      "text/plain": [
       "<IPython.core.display.HTML object>"
      ]
     },
     "metadata": {},
     "output_type": "display_data"
    },
    {
     "data": {
      "text/html": [
       " View run at <a href='https://wandb.ai/saturi-lab/saturi_v_transformer_new_corpus_with_spellcheck/runs/g5kg35oq' target=\"_blank\">https://wandb.ai/saturi-lab/saturi_v_transformer_new_corpus_with_spellcheck/runs/g5kg35oq</a>"
      ],
      "text/plain": [
       "<IPython.core.display.HTML object>"
      ]
     },
     "metadata": {},
     "output_type": "display_data"
    },
    {
     "name": "stdout",
     "output_type": "stream",
     "text": [
      "Restored from /home/aeolian83/aiffel/saturi/MODEL/tf_spm16000_ckpt_final_0603_newcorpus_spc/ckpt-12\n"
     ]
    },
    {
     "name": "stderr",
     "output_type": "stream",
     "text": [
      "Bucket  3: 100%|█████████████████████████████████████████████████████████████| 4/4 [00:00<00:00,  6.27it/s, Loss 4.4753]\n",
      "100%|██████████████████████████████████████████████████████████████████| 32/32 [00:01<00:00, 31.80it/s, val_Loss 3.6178]\n"
     ]
    },
    {
     "name": "stdout",
     "output_type": "stream",
     "text": [
      "Saved checkpoint for step 1: /home/aeolian83/aiffel/saturi/MODEL/tf_spm16000_ckpt_final_0603_newcorpus_spc/ckpt-13\n"
     ]
    },
    {
     "name": "stderr",
     "output_type": "stream",
     "text": [
      "Bucket  2: 100%|███████████████████████████████████████████████████████| 3270/3270 [03:52<00:00, 14.08it/s, Loss 3.4500]\n",
      "100%|██████████████████████████████████████████████████████████████████| 32/32 [00:00<00:00, 77.33it/s, val_Loss 3.4819]\n"
     ]
    },
    {
     "name": "stdout",
     "output_type": "stream",
     "text": [
      "Saved checkpoint for step 1: /home/aeolian83/aiffel/saturi/MODEL/tf_spm16000_ckpt_final_0603_newcorpus_spc/ckpt-14\n"
     ]
    },
    {
     "name": "stderr",
     "output_type": "stream",
     "text": [
      "Bucket  1: 100%|█████████████████████████████████████████████████████| 34970/34970 [30:04<00:00, 19.38it/s, Loss 3.2524]\n",
      "100%|██████████████████████████████████████████████████████████████████| 32/32 [00:00<00:00, 98.96it/s, val_Loss 3.6595]\n"
     ]
    },
    {
     "name": "stdout",
     "output_type": "stream",
     "text": [
      "Saved checkpoint for step 1: /home/aeolian83/aiffel/saturi/MODEL/tf_spm16000_ckpt_final_0603_newcorpus_spc/ckpt-15\n"
     ]
    },
    {
     "name": "stderr",
     "output_type": "stream",
     "text": [
      "100%|█████████████████████████████████████████████████████████████████████████████████| 800/800 [07:52<00:00,  1.69it/s]\n"
     ]
    },
    {
     "data": {
      "text/html": [
       "Finishing last run (ID:g5kg35oq) before initializing another..."
      ],
      "text/plain": [
       "<IPython.core.display.HTML object>"
      ]
     },
     "metadata": {},
     "output_type": "display_data"
    },
    {
     "data": {
      "text/html": [
       "Waiting for W&B process to finish... <strong style=\"color:green\">(success).</strong>"
      ],
      "text/plain": [
       "<IPython.core.display.HTML object>"
      ]
     },
     "metadata": {},
     "output_type": "display_data"
    },
    {
     "data": {
      "application/vnd.jupyter.widget-view+json": {
       "model_id": "777800beb3fd4e8ea7ede361bf87fa7b",
       "version_major": 2,
       "version_minor": 0
      },
      "text/plain": [
       "VBox(children=(Label(value='0.003 MB of 0.003 MB uploaded (0.000 MB deduped)\\r'), FloatProgress(value=1.0, max…"
      ]
     },
     "metadata": {},
     "output_type": "display_data"
    },
    {
     "data": {
      "text/html": [
       "<style>\n",
       "    table.wandb td:nth-child(1) { padding: 0 10px; text-align: left ; width: auto;} td:nth-child(2) {text-align: left ; width: 100%}\n",
       "    .wandb-row { display: flex; flex-direction: row; flex-wrap: wrap; justify-content: flex-start; width: 100% }\n",
       "    .wandb-col { display: flex; flex-direction: column; flex-basis: 100%; flex: 1; padding: 10px; }\n",
       "    </style>\n",
       "<div class=\"wandb-row\"><div class=\"wandb-col\"><h3>Run history:</h3><br/><table class=\"wandb\"><tr><td>bleu</td><td>▁</td></tr><tr><td>train_loss</td><td>█▇▅▅▁▁▁▁▁▁▁▁▁▁▁▁▁▁▁▁▁▁▂▂▂▂▂▂▂▂▂▂▂▂▂▂▂▂▂▂</td></tr><tr><td>valid_loss</td><td>▄▅▅▄▆▆▇▇▇▇▇▇▇█▂▂▁▃▃▄▄▄▄▅▅▅▆▂▆▄▇▆▇▇█▇▇███</td></tr></table><br/></div><div class=\"wandb-col\"><h3>Run summary:</h3><br/><table class=\"wandb\"><tr><td>bleu</td><td>17.03424</td></tr><tr><td>train_loss</td><td>3.25238</td></tr><tr><td>valid_loss</td><td>3.65949</td></tr></table><br/></div></div>"
      ],
      "text/plain": [
       "<IPython.core.display.HTML object>"
      ]
     },
     "metadata": {},
     "output_type": "display_data"
    },
    {
     "data": {
      "text/html": [
       " View run <strong style=\"color:#cdcd00\">azure-dawn-6</strong> at: <a href='https://wandb.ai/saturi-lab/saturi_v_transformer_new_corpus_with_spellcheck/runs/g5kg35oq' target=\"_blank\">https://wandb.ai/saturi-lab/saturi_v_transformer_new_corpus_with_spellcheck/runs/g5kg35oq</a><br/>Synced 6 W&B file(s), 0 media file(s), 0 artifact file(s) and 0 other file(s)"
      ],
      "text/plain": [
       "<IPython.core.display.HTML object>"
      ]
     },
     "metadata": {},
     "output_type": "display_data"
    },
    {
     "data": {
      "text/html": [
       "Find logs at: <code>./wandb/run-20230606_233550-g5kg35oq/logs</code>"
      ],
      "text/plain": [
       "<IPython.core.display.HTML object>"
      ]
     },
     "metadata": {},
     "output_type": "display_data"
    },
    {
     "data": {
      "text/html": [
       "Successfully finished last run (ID:g5kg35oq). Initializing new run:<br/>"
      ],
      "text/plain": [
       "<IPython.core.display.HTML object>"
      ]
     },
     "metadata": {},
     "output_type": "display_data"
    },
    {
     "data": {
      "text/html": [
       "wandb version 0.15.3 is available!  To upgrade, please run:\n",
       " $ pip install wandb --upgrade"
      ],
      "text/plain": [
       "<IPython.core.display.HTML object>"
      ]
     },
     "metadata": {},
     "output_type": "display_data"
    },
    {
     "data": {
      "text/html": [
       "Tracking run with wandb version 0.15.2"
      ],
      "text/plain": [
       "<IPython.core.display.HTML object>"
      ]
     },
     "metadata": {},
     "output_type": "display_data"
    },
    {
     "data": {
      "text/html": [
       "Run data is saved locally in <code>/home/aeolian83/workspace/saturi/wandb/run-20230607_001816-rvbzy0bj</code>"
      ],
      "text/plain": [
       "<IPython.core.display.HTML object>"
      ]
     },
     "metadata": {},
     "output_type": "display_data"
    },
    {
     "data": {
      "text/html": [
       "Syncing run <strong><a href='https://wandb.ai/saturi-lab/saturi_v_transformer_new_corpus_with_spellcheck/runs/rvbzy0bj' target=\"_blank\">leafy-darkness-7</a></strong> to <a href='https://wandb.ai/saturi-lab/saturi_v_transformer_new_corpus_with_spellcheck' target=\"_blank\">Weights & Biases</a> (<a href='https://wandb.me/run' target=\"_blank\">docs</a>)<br/>"
      ],
      "text/plain": [
       "<IPython.core.display.HTML object>"
      ]
     },
     "metadata": {},
     "output_type": "display_data"
    },
    {
     "data": {
      "text/html": [
       " View project at <a href='https://wandb.ai/saturi-lab/saturi_v_transformer_new_corpus_with_spellcheck' target=\"_blank\">https://wandb.ai/saturi-lab/saturi_v_transformer_new_corpus_with_spellcheck</a>"
      ],
      "text/plain": [
       "<IPython.core.display.HTML object>"
      ]
     },
     "metadata": {},
     "output_type": "display_data"
    },
    {
     "data": {
      "text/html": [
       " View run at <a href='https://wandb.ai/saturi-lab/saturi_v_transformer_new_corpus_with_spellcheck/runs/rvbzy0bj' target=\"_blank\">https://wandb.ai/saturi-lab/saturi_v_transformer_new_corpus_with_spellcheck/runs/rvbzy0bj</a>"
      ],
      "text/plain": [
       "<IPython.core.display.HTML object>"
      ]
     },
     "metadata": {},
     "output_type": "display_data"
    },
    {
     "name": "stdout",
     "output_type": "stream",
     "text": [
      "Restored from /home/aeolian83/aiffel/saturi/MODEL/tf_spm16000_ckpt_final_0603_newcorpus_spc/ckpt-15\n"
     ]
    },
    {
     "name": "stderr",
     "output_type": "stream",
     "text": [
      "Bucket  3: 100%|█████████████████████████████████████████████████████████████| 4/4 [00:00<00:00,  6.29it/s, Loss 4.3186]\n",
      "100%|██████████████████████████████████████████████████████████████████| 32/32 [00:01<00:00, 31.99it/s, val_Loss 3.6023]\n"
     ]
    },
    {
     "name": "stdout",
     "output_type": "stream",
     "text": [
      "Saved checkpoint for step 1: /home/aeolian83/aiffel/saturi/MODEL/tf_spm16000_ckpt_final_0603_newcorpus_spc/ckpt-16\n"
     ]
    },
    {
     "name": "stderr",
     "output_type": "stream",
     "text": [
      "Bucket  2: 100%|███████████████████████████████████████████████████████| 3270/3270 [03:52<00:00, 14.06it/s, Loss 3.3378]\n",
      "100%|██████████████████████████████████████████████████████████████████| 32/32 [00:00<00:00, 74.84it/s, val_Loss 3.4539]\n"
     ]
    },
    {
     "name": "stdout",
     "output_type": "stream",
     "text": [
      "Saved checkpoint for step 1: /home/aeolian83/aiffel/saturi/MODEL/tf_spm16000_ckpt_final_0603_newcorpus_spc/ckpt-17\n"
     ]
    },
    {
     "name": "stderr",
     "output_type": "stream",
     "text": [
      "Bucket  1: 100%|█████████████████████████████████████████████████████| 34970/34970 [30:00<00:00, 19.43it/s, Loss 3.1465]\n",
      "100%|██████████████████████████████████████████████████████████████████| 32/32 [00:00<00:00, 98.48it/s, val_Loss 3.6548]\n"
     ]
    },
    {
     "name": "stdout",
     "output_type": "stream",
     "text": [
      "Saved checkpoint for step 1: /home/aeolian83/aiffel/saturi/MODEL/tf_spm16000_ckpt_final_0603_newcorpus_spc/ckpt-18\n"
     ]
    },
    {
     "name": "stderr",
     "output_type": "stream",
     "text": [
      "100%|█████████████████████████████████████████████████████████████████████████████████| 800/800 [07:48<00:00,  1.71it/s]\n"
     ]
    },
    {
     "data": {
      "text/html": [
       "Finishing last run (ID:rvbzy0bj) before initializing another..."
      ],
      "text/plain": [
       "<IPython.core.display.HTML object>"
      ]
     },
     "metadata": {},
     "output_type": "display_data"
    },
    {
     "data": {
      "text/html": [
       "Waiting for W&B process to finish... <strong style=\"color:green\">(success).</strong>"
      ],
      "text/plain": [
       "<IPython.core.display.HTML object>"
      ]
     },
     "metadata": {},
     "output_type": "display_data"
    },
    {
     "data": {
      "text/html": [
       "<style>\n",
       "    table.wandb td:nth-child(1) { padding: 0 10px; text-align: left ; width: auto;} td:nth-child(2) {text-align: left ; width: 100%}\n",
       "    .wandb-row { display: flex; flex-direction: row; flex-wrap: wrap; justify-content: flex-start; width: 100% }\n",
       "    .wandb-col { display: flex; flex-direction: column; flex-basis: 100%; flex: 1; padding: 10px; }\n",
       "    </style>\n",
       "<div class=\"wandb-row\"><div class=\"wandb-col\"><h3>Run history:</h3><br/><table class=\"wandb\"><tr><td>bleu</td><td>▁</td></tr><tr><td>train_loss</td><td>█▇▆▅▁▁▁▁▁▁▁▁▁▁▁▁▁▂▂▂▂▂▂▂▂▂▂▂▂▂▂▂▂▂▂▂▂▂▂▂</td></tr><tr><td>valid_loss</td><td>▃▄▅▃▆▆▇▇▇▇▇▇▇█▂▂▁▃▃▄▄▅▅▅▅▅▆▂▅▄▆▆▇▇▇▇▇███</td></tr></table><br/></div><div class=\"wandb-col\"><h3>Run summary:</h3><br/><table class=\"wandb\"><tr><td>bleu</td><td>17.10461</td></tr><tr><td>train_loss</td><td>3.14655</td></tr><tr><td>valid_loss</td><td>3.65478</td></tr></table><br/></div></div>"
      ],
      "text/plain": [
       "<IPython.core.display.HTML object>"
      ]
     },
     "metadata": {},
     "output_type": "display_data"
    },
    {
     "data": {
      "text/html": [
       " View run <strong style=\"color:#cdcd00\">leafy-darkness-7</strong> at: <a href='https://wandb.ai/saturi-lab/saturi_v_transformer_new_corpus_with_spellcheck/runs/rvbzy0bj' target=\"_blank\">https://wandb.ai/saturi-lab/saturi_v_transformer_new_corpus_with_spellcheck/runs/rvbzy0bj</a><br/>Synced 6 W&B file(s), 0 media file(s), 0 artifact file(s) and 0 other file(s)"
      ],
      "text/plain": [
       "<IPython.core.display.HTML object>"
      ]
     },
     "metadata": {},
     "output_type": "display_data"
    },
    {
     "data": {
      "text/html": [
       "Find logs at: <code>./wandb/run-20230607_001816-rvbzy0bj/logs</code>"
      ],
      "text/plain": [
       "<IPython.core.display.HTML object>"
      ]
     },
     "metadata": {},
     "output_type": "display_data"
    },
    {
     "data": {
      "text/html": [
       "Successfully finished last run (ID:rvbzy0bj). Initializing new run:<br/>"
      ],
      "text/plain": [
       "<IPython.core.display.HTML object>"
      ]
     },
     "metadata": {},
     "output_type": "display_data"
    },
    {
     "data": {
      "text/html": [
       "wandb version 0.15.3 is available!  To upgrade, please run:\n",
       " $ pip install wandb --upgrade"
      ],
      "text/plain": [
       "<IPython.core.display.HTML object>"
      ]
     },
     "metadata": {},
     "output_type": "display_data"
    },
    {
     "data": {
      "text/html": [
       "Tracking run with wandb version 0.15.2"
      ],
      "text/plain": [
       "<IPython.core.display.HTML object>"
      ]
     },
     "metadata": {},
     "output_type": "display_data"
    },
    {
     "data": {
      "text/html": [
       "Run data is saved locally in <code>/home/aeolian83/workspace/saturi/wandb/run-20230607_010034-je3k4ba0</code>"
      ],
      "text/plain": [
       "<IPython.core.display.HTML object>"
      ]
     },
     "metadata": {},
     "output_type": "display_data"
    },
    {
     "data": {
      "text/html": [
       "Syncing run <strong><a href='https://wandb.ai/saturi-lab/saturi_v_transformer_new_corpus_with_spellcheck/runs/je3k4ba0' target=\"_blank\">noble-plant-8</a></strong> to <a href='https://wandb.ai/saturi-lab/saturi_v_transformer_new_corpus_with_spellcheck' target=\"_blank\">Weights & Biases</a> (<a href='https://wandb.me/run' target=\"_blank\">docs</a>)<br/>"
      ],
      "text/plain": [
       "<IPython.core.display.HTML object>"
      ]
     },
     "metadata": {},
     "output_type": "display_data"
    },
    {
     "data": {
      "text/html": [
       " View project at <a href='https://wandb.ai/saturi-lab/saturi_v_transformer_new_corpus_with_spellcheck' target=\"_blank\">https://wandb.ai/saturi-lab/saturi_v_transformer_new_corpus_with_spellcheck</a>"
      ],
      "text/plain": [
       "<IPython.core.display.HTML object>"
      ]
     },
     "metadata": {},
     "output_type": "display_data"
    },
    {
     "data": {
      "text/html": [
       " View run at <a href='https://wandb.ai/saturi-lab/saturi_v_transformer_new_corpus_with_spellcheck/runs/je3k4ba0' target=\"_blank\">https://wandb.ai/saturi-lab/saturi_v_transformer_new_corpus_with_spellcheck/runs/je3k4ba0</a>"
      ],
      "text/plain": [
       "<IPython.core.display.HTML object>"
      ]
     },
     "metadata": {},
     "output_type": "display_data"
    },
    {
     "name": "stdout",
     "output_type": "stream",
     "text": [
      "Restored from /home/aeolian83/aiffel/saturi/MODEL/tf_spm16000_ckpt_final_0603_newcorpus_spc/ckpt-18\n"
     ]
    },
    {
     "name": "stderr",
     "output_type": "stream",
     "text": [
      "Bucket  3: 100%|█████████████████████████████████████████████████████████████| 4/4 [00:00<00:00,  6.28it/s, Loss 4.2017]\n",
      "100%|██████████████████████████████████████████████████████████████████| 32/32 [00:00<00:00, 32.14it/s, val_Loss 3.6029]\n"
     ]
    },
    {
     "name": "stdout",
     "output_type": "stream",
     "text": [
      "Saved checkpoint for step 1: /home/aeolian83/aiffel/saturi/MODEL/tf_spm16000_ckpt_final_0603_newcorpus_spc/ckpt-19\n"
     ]
    },
    {
     "name": "stderr",
     "output_type": "stream",
     "text": [
      "Bucket  2: 100%|███████████████████████████████████████████████████████| 3270/3270 [03:52<00:00, 14.06it/s, Loss 3.2365]\n",
      "100%|██████████████████████████████████████████████████████████████████| 32/32 [00:00<00:00, 75.66it/s, val_Loss 3.4482]\n"
     ]
    },
    {
     "name": "stdout",
     "output_type": "stream",
     "text": [
      "Saved checkpoint for step 1: /home/aeolian83/aiffel/saturi/MODEL/tf_spm16000_ckpt_final_0603_newcorpus_spc/ckpt-20\n"
     ]
    },
    {
     "name": "stderr",
     "output_type": "stream",
     "text": [
      "Bucket  1: 100%|█████████████████████████████████████████████████████| 34970/34970 [30:00<00:00, 19.43it/s, Loss 3.0504]\n",
      "100%|██████████████████████████████████████████████████████████████████| 32/32 [00:00<00:00, 99.28it/s, val_Loss 3.6526]\n"
     ]
    },
    {
     "name": "stdout",
     "output_type": "stream",
     "text": [
      "Saved checkpoint for step 1: /home/aeolian83/aiffel/saturi/MODEL/tf_spm16000_ckpt_final_0603_newcorpus_spc/ckpt-21\n"
     ]
    },
    {
     "name": "stderr",
     "output_type": "stream",
     "text": [
      "100%|█████████████████████████████████████████████████████████████████████████████████| 800/800 [08:02<00:00,  1.66it/s]\n"
     ]
    }
   ],
   "source": [
    "for _ in range(7):\n",
    "    run  = wandb.init(project = project_name,\n",
    "                     entity = 'saturi-lab',\n",
    "                     config = {\n",
    "                         'model_name':'Vanilla_Transformer',\n",
    "                         'n_layers':6,\n",
    "                         'd_model':512,\n",
    "                         'n_heads':8,\n",
    "                         'd_ff':2048,\n",
    "                         'src_vocab_size':SRC_VOCAB_SIZE,\n",
    "                         'tgt_vocab_size':TGT_VOCAB_SIZE,\n",
    "                         'pos_len': 512,\n",
    "                         'dropout':0.2,\n",
    "                         'shared':True,\n",
    "                         'warmups' : warmups,\n",
    "                         'epochs':1,\n",
    "                         'optimizer' :'ADAM',\n",
    "                         'loss' : 'SparseCategoricalCrossentropy',\n",
    "                         'metric' : 'bleu'\n",
    "                     })\n",
    "    train_and_checkpoint(transformer, manager, config.epochs)"
   ]
  },
  {
   "cell_type": "code",
   "execution_count": 33,
   "id": "c0005c11",
   "metadata": {},
   "outputs": [
    {
     "data": {
      "text/plain": [
       "Text(0.5, 0, 'Train Step')"
      ]
     },
     "execution_count": 33,
     "metadata": {},
     "output_type": "execute_result"
    },
    {
     "data": {
      "image/png": "[encoded data removed]",
      "text/plain": [
       "<Figure size 640x480 with 1 Axes>"
      ]
     },
     "metadata": {},
     "output_type": "display_data"
    }
   ],
   "source": [
    "plt.plot(learningrate(tf.range(15412, dtype=tf.float32)))\n",
    "plt.ylabel('Learning Rate')\n",
    "plt.xlabel('Train Step')"
   ]
  },
  {
   "cell_type": "code",
   "execution_count": 34,
   "id": "d09359ab",
   "metadata": {},
   "outputs": [],
   "source": [
    "from time import perf_counter"
   ]
  },
  {
   "cell_type": "code",
   "execution_count": 35,
   "id": "f5d2996d",
   "metadata": {},
   "outputs": [],
   "source": [
    "examples = [\"<jj> what are you doing ?\",'<cc> what are you doing ?','<gs> what are you doing ?','<jd> what are you doing ?','<kw> what are you doing ?']"
   ]
  },
  {
   "cell_type": "code",
   "execution_count": 36,
   "id": "0fccdceb",
   "metadata": {},
   "outputs": [
    {
     "name": "stdout",
     "output_type": "stream",
     "text": [
      "Input: <jj> what are you doing ?\n",
      "Predicted translation: 뭐 하는 거?\n",
      "Input: <cc> what are you doing ?\n",
      "Predicted translation: 너는 뭐혀?\n",
      "Input: <gs> what are you doing ?\n",
      "Predicted translation: 니 혹시 뭐 우류?\n",
      "Input: <jd> what are you doing ?\n",
      "Predicted translation: 뭐 하는 겨?\n",
      "Input: <kw> what are you doing ?\n",
      "Predicted translation: 무신 짓이야?\n",
      "1.3578917480190285\n"
     ]
    }
   ],
   "source": [
    "start = perf_counter()\n",
    "for example in examples :\n",
    "    translate(example, transformer, enc_tokenizer, dec_tokenizer, verbose =True)\n",
    "print(perf_counter() - start)"
   ]
  },
  {
   "cell_type": "code",
   "execution_count": 37,
   "id": "82a63803",
   "metadata": {},
   "outputs": [],
   "source": [
    "examples = [\"<jj> i like this song .\",'<cc> i like this song . ','<gs> i like this song . ','<jd> i like this song . ','<kw> i like this song . ']"
   ]
  },
  {
   "cell_type": "code",
   "execution_count": 38,
   "id": "f511e052",
   "metadata": {},
   "outputs": [
    {
     "name": "stdout",
     "output_type": "stream",
     "text": [
      "Input: <jj> i like this song .\n",
      "Predicted translation: 이 노래 좋아마씨.\n",
      "Input: <cc> i like this song . \n",
      "Predicted translation: 이 노래와 함께 그.\n",
      "Input: <gs> i like this song . \n",
      "Predicted translation: 이 노래의 천지야.\n",
      "Input: <jd> i like this song . \n",
      "Predicted translation: 이 노래 좋아야.\n",
      "Input: <kw> i like this song . \n",
      "Predicted translation: 이딴 노래요.\n",
      "1.6427699199994095\n"
     ]
    }
   ],
   "source": [
    "start = perf_counter()\n",
    "for example in examples :\n",
    "    translate(example, transformer, enc_tokenizer, dec_tokenizer, verbose =True)\n",
    "print(perf_counter() - start)"
   ]
  },
  {
   "cell_type": "code",
   "execution_count": 39,
   "id": "c34aa8a0",
   "metadata": {},
   "outputs": [],
   "source": [
    "examples = [\"<jj> Let's do homework together .\",\"<cc> Let's do homework together .\",\"<gs> Let's do homework together .\",\"<jd> Let's do homework together .\",\"<kw> Let's do homework together .\"]"
   ]
  },
  {
   "cell_type": "code",
   "execution_count": 40,
   "id": "c1985ce7",
   "metadata": {},
   "outputs": [
    {
     "name": "stdout",
     "output_type": "stream",
     "text": [
      "Input: <jj> Let's do homework together .\n",
      "Predicted translation: 숙제 같이 하게.\n",
      "Input: <cc> Let's do homework together .\n",
      "Predicted translation: 같이 숙제도 같이 햐.\n",
      "Input: <gs> Let's do homework together .\n",
      "Predicted translation: 난 우회전 해부렀잖아.\n",
      "Input: <jd> Let's do homework together .\n",
      "Predicted translation: 숙제를 같이 하게.\n",
      "Input: <kw> Let's do homework together .\n",
      "Predicted translation: 숙제를 어여 같이 해내세요.\n",
      "1.8955887659976725\n"
     ]
    }
   ],
   "source": [
    "start = perf_counter()\n",
    "for example in examples :\n",
    "    translate(example, transformer, enc_tokenizer, dec_tokenizer, verbose =True)\n",
    "print(perf_counter() - start)"
   ]
  },
  {
   "cell_type": "code",
   "execution_count": 41,
   "id": "d5ac77c3",
   "metadata": {},
   "outputs": [],
   "source": [
    "examples = [\"<jj> Are you going to sleep ?\",\"<cc> Are you going to sleep ?\",\"<gs> Are you going to sleep ?\",\"<jd> Are you going to sleep ?\",\"<kw> Are you going to sleep ?\"]"
   ]
  },
  {
   "cell_type": "code",
   "execution_count": 42,
   "id": "3d4dfa8a",
   "metadata": {},
   "outputs": [
    {
     "name": "stdout",
     "output_type": "stream",
     "text": [
      "Input: <jj> Are you going to sleep ?\n",
      "Predicted translation: 자젠?\n",
      "Input: <cc> Are you going to sleep ?\n",
      "Predicted translation: 자겄어?\n",
      "Input: <gs> Are you going to sleep ?\n",
      "Predicted translation: 잠간 자나?\n",
      "Input: <jd> Are you going to sleep ?\n",
      "Predicted translation: 자겄어?\n",
      "Input: <kw> Are you going to sleep ?\n",
      "Predicted translation: 자나?\n",
      "1.162439767998876\n"
     ]
    }
   ],
   "source": [
    "start = perf_counter()\n",
    "for example in examples :\n",
    "    translate(example, transformer, enc_tokenizer, dec_tokenizer, verbose =True)\n",
    "print(perf_counter() - start)"
   ]
  },
  {
   "cell_type": "code",
   "execution_count": 43,
   "id": "5d2a41a1",
   "metadata": {},
   "outputs": [
    {
     "name": "stderr",
     "output_type": "stream",
     "text": [
      "100%|█████████████████████████████████████████████████████████████████████████████████| 800/800 [08:01<00:00,  1.66it/s]\n"
     ]
    }
   ],
   "source": [
    "from datasets import load_metric\n",
    "\n",
    "bleu = load_metric(\"sacrebleu\")\n",
    "test_translate = []\n",
    "bleu_valid_score = []\n",
    "\n",
    "test_text = full_data_test.eng.values\n",
    "test_tgt = full_data_test.dial.values\n",
    "\n",
    "for i in tqdm(range(len(test_text))) :\n",
    "    trans = translate(test_text[i], transformer, enc_tokenizer, dec_tokenizer, verbose =False)\n",
    "    test_translate.append(trans)\n",
    "    label = dec_tokenizer.decode(test_tgt[i])\n",
    "    result = bleu.compute(predictions=[trans], references=[[label]], smooth_method='add-k')['score']\n",
    "    bleu_valid_score.append(result)\n",
    "\n",
    "full_data_test['bleu'] = np.array(bleu_valid_score)\n",
    "full_data_test['pred'] = test_translate"
   ]
  },
  {
   "cell_type": "code",
   "execution_count": 44,
   "id": "7576e884",
   "metadata": {},
   "outputs": [
    {
     "data": {
      "text/plain": [
       "16.407278359951565"
      ]
     },
     "execution_count": 44,
     "metadata": {},
     "output_type": "execute_result"
    }
   ],
   "source": [
    "full_data_test.bleu.mean()"
   ]
  },
  {
   "cell_type": "code",
   "execution_count": 45,
   "id": "5e15d5eb",
   "metadata": {},
   "outputs": [],
   "source": [
    "full_data_test.loc[:,['eng','reg','dial','pred','bleu']].sort_values('bleu', ascending=False).head()\n",
    "\n",
    "data_dir = os.getenv('HOME')+'/aiffel/s_DATA' # 파일 경로 지정\n",
    "full_data_test.to_csv(data_dir + f'/test_results_{tokenizer_name}16000_final_needs_merge_spc_0606.csv')\n"
   ]
  },
  {
   "cell_type": "code",
   "execution_count": 46,
   "id": "f3693cb0",
   "metadata": {},
   "outputs": [
    {
     "data": {
      "text/html": [
       "Waiting for W&B process to finish... <strong style=\"color:green\">(success).</strong>"
      ],
      "text/plain": [
       "<IPython.core.display.HTML object>"
      ]
     },
     "metadata": {},
     "output_type": "display_data"
    },
    {
     "data": {
      "application/vnd.jupyter.widget-view+json": {
       "model_id": "6c7ec64d14a4416aa08c04a95f92ae54",
       "version_major": 2,
       "version_minor": 0
      },
      "text/plain": [
       "VBox(children=(Label(value='0.003 MB of 0.003 MB uploaded (0.000 MB deduped)\\r'), FloatProgress(value=1.0, max…"
      ]
     },
     "metadata": {},
     "output_type": "display_data"
    },
    {
     "data": {
      "text/html": [
       "<style>\n",
       "    table.wandb td:nth-child(1) { padding: 0 10px; text-align: left ; width: auto;} td:nth-child(2) {text-align: left ; width: 100%}\n",
       "    .wandb-row { display: flex; flex-direction: row; flex-wrap: wrap; justify-content: flex-start; width: 100% }\n",
       "    .wandb-col { display: flex; flex-direction: column; flex-basis: 100%; flex: 1; padding: 10px; }\n",
       "    </style>\n",
       "<div class=\"wandb-row\"><div class=\"wandb-col\"><h3>Run history:</h3><br/><table class=\"wandb\"><tr><td>bleu</td><td>▁</td></tr><tr><td>train_loss</td><td>█▇▅▄▁▁▁▁▁▁▁▁▁▁▁▁▁▁▁▁▁▁▁▂▂▂▂▂▂▂▂▂▂▂▂▂▂▂▂▂</td></tr><tr><td>valid_loss</td><td>▃▄▅▄▆▆▇▇▇▇▇▇▇█▁▁▁▃▃▄▄▅▅▅▅▆▆▂▄▄▆▆▇▇▇▇▇███</td></tr></table><br/></div><div class=\"wandb-col\"><h3>Run summary:</h3><br/><table class=\"wandb\"><tr><td>bleu</td><td>16.40728</td></tr><tr><td>train_loss</td><td>3.05043</td></tr><tr><td>valid_loss</td><td>3.65263</td></tr></table><br/></div></div>"
      ],
      "text/plain": [
       "<IPython.core.display.HTML object>"
      ]
     },
     "metadata": {},
     "output_type": "display_data"
    },
    {
     "data": {
      "text/html": [
       " View run <strong style=\"color:#cdcd00\">noble-plant-8</strong> at: <a href='https://wandb.ai/saturi-lab/saturi_v_transformer_new_corpus_with_spellcheck/runs/je3k4ba0' target=\"_blank\">https://wandb.ai/saturi-lab/saturi_v_transformer_new_corpus_with_spellcheck/runs/je3k4ba0</a><br/>Synced 6 W&B file(s), 0 media file(s), 0 artifact file(s) and 0 other file(s)"
      ],
      "text/plain": [
       "<IPython.core.display.HTML object>"
      ]
     },
     "metadata": {},
     "output_type": "display_data"
    },
    {
     "data": {
      "text/html": [
       "Find logs at: <code>./wandb/run-20230607_010034-je3k4ba0/logs</code>"
      ],
      "text/plain": [
       "<IPython.core.display.HTML object>"
      ]
     },
     "metadata": {},
     "output_type": "display_data"
    }
   ],
   "source": [
    "wandb.finish()"
   ]
  },
  {
   "cell_type": "code",
   "execution_count": null,
   "id": "84af26c9",
   "metadata": {},
   "outputs": [],
   "source": []
  },
  {
   "cell_type": "code",
   "execution_count": null,
   "id": "6bb722c8",
   "metadata": {},
   "outputs": [],
   "source": []
  },
  {
   "cell_type": "code",
   "execution_count": null,
   "id": "c99fdc5f",
   "metadata": {},
   "outputs": [],
   "source": []
  },
  {
   "cell_type": "code",
   "execution_count": null,
   "id": "d69d3620",
   "metadata": {},
   "outputs": [],
   "source": []
  },
  {
   "cell_type": "code",
   "execution_count": null,
   "id": "2325ff3c",
   "metadata": {},
   "outputs": [],
   "source": []
  },
  {
   "cell_type": "code",
   "execution_count": null,
   "id": "7dc07f11",
   "metadata": {},
   "outputs": [],
   "source": []
  },
  {
   "cell_type": "code",
   "execution_count": null,
   "id": "cef5ba4c",
   "metadata": {},
   "outputs": [],
   "source": []
  },
  {
   "cell_type": "code",
   "execution_count": null,
   "id": "73bbed21",
   "metadata": {},
   "outputs": [],
   "source": []
  },
  {
   "cell_type": "code",
   "execution_count": null,
   "id": "aa496da3",
   "metadata": {},
   "outputs": [],
   "source": []
  },
  {
   "cell_type": "code",
   "execution_count": null,
   "id": "80822ac4",
   "metadata": {},
   "outputs": [],
   "source": []
  },
  {
   "cell_type": "code",
   "execution_count": null,
   "id": "ac027476",
   "metadata": {},
   "outputs": [],
   "source": []
  },
  {
   "cell_type": "code",
   "execution_count": null,
   "id": "36bfdf53",
   "metadata": {},
   "outputs": [],
   "source": []
  },
  {
   "cell_type": "code",
   "execution_count": null,
   "id": "5d9d2443",
   "metadata": {},
   "outputs": [],
   "source": []
  },
  {
   "cell_type": "code",
   "execution_count": null,
   "id": "75b81334",
   "metadata": {},
   "outputs": [],
   "source": []
  },
  {
   "cell_type": "code",
   "execution_count": null,
   "id": "72fa8d0f",
   "metadata": {},
   "outputs": [],
   "source": []
  },
  {
   "cell_type": "code",
   "execution_count": null,
   "id": "89f5a07b",
   "metadata": {},
   "outputs": [],
   "source": []
  },
  {
   "cell_type": "code",
   "execution_count": null,
   "id": "8d66c89a",
   "metadata": {},
   "outputs": [],
   "source": []
  },
  {
   "cell_type": "code",
   "execution_count": null,
   "id": "07373bdc",
   "metadata": {},
   "outputs": [],
   "source": []
  },
  {
   "cell_type": "code",
   "execution_count": null,
   "id": "25e214eb",
   "metadata": {},
   "outputs": [],
   "source": []
  },
  {
   "cell_type": "code",
   "execution_count": null,
   "id": "6c82e594",
   "metadata": {},
   "outputs": [],
   "source": []
  },
  {
   "cell_type": "code",
   "execution_count": null,
   "id": "3c77af8c",
   "metadata": {},
   "outputs": [],
   "source": []
  },
  {
   "cell_type": "code",
   "execution_count": null,
   "id": "2a78765c",
   "metadata": {},
   "outputs": [],
   "source": []
  },
  {
   "cell_type": "code",
   "execution_count": null,
   "id": "fd82e58f",
   "metadata": {},
   "outputs": [],
   "source": []
  },
  {
   "cell_type": "code",
   "execution_count": null,
   "id": "02f31a94",
   "metadata": {},
   "outputs": [],
   "source": []
  },
  {
   "cell_type": "code",
   "execution_count": null,
   "id": "a7efe0d6",
   "metadata": {},
   "outputs": [],
   "source": []
  },
  {
   "cell_type": "code",
   "execution_count": null,
   "id": "579df11a",
   "metadata": {},
   "outputs": [],
   "source": []
  },
  {
   "cell_type": "code",
   "execution_count": null,
   "id": "d1f15ee0",
   "metadata": {},
   "outputs": [],
   "source": []
  },
  {
   "cell_type": "code",
   "execution_count": null,
   "id": "d23a26a4",
   "metadata": {},
   "outputs": [],
   "source": []
  },
  {
   "cell_type": "code",
   "execution_count": null,
   "id": "f61d0fee",
   "metadata": {},
   "outputs": [],
   "source": []
  },
  {
   "cell_type": "code",
   "execution_count": null,
   "id": "ee7f57ec",
   "metadata": {},
   "outputs": [],
   "source": []
  },
  {
   "cell_type": "code",
   "execution_count": null,
   "id": "621c88b5",
   "metadata": {},
   "outputs": [],
   "source": []
  },
  {
   "cell_type": "code",
   "execution_count": null,
   "id": "93c1e9ff",
   "metadata": {},
   "outputs": [],
   "source": []
  },
  {
   "cell_type": "code",
   "execution_count": null,
   "id": "cb236d2d",
   "metadata": {},
   "outputs": [],
   "source": []
  },
  {
   "cell_type": "code",
   "execution_count": null,
   "id": "d05a9793",
   "metadata": {},
   "outputs": [],
   "source": []
  },
  {
   "cell_type": "code",
   "execution_count": null,
   "id": "d29cbea2",
   "metadata": {},
   "outputs": [],
   "source": []
  },
  {
   "cell_type": "code",
   "execution_count": null,
   "id": "739466ef",
   "metadata": {},
   "outputs": [],
   "source": []
  },
  {
   "cell_type": "code",
   "execution_count": null,
   "id": "2489c70b",
   "metadata": {},
   "outputs": [],
   "source": []
  },
  {
   "cell_type": "code",
   "execution_count": null,
   "id": "92b24d46",
   "metadata": {},
   "outputs": [],
   "source": []
  }
 ],
 "metadata": {
  "kernelspec": {
   "display_name": "Python 3.9.7(Saturi)",
   "language": "python",
   "name": "saturi_for_p397"
  },
  "language_info": {
   "codemirror_mode": {
    "name": "ipython",
    "version": 3
   },
   "file_extension": ".py",
   "mimetype": "text/x-python",
   "name": "python",
   "nbconvert_exporter": "python",
   "pygments_lexer": "ipython3",
   "version": "3.9.7"
  }
 },
 "nbformat": 4,
 "nbformat_minor": 5
}
