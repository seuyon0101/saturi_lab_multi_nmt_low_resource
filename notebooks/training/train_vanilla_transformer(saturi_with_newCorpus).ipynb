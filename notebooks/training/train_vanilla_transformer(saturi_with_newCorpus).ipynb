{
 "cells": [
  {
   "cell_type": "code",
   "execution_count": 1,
   "id": "4caaa8de",
   "metadata": {},
   "outputs": [
    {
     "name": "stdout",
     "output_type": "stream",
     "text": [
      "2.8.0\n",
      "1.5.3\n",
      "1.24.2\n"
     ]
    }
   ],
   "source": [
    "import warnings\n",
    "warnings.filterwarnings('ignore')\n",
    "\n",
    "import tensorflow as tf\n",
    "import numpy as np\n",
    "import pandas as pd\n",
    "\n",
    "import matplotlib as mpl\n",
    "import matplotlib.ticker as ticker\n",
    "import matplotlib.pyplot as plt\n",
    "from sklearn.model_selection import train_test_split\n",
    "import time\n",
    "import re\n",
    "import os\n",
    "import io\n",
    "\n",
    "\n",
    "# from tqdm import tqdm_notebook \n",
    "from tqdm import tqdm \n",
    "import random\n",
    "\n",
    "import sentencepiece as spm\n",
    "from konlpy.tag import Mecab\n",
    "\n",
    "print(tf.__version__)\n",
    "print(pd.__version__)\n",
    "print(np.__version__)"
   ]
  },
  {
   "cell_type": "markdown",
   "id": "202946da",
   "metadata": {},
   "source": [
    "# Step1. 데이터 불러오기"
   ]
  },
  {
   "cell_type": "code",
   "execution_count": 2,
   "id": "52162de6",
   "metadata": {},
   "outputs": [],
   "source": [
    "data_dir = os.getenv(\"HOME\") + '/aiffel/s_DATA'\n",
    "tokenizer_name = 'spm'"
   ]
  },
  {
   "cell_type": "code",
   "execution_count": 3,
   "id": "86526021",
   "metadata": {},
   "outputs": [],
   "source": [
    "# train data load\n",
    "data_dir = os.getenv('HOME')+'/aiffel/s_DATA/pickle' # 파일 경로 지정\n",
    "data_train_path = data_dir+f\"/data_train_{tokenizer_name}_16000_0601.pkl\"\n",
    "data_test_path = data_dir+f\"/data_test_{tokenizer_name}_16000_0601.pkl\"\n",
    "full_data = pd.read_pickle(data_train_path, 'gzip')\n",
    "full_data_test = pd.read_pickle(data_test_path, 'gzip')"
   ]
  },
  {
   "cell_type": "code",
   "execution_count": 4,
   "id": "7160f5e6",
   "metadata": {},
   "outputs": [
    {
     "name": "stdout",
     "output_type": "stream",
     "text": [
      "<class 'pandas.core.frame.DataFrame'>\n",
      "Int64Index: 2504818 entries, 0 to 2994181\n",
      "Data columns (total 7 columns):\n",
      " #   Column    Dtype \n",
      "---  ------    ----- \n",
      " 0   reg       object\n",
      " 1   text      object\n",
      " 2   pair      object\n",
      " 3   dial      object\n",
      " 4   eng       object\n",
      " 5   toks_en   object\n",
      " 6   toks_dec  object\n",
      "dtypes: object(7)\n",
      "memory usage: 152.9+ MB\n"
     ]
    }
   ],
   "source": [
    "full_data.info()"
   ]
  },
  {
   "cell_type": "code",
   "execution_count": 5,
   "id": "43bdec92",
   "metadata": {},
   "outputs": [
    {
     "name": "stdout",
     "output_type": "stream",
     "text": [
      "<class 'pandas.core.frame.DataFrame'>\n",
      "Int64Index: 1000 entries, 365916 to 2817872\n",
      "Data columns (total 7 columns):\n",
      " #   Column    Non-Null Count  Dtype \n",
      "---  ------    --------------  ----- \n",
      " 0   reg       1000 non-null   object\n",
      " 1   text      1000 non-null   object\n",
      " 2   pair      1000 non-null   object\n",
      " 3   dial      1000 non-null   object\n",
      " 4   eng       1000 non-null   object\n",
      " 5   toks_en   1000 non-null   object\n",
      " 6   toks_dec  1000 non-null   object\n",
      "dtypes: object(7)\n",
      "memory usage: 62.5+ KB\n"
     ]
    }
   ],
   "source": [
    "full_data_test.info()"
   ]
  },
  {
   "cell_type": "code",
   "execution_count": 6,
   "id": "38a6af71",
   "metadata": {},
   "outputs": [],
   "source": [
    "regs = full_data.reg.unique()"
   ]
  },
  {
   "cell_type": "code",
   "execution_count": 7,
   "id": "68e212f0",
   "metadata": {},
   "outputs": [
    {
     "data": {
      "image/png": "[encoded data removed]",
      "text/plain": [
       "<Figure size 640x480 with 1 Axes>"
      ]
     },
     "metadata": {},
     "output_type": "display_data"
    }
   ],
   "source": [
    "import seaborn as sns\n",
    "full_data['tok_len'] = full_data['toks_en'].apply(lambda x : len(x))\n",
    "sns.histplot(x='tok_len',data = full_data, bins= 50,stat='probability' )\n",
    "plt.show()"
   ]
  },
  {
   "cell_type": "code",
   "execution_count": 8,
   "id": "da5801d3",
   "metadata": {},
   "outputs": [
    {
     "data": {
      "text/html": [
       "<div>\n",
       "<style scoped>\n",
       "    .dataframe tbody tr th:only-of-type {\n",
       "        vertical-align: middle;\n",
       "    }\n",
       "\n",
       "    .dataframe tbody tr th {\n",
       "        vertical-align: top;\n",
       "    }\n",
       "\n",
       "    .dataframe thead th {\n",
       "        text-align: right;\n",
       "    }\n",
       "</style>\n",
       "<table border=\"1\" class=\"dataframe\">\n",
       "  <thead>\n",
       "    <tr style=\"text-align: right;\">\n",
       "      <th></th>\n",
       "      <th>reg</th>\n",
       "      <th>text</th>\n",
       "      <th>pair</th>\n",
       "      <th>dial</th>\n",
       "      <th>eng</th>\n",
       "      <th>toks_en</th>\n",
       "      <th>toks_dec</th>\n",
       "      <th>tok_len</th>\n",
       "    </tr>\n",
       "  </thead>\n",
       "  <tbody>\n",
       "    <tr>\n",
       "      <th>0</th>\n",
       "      <td>jj</td>\n",
       "      <td>그 부주를 하기에는 조금 그렇지 않아?</td>\n",
       "      <td>(안?)/(않아?)</td>\n",
       "      <td>그 부주를 하기에는 조금 그렇지 안?</td>\n",
       "      <td>&lt;jj&gt; Isnt it a little bit like that carelessness?</td>\n",
       "      <td>[50, 4, 221, 12, 11, 26, 79, 18, 17, 295, 1058...</td>\n",
       "      <td>[1, 14, 10161, 37, 8398, 451, 1056, 18, 11, 2]</td>\n",
       "      <td>12</td>\n",
       "    </tr>\n",
       "    <tr>\n",
       "      <th>1</th>\n",
       "      <td>jj</td>\n",
       "      <td>그리고 거기서 밥을 먹을지도 모르겠어.</td>\n",
       "      <td>(모르겐.)/(모르겠어.)</td>\n",
       "      <td>그리고 거기서 밥을 먹을지도 모르겐.</td>\n",
       "      <td>&lt;jj&gt; And I dont even know if Ill eat rice there.</td>\n",
       "      <td>[50, 4, 155, 10, 39, 93, 59, 38, 123, 85, 237,...</td>\n",
       "      <td>[1, 115, 324, 1383, 388, 617, 1502, 10, 2]</td>\n",
       "      <td>13</td>\n",
       "    </tr>\n",
       "    <tr>\n",
       "      <th>2</th>\n",
       "      <td>jj</td>\n",
       "      <td>왜냐하면은 밥이 안 나온다고 들었어.</td>\n",
       "      <td>(들언.)/(들었어.)</td>\n",
       "      <td>왜냐하면은 밥이 안 나온다고 들언.</td>\n",
       "      <td>&lt;jj&gt; Because I heard that the rice isnt served.</td>\n",
       "      <td>[50, 4, 167, 10, 228, 17, 14, 237, 335, 2489, 3]</td>\n",
       "      <td>[1, 983, 31, 292, 12, 18, 9406, 2537, 10, 2]</td>\n",
       "      <td>11</td>\n",
       "    </tr>\n",
       "    <tr>\n",
       "      <th>3</th>\n",
       "      <td>jj</td>\n",
       "      <td>토요일 날에 토요일날에 잔치를 하고 일요일 날에 식을 올린대.</td>\n",
       "      <td>(올린댄.)/(올린대.)</td>\n",
       "      <td>토요일 날에 토요일날에 잔치를 하고 일요일 날에 식을 올린댄.</td>\n",
       "      <td>&lt;jj&gt; They have a party on Saturday and a cerem...</td>\n",
       "      <td>[50, 4, 211, 29, 11, 1029, 51, 1667, 16, 11, 2...</td>\n",
       "      <td>[1, 4331, 5172, 11561, 25, 3767, 37, 59, 4258,...</td>\n",
       "      <td>14</td>\n",
       "    </tr>\n",
       "    <tr>\n",
       "      <th>4</th>\n",
       "      <td>jj</td>\n",
       "      <td>그럼 어떻게 혼자 아 혼자래.</td>\n",
       "      <td>(혼자랜.)/(혼자래.)</td>\n",
       "      <td>그럼 어떻게 혼자 아 혼자랜.</td>\n",
       "      <td>&lt;jj&gt; Then how are you alone Oh are you alone.</td>\n",
       "      <td>[50, 4, 120, 114, 28, 13, 252, 62, 28, 13, 252...</td>\n",
       "      <td>[1, 199, 168, 355, 40, 355, 301, 10, 2]</td>\n",
       "      <td>12</td>\n",
       "    </tr>\n",
       "    <tr>\n",
       "      <th>...</th>\n",
       "      <td>...</td>\n",
       "      <td>...</td>\n",
       "      <td>...</td>\n",
       "      <td>...</td>\n",
       "      <td>...</td>\n",
       "      <td>...</td>\n",
       "      <td>...</td>\n",
       "      <td>...</td>\n",
       "    </tr>\n",
       "    <tr>\n",
       "      <th>2994176</th>\n",
       "      <td>kw</td>\n",
       "      <td>요 째그만 한 건 아마 막내 건가 부다 아유 째끄만 해</td>\n",
       "      <td>(아매)/(아마) (끝네미)/(막내)</td>\n",
       "      <td>요 째그만 한 건 아매 끝네미 건가 부다 아유 째끄만 해</td>\n",
       "      <td>&lt;kw&gt; This is probably the youngest Buda Oh its...</td>\n",
       "      <td>[50, 8, 188, 19, 786, 14, 992, 3549, 2478, 62,...</td>\n",
       "      <td>[1, 522, 3462, 364, 48, 33, 126, 4798, 1728, 9...</td>\n",
       "      <td>14</td>\n",
       "    </tr>\n",
       "    <tr>\n",
       "      <th>2994177</th>\n",
       "      <td>kw</td>\n",
       "      <td>내가 진짜 이거 왜 이러나? 나 병든 거 아니나? 진짜?</td>\n",
       "      <td>(이그)/(이거)</td>\n",
       "      <td>내가 진짜 이그 왜 이러나? 나 병든 거 아니나? 진짜?</td>\n",
       "      <td>&lt;kw&gt; Why am I really doing this Isnt I sick Is...</td>\n",
       "      <td>[50, 8, 154, 669, 10, 63, 118, 23, 221, 10, 43...</td>\n",
       "      <td>[1, 39, 44, 991, 102, 1249, 55, 11, 32, 1124, ...</td>\n",
       "      <td>15</td>\n",
       "    </tr>\n",
       "    <tr>\n",
       "      <th>2994178</th>\n",
       "      <td>kw</td>\n",
       "      <td>네 오늘은 없어요 어디 나가시나 보죠?</td>\n",
       "      <td>(어데)/(어디) (부죠?)/(보죠?)</td>\n",
       "      <td>네 오늘은 없어요 어데 나가시나 부죠?</td>\n",
       "      <td>&lt;kw&gt; Yes I dont have it today I guess youre go...</td>\n",
       "      <td>[50, 8, 169, 10, 39, 29, 12, 229, 10, 548, 100...</td>\n",
       "      <td>[1, 302, 1938, 1799, 1019, 189, 165, 55, 383, ...</td>\n",
       "      <td>14</td>\n",
       "    </tr>\n",
       "    <tr>\n",
       "      <th>2994179</th>\n",
       "      <td>kw</td>\n",
       "      <td>막내놈 아르바이트하는데 나 좀 둘러보구요. 사돈댁에 다</td>\n",
       "      <td>(끝네미놈)/(막내놈) (사둔댁에)/(사돈댁에)</td>\n",
       "      <td>끝네미놈 아르바이트하는데 나 좀 둘러보구요. 사둔댁에 다</td>\n",
       "      <td>&lt;kw&gt; The youngest one is working parttime so l...</td>\n",
       "      <td>[50, 8, 78, 992, 77, 19, 360, 411, 22, 223, 11...</td>\n",
       "      <td>[1, 1728, 92, 444, 3201, 2292, 1426, 32, 45, 1...</td>\n",
       "      <td>17</td>\n",
       "    </tr>\n",
       "    <tr>\n",
       "      <th>2994181</th>\n",
       "      <td>kw</td>\n",
       "      <td>저 언니네 지금 안 계실걸요?</td>\n",
       "      <td>(지굼)/(지금)</td>\n",
       "      <td>저 언니네 지굼 안 계실걸요?</td>\n",
       "      <td>&lt;kw&gt; I thont think shes not here right now?</td>\n",
       "      <td>[50, 8, 10, 4600, 345, 32, 1021, 56, 126, 65, ...</td>\n",
       "      <td>[1, 67, 3794, 419, 18, 11280, 687, 72, 11, 2]</td>\n",
       "      <td>12</td>\n",
       "    </tr>\n",
       "  </tbody>\n",
       "</table>\n",
       "<p>2504818 rows × 8 columns</p>\n",
       "</div>"
      ],
      "text/plain": [
       "        reg                                text                        pair  \\\n",
       "0        jj               그 부주를 하기에는 조금 그렇지 않아?                  (안?)/(않아?)   \n",
       "1        jj               그리고 거기서 밥을 먹을지도 모르겠어.              (모르겐.)/(모르겠어.)   \n",
       "2        jj                왜냐하면은 밥이 안 나온다고 들었어.                (들언.)/(들었어.)   \n",
       "3        jj  토요일 날에 토요일날에 잔치를 하고 일요일 날에 식을 올린대.               (올린댄.)/(올린대.)   \n",
       "4        jj                    그럼 어떻게 혼자 아 혼자래.               (혼자랜.)/(혼자래.)   \n",
       "...      ..                                 ...                         ...   \n",
       "2994176  kw      요 째그만 한 건 아마 막내 건가 부다 아유 째끄만 해        (아매)/(아마) (끝네미)/(막내)   \n",
       "2994177  kw     내가 진짜 이거 왜 이러나? 나 병든 거 아니나? 진짜?                   (이그)/(이거)   \n",
       "2994178  kw               네 오늘은 없어요 어디 나가시나 보죠?       (어데)/(어디) (부죠?)/(보죠?)   \n",
       "2994179  kw      막내놈 아르바이트하는데 나 좀 둘러보구요. 사돈댁에 다  (끝네미놈)/(막내놈) (사둔댁에)/(사돈댁에)   \n",
       "2994181  kw                    저 언니네 지금 안 계실걸요?                   (지굼)/(지금)   \n",
       "\n",
       "                                       dial  \\\n",
       "0                      그 부주를 하기에는 조금 그렇지 안?   \n",
       "1                      그리고 거기서 밥을 먹을지도 모르겐.   \n",
       "2                       왜냐하면은 밥이 안 나온다고 들언.   \n",
       "3        토요일 날에 토요일날에 잔치를 하고 일요일 날에 식을 올린댄.   \n",
       "4                          그럼 어떻게 혼자 아 혼자랜.   \n",
       "...                                     ...   \n",
       "2994176     요 째그만 한 건 아매 끝네미 건가 부다 아유 째끄만 해   \n",
       "2994177     내가 진짜 이그 왜 이러나? 나 병든 거 아니나? 진짜?   \n",
       "2994178               네 오늘은 없어요 어데 나가시나 부죠?   \n",
       "2994179     끝네미놈 아르바이트하는데 나 좀 둘러보구요. 사둔댁에 다   \n",
       "2994181                    저 언니네 지굼 안 계실걸요?   \n",
       "\n",
       "                                                       eng  \\\n",
       "0        <jj> Isnt it a little bit like that carelessness?   \n",
       "1         <jj> And I dont even know if Ill eat rice there.   \n",
       "2          <jj> Because I heard that the rice isnt served.   \n",
       "3        <jj> They have a party on Saturday and a cerem...   \n",
       "4            <jj> Then how are you alone Oh are you alone.   \n",
       "...                                                    ...   \n",
       "2994176  <kw> This is probably the youngest Buda Oh its...   \n",
       "2994177  <kw> Why am I really doing this Isnt I sick Is...   \n",
       "2994178  <kw> Yes I dont have it today I guess youre go...   \n",
       "2994179  <kw> The youngest one is working parttime so l...   \n",
       "2994181        <kw> I thont think shes not here right now?   \n",
       "\n",
       "                                                   toks_en  \\\n",
       "0        [50, 4, 221, 12, 11, 26, 79, 18, 17, 295, 1058...   \n",
       "1        [50, 4, 155, 10, 39, 93, 59, 38, 123, 85, 237,...   \n",
       "2         [50, 4, 167, 10, 228, 17, 14, 237, 335, 2489, 3]   \n",
       "3        [50, 4, 211, 29, 11, 1029, 51, 1667, 16, 11, 2...   \n",
       "4        [50, 4, 120, 114, 28, 13, 252, 62, 28, 13, 252...   \n",
       "...                                                    ...   \n",
       "2994176  [50, 8, 188, 19, 786, 14, 992, 3549, 2478, 62,...   \n",
       "2994177  [50, 8, 154, 669, 10, 63, 118, 23, 221, 10, 43...   \n",
       "2994178  [50, 8, 169, 10, 39, 29, 12, 229, 10, 548, 100...   \n",
       "2994179  [50, 8, 78, 992, 77, 19, 360, 411, 22, 223, 11...   \n",
       "2994181  [50, 8, 10, 4600, 345, 32, 1021, 56, 126, 65, ...   \n",
       "\n",
       "                                                  toks_dec  tok_len  \n",
       "0           [1, 14, 10161, 37, 8398, 451, 1056, 18, 11, 2]       12  \n",
       "1               [1, 115, 324, 1383, 388, 617, 1502, 10, 2]       13  \n",
       "2             [1, 983, 31, 292, 12, 18, 9406, 2537, 10, 2]       11  \n",
       "3        [1, 4331, 5172, 11561, 25, 3767, 37, 59, 4258,...       14  \n",
       "4                  [1, 199, 168, 355, 40, 355, 301, 10, 2]       12  \n",
       "...                                                    ...      ...  \n",
       "2994176  [1, 522, 3462, 364, 48, 33, 126, 4798, 1728, 9...       14  \n",
       "2994177  [1, 39, 44, 991, 102, 1249, 55, 11, 32, 1124, ...       15  \n",
       "2994178  [1, 302, 1938, 1799, 1019, 189, 165, 55, 383, ...       14  \n",
       "2994179  [1, 1728, 92, 444, 3201, 2292, 1426, 32, 45, 1...       17  \n",
       "2994181      [1, 67, 3794, 419, 18, 11280, 687, 72, 11, 2]       12  \n",
       "\n",
       "[2504818 rows x 8 columns]"
      ]
     },
     "execution_count": 8,
     "metadata": {},
     "output_type": "execute_result"
    }
   ],
   "source": [
    "full_data"
   ]
  },
  {
   "cell_type": "code",
   "execution_count": 9,
   "id": "8ba0f2c6",
   "metadata": {},
   "outputs": [
    {
     "data": {
      "text/plain": [
       "reg\n",
       "cc    16.255961\n",
       "gs    15.302088\n",
       "jd    14.743256\n",
       "jj    12.290794\n",
       "kw    12.304422\n",
       "Name: tok_len, dtype: float64"
      ]
     },
     "execution_count": 9,
     "metadata": {},
     "output_type": "execute_result"
    }
   ],
   "source": [
    "full_data.groupby(full_data['reg'])['tok_len'].mean()"
   ]
  },
  {
   "cell_type": "code",
   "execution_count": 10,
   "id": "cde2307a",
   "metadata": {},
   "outputs": [],
   "source": [
    "full_data['tok_cat'] = pd.qcut(full_data['tok_len'], [0,0.9,0.9999,1],labels =[1,2,3])"
   ]
  },
  {
   "cell_type": "code",
   "execution_count": 11,
   "id": "da42b678",
   "metadata": {},
   "outputs": [
    {
     "data": {
      "text/html": [
       "<div>\n",
       "<style scoped>\n",
       "    .dataframe tbody tr th:only-of-type {\n",
       "        vertical-align: middle;\n",
       "    }\n",
       "\n",
       "    .dataframe tbody tr th {\n",
       "        vertical-align: top;\n",
       "    }\n",
       "\n",
       "    .dataframe thead th {\n",
       "        text-align: right;\n",
       "    }\n",
       "</style>\n",
       "<table border=\"1\" class=\"dataframe\">\n",
       "  <thead>\n",
       "    <tr style=\"text-align: right;\">\n",
       "      <th></th>\n",
       "      <th>reg</th>\n",
       "      <th>text</th>\n",
       "      <th>pair</th>\n",
       "      <th>dial</th>\n",
       "      <th>eng</th>\n",
       "      <th>toks_en</th>\n",
       "      <th>toks_dec</th>\n",
       "      <th>tok_len</th>\n",
       "      <th>tok_cat</th>\n",
       "    </tr>\n",
       "  </thead>\n",
       "  <tbody>\n",
       "    <tr>\n",
       "      <th>0</th>\n",
       "      <td>jj</td>\n",
       "      <td>그 부주를 하기에는 조금 그렇지 않아?</td>\n",
       "      <td>(안?)/(않아?)</td>\n",
       "      <td>그 부주를 하기에는 조금 그렇지 안?</td>\n",
       "      <td>&lt;jj&gt; Isnt it a little bit like that carelessness?</td>\n",
       "      <td>[50, 4, 221, 12, 11, 26, 79, 18, 17, 295, 1058...</td>\n",
       "      <td>[1, 14, 10161, 37, 8398, 451, 1056, 18, 11, 2]</td>\n",
       "      <td>12</td>\n",
       "      <td>1</td>\n",
       "    </tr>\n",
       "    <tr>\n",
       "      <th>1</th>\n",
       "      <td>jj</td>\n",
       "      <td>그리고 거기서 밥을 먹을지도 모르겠어.</td>\n",
       "      <td>(모르겐.)/(모르겠어.)</td>\n",
       "      <td>그리고 거기서 밥을 먹을지도 모르겐.</td>\n",
       "      <td>&lt;jj&gt; And I dont even know if Ill eat rice there.</td>\n",
       "      <td>[50, 4, 155, 10, 39, 93, 59, 38, 123, 85, 237,...</td>\n",
       "      <td>[1, 115, 324, 1383, 388, 617, 1502, 10, 2]</td>\n",
       "      <td>13</td>\n",
       "      <td>1</td>\n",
       "    </tr>\n",
       "    <tr>\n",
       "      <th>2</th>\n",
       "      <td>jj</td>\n",
       "      <td>왜냐하면은 밥이 안 나온다고 들었어.</td>\n",
       "      <td>(들언.)/(들었어.)</td>\n",
       "      <td>왜냐하면은 밥이 안 나온다고 들언.</td>\n",
       "      <td>&lt;jj&gt; Because I heard that the rice isnt served.</td>\n",
       "      <td>[50, 4, 167, 10, 228, 17, 14, 237, 335, 2489, 3]</td>\n",
       "      <td>[1, 983, 31, 292, 12, 18, 9406, 2537, 10, 2]</td>\n",
       "      <td>11</td>\n",
       "      <td>1</td>\n",
       "    </tr>\n",
       "    <tr>\n",
       "      <th>3</th>\n",
       "      <td>jj</td>\n",
       "      <td>토요일 날에 토요일날에 잔치를 하고 일요일 날에 식을 올린대.</td>\n",
       "      <td>(올린댄.)/(올린대.)</td>\n",
       "      <td>토요일 날에 토요일날에 잔치를 하고 일요일 날에 식을 올린댄.</td>\n",
       "      <td>&lt;jj&gt; They have a party on Saturday and a cerem...</td>\n",
       "      <td>[50, 4, 211, 29, 11, 1029, 51, 1667, 16, 11, 2...</td>\n",
       "      <td>[1, 4331, 5172, 11561, 25, 3767, 37, 59, 4258,...</td>\n",
       "      <td>14</td>\n",
       "      <td>1</td>\n",
       "    </tr>\n",
       "    <tr>\n",
       "      <th>4</th>\n",
       "      <td>jj</td>\n",
       "      <td>그럼 어떻게 혼자 아 혼자래.</td>\n",
       "      <td>(혼자랜.)/(혼자래.)</td>\n",
       "      <td>그럼 어떻게 혼자 아 혼자랜.</td>\n",
       "      <td>&lt;jj&gt; Then how are you alone Oh are you alone.</td>\n",
       "      <td>[50, 4, 120, 114, 28, 13, 252, 62, 28, 13, 252...</td>\n",
       "      <td>[1, 199, 168, 355, 40, 355, 301, 10, 2]</td>\n",
       "      <td>12</td>\n",
       "      <td>1</td>\n",
       "    </tr>\n",
       "    <tr>\n",
       "      <th>...</th>\n",
       "      <td>...</td>\n",
       "      <td>...</td>\n",
       "      <td>...</td>\n",
       "      <td>...</td>\n",
       "      <td>...</td>\n",
       "      <td>...</td>\n",
       "      <td>...</td>\n",
       "      <td>...</td>\n",
       "      <td>...</td>\n",
       "    </tr>\n",
       "    <tr>\n",
       "      <th>2994176</th>\n",
       "      <td>kw</td>\n",
       "      <td>요 째그만 한 건 아마 막내 건가 부다 아유 째끄만 해</td>\n",
       "      <td>(아매)/(아마) (끝네미)/(막내)</td>\n",
       "      <td>요 째그만 한 건 아매 끝네미 건가 부다 아유 째끄만 해</td>\n",
       "      <td>&lt;kw&gt; This is probably the youngest Buda Oh its...</td>\n",
       "      <td>[50, 8, 188, 19, 786, 14, 992, 3549, 2478, 62,...</td>\n",
       "      <td>[1, 522, 3462, 364, 48, 33, 126, 4798, 1728, 9...</td>\n",
       "      <td>14</td>\n",
       "      <td>1</td>\n",
       "    </tr>\n",
       "    <tr>\n",
       "      <th>2994177</th>\n",
       "      <td>kw</td>\n",
       "      <td>내가 진짜 이거 왜 이러나? 나 병든 거 아니나? 진짜?</td>\n",
       "      <td>(이그)/(이거)</td>\n",
       "      <td>내가 진짜 이그 왜 이러나? 나 병든 거 아니나? 진짜?</td>\n",
       "      <td>&lt;kw&gt; Why am I really doing this Isnt I sick Is...</td>\n",
       "      <td>[50, 8, 154, 669, 10, 63, 118, 23, 221, 10, 43...</td>\n",
       "      <td>[1, 39, 44, 991, 102, 1249, 55, 11, 32, 1124, ...</td>\n",
       "      <td>15</td>\n",
       "      <td>1</td>\n",
       "    </tr>\n",
       "    <tr>\n",
       "      <th>2994178</th>\n",
       "      <td>kw</td>\n",
       "      <td>네 오늘은 없어요 어디 나가시나 보죠?</td>\n",
       "      <td>(어데)/(어디) (부죠?)/(보죠?)</td>\n",
       "      <td>네 오늘은 없어요 어데 나가시나 부죠?</td>\n",
       "      <td>&lt;kw&gt; Yes I dont have it today I guess youre go...</td>\n",
       "      <td>[50, 8, 169, 10, 39, 29, 12, 229, 10, 548, 100...</td>\n",
       "      <td>[1, 302, 1938, 1799, 1019, 189, 165, 55, 383, ...</td>\n",
       "      <td>14</td>\n",
       "      <td>1</td>\n",
       "    </tr>\n",
       "    <tr>\n",
       "      <th>2994179</th>\n",
       "      <td>kw</td>\n",
       "      <td>막내놈 아르바이트하는데 나 좀 둘러보구요. 사돈댁에 다</td>\n",
       "      <td>(끝네미놈)/(막내놈) (사둔댁에)/(사돈댁에)</td>\n",
       "      <td>끝네미놈 아르바이트하는데 나 좀 둘러보구요. 사둔댁에 다</td>\n",
       "      <td>&lt;kw&gt; The youngest one is working parttime so l...</td>\n",
       "      <td>[50, 8, 78, 992, 77, 19, 360, 411, 22, 223, 11...</td>\n",
       "      <td>[1, 1728, 92, 444, 3201, 2292, 1426, 32, 45, 1...</td>\n",
       "      <td>17</td>\n",
       "      <td>1</td>\n",
       "    </tr>\n",
       "    <tr>\n",
       "      <th>2994181</th>\n",
       "      <td>kw</td>\n",
       "      <td>저 언니네 지금 안 계실걸요?</td>\n",
       "      <td>(지굼)/(지금)</td>\n",
       "      <td>저 언니네 지굼 안 계실걸요?</td>\n",
       "      <td>&lt;kw&gt; I thont think shes not here right now?</td>\n",
       "      <td>[50, 8, 10, 4600, 345, 32, 1021, 56, 126, 65, ...</td>\n",
       "      <td>[1, 67, 3794, 419, 18, 11280, 687, 72, 11, 2]</td>\n",
       "      <td>12</td>\n",
       "      <td>1</td>\n",
       "    </tr>\n",
       "  </tbody>\n",
       "</table>\n",
       "<p>2504818 rows × 9 columns</p>\n",
       "</div>"
      ],
      "text/plain": [
       "        reg                                text                        pair  \\\n",
       "0        jj               그 부주를 하기에는 조금 그렇지 않아?                  (안?)/(않아?)   \n",
       "1        jj               그리고 거기서 밥을 먹을지도 모르겠어.              (모르겐.)/(모르겠어.)   \n",
       "2        jj                왜냐하면은 밥이 안 나온다고 들었어.                (들언.)/(들었어.)   \n",
       "3        jj  토요일 날에 토요일날에 잔치를 하고 일요일 날에 식을 올린대.               (올린댄.)/(올린대.)   \n",
       "4        jj                    그럼 어떻게 혼자 아 혼자래.               (혼자랜.)/(혼자래.)   \n",
       "...      ..                                 ...                         ...   \n",
       "2994176  kw      요 째그만 한 건 아마 막내 건가 부다 아유 째끄만 해        (아매)/(아마) (끝네미)/(막내)   \n",
       "2994177  kw     내가 진짜 이거 왜 이러나? 나 병든 거 아니나? 진짜?                   (이그)/(이거)   \n",
       "2994178  kw               네 오늘은 없어요 어디 나가시나 보죠?       (어데)/(어디) (부죠?)/(보죠?)   \n",
       "2994179  kw      막내놈 아르바이트하는데 나 좀 둘러보구요. 사돈댁에 다  (끝네미놈)/(막내놈) (사둔댁에)/(사돈댁에)   \n",
       "2994181  kw                    저 언니네 지금 안 계실걸요?                   (지굼)/(지금)   \n",
       "\n",
       "                                       dial  \\\n",
       "0                      그 부주를 하기에는 조금 그렇지 안?   \n",
       "1                      그리고 거기서 밥을 먹을지도 모르겐.   \n",
       "2                       왜냐하면은 밥이 안 나온다고 들언.   \n",
       "3        토요일 날에 토요일날에 잔치를 하고 일요일 날에 식을 올린댄.   \n",
       "4                          그럼 어떻게 혼자 아 혼자랜.   \n",
       "...                                     ...   \n",
       "2994176     요 째그만 한 건 아매 끝네미 건가 부다 아유 째끄만 해   \n",
       "2994177     내가 진짜 이그 왜 이러나? 나 병든 거 아니나? 진짜?   \n",
       "2994178               네 오늘은 없어요 어데 나가시나 부죠?   \n",
       "2994179     끝네미놈 아르바이트하는데 나 좀 둘러보구요. 사둔댁에 다   \n",
       "2994181                    저 언니네 지굼 안 계실걸요?   \n",
       "\n",
       "                                                       eng  \\\n",
       "0        <jj> Isnt it a little bit like that carelessness?   \n",
       "1         <jj> And I dont even know if Ill eat rice there.   \n",
       "2          <jj> Because I heard that the rice isnt served.   \n",
       "3        <jj> They have a party on Saturday and a cerem...   \n",
       "4            <jj> Then how are you alone Oh are you alone.   \n",
       "...                                                    ...   \n",
       "2994176  <kw> This is probably the youngest Buda Oh its...   \n",
       "2994177  <kw> Why am I really doing this Isnt I sick Is...   \n",
       "2994178  <kw> Yes I dont have it today I guess youre go...   \n",
       "2994179  <kw> The youngest one is working parttime so l...   \n",
       "2994181        <kw> I thont think shes not here right now?   \n",
       "\n",
       "                                                   toks_en  \\\n",
       "0        [50, 4, 221, 12, 11, 26, 79, 18, 17, 295, 1058...   \n",
       "1        [50, 4, 155, 10, 39, 93, 59, 38, 123, 85, 237,...   \n",
       "2         [50, 4, 167, 10, 228, 17, 14, 237, 335, 2489, 3]   \n",
       "3        [50, 4, 211, 29, 11, 1029, 51, 1667, 16, 11, 2...   \n",
       "4        [50, 4, 120, 114, 28, 13, 252, 62, 28, 13, 252...   \n",
       "...                                                    ...   \n",
       "2994176  [50, 8, 188, 19, 786, 14, 992, 3549, 2478, 62,...   \n",
       "2994177  [50, 8, 154, 669, 10, 63, 118, 23, 221, 10, 43...   \n",
       "2994178  [50, 8, 169, 10, 39, 29, 12, 229, 10, 548, 100...   \n",
       "2994179  [50, 8, 78, 992, 77, 19, 360, 411, 22, 223, 11...   \n",
       "2994181  [50, 8, 10, 4600, 345, 32, 1021, 56, 126, 65, ...   \n",
       "\n",
       "                                                  toks_dec  tok_len tok_cat  \n",
       "0           [1, 14, 10161, 37, 8398, 451, 1056, 18, 11, 2]       12       1  \n",
       "1               [1, 115, 324, 1383, 388, 617, 1502, 10, 2]       13       1  \n",
       "2             [1, 983, 31, 292, 12, 18, 9406, 2537, 10, 2]       11       1  \n",
       "3        [1, 4331, 5172, 11561, 25, 3767, 37, 59, 4258,...       14       1  \n",
       "4                  [1, 199, 168, 355, 40, 355, 301, 10, 2]       12       1  \n",
       "...                                                    ...      ...     ...  \n",
       "2994176  [1, 522, 3462, 364, 48, 33, 126, 4798, 1728, 9...       14       1  \n",
       "2994177  [1, 39, 44, 991, 102, 1249, 55, 11, 32, 1124, ...       15       1  \n",
       "2994178  [1, 302, 1938, 1799, 1019, 189, 165, 55, 383, ...       14       1  \n",
       "2994179  [1, 1728, 92, 444, 3201, 2292, 1426, 32, 45, 1...       17       1  \n",
       "2994181      [1, 67, 3794, 419, 18, 11280, 687, 72, 11, 2]       12       1  \n",
       "\n",
       "[2504818 rows x 9 columns]"
      ]
     },
     "execution_count": 11,
     "metadata": {},
     "output_type": "execute_result"
    }
   ],
   "source": [
    "full_data"
   ]
  },
  {
   "cell_type": "code",
   "execution_count": 12,
   "id": "2af0518a",
   "metadata": {},
   "outputs": [
    {
     "data": {
      "text/plain": [
       "2064       34\n",
       "30607      35\n",
       "51379      35\n",
       "131129     34\n",
       "138700     36\n",
       "           ..\n",
       "2846670    35\n",
       "2923186    34\n",
       "2936943    34\n",
       "2966137    36\n",
       "2970311    39\n",
       "Name: tok_len, Length: 164, dtype: int64"
      ]
     },
     "execution_count": 12,
     "metadata": {},
     "output_type": "execute_result"
    }
   ],
   "source": [
    "full_data.loc[full_data['tok_cat']==3,'tok_len']"
   ]
  },
  {
   "cell_type": "code",
   "execution_count": 13,
   "id": "bfc2da37",
   "metadata": {},
   "outputs": [
    {
     "data": {
      "text/plain": [
       "164"
      ]
     },
     "execution_count": 13,
     "metadata": {},
     "output_type": "execute_result"
    }
   ],
   "source": [
    "len(full_data.loc[full_data['tok_cat']==3,'tok_len'])"
   ]
  },
  {
   "cell_type": "code",
   "execution_count": 14,
   "id": "7cbe02d9",
   "metadata": {},
   "outputs": [
    {
     "data": {
      "text/plain": [
       "min    34\n",
       "max    46\n",
       "Name: tok_len, dtype: int64"
      ]
     },
     "execution_count": 14,
     "metadata": {},
     "output_type": "execute_result"
    }
   ],
   "source": [
    "full_data.loc[full_data['tok_cat']==3,'tok_len'].agg([min,max])"
   ]
  },
  {
   "cell_type": "code",
   "execution_count": 15,
   "id": "f472b3d4",
   "metadata": {},
   "outputs": [
    {
     "data": {
      "text/plain": [
       "True"
      ]
     },
     "execution_count": 15,
     "metadata": {},
     "output_type": "execute_result"
    }
   ],
   "source": [
    "data_path = os.getenv('HOME') + '/workspace/saturi/'\n",
    "sizes = 16009\n",
    "SRC_VOCAB_SIZE = sizes\n",
    "TGT_VOCAB_SIZE = sizes\n",
    "\n",
    "enc_tokenizer = spm.SentencePieceProcessor()\n",
    "enc_tokenizer.Load(data_path+'spm_enc_spm16000.model')\n",
    "\n",
    "dec_tokenizer = spm.SentencePieceProcessor()\n",
    "dec_tokenizer.Load(data_path+f'spm_dec_{tokenizer_name}16000.model')\n",
    "\n",
    "dec_tokenizer.set_encode_extra_options(\"bos:eos\")"
   ]
  },
  {
   "cell_type": "markdown",
   "id": "2d62d755",
   "metadata": {},
   "source": [
    "# Step 2. 모델 불러오기"
   ]
  },
  {
   "cell_type": "code",
   "execution_count": 16,
   "id": "24296d85",
   "metadata": {},
   "outputs": [
    {
     "name": "stderr",
     "output_type": "stream",
     "text": [
      "\u001b[34m\u001b[1mwandb\u001b[0m: Currently logged in as: \u001b[33maeolian83\u001b[0m (\u001b[33msaturi-lab\u001b[0m). Use \u001b[1m`wandb login --relogin`\u001b[0m to force relogin\n"
     ]
    },
    {
     "data": {
      "text/plain": [
       "True"
      ]
     },
     "execution_count": 16,
     "metadata": {},
     "output_type": "execute_result"
    }
   ],
   "source": [
    "import wandb\n",
    "wandb.login()"
   ]
  },
  {
   "cell_type": "code",
   "execution_count": 17,
   "id": "da9f9499",
   "metadata": {},
   "outputs": [
    {
     "data": {
      "text/html": [
       "wandb version 0.15.3 is available!  To upgrade, please run:\n",
       " $ pip install wandb --upgrade"
      ],
      "text/plain": [
       "<IPython.core.display.HTML object>"
      ]
     },
     "metadata": {},
     "output_type": "display_data"
    },
    {
     "data": {
      "text/html": [
       "Tracking run with wandb version 0.15.2"
      ],
      "text/plain": [
       "<IPython.core.display.HTML object>"
      ]
     },
     "metadata": {},
     "output_type": "display_data"
    },
    {
     "data": {
      "text/html": [
       "Run data is saved locally in <code>/home/aeolian83/workspace/saturi/wandb/run-20230601_224524-uver42oz</code>"
      ],
      "text/plain": [
       "<IPython.core.display.HTML object>"
      ]
     },
     "metadata": {},
     "output_type": "display_data"
    },
    {
     "data": {
      "text/html": [
       "Syncing run <strong><a href='https://wandb.ai/saturi-lab/saturi_v_transformer_new_corpus/runs/uver42oz' target=\"_blank\">gallant-mountain-5</a></strong> to <a href='https://wandb.ai/saturi-lab/saturi_v_transformer_new_corpus' target=\"_blank\">Weights & Biases</a> (<a href='https://wandb.me/run' target=\"_blank\">docs</a>)<br/>"
      ],
      "text/plain": [
       "<IPython.core.display.HTML object>"
      ]
     },
     "metadata": {},
     "output_type": "display_data"
    },
    {
     "data": {
      "text/html": [
       " View project at <a href='https://wandb.ai/saturi-lab/saturi_v_transformer_new_corpus' target=\"_blank\">https://wandb.ai/saturi-lab/saturi_v_transformer_new_corpus</a>"
      ],
      "text/plain": [
       "<IPython.core.display.HTML object>"
      ]
     },
     "metadata": {},
     "output_type": "display_data"
    },
    {
     "data": {
      "text/html": [
       " View run at <a href='https://wandb.ai/saturi-lab/saturi_v_transformer_new_corpus/runs/uver42oz' target=\"_blank\">https://wandb.ai/saturi-lab/saturi_v_transformer_new_corpus/runs/uver42oz</a>"
      ],
      "text/plain": [
       "<IPython.core.display.HTML object>"
      ]
     },
     "metadata": {},
     "output_type": "display_data"
    }
   ],
   "source": [
    "#wandb 설정\n",
    "warmups = 8500\n",
    "project_name = 'saturi_v_transformer_new_corpus'\n",
    "run  = wandb.init(project = project_name ,\n",
    "                  entity = 'saturi-lab',\n",
    "                  config = {\n",
    "                      'model_name':'Vanilla_Transformer',\n",
    "                      'n_layers':6,\n",
    "                      'd_model':512,\n",
    "                      'n_heads':8,\n",
    "                      'd_ff':2048,\n",
    "                      'src_vocab_size':SRC_VOCAB_SIZE,\n",
    "                      'tgt_vocab_size':TGT_VOCAB_SIZE,\n",
    "                      'pos_len': 512,\n",
    "                      'dropout':0.2,\n",
    "                      'shared':True,\n",
    "                      'warmups' : warmups,\n",
    "                      'epochs':1,\n",
    "                      'optimizer' :'ADAM',\n",
    "                      'loss' : 'SparseCategoricalCrossentropy',\n",
    "                      'metric' : 'bleu'\n",
    "                  })\n",
    "config = wandb.config"
   ]
  },
  {
   "cell_type": "code",
   "execution_count": 18,
   "id": "3c0d31e1",
   "metadata": {},
   "outputs": [],
   "source": [
    "# config = {\n",
    "#             'model_name':'Vanilla_Transformer',\n",
    "#             'n_layers':6,\n",
    "#             'd_model':512,\n",
    "#             'n_heads':8,\n",
    "#             'd_ff':2048,\n",
    "#             'src_vocab_size':SRC_VOCAB_SIZE,\n",
    "#             'tgt_vocab_size':TGT_VOCAB_SIZE,\n",
    "#             'pos_len': 512,\n",
    "#             'dropout':0.2,\n",
    "#             'shared':True,\n",
    "#             'warmups' : warmups,\n",
    "#             'epochs':1,\n",
    "#             'optimizer' :'ADAM',\n",
    "#             'loss' : 'SparseCategoricalCrossentropy',\n",
    "#             'metric' : 'bleu'\n",
    "#                   }"
   ]
  },
  {
   "cell_type": "code",
   "execution_count": 19,
   "id": "b91b5c10",
   "metadata": {},
   "outputs": [],
   "source": [
    "import sys\n",
    "sys.path.insert(0,os.getenv('HOME') + '/aiffel/saturi/MODEL/') # vanilla transformer 파일경로에서 불러오기 위해 설정\n",
    "sys.path.insert(0,os.getenv('HOME') + '/aiffel/saturi/PRE/')\n",
    "sys.path.insert(0,os.getenv('HOME') + '/aiffel/saturi/POST/')"
   ]
  },
  {
   "cell_type": "code",
   "execution_count": 20,
   "id": "e8b6fe54",
   "metadata": {},
   "outputs": [
    {
     "name": "stderr",
     "output_type": "stream",
     "text": [
      "2023-06-01 22:45:27.666265: I tensorflow/stream_executor/cuda/cuda_gpu_executor.cc:936] successful NUMA node read from SysFS had negative value (-1), but there must be at least one NUMA node, so returning NUMA node zero\n",
      "2023-06-01 22:45:27.671654: I tensorflow/stream_executor/cuda/cuda_gpu_executor.cc:936] successful NUMA node read from SysFS had negative value (-1), but there must be at least one NUMA node, so returning NUMA node zero\n",
      "2023-06-01 22:45:27.671767: I tensorflow/stream_executor/cuda/cuda_gpu_executor.cc:936] successful NUMA node read from SysFS had negative value (-1), but there must be at least one NUMA node, so returning NUMA node zero\n",
      "2023-06-01 22:45:27.672866: I tensorflow/core/platform/cpu_feature_guard.cc:151] This TensorFlow binary is optimized with oneAPI Deep Neural Network Library (oneDNN) to use the following CPU instructions in performance-critical operations:  AVX2 FMA\n",
      "To enable them in other operations, rebuild TensorFlow with the appropriate compiler flags.\n",
      "2023-06-01 22:45:27.673956: I tensorflow/stream_executor/cuda/cuda_gpu_executor.cc:936] successful NUMA node read from SysFS had negative value (-1), but there must be at least one NUMA node, so returning NUMA node zero\n",
      "2023-06-01 22:45:27.674059: I tensorflow/stream_executor/cuda/cuda_gpu_executor.cc:936] successful NUMA node read from SysFS had negative value (-1), but there must be at least one NUMA node, so returning NUMA node zero\n",
      "2023-06-01 22:45:27.674117: I tensorflow/stream_executor/cuda/cuda_gpu_executor.cc:936] successful NUMA node read from SysFS had negative value (-1), but there must be at least one NUMA node, so returning NUMA node zero\n",
      "2023-06-01 22:45:28.100293: I tensorflow/stream_executor/cuda/cuda_gpu_executor.cc:936] successful NUMA node read from SysFS had negative value (-1), but there must be at least one NUMA node, so returning NUMA node zero\n",
      "2023-06-01 22:45:28.100488: I tensorflow/stream_executor/cuda/cuda_gpu_executor.cc:936] successful NUMA node read from SysFS had negative value (-1), but there must be at least one NUMA node, so returning NUMA node zero\n",
      "2023-06-01 22:45:28.100556: I tensorflow/stream_executor/cuda/cuda_gpu_executor.cc:936] successful NUMA node read from SysFS had negative value (-1), but there must be at least one NUMA node, so returning NUMA node zero\n",
      "2023-06-01 22:45:28.100635: I tensorflow/core/common_runtime/gpu/gpu_device.cc:1525] Created device /job:localhost/replica:0/task:0/device:GPU:0 with 22185 MB memory:  -> device: 0, name: NVIDIA GeForce RTX 3090, pci bus id: 0000:2e:00.0, compute capability: 8.6\n"
     ]
    }
   ],
   "source": [
    "from vanilla_transformer import Transformer, generate_masks\n",
    "\n",
    "transformer = Transformer(\n",
    "    n_layers=config.n_layers,\n",
    "    d_model=config.d_model,\n",
    "    n_heads=config.n_heads,\n",
    "    d_ff=config.d_ff,\n",
    "    src_vocab_size=config.src_vocab_size,\n",
    "    tgt_vocab_size=config.tgt_vocab_size,\n",
    "    pos_len=config.pos_len,\n",
    "    dropout=config.dropout,\n",
    "    shared=config.shared\n",
    ")"
   ]
  },
  {
   "cell_type": "code",
   "execution_count": 21,
   "id": "db6ea51f",
   "metadata": {},
   "outputs": [],
   "source": [
    "# from vanilla_transformer import Transformer, generate_masks\n",
    "\n",
    "# transformer = Transformer(\n",
    "#     n_layers=config['n_layers'],\n",
    "#     d_model=config['d_model'],\n",
    "#     n_heads=config['n_heads'],\n",
    "#     d_ff=config['d_ff'],\n",
    "#     src_vocab_size=config['src_vocab_size'],\n",
    "#     tgt_vocab_size=config['tgt_vocab_size'],\n",
    "#     pos_len=config['pos_len'],\n",
    "#     dropout=config['dropout'],\n",
    "#     shared=config['shared']\n",
    "# )"
   ]
  },
  {
   "cell_type": "markdown",
   "id": "3730286e",
   "metadata": {},
   "source": [
    "## Learning Rate Scheduler를 선언하고, 이를 포함하는 Adam Optimazer를 선언"
   ]
  },
  {
   "cell_type": "code",
   "execution_count": 22,
   "id": "bd64ea1e",
   "metadata": {},
   "outputs": [],
   "source": [
    "class LearningRateScheduler(tf.keras.optimizers.schedules.LearningRateSchedule):\n",
    "    def __init__(self, d_model, warmup_steps=config['warmups']):\n",
    "        super(LearningRateScheduler, self).__init__()\n",
    "        self.d_model = d_model\n",
    "        self.warmup_steps = warmup_steps\n",
    "    \n",
    "    def __call__(self, step):\n",
    "        arg1 = step ** np.array(-0.5)\n",
    "        arg2 = step * np.array(self.warmup_steps ** -1.5)\n",
    "        \n",
    "        return np.array(self.d_model ** -0.5) * tf.math.minimum(arg1, arg2)"
   ]
  },
  {
   "cell_type": "code",
   "execution_count": 23,
   "id": "b4a905aa",
   "metadata": {},
   "outputs": [],
   "source": [
    "learningrate = LearningRateScheduler(512)"
   ]
  },
  {
   "cell_type": "code",
   "execution_count": 24,
   "id": "4ad4d1c3",
   "metadata": {},
   "outputs": [],
   "source": [
    "optimizer = tf.keras.optimizers.Adam(learningrate, beta_1=0.9, beta_2=0.98, epsilon=1e-9)"
   ]
  },
  {
   "cell_type": "markdown",
   "id": "415a9d83",
   "metadata": {},
   "source": [
    "## Loss 함수를 정의\n",
    "- loss 함수에서 mask는 어떤 역활을 하는가?\n",
    "- tf.reduce_sum의 기능에 대해 확인"
   ]
  },
  {
   "cell_type": "code",
   "execution_count": 25,
   "id": "e6f0df05",
   "metadata": {},
   "outputs": [],
   "source": [
    "# Loss 함수 정의\n",
    "loss_object = tf.keras.losses.SparseCategoricalCrossentropy(from_logits=True, reduction='none')\n",
    "\n",
    "def loss_function(real, pred):\n",
    "    # 로스함수에서  mask는 어떤 역활을 하는가?\n",
    "    mask = tf.math.logical_not(tf.math.equal(real, 0))\n",
    "    loss_ = loss_object(real, pred)\n",
    "\n",
    "    # Masking 되지 않은 입력의 개수로 Scaling하는 과정\n",
    "    mask = tf.cast(mask, dtype=loss_.dtype)\n",
    "    loss_ *= mask\n",
    "\n",
    "    return tf.reduce_sum(loss_)/tf.reduce_sum(mask)"
   ]
  },
  {
   "cell_type": "markdown",
   "id": "e0ae3f4d",
   "metadata": {},
   "source": [
    "## train_step 함수를 정의"
   ]
  },
  {
   "cell_type": "code",
   "execution_count": 26,
   "id": "c6870a88",
   "metadata": {},
   "outputs": [],
   "source": [
    "@tf.function()\n",
    "def train_step(src, tgt, model, optimizer):\n",
    "    gold = tgt[:, 1:]\n",
    "        \n",
    "    enc_mask, dec_enc_mask, dec_mask = generate_masks(src, tgt)\n",
    "\n",
    "    # 계산된 loss에 tf.GradientTape()를 적용해 학습을 진행합니다.\n",
    "    with tf.GradientTape() as tape:\n",
    "        predictions, enc_attns, dec_attns, dec_enc_attns = model(src, tgt, enc_mask, dec_enc_mask, dec_mask)\n",
    "        loss = loss_function(gold, predictions[:, :-1])\n",
    "\n",
    "    # 최종적으로 optimizer.apply_gradients()가 사용됩니다. \n",
    "    gradients = tape.gradient(loss, model.trainable_variables)    \n",
    "    optimizer.apply_gradients(zip(gradients, model.trainable_variables))\n",
    "    \n",
    "    \n",
    "    return loss, enc_attns, dec_attns, dec_enc_attns, predictions"
   ]
  },
  {
   "cell_type": "code",
   "execution_count": 27,
   "id": "3c6f0154",
   "metadata": {},
   "outputs": [],
   "source": [
    "# Validating the model\n",
    "@tf.function\n",
    "def model_validate(src, tgt, model):\n",
    "    gold = tgt[:, 1:]\n",
    "        \n",
    "    enc_mask, dec_enc_mask, dec_mask = generate_masks(src, tgt)\n",
    "    predictions, enc_attns, dec_attns, dec_enc_attns = model(src, tgt, enc_mask, dec_enc_mask, dec_mask)\n",
    "    v_loss = loss_function(gold, predictions[:, :-1])\n",
    "    \n",
    "    return v_loss, predictions"
   ]
  },
  {
   "cell_type": "code",
   "execution_count": 28,
   "id": "097dff5e",
   "metadata": {},
   "outputs": [],
   "source": [
    "# 학습 매니저 설정\n",
    "from evaluation import evaluate, compute_metric, translate\n",
    "full_data = full_data.sample(frac=1).copy()"
   ]
  },
  {
   "cell_type": "code",
   "execution_count": 29,
   "id": "24c11690",
   "metadata": {},
   "outputs": [],
   "source": [
    "def train_and_checkpoint(transformer, manager, EPOCHS):\n",
    "    ckpt.restore(manager.latest_checkpoint)\n",
    "    if manager.latest_checkpoint:\n",
    "        print(\"Restored from {}\".format(manager.latest_checkpoint))\n",
    "    \n",
    "    else:\n",
    "        print(\"Initializing from scratch.\")\n",
    "\n",
    "\n",
    "    for epoch in range(EPOCHS):\n",
    "        \n",
    "        batch_size = 64\n",
    "        buckets = iter(reversed(full_data['tok_cat'].unique().tolist()))\n",
    "\n",
    "        for bucket in buckets :\n",
    "            total_loss = 0     \n",
    "            \n",
    "            src_corpus = full_data.loc[full_data['tok_cat']==bucket,'toks_en'].values\n",
    "            tgt_corpus = full_data.loc[full_data['tok_cat']==bucket,'toks_dec'].values\n",
    "            src_valid_corpus = full_data_test['toks_en'].values\n",
    "            tgt_valid_corpus = full_data_test['toks_dec'].values\n",
    "            max_len = full_data.loc[full_data['tok_cat']==bucket,'tok_len'].max()\n",
    "\n",
    "            if max_len > 380 :\n",
    "                batch_size = 8\n",
    "\n",
    "            if max_len > 512 : \n",
    "                max_len = 512\n",
    "\n",
    "\n",
    "            enc_train = tf.keras.preprocessing.sequence.pad_sequences(src_corpus, padding='post', maxlen=max_len)\n",
    "            dec_train = tf.keras.preprocessing.sequence.pad_sequences(tgt_corpus, padding='post', maxlen=max_len)\n",
    "            enc_test = tf.keras.preprocessing.sequence.pad_sequences(src_valid_corpus, padding='post', maxlen=max_len)\n",
    "            dec_test = tf.keras.preprocessing.sequence.pad_sequences(tgt_valid_corpus, padding='post', maxlen=max_len)\n",
    "            \n",
    "            idx_list = list(range(0, enc_train.shape[0], batch_size))\n",
    "            random.shuffle(idx_list)\n",
    "\n",
    "            t = tqdm(idx_list)\n",
    "            \n",
    "            for (batch, idx) in enumerate(t):\n",
    "                batch_loss, enc_attns, dec_attns, dec_enc_attns, preds = train_step(enc_train[idx:idx+batch_size],\n",
    "                                                                             dec_train[idx:idx+batch_size],\n",
    "                                                                             transformer,\n",
    "                                                                             optimizer)\n",
    "\n",
    "                total_loss += batch_loss\n",
    "\n",
    "                t.set_description_str('Bucket %2d' % (bucket))\n",
    "                t.set_postfix_str('Loss %.4f' % (total_loss.numpy() / (batch + 1)))\n",
    "            \n",
    "                wandb.log({\"train_loss\": (total_loss.numpy() / (batch + 1)),})\n",
    "            \n",
    "            #validation\n",
    "            total_loss_val = 0\n",
    "            val_size=25\n",
    "            tv = tqdm(range(0,enc_test.shape[0], val_size))\n",
    "            \n",
    "            for (batch_val,test_idx) in enumerate(tv) :\n",
    "                val_loss, val_preds = model_validate(enc_test[test_idx : test_idx + val_size],\n",
    "                                          dec_test[test_idx : test_idx + val_size],\n",
    "                                          transformer)\n",
    "                total_loss_val += val_loss\n",
    "                tv.set_postfix_str('val_Loss %.4f' % (total_loss_val.numpy() / (batch_val + 1)))\n",
    "                \n",
    "                wandb.log({\"valid_loss\" : (total_loss_val.numpy() / (batch_val + 1))                           })\n",
    "\n",
    "            save_path = manager.save()\n",
    "            print(\"Saved checkpoint for step {}: {}\".format(int(ckpt.step), save_path))\n",
    "            \n",
    "        # bleu score\n",
    "        from datasets import load_metric\n",
    "\n",
    "        bleu = load_metric(\"sacrebleu\")\n",
    "        test_translate = []\n",
    "        bleu_valid_score = []\n",
    "        \n",
    "        test_text = full_data_test.eng.values\n",
    "        test_tgt = full_data_test.dial.values\n",
    "        \n",
    "        for i in tqdm(range(len(test_text))) :\n",
    "            trans = translate(test_text[i], transformer, enc_tokenizer, dec_tokenizer, verbose =False)\n",
    "            test_translate.append(trans)\n",
    "            label = dec_tokenizer.decode(test_tgt[i])\n",
    "            result = bleu.compute(predictions=[trans], references=[[label]], smooth_method='add-k')['score']\n",
    "            bleu_valid_score.append(result)\n",
    "\n",
    "        sum(bleu_valid_score)/len(test_text)\n",
    "        wandb.log({\"bleu\": sum(bleu_valid_score)/len(test_text)})\n",
    "\n",
    "        full_data_test['bleu'] = np.array(bleu_valid_score)\n",
    "        full_data_test['pred'] = test_translate\n",
    "            \n",
    "directory = os.getenv('HOME') + '/aiffel/saturi/MODEL/'\n",
    "ckpt = tf.train.Checkpoint(step = tf.Variable(1), optimizer = optimizer , transformer = transformer)\n",
    "manager = tf.train.CheckpointManager(ckpt, directory +f'tf_{tokenizer_name}16000_ckpt_final_0601_newcorpus',max_to_keep=10)"
   ]
  },
  {
   "cell_type": "code",
   "execution_count": 30,
   "id": "c6154df0",
   "metadata": {},
   "outputs": [],
   "source": [
    "manager.latest_checkpoint"
   ]
  },
  {
   "cell_type": "code",
   "execution_count": 31,
   "id": "ed92170b",
   "metadata": {
    "scrolled": true
   },
   "outputs": [
    {
     "data": {
      "text/plain": [
       "<tensorflow.python.training.tracking.util.InitializationOnlyStatus at 0x7fab477be6a0>"
      ]
     },
     "execution_count": 31,
     "metadata": {},
     "output_type": "execute_result"
    }
   ],
   "source": [
    "ckpt.restore(manager.latest_checkpoint)"
   ]
  },
  {
   "cell_type": "code",
   "execution_count": 32,
   "id": "a8baa5be",
   "metadata": {},
   "outputs": [
    {
     "data": {
      "text/html": [
       "Finishing last run (ID:uver42oz) before initializing another..."
      ],
      "text/plain": [
       "<IPython.core.display.HTML object>"
      ]
     },
     "metadata": {},
     "output_type": "display_data"
    },
    {
     "data": {
      "text/html": [
       "Waiting for W&B process to finish... <strong style=\"color:green\">(success).</strong>"
      ],
      "text/plain": [
       "<IPython.core.display.HTML object>"
      ]
     },
     "metadata": {},
     "output_type": "display_data"
    },
    {
     "data": {
      "application/vnd.jupyter.widget-view+json": {
       "model_id": "79b6c37ec1284e31a897bf94bc501aed",
       "version_major": 2,
       "version_minor": 0
      },
      "text/plain": [
       "VBox(children=(Label(value='0.003 MB of 0.003 MB uploaded (0.000 MB deduped)\\r'), FloatProgress(value=0.990345…"
      ]
     },
     "metadata": {},
     "output_type": "display_data"
    },
    {
     "data": {
      "text/html": [
       " View run <strong style=\"color:#cdcd00\">gallant-mountain-5</strong> at: <a href='https://wandb.ai/saturi-lab/saturi_v_transformer_new_corpus/runs/uver42oz' target=\"_blank\">https://wandb.ai/saturi-lab/saturi_v_transformer_new_corpus/runs/uver42oz</a><br/>Synced 6 W&B file(s), 0 media file(s), 0 artifact file(s) and 0 other file(s)"
      ],
      "text/plain": [
       "<IPython.core.display.HTML object>"
      ]
     },
     "metadata": {},
     "output_type": "display_data"
    },
    {
     "data": {
      "text/html": [
       "Find logs at: <code>./wandb/run-20230601_224524-uver42oz/logs</code>"
      ],
      "text/plain": [
       "<IPython.core.display.HTML object>"
      ]
     },
     "metadata": {},
     "output_type": "display_data"
    },
    {
     "data": {
      "text/html": [
       "Successfully finished last run (ID:uver42oz). Initializing new run:<br/>"
      ],
      "text/plain": [
       "<IPython.core.display.HTML object>"
      ]
     },
     "metadata": {},
     "output_type": "display_data"
    },
    {
     "data": {
      "application/vnd.jupyter.widget-view+json": {
       "model_id": "9104871fec354fdba446a87e7dbaf434",
       "version_major": 2,
       "version_minor": 0
      },
      "text/plain": [
       "VBox(children=(Label(value='Waiting for wandb.init()...\\r'), FloatProgress(value=0.016670074000012393, max=1.0…"
      ]
     },
     "metadata": {},
     "output_type": "display_data"
    },
    {
     "data": {
      "text/html": [
       "wandb version 0.15.3 is available!  To upgrade, please run:\n",
       " $ pip install wandb --upgrade"
      ],
      "text/plain": [
       "<IPython.core.display.HTML object>"
      ]
     },
     "metadata": {},
     "output_type": "display_data"
    },
    {
     "data": {
      "text/html": [
       "Tracking run with wandb version 0.15.2"
      ],
      "text/plain": [
       "<IPython.core.display.HTML object>"
      ]
     },
     "metadata": {},
     "output_type": "display_data"
    },
    {
     "data": {
      "text/html": [
       "Run data is saved locally in <code>/home/aeolian83/workspace/saturi/wandb/run-20230601_224530-iako3wwx</code>"
      ],
      "text/plain": [
       "<IPython.core.display.HTML object>"
      ]
     },
     "metadata": {},
     "output_type": "display_data"
    },
    {
     "data": {
      "text/html": [
       "Syncing run <strong><a href='https://wandb.ai/saturi-lab/saturi_v_transformer_new_corpus/runs/iako3wwx' target=\"_blank\">vivid-firebrand-6</a></strong> to <a href='https://wandb.ai/saturi-lab/saturi_v_transformer_new_corpus' target=\"_blank\">Weights & Biases</a> (<a href='https://wandb.me/run' target=\"_blank\">docs</a>)<br/>"
      ],
      "text/plain": [
       "<IPython.core.display.HTML object>"
      ]
     },
     "metadata": {},
     "output_type": "display_data"
    },
    {
     "data": {
      "text/html": [
       " View project at <a href='https://wandb.ai/saturi-lab/saturi_v_transformer_new_corpus' target=\"_blank\">https://wandb.ai/saturi-lab/saturi_v_transformer_new_corpus</a>"
      ],
      "text/plain": [
       "<IPython.core.display.HTML object>"
      ]
     },
     "metadata": {},
     "output_type": "display_data"
    },
    {
     "data": {
      "text/html": [
       " View run at <a href='https://wandb.ai/saturi-lab/saturi_v_transformer_new_corpus/runs/iako3wwx' target=\"_blank\">https://wandb.ai/saturi-lab/saturi_v_transformer_new_corpus/runs/iako3wwx</a>"
      ],
      "text/plain": [
       "<IPython.core.display.HTML object>"
      ]
     },
     "metadata": {},
     "output_type": "display_data"
    },
    {
     "name": "stdout",
     "output_type": "stream",
     "text": [
      "Initializing from scratch.\n"
     ]
    },
    {
     "name": "stderr",
     "output_type": "stream",
     "text": [
      "  0%|                                                                                             | 0/3 [00:00<?, ?it/s]2023-06-01 22:45:44.637884: I tensorflow/stream_executor/cuda/cuda_blas.cc:1786] TensorFloat-32 will be used for the matrix multiplication. This will only be logged once.\n",
      "Bucket  3: 100%|████████████████████████████████████████████████████████████| 3/3 [00:07<00:00,  2.45s/it, Loss 11.0762]\n",
      "100%|█████████████████████████████████████████████████████████████████| 40/40 [00:01<00:00, 30.84it/s, val_Loss 11.2133]\n"
     ]
    },
    {
     "name": "stdout",
     "output_type": "stream",
     "text": [
      "Saved checkpoint for step 1: /home/aeolian83/aiffel/saturi/MODEL/tf_spm16000_ckpt_final_0601_newcorpus/ckpt-1\n"
     ]
    },
    {
     "name": "stderr",
     "output_type": "stream",
     "text": [
      "Bucket  2: 100%|███████████████████████████████████████████████████████| 3431/3431 [03:44<00:00, 15.30it/s, Loss 6.7387]\n",
      "100%|██████████████████████████████████████████████████████████████████| 40/40 [00:01<00:00, 33.26it/s, val_Loss 5.5527]\n"
     ]
    },
    {
     "name": "stdout",
     "output_type": "stream",
     "text": [
      "Saved checkpoint for step 1: /home/aeolian83/aiffel/saturi/MODEL/tf_spm16000_ckpt_final_0601_newcorpus/ckpt-2\n"
     ]
    },
    {
     "name": "stderr",
     "output_type": "stream",
     "text": [
      "Bucket  1: 100%|█████████████████████████████████████████████████████| 35705/35705 [29:13<00:00, 20.36it/s, Loss 4.0750]\n",
      "100%|██████████████████████████████████████████████████████████████████| 40/40 [00:01<00:00, 35.81it/s, val_Loss 3.7257]\n"
     ]
    },
    {
     "name": "stdout",
     "output_type": "stream",
     "text": [
      "Saved checkpoint for step 1: /home/aeolian83/aiffel/saturi/MODEL/tf_spm16000_ckpt_final_0601_newcorpus/ckpt-3\n"
     ]
    },
    {
     "name": "stderr",
     "output_type": "stream",
     "text": [
      "100%|███████████████████████████████████████████████████████████████████████████████| 1000/1000 [10:09<00:00,  1.64it/s]\n"
     ]
    },
    {
     "data": {
      "text/html": [
       "Finishing last run (ID:iako3wwx) before initializing another..."
      ],
      "text/plain": [
       "<IPython.core.display.HTML object>"
      ]
     },
     "metadata": {},
     "output_type": "display_data"
    },
    {
     "data": {
      "text/html": [
       "Waiting for W&B process to finish... <strong style=\"color:green\">(success).</strong>"
      ],
      "text/plain": [
       "<IPython.core.display.HTML object>"
      ]
     },
     "metadata": {},
     "output_type": "display_data"
    },
    {
     "data": {
      "application/vnd.jupyter.widget-view+json": {
       "model_id": "9869579a75434512b15b7ebbdbec92a6",
       "version_major": 2,
       "version_minor": 0
      },
      "text/plain": [
       "VBox(children=(Label(value='0.003 MB of 0.024 MB uploaded (0.000 MB deduped)\\r'), FloatProgress(value=0.104257…"
      ]
     },
     "metadata": {},
     "output_type": "display_data"
    },
    {
     "data": {
      "text/html": [
       "<style>\n",
       "    table.wandb td:nth-child(1) { padding: 0 10px; text-align: left ; width: auto;} td:nth-child(2) {text-align: left ; width: 100%}\n",
       "    .wandb-row { display: flex; flex-direction: row; flex-wrap: wrap; justify-content: flex-start; width: 100% }\n",
       "    .wandb-col { display: flex; flex-direction: column; flex-basis: 100%; flex: 1; padding: 10px; }\n",
       "    </style>\n",
       "<div class=\"wandb-row\"><div class=\"wandb-col\"><h3>Run history:</h3><br/><table class=\"wandb\"><tr><td>bleu</td><td>▁</td></tr><tr><td>train_loss</td><td>█▇▆▆▃▃▃▃▃▃▂▂▂▂▂▂▂▂▂▂▂▂▂▂▁▁▁▁▁▁▁▁▁▁▁▁▁▁▁▁</td></tr><tr><td>valid_loss</td><td>██████████████▃▃▃▃▃▃▃▃▃▃▃▃▃▁▁▁▁▁▁▁▁▁▁▁▁▁</td></tr></table><br/></div><div class=\"wandb-col\"><h3>Run summary:</h3><br/><table class=\"wandb\"><tr><td>bleu</td><td>14.741</td></tr><tr><td>train_loss</td><td>4.07502</td></tr><tr><td>valid_loss</td><td>3.72567</td></tr></table><br/></div></div>"
      ],
      "text/plain": [
       "<IPython.core.display.HTML object>"
      ]
     },
     "metadata": {},
     "output_type": "display_data"
    },
    {
     "data": {
      "text/html": [
       " View run <strong style=\"color:#cdcd00\">vivid-firebrand-6</strong> at: <a href='https://wandb.ai/saturi-lab/saturi_v_transformer_new_corpus/runs/iako3wwx' target=\"_blank\">https://wandb.ai/saturi-lab/saturi_v_transformer_new_corpus/runs/iako3wwx</a><br/>Synced 6 W&B file(s), 0 media file(s), 0 artifact file(s) and 0 other file(s)"
      ],
      "text/plain": [
       "<IPython.core.display.HTML object>"
      ]
     },
     "metadata": {},
     "output_type": "display_data"
    },
    {
     "data": {
      "text/html": [
       "Find logs at: <code>./wandb/run-20230601_224530-iako3wwx/logs</code>"
      ],
      "text/plain": [
       "<IPython.core.display.HTML object>"
      ]
     },
     "metadata": {},
     "output_type": "display_data"
    },
    {
     "data": {
      "text/html": [
       "Successfully finished last run (ID:iako3wwx). Initializing new run:<br/>"
      ],
      "text/plain": [
       "<IPython.core.display.HTML object>"
      ]
     },
     "metadata": {},
     "output_type": "display_data"
    },
    {
     "data": {
      "text/html": [
       "wandb version 0.15.3 is available!  To upgrade, please run:\n",
       " $ pip install wandb --upgrade"
      ],
      "text/plain": [
       "<IPython.core.display.HTML object>"
      ]
     },
     "metadata": {},
     "output_type": "display_data"
    },
    {
     "data": {
      "text/html": [
       "Tracking run with wandb version 0.15.2"
      ],
      "text/plain": [
       "<IPython.core.display.HTML object>"
      ]
     },
     "metadata": {},
     "output_type": "display_data"
    },
    {
     "data": {
      "text/html": [
       "Run data is saved locally in <code>/home/aeolian83/workspace/saturi/wandb/run-20230601_232912-nsnfsowy</code>"
      ],
      "text/plain": [
       "<IPython.core.display.HTML object>"
      ]
     },
     "metadata": {},
     "output_type": "display_data"
    },
    {
     "data": {
      "text/html": [
       "Syncing run <strong><a href='https://wandb.ai/saturi-lab/saturi_v_transformer_new_corpus/runs/nsnfsowy' target=\"_blank\">resilient-shadow-7</a></strong> to <a href='https://wandb.ai/saturi-lab/saturi_v_transformer_new_corpus' target=\"_blank\">Weights & Biases</a> (<a href='https://wandb.me/run' target=\"_blank\">docs</a>)<br/>"
      ],
      "text/plain": [
       "<IPython.core.display.HTML object>"
      ]
     },
     "metadata": {},
     "output_type": "display_data"
    },
    {
     "data": {
      "text/html": [
       " View project at <a href='https://wandb.ai/saturi-lab/saturi_v_transformer_new_corpus' target=\"_blank\">https://wandb.ai/saturi-lab/saturi_v_transformer_new_corpus</a>"
      ],
      "text/plain": [
       "<IPython.core.display.HTML object>"
      ]
     },
     "metadata": {},
     "output_type": "display_data"
    },
    {
     "data": {
      "text/html": [
       " View run at <a href='https://wandb.ai/saturi-lab/saturi_v_transformer_new_corpus/runs/nsnfsowy' target=\"_blank\">https://wandb.ai/saturi-lab/saturi_v_transformer_new_corpus/runs/nsnfsowy</a>"
      ],
      "text/plain": [
       "<IPython.core.display.HTML object>"
      ]
     },
     "metadata": {},
     "output_type": "display_data"
    },
    {
     "name": "stdout",
     "output_type": "stream",
     "text": [
      "Restored from /home/aeolian83/aiffel/saturi/MODEL/tf_spm16000_ckpt_final_0601_newcorpus/ckpt-3\n"
     ]
    },
    {
     "name": "stderr",
     "output_type": "stream",
     "text": [
      "Bucket  3: 100%|█████████████████████████████████████████████████████████████| 3/3 [00:00<00:00, 13.27it/s, Loss 6.0705]\n",
      "100%|██████████████████████████████████████████████████████████████████| 40/40 [00:00<00:00, 71.30it/s, val_Loss 3.7214]\n"
     ]
    },
    {
     "name": "stdout",
     "output_type": "stream",
     "text": [
      "Saved checkpoint for step 1: /home/aeolian83/aiffel/saturi/MODEL/tf_spm16000_ckpt_final_0601_newcorpus/ckpt-4\n"
     ]
    },
    {
     "name": "stderr",
     "output_type": "stream",
     "text": [
      "Bucket  2: 100%|███████████████████████████████████████████████████████| 3431/3431 [03:40<00:00, 15.58it/s, Loss 3.8529]\n",
      "100%|██████████████████████████████████████████████████████████████████| 40/40 [00:00<00:00, 78.85it/s, val_Loss 3.3706]\n"
     ]
    },
    {
     "name": "stdout",
     "output_type": "stream",
     "text": [
      "Saved checkpoint for step 1: /home/aeolian83/aiffel/saturi/MODEL/tf_spm16000_ckpt_final_0601_newcorpus/ckpt-5\n"
     ]
    },
    {
     "name": "stderr",
     "output_type": "stream",
     "text": [
      "Bucket  1: 100%|█████████████████████████████████████████████████████| 35705/35705 [29:02<00:00, 20.49it/s, Loss 3.3207]\n",
      "100%|██████████████████████████████████████████████████████████████████| 40/40 [00:00<00:00, 96.60it/s, val_Loss 3.4832]\n"
     ]
    },
    {
     "name": "stdout",
     "output_type": "stream",
     "text": [
      "Saved checkpoint for step 1: /home/aeolian83/aiffel/saturi/MODEL/tf_spm16000_ckpt_final_0601_newcorpus/ckpt-6\n"
     ]
    },
    {
     "name": "stderr",
     "output_type": "stream",
     "text": [
      "100%|███████████████████████████████████████████████████████████████████████████████| 1000/1000 [10:01<00:00,  1.66it/s]\n"
     ]
    },
    {
     "data": {
      "text/html": [
       "Finishing last run (ID:nsnfsowy) before initializing another..."
      ],
      "text/plain": [
       "<IPython.core.display.HTML object>"
      ]
     },
     "metadata": {},
     "output_type": "display_data"
    },
    {
     "data": {
      "text/html": [
       "Waiting for W&B process to finish... <strong style=\"color:green\">(success).</strong>"
      ],
      "text/plain": [
       "<IPython.core.display.HTML object>"
      ]
     },
     "metadata": {},
     "output_type": "display_data"
    },
    {
     "data": {
      "text/html": [
       "<style>\n",
       "    table.wandb td:nth-child(1) { padding: 0 10px; text-align: left ; width: auto;} td:nth-child(2) {text-align: left ; width: 100%}\n",
       "    .wandb-row { display: flex; flex-direction: row; flex-wrap: wrap; justify-content: flex-start; width: 100% }\n",
       "    .wandb-col { display: flex; flex-direction: column; flex-basis: 100%; flex: 1; padding: 10px; }\n",
       "    </style>\n",
       "<div class=\"wandb-row\"><div class=\"wandb-col\"><h3>Run history:</h3><br/><table class=\"wandb\"><tr><td>bleu</td><td>▁</td></tr><tr><td>train_loss</td><td>█▇▆▆▁▁▁▁▁▁▁▁▁▁▁▁▁▁▁▁▁▁▁▁▁▁▁▁▁▁▁▁▁▁▁▁▁▁▁▁</td></tr><tr><td>valid_loss</td><td>▇██▇▆▅▅▅▆▆▆▆▅▅▆▅▄▃▁▁▁▁▁▁▁▁▁▄▄▅▃▂▃▃▃▃▃▃▃▂</td></tr></table><br/></div><div class=\"wandb-col\"><h3>Run summary:</h3><br/><table class=\"wandb\"><tr><td>bleu</td><td>16.19915</td></tr><tr><td>train_loss</td><td>3.32067</td></tr><tr><td>valid_loss</td><td>3.48324</td></tr></table><br/></div></div>"
      ],
      "text/plain": [
       "<IPython.core.display.HTML object>"
      ]
     },
     "metadata": {},
     "output_type": "display_data"
    },
    {
     "data": {
      "text/html": [
       " View run <strong style=\"color:#cdcd00\">resilient-shadow-7</strong> at: <a href='https://wandb.ai/saturi-lab/saturi_v_transformer_new_corpus/runs/nsnfsowy' target=\"_blank\">https://wandb.ai/saturi-lab/saturi_v_transformer_new_corpus/runs/nsnfsowy</a><br/>Synced 6 W&B file(s), 0 media file(s), 0 artifact file(s) and 0 other file(s)"
      ],
      "text/plain": [
       "<IPython.core.display.HTML object>"
      ]
     },
     "metadata": {},
     "output_type": "display_data"
    },
    {
     "data": {
      "text/html": [
       "Find logs at: <code>./wandb/run-20230601_232912-nsnfsowy/logs</code>"
      ],
      "text/plain": [
       "<IPython.core.display.HTML object>"
      ]
     },
     "metadata": {},
     "output_type": "display_data"
    },
    {
     "data": {
      "text/html": [
       "Successfully finished last run (ID:nsnfsowy). Initializing new run:<br/>"
      ],
      "text/plain": [
       "<IPython.core.display.HTML object>"
      ]
     },
     "metadata": {},
     "output_type": "display_data"
    },
    {
     "data": {
      "text/html": [
       "wandb version 0.15.3 is available!  To upgrade, please run:\n",
       " $ pip install wandb --upgrade"
      ],
      "text/plain": [
       "<IPython.core.display.HTML object>"
      ]
     },
     "metadata": {},
     "output_type": "display_data"
    },
    {
     "data": {
      "text/html": [
       "Tracking run with wandb version 0.15.2"
      ],
      "text/plain": [
       "<IPython.core.display.HTML object>"
      ]
     },
     "metadata": {},
     "output_type": "display_data"
    },
    {
     "data": {
      "text/html": [
       "Run data is saved locally in <code>/home/aeolian83/workspace/saturi/wandb/run-20230602_001234-um3btamn</code>"
      ],
      "text/plain": [
       "<IPython.core.display.HTML object>"
      ]
     },
     "metadata": {},
     "output_type": "display_data"
    },
    {
     "data": {
      "text/html": [
       "Syncing run <strong><a href='https://wandb.ai/saturi-lab/saturi_v_transformer_new_corpus/runs/um3btamn' target=\"_blank\">soft-field-8</a></strong> to <a href='https://wandb.ai/saturi-lab/saturi_v_transformer_new_corpus' target=\"_blank\">Weights & Biases</a> (<a href='https://wandb.me/run' target=\"_blank\">docs</a>)<br/>"
      ],
      "text/plain": [
       "<IPython.core.display.HTML object>"
      ]
     },
     "metadata": {},
     "output_type": "display_data"
    },
    {
     "data": {
      "text/html": [
       " View project at <a href='https://wandb.ai/saturi-lab/saturi_v_transformer_new_corpus' target=\"_blank\">https://wandb.ai/saturi-lab/saturi_v_transformer_new_corpus</a>"
      ],
      "text/plain": [
       "<IPython.core.display.HTML object>"
      ]
     },
     "metadata": {},
     "output_type": "display_data"
    },
    {
     "data": {
      "text/html": [
       " View run at <a href='https://wandb.ai/saturi-lab/saturi_v_transformer_new_corpus/runs/um3btamn' target=\"_blank\">https://wandb.ai/saturi-lab/saturi_v_transformer_new_corpus/runs/um3btamn</a>"
      ],
      "text/plain": [
       "<IPython.core.display.HTML object>"
      ]
     },
     "metadata": {},
     "output_type": "display_data"
    },
    {
     "name": "stdout",
     "output_type": "stream",
     "text": [
      "Restored from /home/aeolian83/aiffel/saturi/MODEL/tf_spm16000_ckpt_final_0601_newcorpus/ckpt-6\n"
     ]
    },
    {
     "name": "stderr",
     "output_type": "stream",
     "text": [
      "Bucket  3: 100%|█████████████████████████████████████████████████████████████| 3/3 [00:00<00:00, 13.14it/s, Loss 5.3619]\n",
      "100%|██████████████████████████████████████████████████████████████████| 40/40 [00:00<00:00, 70.22it/s, val_Loss 3.4425]\n"
     ]
    },
    {
     "name": "stdout",
     "output_type": "stream",
     "text": [
      "Saved checkpoint for step 1: /home/aeolian83/aiffel/saturi/MODEL/tf_spm16000_ckpt_final_0601_newcorpus/ckpt-7\n"
     ]
    },
    {
     "name": "stderr",
     "output_type": "stream",
     "text": [
      "Bucket  2: 100%|███████████████████████████████████████████████████████| 3431/3431 [03:40<00:00, 15.59it/s, Loss 3.5450]\n",
      "100%|██████████████████████████████████████████████████████████████████| 40/40 [00:00<00:00, 78.50it/s, val_Loss 3.1558]\n"
     ]
    },
    {
     "name": "stdout",
     "output_type": "stream",
     "text": [
      "Saved checkpoint for step 1: /home/aeolian83/aiffel/saturi/MODEL/tf_spm16000_ckpt_final_0601_newcorpus/ckpt-8\n"
     ]
    },
    {
     "name": "stderr",
     "output_type": "stream",
     "text": [
      "Bucket  1: 100%|█████████████████████████████████████████████████████| 35705/35705 [28:59<00:00, 20.53it/s, Loss 3.1086]\n",
      "100%|██████████████████████████████████████████████████████████████████| 40/40 [00:00<00:00, 98.55it/s, val_Loss 3.3921]\n"
     ]
    },
    {
     "name": "stdout",
     "output_type": "stream",
     "text": [
      "Saved checkpoint for step 1: /home/aeolian83/aiffel/saturi/MODEL/tf_spm16000_ckpt_final_0601_newcorpus/ckpt-9\n"
     ]
    },
    {
     "name": "stderr",
     "output_type": "stream",
     "text": [
      "100%|███████████████████████████████████████████████████████████████████████████████| 1000/1000 [10:05<00:00,  1.65it/s]\n"
     ]
    },
    {
     "data": {
      "text/html": [
       "Finishing last run (ID:um3btamn) before initializing another..."
      ],
      "text/plain": [
       "<IPython.core.display.HTML object>"
      ]
     },
     "metadata": {},
     "output_type": "display_data"
    },
    {
     "data": {
      "text/html": [
       "Waiting for W&B process to finish... <strong style=\"color:green\">(success).</strong>"
      ],
      "text/plain": [
       "<IPython.core.display.HTML object>"
      ]
     },
     "metadata": {},
     "output_type": "display_data"
    },
    {
     "data": {
      "text/html": [
       "<style>\n",
       "    table.wandb td:nth-child(1) { padding: 0 10px; text-align: left ; width: auto;} td:nth-child(2) {text-align: left ; width: 100%}\n",
       "    .wandb-row { display: flex; flex-direction: row; flex-wrap: wrap; justify-content: flex-start; width: 100% }\n",
       "    .wandb-col { display: flex; flex-direction: column; flex-basis: 100%; flex: 1; padding: 10px; }\n",
       "    </style>\n",
       "<div class=\"wandb-row\"><div class=\"wandb-col\"><h3>Run history:</h3><br/><table class=\"wandb\"><tr><td>bleu</td><td>▁</td></tr><tr><td>train_loss</td><td>█▇▇▆▁▁▁▁▂▂▂▂▂▂▂▂▂▂▂▂▂▂▂▂▂▂▂▂▂▂▂▂▂▂▂▂▂▂▂▂</td></tr><tr><td>valid_loss</td><td>▆▇█▇▆▅▅▅▆▆▆▅▅▅▆▅▅▃▂▂▁▂▂▂▁▁▁▆▆▆▅▄▄▅▅▅▅▅▄▄</td></tr></table><br/></div><div class=\"wandb-col\"><h3>Run summary:</h3><br/><table class=\"wandb\"><tr><td>bleu</td><td>15.76801</td></tr><tr><td>train_loss</td><td>3.10861</td></tr><tr><td>valid_loss</td><td>3.3921</td></tr></table><br/></div></div>"
      ],
      "text/plain": [
       "<IPython.core.display.HTML object>"
      ]
     },
     "metadata": {},
     "output_type": "display_data"
    },
    {
     "data": {
      "text/html": [
       " View run <strong style=\"color:#cdcd00\">soft-field-8</strong> at: <a href='https://wandb.ai/saturi-lab/saturi_v_transformer_new_corpus/runs/um3btamn' target=\"_blank\">https://wandb.ai/saturi-lab/saturi_v_transformer_new_corpus/runs/um3btamn</a><br/>Synced 6 W&B file(s), 0 media file(s), 0 artifact file(s) and 0 other file(s)"
      ],
      "text/plain": [
       "<IPython.core.display.HTML object>"
      ]
     },
     "metadata": {},
     "output_type": "display_data"
    },
    {
     "data": {
      "text/html": [
       "Find logs at: <code>./wandb/run-20230602_001234-um3btamn/logs</code>"
      ],
      "text/plain": [
       "<IPython.core.display.HTML object>"
      ]
     },
     "metadata": {},
     "output_type": "display_data"
    },
    {
     "data": {
      "text/html": [
       "Successfully finished last run (ID:um3btamn). Initializing new run:<br/>"
      ],
      "text/plain": [
       "<IPython.core.display.HTML object>"
      ]
     },
     "metadata": {},
     "output_type": "display_data"
    },
    {
     "data": {
      "text/html": [
       "wandb version 0.15.3 is available!  To upgrade, please run:\n",
       " $ pip install wandb --upgrade"
      ],
      "text/plain": [
       "<IPython.core.display.HTML object>"
      ]
     },
     "metadata": {},
     "output_type": "display_data"
    },
    {
     "data": {
      "text/html": [
       "Tracking run with wandb version 0.15.2"
      ],
      "text/plain": [
       "<IPython.core.display.HTML object>"
      ]
     },
     "metadata": {},
     "output_type": "display_data"
    },
    {
     "data": {
      "text/html": [
       "Run data is saved locally in <code>/home/aeolian83/workspace/saturi/wandb/run-20230602_005601-8zyrjfpd</code>"
      ],
      "text/plain": [
       "<IPython.core.display.HTML object>"
      ]
     },
     "metadata": {},
     "output_type": "display_data"
    },
    {
     "data": {
      "text/html": [
       "Syncing run <strong><a href='https://wandb.ai/saturi-lab/saturi_v_transformer_new_corpus/runs/8zyrjfpd' target=\"_blank\">grateful-dragon-9</a></strong> to <a href='https://wandb.ai/saturi-lab/saturi_v_transformer_new_corpus' target=\"_blank\">Weights & Biases</a> (<a href='https://wandb.me/run' target=\"_blank\">docs</a>)<br/>"
      ],
      "text/plain": [
       "<IPython.core.display.HTML object>"
      ]
     },
     "metadata": {},
     "output_type": "display_data"
    },
    {
     "data": {
      "text/html": [
       " View project at <a href='https://wandb.ai/saturi-lab/saturi_v_transformer_new_corpus' target=\"_blank\">https://wandb.ai/saturi-lab/saturi_v_transformer_new_corpus</a>"
      ],
      "text/plain": [
       "<IPython.core.display.HTML object>"
      ]
     },
     "metadata": {},
     "output_type": "display_data"
    },
    {
     "data": {
      "text/html": [
       " View run at <a href='https://wandb.ai/saturi-lab/saturi_v_transformer_new_corpus/runs/8zyrjfpd' target=\"_blank\">https://wandb.ai/saturi-lab/saturi_v_transformer_new_corpus/runs/8zyrjfpd</a>"
      ],
      "text/plain": [
       "<IPython.core.display.HTML object>"
      ]
     },
     "metadata": {},
     "output_type": "display_data"
    },
    {
     "name": "stdout",
     "output_type": "stream",
     "text": [
      "Restored from /home/aeolian83/aiffel/saturi/MODEL/tf_spm16000_ckpt_final_0601_newcorpus/ckpt-9\n"
     ]
    },
    {
     "name": "stderr",
     "output_type": "stream",
     "text": [
      "Bucket  3: 100%|█████████████████████████████████████████████████████████████| 3/3 [00:00<00:00, 13.23it/s, Loss 5.0162]\n",
      "100%|██████████████████████████████████████████████████████████████████| 40/40 [00:00<00:00, 72.32it/s, val_Loss 3.3398]\n"
     ]
    },
    {
     "name": "stdout",
     "output_type": "stream",
     "text": [
      "Saved checkpoint for step 1: /home/aeolian83/aiffel/saturi/MODEL/tf_spm16000_ckpt_final_0601_newcorpus/ckpt-10\n"
     ]
    },
    {
     "name": "stderr",
     "output_type": "stream",
     "text": [
      "Bucket  2: 100%|███████████████████████████████████████████████████████| 3431/3431 [03:40<00:00, 15.57it/s, Loss 3.3959]\n",
      "100%|██████████████████████████████████████████████████████████████████| 40/40 [00:00<00:00, 78.64it/s, val_Loss 3.0950]\n"
     ]
    },
    {
     "name": "stdout",
     "output_type": "stream",
     "text": [
      "Saved checkpoint for step 1: /home/aeolian83/aiffel/saturi/MODEL/tf_spm16000_ckpt_final_0601_newcorpus/ckpt-11\n"
     ]
    },
    {
     "name": "stderr",
     "output_type": "stream",
     "text": [
      "Bucket  1: 100%|█████████████████████████████████████████████████████| 35705/35705 [29:02<00:00, 20.49it/s, Loss 2.9795]\n",
      "100%|█████████████████████████████████████████████████████████████████| 40/40 [00:00<00:00, 100.77it/s, val_Loss 3.3525]\n"
     ]
    },
    {
     "name": "stdout",
     "output_type": "stream",
     "text": [
      "Saved checkpoint for step 1: /home/aeolian83/aiffel/saturi/MODEL/tf_spm16000_ckpt_final_0601_newcorpus/ckpt-12\n"
     ]
    },
    {
     "name": "stderr",
     "output_type": "stream",
     "text": [
      "100%|███████████████████████████████████████████████████████████████████████████████| 1000/1000 [10:20<00:00,  1.61it/s]\n"
     ]
    },
    {
     "data": {
      "text/html": [
       "Finishing last run (ID:8zyrjfpd) before initializing another..."
      ],
      "text/plain": [
       "<IPython.core.display.HTML object>"
      ]
     },
     "metadata": {},
     "output_type": "display_data"
    },
    {
     "data": {
      "text/html": [
       "Waiting for W&B process to finish... <strong style=\"color:green\">(success).</strong>"
      ],
      "text/plain": [
       "<IPython.core.display.HTML object>"
      ]
     },
     "metadata": {},
     "output_type": "display_data"
    },
    {
     "data": {
      "application/vnd.jupyter.widget-view+json": {
       "model_id": "f6ac9eb0e3464d209f175506a442f519",
       "version_major": 2,
       "version_minor": 0
      },
      "text/plain": [
       "VBox(children=(Label(value='0.003 MB of 0.003 MB uploaded (0.000 MB deduped)\\r'), FloatProgress(value=1.0, max…"
      ]
     },
     "metadata": {},
     "output_type": "display_data"
    },
    {
     "data": {
      "text/html": [
       "<style>\n",
       "    table.wandb td:nth-child(1) { padding: 0 10px; text-align: left ; width: auto;} td:nth-child(2) {text-align: left ; width: 100%}\n",
       "    .wandb-row { display: flex; flex-direction: row; flex-wrap: wrap; justify-content: flex-start; width: 100% }\n",
       "    .wandb-col { display: flex; flex-direction: column; flex-basis: 100%; flex: 1; padding: 10px; }\n",
       "    </style>\n",
       "<div class=\"wandb-row\"><div class=\"wandb-col\"><h3>Run history:</h3><br/><table class=\"wandb\"><tr><td>bleu</td><td>▁</td></tr><tr><td>train_loss</td><td>█▇▇▇▁▁▁▁▁▂▂▂▂▂▂▂▂▂▂▂▂▂▂▂▂▂▂▂▂▂▂▂▂▂▂▂▂▂▂▂</td></tr><tr><td>valid_loss</td><td>▆▇█▇▆▅▅▅▅▆▅▅▅▄▆▅▅▃▂▂▂▂▂▂▁▁▁▇▇▇▅▅▅▅▆▆▆▅▅▄</td></tr></table><br/></div><div class=\"wandb-col\"><h3>Run summary:</h3><br/><table class=\"wandb\"><tr><td>bleu</td><td>15.71737</td></tr><tr><td>train_loss</td><td>2.97951</td></tr><tr><td>valid_loss</td><td>3.35252</td></tr></table><br/></div></div>"
      ],
      "text/plain": [
       "<IPython.core.display.HTML object>"
      ]
     },
     "metadata": {},
     "output_type": "display_data"
    },
    {
     "data": {
      "text/html": [
       " View run <strong style=\"color:#cdcd00\">grateful-dragon-9</strong> at: <a href='https://wandb.ai/saturi-lab/saturi_v_transformer_new_corpus/runs/8zyrjfpd' target=\"_blank\">https://wandb.ai/saturi-lab/saturi_v_transformer_new_corpus/runs/8zyrjfpd</a><br/>Synced 6 W&B file(s), 0 media file(s), 0 artifact file(s) and 0 other file(s)"
      ],
      "text/plain": [
       "<IPython.core.display.HTML object>"
      ]
     },
     "metadata": {},
     "output_type": "display_data"
    },
    {
     "data": {
      "text/html": [
       "Find logs at: <code>./wandb/run-20230602_005601-8zyrjfpd/logs</code>"
      ],
      "text/plain": [
       "<IPython.core.display.HTML object>"
      ]
     },
     "metadata": {},
     "output_type": "display_data"
    },
    {
     "data": {
      "text/html": [
       "Successfully finished last run (ID:8zyrjfpd). Initializing new run:<br/>"
      ],
      "text/plain": [
       "<IPython.core.display.HTML object>"
      ]
     },
     "metadata": {},
     "output_type": "display_data"
    },
    {
     "data": {
      "text/html": [
       "wandb version 0.15.3 is available!  To upgrade, please run:\n",
       " $ pip install wandb --upgrade"
      ],
      "text/plain": [
       "<IPython.core.display.HTML object>"
      ]
     },
     "metadata": {},
     "output_type": "display_data"
    },
    {
     "data": {
      "text/html": [
       "Tracking run with wandb version 0.15.2"
      ],
      "text/plain": [
       "<IPython.core.display.HTML object>"
      ]
     },
     "metadata": {},
     "output_type": "display_data"
    },
    {
     "data": {
      "text/html": [
       "Run data is saved locally in <code>/home/aeolian83/workspace/saturi/wandb/run-20230602_013943-5ixjzybg</code>"
      ],
      "text/plain": [
       "<IPython.core.display.HTML object>"
      ]
     },
     "metadata": {},
     "output_type": "display_data"
    },
    {
     "data": {
      "text/html": [
       "Syncing run <strong><a href='https://wandb.ai/saturi-lab/saturi_v_transformer_new_corpus/runs/5ixjzybg' target=\"_blank\">eager-wildflower-10</a></strong> to <a href='https://wandb.ai/saturi-lab/saturi_v_transformer_new_corpus' target=\"_blank\">Weights & Biases</a> (<a href='https://wandb.me/run' target=\"_blank\">docs</a>)<br/>"
      ],
      "text/plain": [
       "<IPython.core.display.HTML object>"
      ]
     },
     "metadata": {},
     "output_type": "display_data"
    },
    {
     "data": {
      "text/html": [
       " View project at <a href='https://wandb.ai/saturi-lab/saturi_v_transformer_new_corpus' target=\"_blank\">https://wandb.ai/saturi-lab/saturi_v_transformer_new_corpus</a>"
      ],
      "text/plain": [
       "<IPython.core.display.HTML object>"
      ]
     },
     "metadata": {},
     "output_type": "display_data"
    },
    {
     "data": {
      "text/html": [
       " View run at <a href='https://wandb.ai/saturi-lab/saturi_v_transformer_new_corpus/runs/5ixjzybg' target=\"_blank\">https://wandb.ai/saturi-lab/saturi_v_transformer_new_corpus/runs/5ixjzybg</a>"
      ],
      "text/plain": [
       "<IPython.core.display.HTML object>"
      ]
     },
     "metadata": {},
     "output_type": "display_data"
    },
    {
     "name": "stdout",
     "output_type": "stream",
     "text": [
      "Restored from /home/aeolian83/aiffel/saturi/MODEL/tf_spm16000_ckpt_final_0601_newcorpus/ckpt-12\n"
     ]
    },
    {
     "name": "stderr",
     "output_type": "stream",
     "text": [
      "Bucket  3: 100%|█████████████████████████████████████████████████████████████| 3/3 [00:00<00:00, 13.20it/s, Loss 4.7471]\n",
      "100%|██████████████████████████████████████████████████████████████████| 40/40 [00:00<00:00, 70.66it/s, val_Loss 3.2929]\n"
     ]
    },
    {
     "name": "stdout",
     "output_type": "stream",
     "text": [
      "Saved checkpoint for step 1: /home/aeolian83/aiffel/saturi/MODEL/tf_spm16000_ckpt_final_0601_newcorpus/ckpt-13\n"
     ]
    },
    {
     "name": "stderr",
     "output_type": "stream",
     "text": [
      "Bucket  2: 100%|███████████████████████████████████████████████████████| 3431/3431 [03:40<00:00, 15.59it/s, Loss 3.2961]\n",
      "100%|██████████████████████████████████████████████████████████████████| 40/40 [00:00<00:00, 79.23it/s, val_Loss 3.0449]\n"
     ]
    },
    {
     "name": "stdout",
     "output_type": "stream",
     "text": [
      "Saved checkpoint for step 1: /home/aeolian83/aiffel/saturi/MODEL/tf_spm16000_ckpt_final_0601_newcorpus/ckpt-14\n"
     ]
    },
    {
     "name": "stderr",
     "output_type": "stream",
     "text": [
      "Bucket  1: 100%|█████████████████████████████████████████████████████| 35705/35705 [29:03<00:00, 20.48it/s, Loss 2.8824]\n",
      "100%|██████████████████████████████████████████████████████████████████| 40/40 [00:00<00:00, 98.59it/s, val_Loss 3.3523]\n"
     ]
    },
    {
     "name": "stdout",
     "output_type": "stream",
     "text": [
      "Saved checkpoint for step 1: /home/aeolian83/aiffel/saturi/MODEL/tf_spm16000_ckpt_final_0601_newcorpus/ckpt-15\n"
     ]
    },
    {
     "name": "stderr",
     "output_type": "stream",
     "text": [
      "100%|███████████████████████████████████████████████████████████████████████████████| 1000/1000 [10:12<00:00,  1.63it/s]\n"
     ]
    },
    {
     "data": {
      "text/html": [
       "Finishing last run (ID:5ixjzybg) before initializing another..."
      ],
      "text/plain": [
       "<IPython.core.display.HTML object>"
      ]
     },
     "metadata": {},
     "output_type": "display_data"
    },
    {
     "data": {
      "text/html": [
       "Waiting for W&B process to finish... <strong style=\"color:green\">(success).</strong>"
      ],
      "text/plain": [
       "<IPython.core.display.HTML object>"
      ]
     },
     "metadata": {},
     "output_type": "display_data"
    },
    {
     "data": {
      "text/html": [
       "<style>\n",
       "    table.wandb td:nth-child(1) { padding: 0 10px; text-align: left ; width: auto;} td:nth-child(2) {text-align: left ; width: 100%}\n",
       "    .wandb-row { display: flex; flex-direction: row; flex-wrap: wrap; justify-content: flex-start; width: 100% }\n",
       "    .wandb-col { display: flex; flex-direction: column; flex-basis: 100%; flex: 1; padding: 10px; }\n",
       "    </style>\n",
       "<div class=\"wandb-row\"><div class=\"wandb-col\"><h3>Run history:</h3><br/><table class=\"wandb\"><tr><td>bleu</td><td>▁</td></tr><tr><td>train_loss</td><td>█▇▇▇▁▁▁▁▂▂▂▂▂▂▂▂▂▂▂▂▂▂▂▂▂▂▂▂▂▂▂▂▂▂▂▂▂▂▂▂</td></tr><tr><td>valid_loss</td><td>▅▇█▆▆▅▅▅▅▅▅▅▄▄▆▆▅▄▂▂▂▂▂▂▁▁▁▇▇▇▆▅▆▆▆▆▆▆▅▅</td></tr></table><br/></div><div class=\"wandb-col\"><h3>Run summary:</h3><br/><table class=\"wandb\"><tr><td>bleu</td><td>15.93866</td></tr><tr><td>train_loss</td><td>2.88239</td></tr><tr><td>valid_loss</td><td>3.35227</td></tr></table><br/></div></div>"
      ],
      "text/plain": [
       "<IPython.core.display.HTML object>"
      ]
     },
     "metadata": {},
     "output_type": "display_data"
    },
    {
     "data": {
      "text/html": [
       " View run <strong style=\"color:#cdcd00\">eager-wildflower-10</strong> at: <a href='https://wandb.ai/saturi-lab/saturi_v_transformer_new_corpus/runs/5ixjzybg' target=\"_blank\">https://wandb.ai/saturi-lab/saturi_v_transformer_new_corpus/runs/5ixjzybg</a><br/>Synced 6 W&B file(s), 0 media file(s), 0 artifact file(s) and 0 other file(s)"
      ],
      "text/plain": [
       "<IPython.core.display.HTML object>"
      ]
     },
     "metadata": {},
     "output_type": "display_data"
    },
    {
     "data": {
      "text/html": [
       "Find logs at: <code>./wandb/run-20230602_013943-5ixjzybg/logs</code>"
      ],
      "text/plain": [
       "<IPython.core.display.HTML object>"
      ]
     },
     "metadata": {},
     "output_type": "display_data"
    },
    {
     "data": {
      "text/html": [
       "Successfully finished last run (ID:5ixjzybg). Initializing new run:<br/>"
      ],
      "text/plain": [
       "<IPython.core.display.HTML object>"
      ]
     },
     "metadata": {},
     "output_type": "display_data"
    },
    {
     "data": {
      "text/html": [
       "wandb version 0.15.3 is available!  To upgrade, please run:\n",
       " $ pip install wandb --upgrade"
      ],
      "text/plain": [
       "<IPython.core.display.HTML object>"
      ]
     },
     "metadata": {},
     "output_type": "display_data"
    },
    {
     "data": {
      "text/html": [
       "Tracking run with wandb version 0.15.2"
      ],
      "text/plain": [
       "<IPython.core.display.HTML object>"
      ]
     },
     "metadata": {},
     "output_type": "display_data"
    },
    {
     "data": {
      "text/html": [
       "Run data is saved locally in <code>/home/aeolian83/workspace/saturi/wandb/run-20230602_022325-aag5d0np</code>"
      ],
      "text/plain": [
       "<IPython.core.display.HTML object>"
      ]
     },
     "metadata": {},
     "output_type": "display_data"
    },
    {
     "data": {
      "text/html": [
       "Syncing run <strong><a href='https://wandb.ai/saturi-lab/saturi_v_transformer_new_corpus/runs/aag5d0np' target=\"_blank\">silver-deluge-11</a></strong> to <a href='https://wandb.ai/saturi-lab/saturi_v_transformer_new_corpus' target=\"_blank\">Weights & Biases</a> (<a href='https://wandb.me/run' target=\"_blank\">docs</a>)<br/>"
      ],
      "text/plain": [
       "<IPython.core.display.HTML object>"
      ]
     },
     "metadata": {},
     "output_type": "display_data"
    },
    {
     "data": {
      "text/html": [
       " View project at <a href='https://wandb.ai/saturi-lab/saturi_v_transformer_new_corpus' target=\"_blank\">https://wandb.ai/saturi-lab/saturi_v_transformer_new_corpus</a>"
      ],
      "text/plain": [
       "<IPython.core.display.HTML object>"
      ]
     },
     "metadata": {},
     "output_type": "display_data"
    },
    {
     "data": {
      "text/html": [
       " View run at <a href='https://wandb.ai/saturi-lab/saturi_v_transformer_new_corpus/runs/aag5d0np' target=\"_blank\">https://wandb.ai/saturi-lab/saturi_v_transformer_new_corpus/runs/aag5d0np</a>"
      ],
      "text/plain": [
       "<IPython.core.display.HTML object>"
      ]
     },
     "metadata": {},
     "output_type": "display_data"
    },
    {
     "name": "stdout",
     "output_type": "stream",
     "text": [
      "Restored from /home/aeolian83/aiffel/saturi/MODEL/tf_spm16000_ckpt_final_0601_newcorpus/ckpt-15\n"
     ]
    },
    {
     "name": "stderr",
     "output_type": "stream",
     "text": [
      "Bucket  3: 100%|█████████████████████████████████████████████████████████████| 3/3 [00:00<00:00, 13.37it/s, Loss 4.6281]\n",
      "100%|██████████████████████████████████████████████████████████████████| 40/40 [00:00<00:00, 71.01it/s, val_Loss 3.2825]\n"
     ]
    },
    {
     "name": "stdout",
     "output_type": "stream",
     "text": [
      "Saved checkpoint for step 1: /home/aeolian83/aiffel/saturi/MODEL/tf_spm16000_ckpt_final_0601_newcorpus/ckpt-16\n"
     ]
    },
    {
     "name": "stderr",
     "output_type": "stream",
     "text": [
      "Bucket  2: 100%|███████████████████████████████████████████████████████| 3431/3431 [03:40<00:00, 15.58it/s, Loss 3.2195]\n",
      "100%|██████████████████████████████████████████████████████████████████| 40/40 [00:00<00:00, 79.74it/s, val_Loss 3.0320]\n"
     ]
    },
    {
     "name": "stdout",
     "output_type": "stream",
     "text": [
      "Saved checkpoint for step 1: /home/aeolian83/aiffel/saturi/MODEL/tf_spm16000_ckpt_final_0601_newcorpus/ckpt-17\n"
     ]
    },
    {
     "name": "stderr",
     "output_type": "stream",
     "text": [
      "Bucket  1: 100%|█████████████████████████████████████████████████████| 35705/35705 [29:00<00:00, 20.51it/s, Loss 2.8014]\n",
      "100%|██████████████████████████████████████████████████████████████████| 40/40 [00:00<00:00, 95.69it/s, val_Loss 3.3447]\n"
     ]
    },
    {
     "name": "stdout",
     "output_type": "stream",
     "text": [
      "Saved checkpoint for step 1: /home/aeolian83/aiffel/saturi/MODEL/tf_spm16000_ckpt_final_0601_newcorpus/ckpt-18\n"
     ]
    },
    {
     "name": "stderr",
     "output_type": "stream",
     "text": [
      "100%|███████████████████████████████████████████████████████████████████████████████| 1000/1000 [10:05<00:00,  1.65it/s]\n"
     ]
    },
    {
     "data": {
      "text/html": [
       "Finishing last run (ID:aag5d0np) before initializing another..."
      ],
      "text/plain": [
       "<IPython.core.display.HTML object>"
      ]
     },
     "metadata": {},
     "output_type": "display_data"
    },
    {
     "data": {
      "text/html": [
       "Waiting for W&B process to finish... <strong style=\"color:green\">(success).</strong>"
      ],
      "text/plain": [
       "<IPython.core.display.HTML object>"
      ]
     },
     "metadata": {},
     "output_type": "display_data"
    },
    {
     "data": {
      "application/vnd.jupyter.widget-view+json": {
       "model_id": "563a41c428764adfa383138c68600faa",
       "version_major": 2,
       "version_minor": 0
      },
      "text/plain": [
       "VBox(children=(Label(value='0.003 MB of 0.003 MB uploaded (0.000 MB deduped)\\r'), FloatProgress(value=1.0, max…"
      ]
     },
     "metadata": {},
     "output_type": "display_data"
    },
    {
     "data": {
      "text/html": [
       "<style>\n",
       "    table.wandb td:nth-child(1) { padding: 0 10px; text-align: left ; width: auto;} td:nth-child(2) {text-align: left ; width: 100%}\n",
       "    .wandb-row { display: flex; flex-direction: row; flex-wrap: wrap; justify-content: flex-start; width: 100% }\n",
       "    .wandb-col { display: flex; flex-direction: column; flex-basis: 100%; flex: 1; padding: 10px; }\n",
       "    </style>\n",
       "<div class=\"wandb-row\"><div class=\"wandb-col\"><h3>Run history:</h3><br/><table class=\"wandb\"><tr><td>bleu</td><td>▁</td></tr><tr><td>train_loss</td><td>█▇▇▇▁▁▁▁▁▂▂▂▂▂▂▂▂▂▂▂▂▂▂▂▂▂▂▂▂▂▂▂▂▂▂▂▂▂▂▂</td></tr><tr><td>valid_loss</td><td>▆▇█▇▆▅▅▅▆▆▆▅▅▄▆▆▅▄▂▂▂▂▂▂▁▁▁█▇█▆▆▆▆▆▆▆▆▆▅</td></tr></table><br/></div><div class=\"wandb-col\"><h3>Run summary:</h3><br/><table class=\"wandb\"><tr><td>bleu</td><td>16.00701</td></tr><tr><td>train_loss</td><td>2.80136</td></tr><tr><td>valid_loss</td><td>3.34467</td></tr></table><br/></div></div>"
      ],
      "text/plain": [
       "<IPython.core.display.HTML object>"
      ]
     },
     "metadata": {},
     "output_type": "display_data"
    },
    {
     "data": {
      "text/html": [
       " View run <strong style=\"color:#cdcd00\">silver-deluge-11</strong> at: <a href='https://wandb.ai/saturi-lab/saturi_v_transformer_new_corpus/runs/aag5d0np' target=\"_blank\">https://wandb.ai/saturi-lab/saturi_v_transformer_new_corpus/runs/aag5d0np</a><br/>Synced 6 W&B file(s), 0 media file(s), 0 artifact file(s) and 0 other file(s)"
      ],
      "text/plain": [
       "<IPython.core.display.HTML object>"
      ]
     },
     "metadata": {},
     "output_type": "display_data"
    },
    {
     "data": {
      "text/html": [
       "Find logs at: <code>./wandb/run-20230602_022325-aag5d0np/logs</code>"
      ],
      "text/plain": [
       "<IPython.core.display.HTML object>"
      ]
     },
     "metadata": {},
     "output_type": "display_data"
    },
    {
     "data": {
      "text/html": [
       "Successfully finished last run (ID:aag5d0np). Initializing new run:<br/>"
      ],
      "text/plain": [
       "<IPython.core.display.HTML object>"
      ]
     },
     "metadata": {},
     "output_type": "display_data"
    },
    {
     "data": {
      "text/html": [
       "wandb version 0.15.3 is available!  To upgrade, please run:\n",
       " $ pip install wandb --upgrade"
      ],
      "text/plain": [
       "<IPython.core.display.HTML object>"
      ]
     },
     "metadata": {},
     "output_type": "display_data"
    },
    {
     "data": {
      "text/html": [
       "Tracking run with wandb version 0.15.2"
      ],
      "text/plain": [
       "<IPython.core.display.HTML object>"
      ]
     },
     "metadata": {},
     "output_type": "display_data"
    },
    {
     "data": {
      "text/html": [
       "Run data is saved locally in <code>/home/aeolian83/workspace/saturi/wandb/run-20230602_030649-zpaac0gx</code>"
      ],
      "text/plain": [
       "<IPython.core.display.HTML object>"
      ]
     },
     "metadata": {},
     "output_type": "display_data"
    },
    {
     "data": {
      "text/html": [
       "Syncing run <strong><a href='https://wandb.ai/saturi-lab/saturi_v_transformer_new_corpus/runs/zpaac0gx' target=\"_blank\">eager-bush-12</a></strong> to <a href='https://wandb.ai/saturi-lab/saturi_v_transformer_new_corpus' target=\"_blank\">Weights & Biases</a> (<a href='https://wandb.me/run' target=\"_blank\">docs</a>)<br/>"
      ],
      "text/plain": [
       "<IPython.core.display.HTML object>"
      ]
     },
     "metadata": {},
     "output_type": "display_data"
    },
    {
     "data": {
      "text/html": [
       " View project at <a href='https://wandb.ai/saturi-lab/saturi_v_transformer_new_corpus' target=\"_blank\">https://wandb.ai/saturi-lab/saturi_v_transformer_new_corpus</a>"
      ],
      "text/plain": [
       "<IPython.core.display.HTML object>"
      ]
     },
     "metadata": {},
     "output_type": "display_data"
    },
    {
     "data": {
      "text/html": [
       " View run at <a href='https://wandb.ai/saturi-lab/saturi_v_transformer_new_corpus/runs/zpaac0gx' target=\"_blank\">https://wandb.ai/saturi-lab/saturi_v_transformer_new_corpus/runs/zpaac0gx</a>"
      ],
      "text/plain": [
       "<IPython.core.display.HTML object>"
      ]
     },
     "metadata": {},
     "output_type": "display_data"
    },
    {
     "name": "stdout",
     "output_type": "stream",
     "text": [
      "Restored from /home/aeolian83/aiffel/saturi/MODEL/tf_spm16000_ckpt_final_0601_newcorpus/ckpt-18\n"
     ]
    },
    {
     "name": "stderr",
     "output_type": "stream",
     "text": [
      "Bucket  3: 100%|█████████████████████████████████████████████████████████████| 3/3 [00:00<00:00, 13.32it/s, Loss 4.4758]\n",
      "100%|██████████████████████████████████████████████████████████████████| 40/40 [00:00<00:00, 71.87it/s, val_Loss 3.2843]\n"
     ]
    },
    {
     "name": "stdout",
     "output_type": "stream",
     "text": [
      "Saved checkpoint for step 1: /home/aeolian83/aiffel/saturi/MODEL/tf_spm16000_ckpt_final_0601_newcorpus/ckpt-19\n"
     ]
    },
    {
     "name": "stderr",
     "output_type": "stream",
     "text": [
      "Bucket  2: 100%|███████████████████████████████████████████████████████| 3431/3431 [03:40<00:00, 15.59it/s, Loss 3.1566]\n",
      "100%|██████████████████████████████████████████████████████████████████| 40/40 [00:00<00:00, 79.12it/s, val_Loss 3.0395]\n"
     ]
    },
    {
     "name": "stdout",
     "output_type": "stream",
     "text": [
      "Saved checkpoint for step 1: /home/aeolian83/aiffel/saturi/MODEL/tf_spm16000_ckpt_final_0601_newcorpus/ckpt-20\n"
     ]
    },
    {
     "name": "stderr",
     "output_type": "stream",
     "text": [
      "Bucket  1: 100%|█████████████████████████████████████████████████████| 35705/35705 [29:01<00:00, 20.50it/s, Loss 2.7319]\n",
      "100%|██████████████████████████████████████████████████████████████████| 40/40 [00:00<00:00, 94.74it/s, val_Loss 3.3491]\n"
     ]
    },
    {
     "name": "stdout",
     "output_type": "stream",
     "text": [
      "Saved checkpoint for step 1: /home/aeolian83/aiffel/saturi/MODEL/tf_spm16000_ckpt_final_0601_newcorpus/ckpt-21\n"
     ]
    },
    {
     "name": "stderr",
     "output_type": "stream",
     "text": [
      "100%|███████████████████████████████████████████████████████████████████████████████| 1000/1000 [10:12<00:00,  1.63it/s]\n"
     ]
    }
   ],
   "source": [
    "for _ in range(7):\n",
    "    run  = wandb.init(project = project_name,\n",
    "                     entity = 'saturi-lab',\n",
    "                     config = {\n",
    "                         'model_name':'Vanilla_Transformer',\n",
    "                         'n_layers':6,\n",
    "                         'd_model':512,\n",
    "                         'n_heads':8,\n",
    "                         'd_ff':2048,\n",
    "                         'src_vocab_size':SRC_VOCAB_SIZE,\n",
    "                         'tgt_vocab_size':TGT_VOCAB_SIZE,\n",
    "                         'pos_len': 512,\n",
    "                         'dropout':0.2,\n",
    "                         'shared':True,\n",
    "                         'warmups' : warmups,\n",
    "                         'epochs':1,\n",
    "                         'optimizer' :'ADAM',\n",
    "                         'loss' : 'SparseCategoricalCrossentropy',\n",
    "                         'metric' : 'bleu'\n",
    "                     })\n",
    "    train_and_checkpoint(transformer, manager, config.epochs)"
   ]
  },
  {
   "cell_type": "code",
   "execution_count": 33,
   "id": "c0005c11",
   "metadata": {},
   "outputs": [
    {
     "data": {
      "text/plain": [
       "Text(0.5, 0, 'Train Step')"
      ]
     },
     "execution_count": 33,
     "metadata": {},
     "output_type": "execute_result"
    },
    {
     "data": {
      "image/png": "[encoded data removed]",
      "text/plain": [
       "<Figure size 640x480 with 1 Axes>"
      ]
     },
     "metadata": {},
     "output_type": "display_data"
    }
   ],
   "source": [
    "plt.plot(learningrate(tf.range(15412, dtype=tf.float32)))\n",
    "plt.ylabel('Learning Rate')\n",
    "plt.xlabel('Train Step')"
   ]
  },
  {
   "cell_type": "code",
   "execution_count": 34,
   "id": "d09359ab",
   "metadata": {},
   "outputs": [],
   "source": [
    "from time import perf_counter"
   ]
  },
  {
   "cell_type": "code",
   "execution_count": 35,
   "id": "f5d2996d",
   "metadata": {},
   "outputs": [],
   "source": [
    "examples = [\"<jj> what are you doing ?\",'<cc> what are you doing ?','<gs> what are you doing ?','<jd> what are you doing ?','<kw> what are you doing ?']"
   ]
  },
  {
   "cell_type": "code",
   "execution_count": 36,
   "id": "0fccdceb",
   "metadata": {},
   "outputs": [
    {
     "name": "stdout",
     "output_type": "stream",
     "text": [
      "Input: <jj> what are you doing ?\n",
      "Predicted translation: 너 뭐 하맨?\n",
      "Input: <cc> what are you doing ?\n",
      "Predicted translation: 3는 뭐 하는 겨.\n",
      "Input: <gs> what are you doing ?\n",
      "Predicted translation: 니 뭐.\n",
      "Input: <jd> what are you doing ?\n",
      "Predicted translation: 뭐 하는 거야 3아.\n",
      "Input: <kw> what are you doing ?\n",
      "Predicted translation: 5아 뭐하는 거야?\n",
      "1.5180557209969265\n"
     ]
    }
   ],
   "source": [
    "start = perf_counter()\n",
    "for example in examples :\n",
    "    translate(example, transformer, enc_tokenizer, dec_tokenizer, verbose =True)\n",
    "print(perf_counter() - start)"
   ]
  },
  {
   "cell_type": "code",
   "execution_count": 37,
   "id": "82a63803",
   "metadata": {},
   "outputs": [],
   "source": [
    "examples = [\"<jj> i like this song .\",'<cc> i like this song . ','<gs> i like this song . ','<jd> i like this song . ','<kw> i like this song . ']"
   ]
  },
  {
   "cell_type": "code",
   "execution_count": 38,
   "id": "f511e052",
   "metadata": {},
   "outputs": [
    {
     "name": "stdout",
     "output_type": "stream",
     "text": [
      "Input: <jj> i like this song .\n",
      "Predicted translation: 노래 영 해.\n",
      "Input: <cc> i like this song . \n",
      "Predicted translation: 노래 이케 3아\n",
      "Input: <gs> i like this song . \n",
      "Predicted translation: 노래 이케 3아\n",
      "Input: <jd> i like this song . \n",
      "Predicted translation: 노래 이 ⁇  이렇게 해 갖고 4아\n",
      "Input: <kw> i like this song . \n",
      "Predicted translation: 이참 노래 5아.\n",
      "1.6438721329977852\n"
     ]
    }
   ],
   "source": [
    "start = perf_counter()\n",
    "for example in examples :\n",
    "    translate(example, transformer, enc_tokenizer, dec_tokenizer, verbose =True)\n",
    "print(perf_counter() - start)"
   ]
  },
  {
   "cell_type": "code",
   "execution_count": 39,
   "id": "c34aa8a0",
   "metadata": {},
   "outputs": [],
   "source": [
    "examples = [\"<jj> Let's do homework together .\",\"<cc> Let's do homework together .\",\"<gs> Let's do homework together .\",\"<jd> Let's do homework together .\",\"<kw> Let's do homework together .\"]"
   ]
  },
  {
   "cell_type": "code",
   "execution_count": 40,
   "id": "c1985ce7",
   "metadata": {},
   "outputs": [
    {
     "name": "stdout",
     "output_type": "stream",
     "text": [
      "Input: <jj> Let's do homework together .\n",
      "Predicted translation: 숙제를 같이 하게.\n",
      "Input: <cc> Let's do homework together .\n",
      "Predicted translation: 같이 숙제를 하게 혀.\n",
      "Input: <gs> Let's do homework together .\n",
      "Predicted translation: 같이 숙제도 하게 하고예.\n",
      "Input: <jd> Let's do homework together .\n",
      "Predicted translation: 같이 숙제를 하게 혀 8아\n",
      "Input: <kw> Let's do homework together .\n",
      "Predicted translation: 같이 숙제를 하게 해대다.\n",
      "1.9338693270001386\n"
     ]
    }
   ],
   "source": [
    "start = perf_counter()\n",
    "for example in examples :\n",
    "    translate(example, transformer, enc_tokenizer, dec_tokenizer, verbose =True)\n",
    "print(perf_counter() - start)"
   ]
  },
  {
   "cell_type": "code",
   "execution_count": 41,
   "id": "d5ac77c3",
   "metadata": {},
   "outputs": [],
   "source": [
    "examples = [\"<jj> Are you going to sleep ?\",\"<cc> Are you going to sleep ?\",\"<gs> Are you going to sleep ?\",\"<jd> Are you going to sleep ?\",\"<kw> Are you going to sleep ?\"]"
   ]
  },
  {
   "cell_type": "code",
   "execution_count": 42,
   "id": "3d4dfa8a",
   "metadata": {},
   "outputs": [
    {
     "name": "stdout",
     "output_type": "stream",
     "text": [
      "Input: <jj> Are you going to sleep ?\n",
      "Predicted translation: 4이는 잔댄\n",
      "Input: <cc> Are you going to sleep ?\n",
      "Predicted translation: 3이는 잔댜.\n",
      "Input: <gs> Are you going to sleep ?\n",
      "Predicted translation: 4이 니는 잔다.\n",
      "Input: <jd> Are you going to sleep ?\n",
      "Predicted translation: 3이는 잔다매.\n",
      "Input: <kw> Are you going to sleep ?\n",
      "Predicted translation: 5이 자게 생겼나?\n",
      "1.9658051770020393\n"
     ]
    }
   ],
   "source": [
    "start = perf_counter()\n",
    "for example in examples :\n",
    "    translate(example, transformer, enc_tokenizer, dec_tokenizer, verbose =True)\n",
    "print(perf_counter() - start)"
   ]
  },
  {
   "cell_type": "code",
   "execution_count": 43,
   "id": "5d2a41a1",
   "metadata": {},
   "outputs": [
    {
     "name": "stderr",
     "output_type": "stream",
     "text": [
      "100%|███████████████████████████████████████████████████████████████████████████████| 1000/1000 [10:13<00:00,  1.63it/s]\n"
     ]
    }
   ],
   "source": [
    "from datasets import load_metric\n",
    "\n",
    "bleu = load_metric(\"sacrebleu\")\n",
    "test_translate = []\n",
    "bleu_valid_score = []\n",
    "\n",
    "test_text = full_data_test.eng.values\n",
    "test_tgt = full_data_test.dial.values\n",
    "\n",
    "for i in tqdm(range(len(test_text))) :\n",
    "    trans = translate(test_text[i], transformer, enc_tokenizer, dec_tokenizer, verbose =False)\n",
    "    test_translate.append(trans)\n",
    "    label = dec_tokenizer.decode(test_tgt[i])\n",
    "    result = bleu.compute(predictions=[trans], references=[[label]], smooth_method='add-k')['score']\n",
    "    bleu_valid_score.append(result)\n",
    "\n",
    "full_data_test['bleu'] = np.array(bleu_valid_score)\n",
    "full_data_test['pred'] = test_translate"
   ]
  },
  {
   "cell_type": "code",
   "execution_count": 44,
   "id": "7576e884",
   "metadata": {},
   "outputs": [
    {
     "data": {
      "text/plain": [
       "15.934493416837858"
      ]
     },
     "execution_count": 44,
     "metadata": {},
     "output_type": "execute_result"
    }
   ],
   "source": [
    "full_data_test.bleu.mean()"
   ]
  },
  {
   "cell_type": "code",
   "execution_count": 45,
   "id": "5e15d5eb",
   "metadata": {},
   "outputs": [
    {
     "ename": "KeyError",
     "evalue": "\"['topic'] not in index\"",
     "output_type": "error",
     "traceback": [
      "\u001b[0;31m---------------------------------------------------------------------------\u001b[0m",
      "\u001b[0;31mKeyError\u001b[0m                                  Traceback (most recent call last)",
      "Cell \u001b[0;32mIn[45], line 1\u001b[0m\n\u001b[0;32m----> 1\u001b[0m \u001b[43mfull_data_test\u001b[49m\u001b[38;5;241;43m.\u001b[39;49m\u001b[43mloc\u001b[49m\u001b[43m[\u001b[49m\u001b[43m:\u001b[49m\u001b[43m,\u001b[49m\u001b[43m[\u001b[49m\u001b[38;5;124;43m'\u001b[39;49m\u001b[38;5;124;43mtopic\u001b[39;49m\u001b[38;5;124;43m'\u001b[39;49m\u001b[43m,\u001b[49m\u001b[38;5;124;43m'\u001b[39;49m\u001b[38;5;124;43meng\u001b[39;49m\u001b[38;5;124;43m'\u001b[39;49m\u001b[43m,\u001b[49m\u001b[38;5;124;43m'\u001b[39;49m\u001b[38;5;124;43mreg\u001b[39;49m\u001b[38;5;124;43m'\u001b[39;49m\u001b[43m,\u001b[49m\u001b[38;5;124;43m'\u001b[39;49m\u001b[38;5;124;43mdial\u001b[39;49m\u001b[38;5;124;43m'\u001b[39;49m\u001b[43m,\u001b[49m\u001b[38;5;124;43m'\u001b[39;49m\u001b[38;5;124;43mpred\u001b[39;49m\u001b[38;5;124;43m'\u001b[39;49m\u001b[43m,\u001b[49m\u001b[38;5;124;43m'\u001b[39;49m\u001b[38;5;124;43mbleu\u001b[39;49m\u001b[38;5;124;43m'\u001b[39;49m\u001b[43m]\u001b[49m\u001b[43m]\u001b[49m\u001b[38;5;241m.\u001b[39msort_values(\u001b[38;5;124m'\u001b[39m\u001b[38;5;124mbleu\u001b[39m\u001b[38;5;124m'\u001b[39m, ascending\u001b[38;5;241m=\u001b[39m\u001b[38;5;28;01mFalse\u001b[39;00m)\u001b[38;5;241m.\u001b[39mhead()\n\u001b[1;32m      3\u001b[0m data_dir \u001b[38;5;241m=\u001b[39m os\u001b[38;5;241m.\u001b[39mgetenv(\u001b[38;5;124m'\u001b[39m\u001b[38;5;124mHOME\u001b[39m\u001b[38;5;124m'\u001b[39m)\u001b[38;5;241m+\u001b[39m\u001b[38;5;124m'\u001b[39m\u001b[38;5;124m/aiffel/s_DATA\u001b[39m\u001b[38;5;124m'\u001b[39m \u001b[38;5;66;03m# 파일 경로 지정\u001b[39;00m\n\u001b[1;32m      4\u001b[0m full_data_test\u001b[38;5;241m.\u001b[39mto_csv(data_dir \u001b[38;5;241m+\u001b[39m \u001b[38;5;124mf\u001b[39m\u001b[38;5;124m'\u001b[39m\u001b[38;5;124m/test_results_\u001b[39m\u001b[38;5;132;01m{\u001b[39;00mtokenizer_name\u001b[38;5;132;01m}\u001b[39;00m\u001b[38;5;124m16000_final_needs_merge_0601.csv\u001b[39m\u001b[38;5;124m'\u001b[39m)\n",
      "File \u001b[0;32m~/anaconda3/envs/saturi_for_p397/lib/python3.9/site-packages/pandas/core/indexing.py:1067\u001b[0m, in \u001b[0;36m_LocationIndexer.__getitem__\u001b[0;34m(self, key)\u001b[0m\n\u001b[1;32m   1065\u001b[0m     \u001b[38;5;28;01mif\u001b[39;00m \u001b[38;5;28mself\u001b[39m\u001b[38;5;241m.\u001b[39m_is_scalar_access(key):\n\u001b[1;32m   1066\u001b[0m         \u001b[38;5;28;01mreturn\u001b[39;00m \u001b[38;5;28mself\u001b[39m\u001b[38;5;241m.\u001b[39mobj\u001b[38;5;241m.\u001b[39m_get_value(\u001b[38;5;241m*\u001b[39mkey, takeable\u001b[38;5;241m=\u001b[39m\u001b[38;5;28mself\u001b[39m\u001b[38;5;241m.\u001b[39m_takeable)\n\u001b[0;32m-> 1067\u001b[0m     \u001b[38;5;28;01mreturn\u001b[39;00m \u001b[38;5;28;43mself\u001b[39;49m\u001b[38;5;241;43m.\u001b[39;49m\u001b[43m_getitem_tuple\u001b[49m\u001b[43m(\u001b[49m\u001b[43mkey\u001b[49m\u001b[43m)\u001b[49m\n\u001b[1;32m   1068\u001b[0m \u001b[38;5;28;01melse\u001b[39;00m:\n\u001b[1;32m   1069\u001b[0m     \u001b[38;5;66;03m# we by definition only have the 0th axis\u001b[39;00m\n\u001b[1;32m   1070\u001b[0m     axis \u001b[38;5;241m=\u001b[39m \u001b[38;5;28mself\u001b[39m\u001b[38;5;241m.\u001b[39maxis \u001b[38;5;129;01mor\u001b[39;00m \u001b[38;5;241m0\u001b[39m\n",
      "File \u001b[0;32m~/anaconda3/envs/saturi_for_p397/lib/python3.9/site-packages/pandas/core/indexing.py:1256\u001b[0m, in \u001b[0;36m_LocIndexer._getitem_tuple\u001b[0;34m(self, tup)\u001b[0m\n\u001b[1;32m   1253\u001b[0m \u001b[38;5;28;01mif\u001b[39;00m \u001b[38;5;28mself\u001b[39m\u001b[38;5;241m.\u001b[39m_multi_take_opportunity(tup):\n\u001b[1;32m   1254\u001b[0m     \u001b[38;5;28;01mreturn\u001b[39;00m \u001b[38;5;28mself\u001b[39m\u001b[38;5;241m.\u001b[39m_multi_take(tup)\n\u001b[0;32m-> 1256\u001b[0m \u001b[38;5;28;01mreturn\u001b[39;00m \u001b[38;5;28;43mself\u001b[39;49m\u001b[38;5;241;43m.\u001b[39;49m\u001b[43m_getitem_tuple_same_dim\u001b[49m\u001b[43m(\u001b[49m\u001b[43mtup\u001b[49m\u001b[43m)\u001b[49m\n",
      "File \u001b[0;32m~/anaconda3/envs/saturi_for_p397/lib/python3.9/site-packages/pandas/core/indexing.py:924\u001b[0m, in \u001b[0;36m_LocationIndexer._getitem_tuple_same_dim\u001b[0;34m(self, tup)\u001b[0m\n\u001b[1;32m    921\u001b[0m \u001b[38;5;28;01mif\u001b[39;00m com\u001b[38;5;241m.\u001b[39mis_null_slice(key):\n\u001b[1;32m    922\u001b[0m     \u001b[38;5;28;01mcontinue\u001b[39;00m\n\u001b[0;32m--> 924\u001b[0m retval \u001b[38;5;241m=\u001b[39m \u001b[38;5;28;43mgetattr\u001b[39;49m\u001b[43m(\u001b[49m\u001b[43mretval\u001b[49m\u001b[43m,\u001b[49m\u001b[43m \u001b[49m\u001b[38;5;28;43mself\u001b[39;49m\u001b[38;5;241;43m.\u001b[39;49m\u001b[43mname\u001b[49m\u001b[43m)\u001b[49m\u001b[38;5;241;43m.\u001b[39;49m\u001b[43m_getitem_axis\u001b[49m\u001b[43m(\u001b[49m\u001b[43mkey\u001b[49m\u001b[43m,\u001b[49m\u001b[43m \u001b[49m\u001b[43maxis\u001b[49m\u001b[38;5;241;43m=\u001b[39;49m\u001b[43mi\u001b[49m\u001b[43m)\u001b[49m\n\u001b[1;32m    925\u001b[0m \u001b[38;5;66;03m# We should never have retval.ndim < self.ndim, as that should\u001b[39;00m\n\u001b[1;32m    926\u001b[0m \u001b[38;5;66;03m#  be handled by the _getitem_lowerdim call above.\u001b[39;00m\n\u001b[1;32m    927\u001b[0m \u001b[38;5;28;01massert\u001b[39;00m retval\u001b[38;5;241m.\u001b[39mndim \u001b[38;5;241m==\u001b[39m \u001b[38;5;28mself\u001b[39m\u001b[38;5;241m.\u001b[39mndim\n",
      "File \u001b[0;32m~/anaconda3/envs/saturi_for_p397/lib/python3.9/site-packages/pandas/core/indexing.py:1301\u001b[0m, in \u001b[0;36m_LocIndexer._getitem_axis\u001b[0;34m(self, key, axis)\u001b[0m\n\u001b[1;32m   1298\u001b[0m     \u001b[38;5;28;01mif\u001b[39;00m \u001b[38;5;28mhasattr\u001b[39m(key, \u001b[38;5;124m\"\u001b[39m\u001b[38;5;124mndim\u001b[39m\u001b[38;5;124m\"\u001b[39m) \u001b[38;5;129;01mand\u001b[39;00m key\u001b[38;5;241m.\u001b[39mndim \u001b[38;5;241m>\u001b[39m \u001b[38;5;241m1\u001b[39m:\n\u001b[1;32m   1299\u001b[0m         \u001b[38;5;28;01mraise\u001b[39;00m \u001b[38;5;167;01mValueError\u001b[39;00m(\u001b[38;5;124m\"\u001b[39m\u001b[38;5;124mCannot index with multidimensional key\u001b[39m\u001b[38;5;124m\"\u001b[39m)\n\u001b[0;32m-> 1301\u001b[0m     \u001b[38;5;28;01mreturn\u001b[39;00m \u001b[38;5;28;43mself\u001b[39;49m\u001b[38;5;241;43m.\u001b[39;49m\u001b[43m_getitem_iterable\u001b[49m\u001b[43m(\u001b[49m\u001b[43mkey\u001b[49m\u001b[43m,\u001b[49m\u001b[43m \u001b[49m\u001b[43maxis\u001b[49m\u001b[38;5;241;43m=\u001b[39;49m\u001b[43maxis\u001b[49m\u001b[43m)\u001b[49m\n\u001b[1;32m   1303\u001b[0m \u001b[38;5;66;03m# nested tuple slicing\u001b[39;00m\n\u001b[1;32m   1304\u001b[0m \u001b[38;5;28;01mif\u001b[39;00m is_nested_tuple(key, labels):\n",
      "File \u001b[0;32m~/anaconda3/envs/saturi_for_p397/lib/python3.9/site-packages/pandas/core/indexing.py:1239\u001b[0m, in \u001b[0;36m_LocIndexer._getitem_iterable\u001b[0;34m(self, key, axis)\u001b[0m\n\u001b[1;32m   1236\u001b[0m \u001b[38;5;28mself\u001b[39m\u001b[38;5;241m.\u001b[39m_validate_key(key, axis)\n\u001b[1;32m   1238\u001b[0m \u001b[38;5;66;03m# A collection of keys\u001b[39;00m\n\u001b[0;32m-> 1239\u001b[0m keyarr, indexer \u001b[38;5;241m=\u001b[39m \u001b[38;5;28;43mself\u001b[39;49m\u001b[38;5;241;43m.\u001b[39;49m\u001b[43m_get_listlike_indexer\u001b[49m\u001b[43m(\u001b[49m\u001b[43mkey\u001b[49m\u001b[43m,\u001b[49m\u001b[43m \u001b[49m\u001b[43maxis\u001b[49m\u001b[43m)\u001b[49m\n\u001b[1;32m   1240\u001b[0m \u001b[38;5;28;01mreturn\u001b[39;00m \u001b[38;5;28mself\u001b[39m\u001b[38;5;241m.\u001b[39mobj\u001b[38;5;241m.\u001b[39m_reindex_with_indexers(\n\u001b[1;32m   1241\u001b[0m     {axis: [keyarr, indexer]}, copy\u001b[38;5;241m=\u001b[39m\u001b[38;5;28;01mTrue\u001b[39;00m, allow_dups\u001b[38;5;241m=\u001b[39m\u001b[38;5;28;01mTrue\u001b[39;00m\n\u001b[1;32m   1242\u001b[0m )\n",
      "File \u001b[0;32m~/anaconda3/envs/saturi_for_p397/lib/python3.9/site-packages/pandas/core/indexing.py:1432\u001b[0m, in \u001b[0;36m_LocIndexer._get_listlike_indexer\u001b[0;34m(self, key, axis)\u001b[0m\n\u001b[1;32m   1429\u001b[0m ax \u001b[38;5;241m=\u001b[39m \u001b[38;5;28mself\u001b[39m\u001b[38;5;241m.\u001b[39mobj\u001b[38;5;241m.\u001b[39m_get_axis(axis)\n\u001b[1;32m   1430\u001b[0m axis_name \u001b[38;5;241m=\u001b[39m \u001b[38;5;28mself\u001b[39m\u001b[38;5;241m.\u001b[39mobj\u001b[38;5;241m.\u001b[39m_get_axis_name(axis)\n\u001b[0;32m-> 1432\u001b[0m keyarr, indexer \u001b[38;5;241m=\u001b[39m \u001b[43max\u001b[49m\u001b[38;5;241;43m.\u001b[39;49m\u001b[43m_get_indexer_strict\u001b[49m\u001b[43m(\u001b[49m\u001b[43mkey\u001b[49m\u001b[43m,\u001b[49m\u001b[43m \u001b[49m\u001b[43maxis_name\u001b[49m\u001b[43m)\u001b[49m\n\u001b[1;32m   1434\u001b[0m \u001b[38;5;28;01mreturn\u001b[39;00m keyarr, indexer\n",
      "File \u001b[0;32m~/anaconda3/envs/saturi_for_p397/lib/python3.9/site-packages/pandas/core/indexes/base.py:6070\u001b[0m, in \u001b[0;36mIndex._get_indexer_strict\u001b[0;34m(self, key, axis_name)\u001b[0m\n\u001b[1;32m   6067\u001b[0m \u001b[38;5;28;01melse\u001b[39;00m:\n\u001b[1;32m   6068\u001b[0m     keyarr, indexer, new_indexer \u001b[38;5;241m=\u001b[39m \u001b[38;5;28mself\u001b[39m\u001b[38;5;241m.\u001b[39m_reindex_non_unique(keyarr)\n\u001b[0;32m-> 6070\u001b[0m \u001b[38;5;28;43mself\u001b[39;49m\u001b[38;5;241;43m.\u001b[39;49m\u001b[43m_raise_if_missing\u001b[49m\u001b[43m(\u001b[49m\u001b[43mkeyarr\u001b[49m\u001b[43m,\u001b[49m\u001b[43m \u001b[49m\u001b[43mindexer\u001b[49m\u001b[43m,\u001b[49m\u001b[43m \u001b[49m\u001b[43maxis_name\u001b[49m\u001b[43m)\u001b[49m\n\u001b[1;32m   6072\u001b[0m keyarr \u001b[38;5;241m=\u001b[39m \u001b[38;5;28mself\u001b[39m\u001b[38;5;241m.\u001b[39mtake(indexer)\n\u001b[1;32m   6073\u001b[0m \u001b[38;5;28;01mif\u001b[39;00m \u001b[38;5;28misinstance\u001b[39m(key, Index):\n\u001b[1;32m   6074\u001b[0m     \u001b[38;5;66;03m# GH 42790 - Preserve name from an Index\u001b[39;00m\n",
      "File \u001b[0;32m~/anaconda3/envs/saturi_for_p397/lib/python3.9/site-packages/pandas/core/indexes/base.py:6133\u001b[0m, in \u001b[0;36mIndex._raise_if_missing\u001b[0;34m(self, key, indexer, axis_name)\u001b[0m\n\u001b[1;32m   6130\u001b[0m     \u001b[38;5;28;01mraise\u001b[39;00m \u001b[38;5;167;01mKeyError\u001b[39;00m(\u001b[38;5;124mf\u001b[39m\u001b[38;5;124m\"\u001b[39m\u001b[38;5;124mNone of [\u001b[39m\u001b[38;5;132;01m{\u001b[39;00mkey\u001b[38;5;132;01m}\u001b[39;00m\u001b[38;5;124m] are in the [\u001b[39m\u001b[38;5;132;01m{\u001b[39;00maxis_name\u001b[38;5;132;01m}\u001b[39;00m\u001b[38;5;124m]\u001b[39m\u001b[38;5;124m\"\u001b[39m)\n\u001b[1;32m   6132\u001b[0m not_found \u001b[38;5;241m=\u001b[39m \u001b[38;5;28mlist\u001b[39m(ensure_index(key)[missing_mask\u001b[38;5;241m.\u001b[39mnonzero()[\u001b[38;5;241m0\u001b[39m]]\u001b[38;5;241m.\u001b[39munique())\n\u001b[0;32m-> 6133\u001b[0m \u001b[38;5;28;01mraise\u001b[39;00m \u001b[38;5;167;01mKeyError\u001b[39;00m(\u001b[38;5;124mf\u001b[39m\u001b[38;5;124m\"\u001b[39m\u001b[38;5;132;01m{\u001b[39;00mnot_found\u001b[38;5;132;01m}\u001b[39;00m\u001b[38;5;124m not in index\u001b[39m\u001b[38;5;124m\"\u001b[39m)\n",
      "\u001b[0;31mKeyError\u001b[0m: \"['topic'] not in index\""
     ]
    }
   ],
   "source": [
    "full_data_test.loc[:,['topic','eng','reg','dial','pred','bleu']].sort_values('bleu', ascending=False).head()\n",
    "\n",
    "data_dir = os.getenv('HOME')+'/aiffel/s_DATA' # 파일 경로 지정\n",
    "full_data_test.to_csv(data_dir + f'/test_results_{tokenizer_name}16000_final_needs_merge_0601.csv')\n"
   ]
  },
  {
   "cell_type": "code",
   "execution_count": null,
   "id": "f3693cb0",
   "metadata": {},
   "outputs": [],
   "source": [
    "wandb.finish()"
   ]
  },
  {
   "cell_type": "code",
   "execution_count": null,
   "id": "84af26c9",
   "metadata": {},
   "outputs": [],
   "source": []
  },
  {
   "cell_type": "code",
   "execution_count": null,
   "id": "6bb722c8",
   "metadata": {},
   "outputs": [],
   "source": []
  },
  {
   "cell_type": "code",
   "execution_count": null,
   "id": "c99fdc5f",
   "metadata": {},
   "outputs": [],
   "source": []
  },
  {
   "cell_type": "code",
   "execution_count": null,
   "id": "d69d3620",
   "metadata": {},
   "outputs": [],
   "source": []
  },
  {
   "cell_type": "code",
   "execution_count": null,
   "id": "2325ff3c",
   "metadata": {},
   "outputs": [],
   "source": []
  },
  {
   "cell_type": "code",
   "execution_count": null,
   "id": "7dc07f11",
   "metadata": {},
   "outputs": [],
   "source": []
  },
  {
   "cell_type": "code",
   "execution_count": null,
   "id": "cef5ba4c",
   "metadata": {},
   "outputs": [],
   "source": []
  },
  {
   "cell_type": "code",
   "execution_count": null,
   "id": "73bbed21",
   "metadata": {},
   "outputs": [],
   "source": []
  },
  {
   "cell_type": "code",
   "execution_count": null,
   "id": "aa496da3",
   "metadata": {},
   "outputs": [],
   "source": []
  },
  {
   "cell_type": "code",
   "execution_count": null,
   "id": "80822ac4",
   "metadata": {},
   "outputs": [],
   "source": []
  },
  {
   "cell_type": "code",
   "execution_count": null,
   "id": "ac027476",
   "metadata": {},
   "outputs": [],
   "source": []
  },
  {
   "cell_type": "code",
   "execution_count": null,
   "id": "36bfdf53",
   "metadata": {},
   "outputs": [],
   "source": []
  },
  {
   "cell_type": "code",
   "execution_count": null,
   "id": "5d9d2443",
   "metadata": {},
   "outputs": [],
   "source": []
  },
  {
   "cell_type": "code",
   "execution_count": null,
   "id": "75b81334",
   "metadata": {},
   "outputs": [],
   "source": []
  },
  {
   "cell_type": "code",
   "execution_count": null,
   "id": "72fa8d0f",
   "metadata": {},
   "outputs": [],
   "source": []
  },
  {
   "cell_type": "code",
   "execution_count": null,
   "id": "89f5a07b",
   "metadata": {},
   "outputs": [],
   "source": []
  },
  {
   "cell_type": "code",
   "execution_count": null,
   "id": "8d66c89a",
   "metadata": {},
   "outputs": [],
   "source": []
  },
  {
   "cell_type": "code",
   "execution_count": null,
   "id": "07373bdc",
   "metadata": {},
   "outputs": [],
   "source": []
  },
  {
   "cell_type": "code",
   "execution_count": null,
   "id": "25e214eb",
   "metadata": {},
   "outputs": [],
   "source": []
  },
  {
   "cell_type": "code",
   "execution_count": null,
   "id": "6c82e594",
   "metadata": {},
   "outputs": [],
   "source": []
  },
  {
   "cell_type": "code",
   "execution_count": null,
   "id": "3c77af8c",
   "metadata": {},
   "outputs": [],
   "source": []
  },
  {
   "cell_type": "code",
   "execution_count": null,
   "id": "2a78765c",
   "metadata": {},
   "outputs": [],
   "source": []
  },
  {
   "cell_type": "code",
   "execution_count": null,
   "id": "fd82e58f",
   "metadata": {},
   "outputs": [],
   "source": []
  },
  {
   "cell_type": "code",
   "execution_count": null,
   "id": "02f31a94",
   "metadata": {},
   "outputs": [],
   "source": []
  },
  {
   "cell_type": "code",
   "execution_count": null,
   "id": "a7efe0d6",
   "metadata": {},
   "outputs": [],
   "source": []
  },
  {
   "cell_type": "code",
   "execution_count": null,
   "id": "579df11a",
   "metadata": {},
   "outputs": [],
   "source": []
  },
  {
   "cell_type": "code",
   "execution_count": null,
   "id": "d1f15ee0",
   "metadata": {},
   "outputs": [],
   "source": []
  },
  {
   "cell_type": "code",
   "execution_count": null,
   "id": "d23a26a4",
   "metadata": {},
   "outputs": [],
   "source": []
  },
  {
   "cell_type": "code",
   "execution_count": null,
   "id": "f61d0fee",
   "metadata": {},
   "outputs": [],
   "source": []
  },
  {
   "cell_type": "code",
   "execution_count": null,
   "id": "ee7f57ec",
   "metadata": {},
   "outputs": [],
   "source": []
  },
  {
   "cell_type": "code",
   "execution_count": null,
   "id": "621c88b5",
   "metadata": {},
   "outputs": [],
   "source": []
  },
  {
   "cell_type": "code",
   "execution_count": null,
   "id": "93c1e9ff",
   "metadata": {},
   "outputs": [],
   "source": []
  },
  {
   "cell_type": "code",
   "execution_count": null,
   "id": "cb236d2d",
   "metadata": {},
   "outputs": [],
   "source": []
  },
  {
   "cell_type": "code",
   "execution_count": null,
   "id": "d05a9793",
   "metadata": {},
   "outputs": [],
   "source": []
  },
  {
   "cell_type": "code",
   "execution_count": null,
   "id": "d29cbea2",
   "metadata": {},
   "outputs": [],
   "source": []
  },
  {
   "cell_type": "code",
   "execution_count": null,
   "id": "739466ef",
   "metadata": {},
   "outputs": [],
   "source": []
  },
  {
   "cell_type": "code",
   "execution_count": null,
   "id": "2489c70b",
   "metadata": {},
   "outputs": [],
   "source": []
  },
  {
   "cell_type": "code",
   "execution_count": null,
   "id": "92b24d46",
   "metadata": {},
   "outputs": [],
   "source": []
  }
 ],
 "metadata": {
  "kernelspec": {
   "display_name": "Python 3.9.7(Saturi)",
   "language": "python",
   "name": "saturi_for_p397"
  },
  "language_info": {
   "codemirror_mode": {
    "name": "ipython",
    "version": 3
   },
   "file_extension": ".py",
   "mimetype": "text/x-python",
   "name": "python",
   "nbconvert_exporter": "python",
   "pygments_lexer": "ipython3",
   "version": "3.9.7"
  }
 },
 "nbformat": 4,
 "nbformat_minor": 5
}
