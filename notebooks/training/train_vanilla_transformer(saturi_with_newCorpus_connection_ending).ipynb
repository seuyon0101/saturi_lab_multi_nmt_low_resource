{
 "cells": [
  {
   "cell_type": "code",
   "execution_count": 1,
   "id": "4caaa8de",
   "metadata": {},
   "outputs": [
    {
     "name": "stdout",
     "output_type": "stream",
     "text": [
      "2.8.0\n",
      "1.5.3\n",
      "1.24.2\n"
     ]
    }
   ],
   "source": [
    "import warnings\n",
    "warnings.filterwarnings('ignore')\n",
    "\n",
    "import tensorflow as tf\n",
    "import numpy as np\n",
    "import pandas as pd\n",
    "\n",
    "import matplotlib as mpl\n",
    "import matplotlib.ticker as ticker\n",
    "import matplotlib.pyplot as plt\n",
    "from sklearn.model_selection import train_test_split\n",
    "import time\n",
    "import re\n",
    "import os\n",
    "import io\n",
    "\n",
    "\n",
    "# from tqdm import tqdm_notebook \n",
    "from tqdm import tqdm \n",
    "import random\n",
    "\n",
    "import sentencepiece as spm\n",
    "from konlpy.tag import Mecab\n",
    "\n",
    "print(tf.__version__)\n",
    "print(pd.__version__)\n",
    "print(np.__version__)"
   ]
  },
  {
   "cell_type": "markdown",
   "id": "202946da",
   "metadata": {},
   "source": [
    "# Step1. 데이터 불러오기"
   ]
  },
  {
   "cell_type": "code",
   "execution_count": 2,
   "id": "52162de6",
   "metadata": {},
   "outputs": [],
   "source": [
    "data_dir = os.getenv(\"HOME\") + '/aiffel/s_DATA'\n",
    "tokenizer_name = 'spm'"
   ]
  },
  {
   "cell_type": "code",
   "execution_count": 3,
   "id": "86526021",
   "metadata": {},
   "outputs": [],
   "source": [
    "# train data load\n",
    "data_dir = os.getenv('HOME')+'/aiffel/s_DATA/pickle' # 파일 경로 지정\n",
    "data_train_path = data_dir+f\"/data_train_{tokenizer_name}_16000_ad_0603.pkl\"\n",
    "data_test_path = data_dir+f\"/data_test_{tokenizer_name}_16000_ad_0603.pkl\"\n",
    "full_data = pd.read_pickle(data_train_path, 'gzip')\n",
    "full_data_test = pd.read_pickle(data_test_path, 'gzip')"
   ]
  },
  {
   "cell_type": "code",
   "execution_count": 4,
   "id": "7160f5e6",
   "metadata": {},
   "outputs": [
    {
     "name": "stdout",
     "output_type": "stream",
     "text": [
      "<class 'pandas.core.frame.DataFrame'>\n",
      "Int64Index: 2505246 entries, 0 to 2506245\n",
      "Data columns (total 7 columns):\n",
      " #   Column    Dtype \n",
      "---  ------    ----- \n",
      " 0   reg       object\n",
      " 1   text      object\n",
      " 2   pair      object\n",
      " 3   dial      object\n",
      " 4   eng       object\n",
      " 5   toks_en   object\n",
      " 6   toks_dec  object\n",
      "dtypes: object(7)\n",
      "memory usage: 152.9+ MB\n"
     ]
    }
   ],
   "source": [
    "full_data.info()"
   ]
  },
  {
   "cell_type": "code",
   "execution_count": 5,
   "id": "43bdec92",
   "metadata": {},
   "outputs": [
    {
     "name": "stdout",
     "output_type": "stream",
     "text": [
      "<class 'pandas.core.frame.DataFrame'>\n",
      "Int64Index: 1000 entries, 553684 to 2154627\n",
      "Data columns (total 7 columns):\n",
      " #   Column    Non-Null Count  Dtype \n",
      "---  ------    --------------  ----- \n",
      " 0   reg       1000 non-null   object\n",
      " 1   text      1000 non-null   object\n",
      " 2   pair      1000 non-null   object\n",
      " 3   dial      1000 non-null   object\n",
      " 4   eng       1000 non-null   object\n",
      " 5   toks_en   1000 non-null   object\n",
      " 6   toks_dec  1000 non-null   object\n",
      "dtypes: object(7)\n",
      "memory usage: 62.5+ KB\n"
     ]
    }
   ],
   "source": [
    "full_data_test.info()"
   ]
  },
  {
   "cell_type": "code",
   "execution_count": 6,
   "id": "38a6af71",
   "metadata": {},
   "outputs": [],
   "source": [
    "regs = full_data.reg.unique()"
   ]
  },
  {
   "cell_type": "code",
   "execution_count": 7,
   "id": "68e212f0",
   "metadata": {},
   "outputs": [
    {
     "data": {
      "image/png": "[encoded data removed]",
      "text/plain": [
       "<Figure size 640x480 with 1 Axes>"
      ]
     },
     "metadata": {},
     "output_type": "display_data"
    }
   ],
   "source": [
    "import seaborn as sns\n",
    "full_data['tok_len'] = full_data['toks_en'].apply(lambda x : len(x))\n",
    "sns.histplot(x='tok_len',data = full_data, bins= 50,stat='probability' )\n",
    "plt.show()"
   ]
  },
  {
   "cell_type": "code",
   "execution_count": 8,
   "id": "da5801d3",
   "metadata": {},
   "outputs": [
    {
     "data": {
      "text/html": [
       "<div>\n",
       "<style scoped>\n",
       "    .dataframe tbody tr th:only-of-type {\n",
       "        vertical-align: middle;\n",
       "    }\n",
       "\n",
       "    .dataframe tbody tr th {\n",
       "        vertical-align: top;\n",
       "    }\n",
       "\n",
       "    .dataframe thead th {\n",
       "        text-align: right;\n",
       "    }\n",
       "</style>\n",
       "<table border=\"1\" class=\"dataframe\">\n",
       "  <thead>\n",
       "    <tr style=\"text-align: right;\">\n",
       "      <th></th>\n",
       "      <th>reg</th>\n",
       "      <th>text</th>\n",
       "      <th>pair</th>\n",
       "      <th>dial</th>\n",
       "      <th>eng</th>\n",
       "      <th>toks_en</th>\n",
       "      <th>toks_dec</th>\n",
       "      <th>tok_len</th>\n",
       "    </tr>\n",
       "  </thead>\n",
       "  <tbody>\n",
       "    <tr>\n",
       "      <th>0</th>\n",
       "      <td>jj</td>\n",
       "      <td>그 부주를 하기에는 조금 그렇지 않아?</td>\n",
       "      <td>(안?)/(않아?)(그렇져)/(그렇지)</td>\n",
       "      <td>그 부주를 하기에는 조금 그렇져 안?</td>\n",
       "      <td>&lt;jj&gt; Isnt it a little bit like that carelessness?</td>\n",
       "      <td>[51, 4, 223, 13, 11, 28, 81, 19, 18, 297, 1057...</td>\n",
       "      <td>[1, 14, 10296, 37, 8510, 458, 4823, 18, 11, 2]</td>\n",
       "      <td>12</td>\n",
       "    </tr>\n",
       "    <tr>\n",
       "      <th>1</th>\n",
       "      <td>jj</td>\n",
       "      <td>그리고 거기서 밥을 먹을지도 모르겠어.</td>\n",
       "      <td>(모르겐.)/(모르겠어.)(그리언)/(그리고)</td>\n",
       "      <td>그리언 거기서 밥을 먹을지도 모르겐.</td>\n",
       "      <td>&lt;jj&gt; And I dont even know if Ill eat rice there.</td>\n",
       "      <td>[51, 4, 157, 10, 41, 95, 61, 40, 125, 87, 239,...</td>\n",
       "      <td>[1, 535, 328, 1413, 388, 536, 1532, 10, 2]</td>\n",
       "      <td>13</td>\n",
       "    </tr>\n",
       "    <tr>\n",
       "      <th>2</th>\n",
       "      <td>jj</td>\n",
       "      <td>왜냐하면은 밥이 안 나온다고 들었어.</td>\n",
       "      <td>(들언.)/(들었어.)(나온젠도)/(나온다고)</td>\n",
       "      <td>왜냐하면은 밥이 안 나온젠도 들언.</td>\n",
       "      <td>&lt;jj&gt; Because I heard that the rice isnt served.</td>\n",
       "      <td>[51, 4, 169, 10, 230, 18, 15, 239, 339, 2491, 12]</td>\n",
       "      <td>[1, 1158, 33, 293, 12, 18, 889, 939, 1513, 10, 2]</td>\n",
       "      <td>11</td>\n",
       "    </tr>\n",
       "    <tr>\n",
       "      <th>3</th>\n",
       "      <td>jj</td>\n",
       "      <td>토요일 날에 토요일날에 잔치를 하고 일요일 날에 식을 올린대.</td>\n",
       "      <td>(올린댄.)/(올린대.)(하언)/(하고)</td>\n",
       "      <td>토요일 날에 토요일날에 잔치를 하언 일요일 날에 식을 올린댄.</td>\n",
       "      <td>&lt;jj&gt; They have a party on Saturday and a cerem...</td>\n",
       "      <td>[51, 4, 213, 31, 11, 1031, 53, 1667, 17, 11, 2...</td>\n",
       "      <td>[1, 4398, 5268, 11707, 25, 3817, 37, 268, 4329...</td>\n",
       "      <td>14</td>\n",
       "    </tr>\n",
       "    <tr>\n",
       "      <th>4</th>\n",
       "      <td>jj</td>\n",
       "      <td>그럼 어떻게 혼자 아 혼자래.</td>\n",
       "      <td>(혼자랜.)/(혼자래.)(어떻쥬)/(어떻게)</td>\n",
       "      <td>그럼 어떻쥬 혼자 아 혼자랜.</td>\n",
       "      <td>&lt;jj&gt; Then how are you alone Oh are you alone.</td>\n",
       "      <td>[51, 4, 122, 116, 30, 14, 254, 64, 30, 14, 254...</td>\n",
       "      <td>[1, 194, 930, 359, 40, 359, 299, 10, 2]</td>\n",
       "      <td>12</td>\n",
       "    </tr>\n",
       "    <tr>\n",
       "      <th>...</th>\n",
       "      <td>...</td>\n",
       "      <td>...</td>\n",
       "      <td>...</td>\n",
       "      <td>...</td>\n",
       "      <td>...</td>\n",
       "      <td>...</td>\n",
       "      <td>...</td>\n",
       "      <td>...</td>\n",
       "    </tr>\n",
       "    <tr>\n",
       "      <th>2506241</th>\n",
       "      <td>kw</td>\n",
       "      <td>요 째그만 한 건 아마 막내 건가 부다 아유 째끄만 해</td>\n",
       "      <td>(아매)/(아마) (끝네미)/(막내)</td>\n",
       "      <td>요 째그만 한 건 아매 끝네미 건가 부다 아유 째끄만 해</td>\n",
       "      <td>&lt;kw&gt; This is probably the youngest Buda Oh its...</td>\n",
       "      <td>[51, 8, 190, 21, 787, 15, 994, 3568, 2478, 64,...</td>\n",
       "      <td>[1, 524, 3497, 347, 48, 32, 125, 4882, 1757, 8...</td>\n",
       "      <td>14</td>\n",
       "    </tr>\n",
       "    <tr>\n",
       "      <th>2506242</th>\n",
       "      <td>kw</td>\n",
       "      <td>내가 진짜 이거 왜 이러나? 나 병든 거 아니나? 진짜?</td>\n",
       "      <td>(이그)/(이거)</td>\n",
       "      <td>내가 진짜 이그 왜 이러나? 나 병든 거 아니나? 진짜?</td>\n",
       "      <td>&lt;kw&gt; Why am I really doing this Isnt I sick Is...</td>\n",
       "      <td>[51, 8, 156, 671, 10, 65, 120, 25, 223, 10, 44...</td>\n",
       "      <td>[1, 38, 44, 1012, 99, 1396, 53, 11, 31, 1087, ...</td>\n",
       "      <td>15</td>\n",
       "    </tr>\n",
       "    <tr>\n",
       "      <th>2506243</th>\n",
       "      <td>kw</td>\n",
       "      <td>네 오늘은 없어요 어디 나가시나 보죠?</td>\n",
       "      <td>(어데)/(어디) (부죠?)/(보죠?)</td>\n",
       "      <td>네 오늘은 없어요 어데 나가시나 부죠?</td>\n",
       "      <td>&lt;kw&gt; Yes I dont have it today I guess youre go...</td>\n",
       "      <td>[51, 8, 171, 10, 41, 31, 13, 231, 10, 550, 102...</td>\n",
       "      <td>[1, 306, 1959, 1819, 1040, 183, 163, 53, 368, ...</td>\n",
       "      <td>14</td>\n",
       "    </tr>\n",
       "    <tr>\n",
       "      <th>2506244</th>\n",
       "      <td>kw</td>\n",
       "      <td>막내놈 아르바이트하는데 나 좀 둘러보구요. 사돈댁에 다</td>\n",
       "      <td>(끝네미놈)/(막내놈) (사둔댁에)/(사돈댁에)</td>\n",
       "      <td>끝네미놈 아르바이트하는데 나 좀 둘러보구요. 사둔댁에 다</td>\n",
       "      <td>&lt;kw&gt; The youngest one is working parttime so l...</td>\n",
       "      <td>[51, 8, 80, 994, 79, 21, 362, 413, 24, 225, 11...</td>\n",
       "      <td>[1, 1757, 88, 449, 3232, 2336, 1458, 31, 45, 1...</td>\n",
       "      <td>17</td>\n",
       "    </tr>\n",
       "    <tr>\n",
       "      <th>2506245</th>\n",
       "      <td>kw</td>\n",
       "      <td>저 언니네 지금 안 계실걸요?</td>\n",
       "      <td>(지굼)/(지금)</td>\n",
       "      <td>저 언니네 지굼 안 계실걸요?</td>\n",
       "      <td>&lt;kw&gt; I thont think shes not here right now?</td>\n",
       "      <td>[51, 8, 10, 4504, 332, 34, 1021, 58, 128, 67, ...</td>\n",
       "      <td>[1, 64, 3837, 425, 18, 11411, 695, 71, 11, 2]</td>\n",
       "      <td>12</td>\n",
       "    </tr>\n",
       "  </tbody>\n",
       "</table>\n",
       "<p>2505246 rows × 8 columns</p>\n",
       "</div>"
      ],
      "text/plain": [
       "        reg                                text                        pair  \\\n",
       "0        jj               그 부주를 하기에는 조금 그렇지 않아?       (안?)/(않아?)(그렇져)/(그렇지)   \n",
       "1        jj               그리고 거기서 밥을 먹을지도 모르겠어.   (모르겐.)/(모르겠어.)(그리언)/(그리고)   \n",
       "2        jj                왜냐하면은 밥이 안 나온다고 들었어.   (들언.)/(들었어.)(나온젠도)/(나온다고)   \n",
       "3        jj  토요일 날에 토요일날에 잔치를 하고 일요일 날에 식을 올린대.      (올린댄.)/(올린대.)(하언)/(하고)   \n",
       "4        jj                    그럼 어떻게 혼자 아 혼자래.    (혼자랜.)/(혼자래.)(어떻쥬)/(어떻게)   \n",
       "...      ..                                 ...                         ...   \n",
       "2506241  kw      요 째그만 한 건 아마 막내 건가 부다 아유 째끄만 해        (아매)/(아마) (끝네미)/(막내)   \n",
       "2506242  kw     내가 진짜 이거 왜 이러나? 나 병든 거 아니나? 진짜?                   (이그)/(이거)   \n",
       "2506243  kw               네 오늘은 없어요 어디 나가시나 보죠?       (어데)/(어디) (부죠?)/(보죠?)   \n",
       "2506244  kw      막내놈 아르바이트하는데 나 좀 둘러보구요. 사돈댁에 다  (끝네미놈)/(막내놈) (사둔댁에)/(사돈댁에)   \n",
       "2506245  kw                    저 언니네 지금 안 계실걸요?                   (지굼)/(지금)   \n",
       "\n",
       "                                       dial  \\\n",
       "0                      그 부주를 하기에는 조금 그렇져 안?   \n",
       "1                      그리언 거기서 밥을 먹을지도 모르겐.   \n",
       "2                       왜냐하면은 밥이 안 나온젠도 들언.   \n",
       "3        토요일 날에 토요일날에 잔치를 하언 일요일 날에 식을 올린댄.   \n",
       "4                          그럼 어떻쥬 혼자 아 혼자랜.   \n",
       "...                                     ...   \n",
       "2506241     요 째그만 한 건 아매 끝네미 건가 부다 아유 째끄만 해   \n",
       "2506242     내가 진짜 이그 왜 이러나? 나 병든 거 아니나? 진짜?   \n",
       "2506243               네 오늘은 없어요 어데 나가시나 부죠?   \n",
       "2506244     끝네미놈 아르바이트하는데 나 좀 둘러보구요. 사둔댁에 다   \n",
       "2506245                    저 언니네 지굼 안 계실걸요?   \n",
       "\n",
       "                                                       eng  \\\n",
       "0        <jj> Isnt it a little bit like that carelessness?   \n",
       "1         <jj> And I dont even know if Ill eat rice there.   \n",
       "2          <jj> Because I heard that the rice isnt served.   \n",
       "3        <jj> They have a party on Saturday and a cerem...   \n",
       "4            <jj> Then how are you alone Oh are you alone.   \n",
       "...                                                    ...   \n",
       "2506241  <kw> This is probably the youngest Buda Oh its...   \n",
       "2506242  <kw> Why am I really doing this Isnt I sick Is...   \n",
       "2506243  <kw> Yes I dont have it today I guess youre go...   \n",
       "2506244  <kw> The youngest one is working parttime so l...   \n",
       "2506245        <kw> I thont think shes not here right now?   \n",
       "\n",
       "                                                   toks_en  \\\n",
       "0        [51, 4, 223, 13, 11, 28, 81, 19, 18, 297, 1057...   \n",
       "1        [51, 4, 157, 10, 41, 95, 61, 40, 125, 87, 239,...   \n",
       "2        [51, 4, 169, 10, 230, 18, 15, 239, 339, 2491, 12]   \n",
       "3        [51, 4, 213, 31, 11, 1031, 53, 1667, 17, 11, 2...   \n",
       "4        [51, 4, 122, 116, 30, 14, 254, 64, 30, 14, 254...   \n",
       "...                                                    ...   \n",
       "2506241  [51, 8, 190, 21, 787, 15, 994, 3568, 2478, 64,...   \n",
       "2506242  [51, 8, 156, 671, 10, 65, 120, 25, 223, 10, 44...   \n",
       "2506243  [51, 8, 171, 10, 41, 31, 13, 231, 10, 550, 102...   \n",
       "2506244  [51, 8, 80, 994, 79, 21, 362, 413, 24, 225, 11...   \n",
       "2506245  [51, 8, 10, 4504, 332, 34, 1021, 58, 128, 67, ...   \n",
       "\n",
       "                                                  toks_dec  tok_len  \n",
       "0           [1, 14, 10296, 37, 8510, 458, 4823, 18, 11, 2]       12  \n",
       "1               [1, 535, 328, 1413, 388, 536, 1532, 10, 2]       13  \n",
       "2        [1, 1158, 33, 293, 12, 18, 889, 939, 1513, 10, 2]       11  \n",
       "3        [1, 4398, 5268, 11707, 25, 3817, 37, 268, 4329...       14  \n",
       "4                  [1, 194, 930, 359, 40, 359, 299, 10, 2]       12  \n",
       "...                                                    ...      ...  \n",
       "2506241  [1, 524, 3497, 347, 48, 32, 125, 4882, 1757, 8...       14  \n",
       "2506242  [1, 38, 44, 1012, 99, 1396, 53, 11, 31, 1087, ...       15  \n",
       "2506243  [1, 306, 1959, 1819, 1040, 183, 163, 53, 368, ...       14  \n",
       "2506244  [1, 1757, 88, 449, 3232, 2336, 1458, 31, 45, 1...       17  \n",
       "2506245      [1, 64, 3837, 425, 18, 11411, 695, 71, 11, 2]       12  \n",
       "\n",
       "[2505246 rows x 8 columns]"
      ]
     },
     "execution_count": 8,
     "metadata": {},
     "output_type": "execute_result"
    }
   ],
   "source": [
    "full_data"
   ]
  },
  {
   "cell_type": "code",
   "execution_count": 9,
   "id": "8ba0f2c6",
   "metadata": {},
   "outputs": [
    {
     "data": {
      "text/plain": [
       "reg\n",
       "cc    16.276932\n",
       "gs    15.321266\n",
       "jd    14.774587\n",
       "jj    12.419244\n",
       "kw    12.336070\n",
       "Name: tok_len, dtype: float64"
      ]
     },
     "execution_count": 9,
     "metadata": {},
     "output_type": "execute_result"
    }
   ],
   "source": [
    "full_data.groupby(full_data['reg'])['tok_len'].mean()"
   ]
  },
  {
   "cell_type": "code",
   "execution_count": 10,
   "id": "cde2307a",
   "metadata": {},
   "outputs": [],
   "source": [
    "full_data['tok_cat'] = pd.qcut(full_data['tok_len'], [0,0.9,0.9999,1],labels =[1,2,3])"
   ]
  },
  {
   "cell_type": "code",
   "execution_count": 11,
   "id": "da42b678",
   "metadata": {},
   "outputs": [
    {
     "data": {
      "text/html": [
       "<div>\n",
       "<style scoped>\n",
       "    .dataframe tbody tr th:only-of-type {\n",
       "        vertical-align: middle;\n",
       "    }\n",
       "\n",
       "    .dataframe tbody tr th {\n",
       "        vertical-align: top;\n",
       "    }\n",
       "\n",
       "    .dataframe thead th {\n",
       "        text-align: right;\n",
       "    }\n",
       "</style>\n",
       "<table border=\"1\" class=\"dataframe\">\n",
       "  <thead>\n",
       "    <tr style=\"text-align: right;\">\n",
       "      <th></th>\n",
       "      <th>reg</th>\n",
       "      <th>text</th>\n",
       "      <th>pair</th>\n",
       "      <th>dial</th>\n",
       "      <th>eng</th>\n",
       "      <th>toks_en</th>\n",
       "      <th>toks_dec</th>\n",
       "      <th>tok_len</th>\n",
       "      <th>tok_cat</th>\n",
       "    </tr>\n",
       "  </thead>\n",
       "  <tbody>\n",
       "    <tr>\n",
       "      <th>0</th>\n",
       "      <td>jj</td>\n",
       "      <td>그 부주를 하기에는 조금 그렇지 않아?</td>\n",
       "      <td>(안?)/(않아?)(그렇져)/(그렇지)</td>\n",
       "      <td>그 부주를 하기에는 조금 그렇져 안?</td>\n",
       "      <td>&lt;jj&gt; Isnt it a little bit like that carelessness?</td>\n",
       "      <td>[51, 4, 223, 13, 11, 28, 81, 19, 18, 297, 1057...</td>\n",
       "      <td>[1, 14, 10296, 37, 8510, 458, 4823, 18, 11, 2]</td>\n",
       "      <td>12</td>\n",
       "      <td>1</td>\n",
       "    </tr>\n",
       "    <tr>\n",
       "      <th>1</th>\n",
       "      <td>jj</td>\n",
       "      <td>그리고 거기서 밥을 먹을지도 모르겠어.</td>\n",
       "      <td>(모르겐.)/(모르겠어.)(그리언)/(그리고)</td>\n",
       "      <td>그리언 거기서 밥을 먹을지도 모르겐.</td>\n",
       "      <td>&lt;jj&gt; And I dont even know if Ill eat rice there.</td>\n",
       "      <td>[51, 4, 157, 10, 41, 95, 61, 40, 125, 87, 239,...</td>\n",
       "      <td>[1, 535, 328, 1413, 388, 536, 1532, 10, 2]</td>\n",
       "      <td>13</td>\n",
       "      <td>1</td>\n",
       "    </tr>\n",
       "    <tr>\n",
       "      <th>2</th>\n",
       "      <td>jj</td>\n",
       "      <td>왜냐하면은 밥이 안 나온다고 들었어.</td>\n",
       "      <td>(들언.)/(들었어.)(나온젠도)/(나온다고)</td>\n",
       "      <td>왜냐하면은 밥이 안 나온젠도 들언.</td>\n",
       "      <td>&lt;jj&gt; Because I heard that the rice isnt served.</td>\n",
       "      <td>[51, 4, 169, 10, 230, 18, 15, 239, 339, 2491, 12]</td>\n",
       "      <td>[1, 1158, 33, 293, 12, 18, 889, 939, 1513, 10, 2]</td>\n",
       "      <td>11</td>\n",
       "      <td>1</td>\n",
       "    </tr>\n",
       "    <tr>\n",
       "      <th>3</th>\n",
       "      <td>jj</td>\n",
       "      <td>토요일 날에 토요일날에 잔치를 하고 일요일 날에 식을 올린대.</td>\n",
       "      <td>(올린댄.)/(올린대.)(하언)/(하고)</td>\n",
       "      <td>토요일 날에 토요일날에 잔치를 하언 일요일 날에 식을 올린댄.</td>\n",
       "      <td>&lt;jj&gt; They have a party on Saturday and a cerem...</td>\n",
       "      <td>[51, 4, 213, 31, 11, 1031, 53, 1667, 17, 11, 2...</td>\n",
       "      <td>[1, 4398, 5268, 11707, 25, 3817, 37, 268, 4329...</td>\n",
       "      <td>14</td>\n",
       "      <td>1</td>\n",
       "    </tr>\n",
       "    <tr>\n",
       "      <th>4</th>\n",
       "      <td>jj</td>\n",
       "      <td>그럼 어떻게 혼자 아 혼자래.</td>\n",
       "      <td>(혼자랜.)/(혼자래.)(어떻쥬)/(어떻게)</td>\n",
       "      <td>그럼 어떻쥬 혼자 아 혼자랜.</td>\n",
       "      <td>&lt;jj&gt; Then how are you alone Oh are you alone.</td>\n",
       "      <td>[51, 4, 122, 116, 30, 14, 254, 64, 30, 14, 254...</td>\n",
       "      <td>[1, 194, 930, 359, 40, 359, 299, 10, 2]</td>\n",
       "      <td>12</td>\n",
       "      <td>1</td>\n",
       "    </tr>\n",
       "    <tr>\n",
       "      <th>...</th>\n",
       "      <td>...</td>\n",
       "      <td>...</td>\n",
       "      <td>...</td>\n",
       "      <td>...</td>\n",
       "      <td>...</td>\n",
       "      <td>...</td>\n",
       "      <td>...</td>\n",
       "      <td>...</td>\n",
       "      <td>...</td>\n",
       "    </tr>\n",
       "    <tr>\n",
       "      <th>2506241</th>\n",
       "      <td>kw</td>\n",
       "      <td>요 째그만 한 건 아마 막내 건가 부다 아유 째끄만 해</td>\n",
       "      <td>(아매)/(아마) (끝네미)/(막내)</td>\n",
       "      <td>요 째그만 한 건 아매 끝네미 건가 부다 아유 째끄만 해</td>\n",
       "      <td>&lt;kw&gt; This is probably the youngest Buda Oh its...</td>\n",
       "      <td>[51, 8, 190, 21, 787, 15, 994, 3568, 2478, 64,...</td>\n",
       "      <td>[1, 524, 3497, 347, 48, 32, 125, 4882, 1757, 8...</td>\n",
       "      <td>14</td>\n",
       "      <td>1</td>\n",
       "    </tr>\n",
       "    <tr>\n",
       "      <th>2506242</th>\n",
       "      <td>kw</td>\n",
       "      <td>내가 진짜 이거 왜 이러나? 나 병든 거 아니나? 진짜?</td>\n",
       "      <td>(이그)/(이거)</td>\n",
       "      <td>내가 진짜 이그 왜 이러나? 나 병든 거 아니나? 진짜?</td>\n",
       "      <td>&lt;kw&gt; Why am I really doing this Isnt I sick Is...</td>\n",
       "      <td>[51, 8, 156, 671, 10, 65, 120, 25, 223, 10, 44...</td>\n",
       "      <td>[1, 38, 44, 1012, 99, 1396, 53, 11, 31, 1087, ...</td>\n",
       "      <td>15</td>\n",
       "      <td>1</td>\n",
       "    </tr>\n",
       "    <tr>\n",
       "      <th>2506243</th>\n",
       "      <td>kw</td>\n",
       "      <td>네 오늘은 없어요 어디 나가시나 보죠?</td>\n",
       "      <td>(어데)/(어디) (부죠?)/(보죠?)</td>\n",
       "      <td>네 오늘은 없어요 어데 나가시나 부죠?</td>\n",
       "      <td>&lt;kw&gt; Yes I dont have it today I guess youre go...</td>\n",
       "      <td>[51, 8, 171, 10, 41, 31, 13, 231, 10, 550, 102...</td>\n",
       "      <td>[1, 306, 1959, 1819, 1040, 183, 163, 53, 368, ...</td>\n",
       "      <td>14</td>\n",
       "      <td>1</td>\n",
       "    </tr>\n",
       "    <tr>\n",
       "      <th>2506244</th>\n",
       "      <td>kw</td>\n",
       "      <td>막내놈 아르바이트하는데 나 좀 둘러보구요. 사돈댁에 다</td>\n",
       "      <td>(끝네미놈)/(막내놈) (사둔댁에)/(사돈댁에)</td>\n",
       "      <td>끝네미놈 아르바이트하는데 나 좀 둘러보구요. 사둔댁에 다</td>\n",
       "      <td>&lt;kw&gt; The youngest one is working parttime so l...</td>\n",
       "      <td>[51, 8, 80, 994, 79, 21, 362, 413, 24, 225, 11...</td>\n",
       "      <td>[1, 1757, 88, 449, 3232, 2336, 1458, 31, 45, 1...</td>\n",
       "      <td>17</td>\n",
       "      <td>1</td>\n",
       "    </tr>\n",
       "    <tr>\n",
       "      <th>2506245</th>\n",
       "      <td>kw</td>\n",
       "      <td>저 언니네 지금 안 계실걸요?</td>\n",
       "      <td>(지굼)/(지금)</td>\n",
       "      <td>저 언니네 지굼 안 계실걸요?</td>\n",
       "      <td>&lt;kw&gt; I thont think shes not here right now?</td>\n",
       "      <td>[51, 8, 10, 4504, 332, 34, 1021, 58, 128, 67, ...</td>\n",
       "      <td>[1, 64, 3837, 425, 18, 11411, 695, 71, 11, 2]</td>\n",
       "      <td>12</td>\n",
       "      <td>1</td>\n",
       "    </tr>\n",
       "  </tbody>\n",
       "</table>\n",
       "<p>2505246 rows × 9 columns</p>\n",
       "</div>"
      ],
      "text/plain": [
       "        reg                                text                        pair  \\\n",
       "0        jj               그 부주를 하기에는 조금 그렇지 않아?       (안?)/(않아?)(그렇져)/(그렇지)   \n",
       "1        jj               그리고 거기서 밥을 먹을지도 모르겠어.   (모르겐.)/(모르겠어.)(그리언)/(그리고)   \n",
       "2        jj                왜냐하면은 밥이 안 나온다고 들었어.   (들언.)/(들었어.)(나온젠도)/(나온다고)   \n",
       "3        jj  토요일 날에 토요일날에 잔치를 하고 일요일 날에 식을 올린대.      (올린댄.)/(올린대.)(하언)/(하고)   \n",
       "4        jj                    그럼 어떻게 혼자 아 혼자래.    (혼자랜.)/(혼자래.)(어떻쥬)/(어떻게)   \n",
       "...      ..                                 ...                         ...   \n",
       "2506241  kw      요 째그만 한 건 아마 막내 건가 부다 아유 째끄만 해        (아매)/(아마) (끝네미)/(막내)   \n",
       "2506242  kw     내가 진짜 이거 왜 이러나? 나 병든 거 아니나? 진짜?                   (이그)/(이거)   \n",
       "2506243  kw               네 오늘은 없어요 어디 나가시나 보죠?       (어데)/(어디) (부죠?)/(보죠?)   \n",
       "2506244  kw      막내놈 아르바이트하는데 나 좀 둘러보구요. 사돈댁에 다  (끝네미놈)/(막내놈) (사둔댁에)/(사돈댁에)   \n",
       "2506245  kw                    저 언니네 지금 안 계실걸요?                   (지굼)/(지금)   \n",
       "\n",
       "                                       dial  \\\n",
       "0                      그 부주를 하기에는 조금 그렇져 안?   \n",
       "1                      그리언 거기서 밥을 먹을지도 모르겐.   \n",
       "2                       왜냐하면은 밥이 안 나온젠도 들언.   \n",
       "3        토요일 날에 토요일날에 잔치를 하언 일요일 날에 식을 올린댄.   \n",
       "4                          그럼 어떻쥬 혼자 아 혼자랜.   \n",
       "...                                     ...   \n",
       "2506241     요 째그만 한 건 아매 끝네미 건가 부다 아유 째끄만 해   \n",
       "2506242     내가 진짜 이그 왜 이러나? 나 병든 거 아니나? 진짜?   \n",
       "2506243               네 오늘은 없어요 어데 나가시나 부죠?   \n",
       "2506244     끝네미놈 아르바이트하는데 나 좀 둘러보구요. 사둔댁에 다   \n",
       "2506245                    저 언니네 지굼 안 계실걸요?   \n",
       "\n",
       "                                                       eng  \\\n",
       "0        <jj> Isnt it a little bit like that carelessness?   \n",
       "1         <jj> And I dont even know if Ill eat rice there.   \n",
       "2          <jj> Because I heard that the rice isnt served.   \n",
       "3        <jj> They have a party on Saturday and a cerem...   \n",
       "4            <jj> Then how are you alone Oh are you alone.   \n",
       "...                                                    ...   \n",
       "2506241  <kw> This is probably the youngest Buda Oh its...   \n",
       "2506242  <kw> Why am I really doing this Isnt I sick Is...   \n",
       "2506243  <kw> Yes I dont have it today I guess youre go...   \n",
       "2506244  <kw> The youngest one is working parttime so l...   \n",
       "2506245        <kw> I thont think shes not here right now?   \n",
       "\n",
       "                                                   toks_en  \\\n",
       "0        [51, 4, 223, 13, 11, 28, 81, 19, 18, 297, 1057...   \n",
       "1        [51, 4, 157, 10, 41, 95, 61, 40, 125, 87, 239,...   \n",
       "2        [51, 4, 169, 10, 230, 18, 15, 239, 339, 2491, 12]   \n",
       "3        [51, 4, 213, 31, 11, 1031, 53, 1667, 17, 11, 2...   \n",
       "4        [51, 4, 122, 116, 30, 14, 254, 64, 30, 14, 254...   \n",
       "...                                                    ...   \n",
       "2506241  [51, 8, 190, 21, 787, 15, 994, 3568, 2478, 64,...   \n",
       "2506242  [51, 8, 156, 671, 10, 65, 120, 25, 223, 10, 44...   \n",
       "2506243  [51, 8, 171, 10, 41, 31, 13, 231, 10, 550, 102...   \n",
       "2506244  [51, 8, 80, 994, 79, 21, 362, 413, 24, 225, 11...   \n",
       "2506245  [51, 8, 10, 4504, 332, 34, 1021, 58, 128, 67, ...   \n",
       "\n",
       "                                                  toks_dec  tok_len tok_cat  \n",
       "0           [1, 14, 10296, 37, 8510, 458, 4823, 18, 11, 2]       12       1  \n",
       "1               [1, 535, 328, 1413, 388, 536, 1532, 10, 2]       13       1  \n",
       "2        [1, 1158, 33, 293, 12, 18, 889, 939, 1513, 10, 2]       11       1  \n",
       "3        [1, 4398, 5268, 11707, 25, 3817, 37, 268, 4329...       14       1  \n",
       "4                  [1, 194, 930, 359, 40, 359, 299, 10, 2]       12       1  \n",
       "...                                                    ...      ...     ...  \n",
       "2506241  [1, 524, 3497, 347, 48, 32, 125, 4882, 1757, 8...       14       1  \n",
       "2506242  [1, 38, 44, 1012, 99, 1396, 53, 11, 31, 1087, ...       15       1  \n",
       "2506243  [1, 306, 1959, 1819, 1040, 183, 163, 53, 368, ...       14       1  \n",
       "2506244  [1, 1757, 88, 449, 3232, 2336, 1458, 31, 45, 1...       17       1  \n",
       "2506245      [1, 64, 3837, 425, 18, 11411, 695, 71, 11, 2]       12       1  \n",
       "\n",
       "[2505246 rows x 9 columns]"
      ]
     },
     "execution_count": 11,
     "metadata": {},
     "output_type": "execute_result"
    }
   ],
   "source": [
    "full_data"
   ]
  },
  {
   "cell_type": "code",
   "execution_count": 12,
   "id": "2af0518a",
   "metadata": {},
   "outputs": [
    {
     "data": {
      "text/plain": [
       "16668      41\n",
       "17298      61\n",
       "18039      40\n",
       "18559      41\n",
       "34489      41\n",
       "           ..\n",
       "2386875    48\n",
       "2393280    62\n",
       "2396757    63\n",
       "2465478    54\n",
       "2470227    43\n",
       "Name: tok_len, Length: 242, dtype: int64"
      ]
     },
     "execution_count": 12,
     "metadata": {},
     "output_type": "execute_result"
    }
   ],
   "source": [
    "full_data.loc[full_data['tok_cat']==3,'tok_len']"
   ]
  },
  {
   "cell_type": "code",
   "execution_count": 13,
   "id": "bfc2da37",
   "metadata": {},
   "outputs": [
    {
     "data": {
      "text/plain": [
       "242"
      ]
     },
     "execution_count": 13,
     "metadata": {},
     "output_type": "execute_result"
    }
   ],
   "source": [
    "len(full_data.loc[full_data['tok_cat']==3,'tok_len'])"
   ]
  },
  {
   "cell_type": "code",
   "execution_count": 14,
   "id": "7cbe02d9",
   "metadata": {},
   "outputs": [
    {
     "data": {
      "text/plain": [
       "min     39\n",
       "max    106\n",
       "Name: tok_len, dtype: int64"
      ]
     },
     "execution_count": 14,
     "metadata": {},
     "output_type": "execute_result"
    }
   ],
   "source": [
    "full_data.loc[full_data['tok_cat']==3,'tok_len'].agg([min,max])"
   ]
  },
  {
   "cell_type": "code",
   "execution_count": 15,
   "id": "f472b3d4",
   "metadata": {},
   "outputs": [
    {
     "data": {
      "text/plain": [
       "True"
      ]
     },
     "execution_count": 15,
     "metadata": {},
     "output_type": "execute_result"
    }
   ],
   "source": [
    "data_path = os.getenv('HOME') + '/workspace/saturi/'\n",
    "sizes = 16009\n",
    "SRC_VOCAB_SIZE = sizes\n",
    "TGT_VOCAB_SIZE = sizes\n",
    "\n",
    "enc_tokenizer = spm.SentencePieceProcessor()\n",
    "enc_tokenizer.Load(data_path+'spm_enc_spm16000_na.model')\n",
    "\n",
    "dec_tokenizer = spm.SentencePieceProcessor()\n",
    "dec_tokenizer.Load(data_path+f'spm_dec_{tokenizer_name}16000_na.model')\n",
    "\n",
    "dec_tokenizer.set_encode_extra_options(\"bos:eos\")"
   ]
  },
  {
   "cell_type": "markdown",
   "id": "2d62d755",
   "metadata": {},
   "source": [
    "# Step 2. 모델 불러오기"
   ]
  },
  {
   "cell_type": "code",
   "execution_count": 16,
   "id": "24296d85",
   "metadata": {},
   "outputs": [
    {
     "name": "stderr",
     "output_type": "stream",
     "text": [
      "\u001b[34m\u001b[1mwandb\u001b[0m: Currently logged in as: \u001b[33maeolian83\u001b[0m (\u001b[33msaturi-lab\u001b[0m). Use \u001b[1m`wandb login --relogin`\u001b[0m to force relogin\n"
     ]
    },
    {
     "data": {
      "text/plain": [
       "True"
      ]
     },
     "execution_count": 16,
     "metadata": {},
     "output_type": "execute_result"
    }
   ],
   "source": [
    "import wandb\n",
    "wandb.login()"
   ]
  },
  {
   "cell_type": "code",
   "execution_count": 17,
   "id": "da9f9499",
   "metadata": {},
   "outputs": [
    {
     "data": {
      "text/html": [
       "wandb version 0.15.3 is available!  To upgrade, please run:\n",
       " $ pip install wandb --upgrade"
      ],
      "text/plain": [
       "<IPython.core.display.HTML object>"
      ]
     },
     "metadata": {},
     "output_type": "display_data"
    },
    {
     "data": {
      "text/html": [
       "Tracking run with wandb version 0.15.2"
      ],
      "text/plain": [
       "<IPython.core.display.HTML object>"
      ]
     },
     "metadata": {},
     "output_type": "display_data"
    },
    {
     "data": {
      "text/html": [
       "Run data is saved locally in <code>/home/aeolian83/workspace/saturi/wandb/run-20230604_185146-nbz3ajpr</code>"
      ],
      "text/plain": [
       "<IPython.core.display.HTML object>"
      ]
     },
     "metadata": {},
     "output_type": "display_data"
    },
    {
     "data": {
      "text/html": [
       "Syncing run <strong><a href='https://wandb.ai/saturi-lab/saturi_v_transformer_new_corpus/runs/nbz3ajpr' target=\"_blank\">peach-water-13</a></strong> to <a href='https://wandb.ai/saturi-lab/saturi_v_transformer_new_corpus' target=\"_blank\">Weights & Biases</a> (<a href='https://wandb.me/run' target=\"_blank\">docs</a>)<br/>"
      ],
      "text/plain": [
       "<IPython.core.display.HTML object>"
      ]
     },
     "metadata": {},
     "output_type": "display_data"
    },
    {
     "data": {
      "text/html": [
       " View project at <a href='https://wandb.ai/saturi-lab/saturi_v_transformer_new_corpus' target=\"_blank\">https://wandb.ai/saturi-lab/saturi_v_transformer_new_corpus</a>"
      ],
      "text/plain": [
       "<IPython.core.display.HTML object>"
      ]
     },
     "metadata": {},
     "output_type": "display_data"
    },
    {
     "data": {
      "text/html": [
       " View run at <a href='https://wandb.ai/saturi-lab/saturi_v_transformer_new_corpus/runs/nbz3ajpr' target=\"_blank\">https://wandb.ai/saturi-lab/saturi_v_transformer_new_corpus/runs/nbz3ajpr</a>"
      ],
      "text/plain": [
       "<IPython.core.display.HTML object>"
      ]
     },
     "metadata": {},
     "output_type": "display_data"
    }
   ],
   "source": [
    "#wandb 설정\n",
    "warmups = 8500\n",
    "project_name = 'saturi_v_transformer_new_corpus'\n",
    "run  = wandb.init(project = project_name ,\n",
    "                  entity = 'saturi-lab',\n",
    "                  config = {\n",
    "                      'model_name':'Vanilla_Transformer',\n",
    "                      'n_layers':6,\n",
    "                      'd_model':512,\n",
    "                      'n_heads':8,\n",
    "                      'd_ff':2048,\n",
    "                      'src_vocab_size':SRC_VOCAB_SIZE,\n",
    "                      'tgt_vocab_size':TGT_VOCAB_SIZE,\n",
    "                      'pos_len': 512,\n",
    "                      'dropout':0.2,\n",
    "                      'shared':True,\n",
    "                      'warmups' : warmups,\n",
    "                      'epochs':1,\n",
    "                      'optimizer' :'ADAM',\n",
    "                      'loss' : 'SparseCategoricalCrossentropy',\n",
    "                      'metric' : 'bleu'\n",
    "                  })\n",
    "config = wandb.config"
   ]
  },
  {
   "cell_type": "code",
   "execution_count": 18,
   "id": "3c0d31e1",
   "metadata": {},
   "outputs": [],
   "source": [
    "# config = {\n",
    "#             'model_name':'Vanilla_Transformer',\n",
    "#             'n_layers':6,\n",
    "#             'd_model':512,\n",
    "#             'n_heads':8,\n",
    "#             'd_ff':2048,\n",
    "#             'src_vocab_size':SRC_VOCAB_SIZE,\n",
    "#             'tgt_vocab_size':TGT_VOCAB_SIZE,\n",
    "#             'pos_len': 512,\n",
    "#             'dropout':0.2,\n",
    "#             'shared':True,\n",
    "#             'warmups' : warmups,\n",
    "#             'epochs':1,\n",
    "#             'optimizer' :'ADAM',\n",
    "#             'loss' : 'SparseCategoricalCrossentropy',\n",
    "#             'metric' : 'bleu'\n",
    "#                   }"
   ]
  },
  {
   "cell_type": "code",
   "execution_count": 19,
   "id": "b91b5c10",
   "metadata": {},
   "outputs": [],
   "source": [
    "import sys\n",
    "sys.path.insert(0,os.getenv('HOME') + '/aiffel/saturi/MODEL/') # vanilla transformer 파일경로에서 불러오기 위해 설정\n",
    "sys.path.insert(0,os.getenv('HOME') + '/aiffel/saturi/PRE/')\n",
    "sys.path.insert(0,os.getenv('HOME') + '/aiffel/saturi/POST/')"
   ]
  },
  {
   "cell_type": "code",
   "execution_count": 20,
   "id": "e8b6fe54",
   "metadata": {},
   "outputs": [
    {
     "name": "stderr",
     "output_type": "stream",
     "text": [
      "2023-06-04 18:51:50.178700: I tensorflow/stream_executor/cuda/cuda_gpu_executor.cc:936] successful NUMA node read from SysFS had negative value (-1), but there must be at least one NUMA node, so returning NUMA node zero\n",
      "2023-06-04 18:51:50.258101: I tensorflow/stream_executor/cuda/cuda_gpu_executor.cc:936] successful NUMA node read from SysFS had negative value (-1), but there must be at least one NUMA node, so returning NUMA node zero\n",
      "2023-06-04 18:51:50.258417: I tensorflow/stream_executor/cuda/cuda_gpu_executor.cc:936] successful NUMA node read from SysFS had negative value (-1), but there must be at least one NUMA node, so returning NUMA node zero\n",
      "2023-06-04 18:51:50.261348: I tensorflow/core/platform/cpu_feature_guard.cc:151] This TensorFlow binary is optimized with oneAPI Deep Neural Network Library (oneDNN) to use the following CPU instructions in performance-critical operations:  AVX2 FMA\n",
      "To enable them in other operations, rebuild TensorFlow with the appropriate compiler flags.\n",
      "2023-06-04 18:51:50.262819: I tensorflow/stream_executor/cuda/cuda_gpu_executor.cc:936] successful NUMA node read from SysFS had negative value (-1), but there must be at least one NUMA node, so returning NUMA node zero\n",
      "2023-06-04 18:51:50.263067: I tensorflow/stream_executor/cuda/cuda_gpu_executor.cc:936] successful NUMA node read from SysFS had negative value (-1), but there must be at least one NUMA node, so returning NUMA node zero\n",
      "2023-06-04 18:51:50.263217: I tensorflow/stream_executor/cuda/cuda_gpu_executor.cc:936] successful NUMA node read from SysFS had negative value (-1), but there must be at least one NUMA node, so returning NUMA node zero\n",
      "2023-06-04 18:51:51.314902: I tensorflow/stream_executor/cuda/cuda_gpu_executor.cc:936] successful NUMA node read from SysFS had negative value (-1), but there must be at least one NUMA node, so returning NUMA node zero\n",
      "2023-06-04 18:51:51.315082: I tensorflow/stream_executor/cuda/cuda_gpu_executor.cc:936] successful NUMA node read from SysFS had negative value (-1), but there must be at least one NUMA node, so returning NUMA node zero\n",
      "2023-06-04 18:51:51.315144: I tensorflow/stream_executor/cuda/cuda_gpu_executor.cc:936] successful NUMA node read from SysFS had negative value (-1), but there must be at least one NUMA node, so returning NUMA node zero\n",
      "2023-06-04 18:51:51.316024: I tensorflow/core/common_runtime/gpu/gpu_device.cc:1525] Created device /job:localhost/replica:0/task:0/device:GPU:0 with 22165 MB memory:  -> device: 0, name: NVIDIA GeForce RTX 3090, pci bus id: 0000:2e:00.0, compute capability: 8.6\n"
     ]
    }
   ],
   "source": [
    "from vanilla_transformer import Transformer, generate_masks\n",
    "\n",
    "transformer = Transformer(\n",
    "    n_layers=config.n_layers,\n",
    "    d_model=config.d_model,\n",
    "    n_heads=config.n_heads,\n",
    "    d_ff=config.d_ff,\n",
    "    src_vocab_size=config.src_vocab_size,\n",
    "    tgt_vocab_size=config.tgt_vocab_size,\n",
    "    pos_len=config.pos_len,\n",
    "    dropout=config.dropout,\n",
    "    shared=config.shared\n",
    ")"
   ]
  },
  {
   "cell_type": "code",
   "execution_count": 21,
   "id": "db6ea51f",
   "metadata": {},
   "outputs": [],
   "source": [
    "# from vanilla_transformer import Transformer, generate_masks\n",
    "\n",
    "# transformer = Transformer(\n",
    "#     n_layers=config['n_layers'],\n",
    "#     d_model=config['d_model'],\n",
    "#     n_heads=config['n_heads'],\n",
    "#     d_ff=config['d_ff'],\n",
    "#     src_vocab_size=config['src_vocab_size'],\n",
    "#     tgt_vocab_size=config['tgt_vocab_size'],\n",
    "#     pos_len=config['pos_len'],\n",
    "#     dropout=config['dropout'],\n",
    "#     shared=config['shared']\n",
    "# )"
   ]
  },
  {
   "cell_type": "markdown",
   "id": "3730286e",
   "metadata": {},
   "source": [
    "## Learning Rate Scheduler를 선언하고, 이를 포함하는 Adam Optimazer를 선언"
   ]
  },
  {
   "cell_type": "code",
   "execution_count": 22,
   "id": "bd64ea1e",
   "metadata": {},
   "outputs": [],
   "source": [
    "class LearningRateScheduler(tf.keras.optimizers.schedules.LearningRateSchedule):\n",
    "    def __init__(self, d_model, warmup_steps=config['warmups']):\n",
    "        super(LearningRateScheduler, self).__init__()\n",
    "        self.d_model = d_model\n",
    "        self.warmup_steps = warmup_steps\n",
    "    \n",
    "    def __call__(self, step):\n",
    "        arg1 = step ** np.array(-0.5)\n",
    "        arg2 = step * np.array(self.warmup_steps ** -1.5)\n",
    "        \n",
    "        return np.array(self.d_model ** -0.5) * tf.math.minimum(arg1, arg2)"
   ]
  },
  {
   "cell_type": "code",
   "execution_count": 23,
   "id": "b4a905aa",
   "metadata": {},
   "outputs": [],
   "source": [
    "learningrate = LearningRateScheduler(512)"
   ]
  },
  {
   "cell_type": "code",
   "execution_count": 24,
   "id": "4ad4d1c3",
   "metadata": {},
   "outputs": [],
   "source": [
    "optimizer = tf.keras.optimizers.Adam(learningrate, beta_1=0.9, beta_2=0.98, epsilon=1e-9)"
   ]
  },
  {
   "cell_type": "markdown",
   "id": "415a9d83",
   "metadata": {},
   "source": [
    "## Loss 함수를 정의\n",
    "- loss 함수에서 mask는 어떤 역활을 하는가?\n",
    "- tf.reduce_sum의 기능에 대해 확인"
   ]
  },
  {
   "cell_type": "code",
   "execution_count": 25,
   "id": "e6f0df05",
   "metadata": {},
   "outputs": [],
   "source": [
    "# Loss 함수 정의\n",
    "loss_object = tf.keras.losses.SparseCategoricalCrossentropy(from_logits=True, reduction='none')\n",
    "\n",
    "def loss_function(real, pred):\n",
    "    # 로스함수에서  mask는 어떤 역활을 하는가?\n",
    "    mask = tf.math.logical_not(tf.math.equal(real, 0))\n",
    "    loss_ = loss_object(real, pred)\n",
    "\n",
    "    # Masking 되지 않은 입력의 개수로 Scaling하는 과정\n",
    "    mask = tf.cast(mask, dtype=loss_.dtype)\n",
    "    loss_ *= mask\n",
    "\n",
    "    return tf.reduce_sum(loss_)/tf.reduce_sum(mask)"
   ]
  },
  {
   "cell_type": "markdown",
   "id": "e0ae3f4d",
   "metadata": {},
   "source": [
    "## train_step 함수를 정의"
   ]
  },
  {
   "cell_type": "code",
   "execution_count": 26,
   "id": "c6870a88",
   "metadata": {},
   "outputs": [],
   "source": [
    "@tf.function()\n",
    "def train_step(src, tgt, model, optimizer):\n",
    "    gold = tgt[:, 1:]\n",
    "        \n",
    "    enc_mask, dec_enc_mask, dec_mask = generate_masks(src, tgt)\n",
    "\n",
    "    # 계산된 loss에 tf.GradientTape()를 적용해 학습을 진행합니다.\n",
    "    with tf.GradientTape() as tape:\n",
    "        predictions, enc_attns, dec_attns, dec_enc_attns = model(src, tgt, enc_mask, dec_enc_mask, dec_mask)\n",
    "        loss = loss_function(gold, predictions[:, :-1])\n",
    "\n",
    "    # 최종적으로 optimizer.apply_gradients()가 사용됩니다. \n",
    "    gradients = tape.gradient(loss, model.trainable_variables)    \n",
    "    optimizer.apply_gradients(zip(gradients, model.trainable_variables))\n",
    "    \n",
    "    \n",
    "    return loss, enc_attns, dec_attns, dec_enc_attns, predictions"
   ]
  },
  {
   "cell_type": "code",
   "execution_count": 27,
   "id": "3c6f0154",
   "metadata": {},
   "outputs": [],
   "source": [
    "# Validating the model\n",
    "@tf.function\n",
    "def model_validate(src, tgt, model):\n",
    "    gold = tgt[:, 1:]\n",
    "        \n",
    "    enc_mask, dec_enc_mask, dec_mask = generate_masks(src, tgt)\n",
    "    predictions, enc_attns, dec_attns, dec_enc_attns = model(src, tgt, enc_mask, dec_enc_mask, dec_mask)\n",
    "    v_loss = loss_function(gold, predictions[:, :-1])\n",
    "    \n",
    "    return v_loss, predictions"
   ]
  },
  {
   "cell_type": "code",
   "execution_count": 28,
   "id": "097dff5e",
   "metadata": {},
   "outputs": [],
   "source": [
    "# 학습 매니저 설정\n",
    "from evaluation import evaluate, compute_metric, translate\n",
    "full_data = full_data.sample(frac=1).copy()"
   ]
  },
  {
   "cell_type": "code",
   "execution_count": 29,
   "id": "24c11690",
   "metadata": {},
   "outputs": [],
   "source": [
    "def train_and_checkpoint(transformer, manager, EPOCHS):\n",
    "    ckpt.restore(manager.latest_checkpoint)\n",
    "    if manager.latest_checkpoint:\n",
    "        print(\"Restored from {}\".format(manager.latest_checkpoint))\n",
    "    \n",
    "    else:\n",
    "        print(\"Initializing from scratch.\")\n",
    "\n",
    "\n",
    "    for epoch in range(EPOCHS):\n",
    "        \n",
    "        batch_size = 64\n",
    "        buckets = iter(reversed(full_data['tok_cat'].unique().tolist()))\n",
    "\n",
    "        for bucket in buckets :\n",
    "            total_loss = 0     \n",
    "            \n",
    "            src_corpus = full_data.loc[full_data['tok_cat']==bucket,'toks_en'].values\n",
    "            tgt_corpus = full_data.loc[full_data['tok_cat']==bucket,'toks_dec'].values\n",
    "            src_valid_corpus = full_data_test['toks_en'].values\n",
    "            tgt_valid_corpus = full_data_test['toks_dec'].values\n",
    "            max_len = full_data.loc[full_data['tok_cat']==bucket,'tok_len'].max()\n",
    "\n",
    "            if max_len > 380 :\n",
    "                batch_size = 8\n",
    "\n",
    "            if max_len > 512 : \n",
    "                max_len = 512\n",
    "\n",
    "\n",
    "            enc_train = tf.keras.preprocessing.sequence.pad_sequences(src_corpus, padding='post', maxlen=max_len)\n",
    "            dec_train = tf.keras.preprocessing.sequence.pad_sequences(tgt_corpus, padding='post', maxlen=max_len)\n",
    "            enc_test = tf.keras.preprocessing.sequence.pad_sequences(src_valid_corpus, padding='post', maxlen=max_len)\n",
    "            dec_test = tf.keras.preprocessing.sequence.pad_sequences(tgt_valid_corpus, padding='post', maxlen=max_len)\n",
    "            \n",
    "            idx_list = list(range(0, enc_train.shape[0], batch_size))\n",
    "            random.shuffle(idx_list)\n",
    "\n",
    "            t = tqdm(idx_list)\n",
    "            \n",
    "            for (batch, idx) in enumerate(t):\n",
    "                batch_loss, enc_attns, dec_attns, dec_enc_attns, preds = train_step(enc_train[idx:idx+batch_size],\n",
    "                                                                             dec_train[idx:idx+batch_size],\n",
    "                                                                             transformer,\n",
    "                                                                             optimizer)\n",
    "\n",
    "                total_loss += batch_loss\n",
    "\n",
    "                t.set_description_str('Bucket %2d' % (bucket))\n",
    "                t.set_postfix_str('Loss %.4f' % (total_loss.numpy() / (batch + 1)))\n",
    "            \n",
    "                wandb.log({\"train_loss\": (total_loss.numpy() / (batch + 1)),})\n",
    "            \n",
    "            #validation\n",
    "            total_loss_val = 0\n",
    "            val_size=25\n",
    "            tv = tqdm(range(0,enc_test.shape[0], val_size))\n",
    "            \n",
    "            for (batch_val,test_idx) in enumerate(tv) :\n",
    "                val_loss, val_preds = model_validate(enc_test[test_idx : test_idx + val_size],\n",
    "                                          dec_test[test_idx : test_idx + val_size],\n",
    "                                          transformer)\n",
    "                total_loss_val += val_loss\n",
    "                tv.set_postfix_str('val_Loss %.4f' % (total_loss_val.numpy() / (batch_val + 1)))\n",
    "                \n",
    "                wandb.log({\"valid_loss\" : (total_loss_val.numpy() / (batch_val + 1))                           })\n",
    "\n",
    "            save_path = manager.save()\n",
    "            print(\"Saved checkpoint for step {}: {}\".format(int(ckpt.step), save_path))\n",
    "            \n",
    "        # bleu score\n",
    "        from datasets import load_metric\n",
    "\n",
    "        bleu = load_metric(\"sacrebleu\")\n",
    "        test_translate = []\n",
    "        bleu_valid_score = []\n",
    "        \n",
    "        test_text = full_data_test.eng.values\n",
    "        test_tgt = full_data_test.dial.values\n",
    "        \n",
    "        for i in tqdm(range(len(test_text))) :\n",
    "            trans = translate(test_text[i], transformer, enc_tokenizer, dec_tokenizer, verbose =False)\n",
    "            test_translate.append(trans)\n",
    "            label = dec_tokenizer.decode(test_tgt[i])\n",
    "            result = bleu.compute(predictions=[trans], references=[[label]], smooth_method='add-k')['score']\n",
    "            bleu_valid_score.append(result)\n",
    "\n",
    "        sum(bleu_valid_score)/len(test_text)\n",
    "        wandb.log({\"bleu\": sum(bleu_valid_score)/len(test_text)})\n",
    "\n",
    "        full_data_test['bleu'] = np.array(bleu_valid_score)\n",
    "        full_data_test['pred'] = test_translate\n",
    "            \n",
    "directory = os.getenv('HOME') + '/aiffel/saturi/MODEL/'\n",
    "ckpt = tf.train.Checkpoint(step = tf.Variable(1), optimizer = optimizer , transformer = transformer)\n",
    "manager = tf.train.CheckpointManager(ckpt, directory +f'tf_{tokenizer_name}16000_ckpt_final_0603_newcorpus_na',max_to_keep=10)"
   ]
  },
  {
   "cell_type": "code",
   "execution_count": 30,
   "id": "c6154df0",
   "metadata": {},
   "outputs": [],
   "source": [
    "manager.latest_checkpoint"
   ]
  },
  {
   "cell_type": "code",
   "execution_count": 31,
   "id": "ed92170b",
   "metadata": {
    "scrolled": true
   },
   "outputs": [
    {
     "data": {
      "text/plain": [
       "<tensorflow.python.training.tracking.util.InitializationOnlyStatus at 0x7f06329e2d00>"
      ]
     },
     "execution_count": 31,
     "metadata": {},
     "output_type": "execute_result"
    }
   ],
   "source": [
    "ckpt.restore(manager.latest_checkpoint)"
   ]
  },
  {
   "cell_type": "code",
   "execution_count": 32,
   "id": "a8baa5be",
   "metadata": {},
   "outputs": [
    {
     "data": {
      "text/html": [
       "Finishing last run (ID:nbz3ajpr) before initializing another..."
      ],
      "text/plain": [
       "<IPython.core.display.HTML object>"
      ]
     },
     "metadata": {},
     "output_type": "display_data"
    },
    {
     "data": {
      "text/html": [
       "Waiting for W&B process to finish... <strong style=\"color:green\">(success).</strong>"
      ],
      "text/plain": [
       "<IPython.core.display.HTML object>"
      ]
     },
     "metadata": {},
     "output_type": "display_data"
    },
    {
     "data": {
      "text/html": [
       " View run <strong style=\"color:#cdcd00\">peach-water-13</strong> at: <a href='https://wandb.ai/saturi-lab/saturi_v_transformer_new_corpus/runs/nbz3ajpr' target=\"_blank\">https://wandb.ai/saturi-lab/saturi_v_transformer_new_corpus/runs/nbz3ajpr</a><br/>Synced 6 W&B file(s), 0 media file(s), 0 artifact file(s) and 0 other file(s)"
      ],
      "text/plain": [
       "<IPython.core.display.HTML object>"
      ]
     },
     "metadata": {},
     "output_type": "display_data"
    },
    {
     "data": {
      "text/html": [
       "Find logs at: <code>./wandb/run-20230604_185146-nbz3ajpr/logs</code>"
      ],
      "text/plain": [
       "<IPython.core.display.HTML object>"
      ]
     },
     "metadata": {},
     "output_type": "display_data"
    },
    {
     "data": {
      "text/html": [
       "Successfully finished last run (ID:nbz3ajpr). Initializing new run:<br/>"
      ],
      "text/plain": [
       "<IPython.core.display.HTML object>"
      ]
     },
     "metadata": {},
     "output_type": "display_data"
    },
    {
     "data": {
      "application/vnd.jupyter.widget-view+json": {
       "model_id": "de096e2083634419a93a57d55bf5fbdb",
       "version_major": 2,
       "version_minor": 0
      },
      "text/plain": [
       "VBox(children=(Label(value='Waiting for wandb.init()...\\r'), FloatProgress(value=0.01667318343333335, max=1.0)…"
      ]
     },
     "metadata": {},
     "output_type": "display_data"
    },
    {
     "data": {
      "text/html": [
       "wandb version 0.15.3 is available!  To upgrade, please run:\n",
       " $ pip install wandb --upgrade"
      ],
      "text/plain": [
       "<IPython.core.display.HTML object>"
      ]
     },
     "metadata": {},
     "output_type": "display_data"
    },
    {
     "data": {
      "text/html": [
       "Tracking run with wandb version 0.15.2"
      ],
      "text/plain": [
       "<IPython.core.display.HTML object>"
      ]
     },
     "metadata": {},
     "output_type": "display_data"
    },
    {
     "data": {
      "text/html": [
       "Run data is saved locally in <code>/home/aeolian83/workspace/saturi/wandb/run-20230604_185154-htg8q1x7</code>"
      ],
      "text/plain": [
       "<IPython.core.display.HTML object>"
      ]
     },
     "metadata": {},
     "output_type": "display_data"
    },
    {
     "data": {
      "text/html": [
       "Syncing run <strong><a href='https://wandb.ai/saturi-lab/saturi_v_transformer_new_corpus/runs/htg8q1x7' target=\"_blank\">solar-hill-14</a></strong> to <a href='https://wandb.ai/saturi-lab/saturi_v_transformer_new_corpus' target=\"_blank\">Weights & Biases</a> (<a href='https://wandb.me/run' target=\"_blank\">docs</a>)<br/>"
      ],
      "text/plain": [
       "<IPython.core.display.HTML object>"
      ]
     },
     "metadata": {},
     "output_type": "display_data"
    },
    {
     "data": {
      "text/html": [
       " View project at <a href='https://wandb.ai/saturi-lab/saturi_v_transformer_new_corpus' target=\"_blank\">https://wandb.ai/saturi-lab/saturi_v_transformer_new_corpus</a>"
      ],
      "text/plain": [
       "<IPython.core.display.HTML object>"
      ]
     },
     "metadata": {},
     "output_type": "display_data"
    },
    {
     "data": {
      "text/html": [
       " View run at <a href='https://wandb.ai/saturi-lab/saturi_v_transformer_new_corpus/runs/htg8q1x7' target=\"_blank\">https://wandb.ai/saturi-lab/saturi_v_transformer_new_corpus/runs/htg8q1x7</a>"
      ],
      "text/plain": [
       "<IPython.core.display.HTML object>"
      ]
     },
     "metadata": {},
     "output_type": "display_data"
    },
    {
     "name": "stdout",
     "output_type": "stream",
     "text": [
      "Initializing from scratch.\n"
     ]
    },
    {
     "name": "stderr",
     "output_type": "stream",
     "text": [
      "  0%|                                                                                             | 0/4 [00:00<?, ?it/s]2023-06-04 18:52:10.181725: I tensorflow/stream_executor/cuda/cuda_blas.cc:1786] TensorFloat-32 will be used for the matrix multiplication. This will only be logged once.\n",
      "Bucket  3: 100%|████████████████████████████████████████████████████████████| 4/4 [00:08<00:00,  2.24s/it, Loss 10.8355]\n",
      "100%|█████████████████████████████████████████████████████████████████| 40/40 [00:01<00:00, 20.04it/s, val_Loss 10.9314]\n"
     ]
    },
    {
     "name": "stdout",
     "output_type": "stream",
     "text": [
      "Saved checkpoint for step 1: /home/aeolian83/aiffel/saturi/MODEL/tf_spm16000_ckpt_final_0603_newcorpus_na/ckpt-1\n"
     ]
    },
    {
     "name": "stderr",
     "output_type": "stream",
     "text": [
      "Bucket  2: 100%|███████████████████████████████████████████████████████| 3581/3581 [04:18<00:00, 13.86it/s, Loss 6.7104]\n",
      "100%|██████████████████████████████████████████████████████████████████| 40/40 [00:01<00:00, 31.08it/s, val_Loss 5.3979]\n"
     ]
    },
    {
     "name": "stdout",
     "output_type": "stream",
     "text": [
      "Saved checkpoint for step 1: /home/aeolian83/aiffel/saturi/MODEL/tf_spm16000_ckpt_final_0603_newcorpus_na/ckpt-2\n"
     ]
    },
    {
     "name": "stderr",
     "output_type": "stream",
     "text": [
      "Bucket  1: 100%|█████████████████████████████████████████████████████| 35561/35561 [29:08<00:00, 20.34it/s, Loss 4.0573]\n",
      "100%|██████████████████████████████████████████████████████████████████| 40/40 [00:01<00:00, 35.26it/s, val_Loss 3.7224]\n"
     ]
    },
    {
     "name": "stdout",
     "output_type": "stream",
     "text": [
      "Saved checkpoint for step 1: /home/aeolian83/aiffel/saturi/MODEL/tf_spm16000_ckpt_final_0603_newcorpus_na/ckpt-3\n"
     ]
    },
    {
     "name": "stderr",
     "output_type": "stream",
     "text": [
      "100%|███████████████████████████████████████████████████████████████████████████████| 1000/1000 [10:01<00:00,  1.66it/s]\n"
     ]
    },
    {
     "data": {
      "text/html": [
       "Finishing last run (ID:htg8q1x7) before initializing another..."
      ],
      "text/plain": [
       "<IPython.core.display.HTML object>"
      ]
     },
     "metadata": {},
     "output_type": "display_data"
    },
    {
     "data": {
      "text/html": [
       "Waiting for W&B process to finish... <strong style=\"color:green\">(success).</strong>"
      ],
      "text/plain": [
       "<IPython.core.display.HTML object>"
      ]
     },
     "metadata": {},
     "output_type": "display_data"
    },
    {
     "data": {
      "application/vnd.jupyter.widget-view+json": {
       "model_id": "43d83ad8dc514905855ec87ddae1c660",
       "version_major": 2,
       "version_minor": 0
      },
      "text/plain": [
       "VBox(children=(Label(value='0.003 MB of 0.003 MB uploaded (0.000 MB deduped)\\r'), FloatProgress(value=1.0, max…"
      ]
     },
     "metadata": {},
     "output_type": "display_data"
    },
    {
     "data": {
      "text/html": [
       "<style>\n",
       "    table.wandb td:nth-child(1) { padding: 0 10px; text-align: left ; width: auto;} td:nth-child(2) {text-align: left ; width: 100%}\n",
       "    .wandb-row { display: flex; flex-direction: row; flex-wrap: wrap; justify-content: flex-start; width: 100% }\n",
       "    .wandb-col { display: flex; flex-direction: column; flex-basis: 100%; flex: 1; padding: 10px; }\n",
       "    </style>\n",
       "<div class=\"wandb-row\"><div class=\"wandb-col\"><h3>Run history:</h3><br/><table class=\"wandb\"><tr><td>bleu</td><td>▁</td></tr><tr><td>train_loss</td><td>█▇▆▆▃▃▃▃▃▃▂▂▂▂▂▂▂▂▂▂▂▂▂▂▁▁▁▁▁▁▁▁▁▁▁▁▁▁▁▁</td></tr><tr><td>valid_loss</td><td>██████████████▃▃▃▃▃▃▃▃▃▃▃▃▃▁▁▁▁▁▁▁▁▁▁▁▁▁</td></tr></table><br/></div><div class=\"wandb-col\"><h3>Run summary:</h3><br/><table class=\"wandb\"><tr><td>bleu</td><td>16.28228</td></tr><tr><td>train_loss</td><td>4.05731</td></tr><tr><td>valid_loss</td><td>3.72238</td></tr></table><br/></div></div>"
      ],
      "text/plain": [
       "<IPython.core.display.HTML object>"
      ]
     },
     "metadata": {},
     "output_type": "display_data"
    },
    {
     "data": {
      "text/html": [
       " View run <strong style=\"color:#cdcd00\">solar-hill-14</strong> at: <a href='https://wandb.ai/saturi-lab/saturi_v_transformer_new_corpus/runs/htg8q1x7' target=\"_blank\">https://wandb.ai/saturi-lab/saturi_v_transformer_new_corpus/runs/htg8q1x7</a><br/>Synced 6 W&B file(s), 0 media file(s), 0 artifact file(s) and 0 other file(s)"
      ],
      "text/plain": [
       "<IPython.core.display.HTML object>"
      ]
     },
     "metadata": {},
     "output_type": "display_data"
    },
    {
     "data": {
      "text/html": [
       "Find logs at: <code>./wandb/run-20230604_185154-htg8q1x7/logs</code>"
      ],
      "text/plain": [
       "<IPython.core.display.HTML object>"
      ]
     },
     "metadata": {},
     "output_type": "display_data"
    },
    {
     "data": {
      "text/html": [
       "Successfully finished last run (ID:htg8q1x7). Initializing new run:<br/>"
      ],
      "text/plain": [
       "<IPython.core.display.HTML object>"
      ]
     },
     "metadata": {},
     "output_type": "display_data"
    },
    {
     "data": {
      "text/html": [
       "Tracking run with wandb version 0.15.2"
      ],
      "text/plain": [
       "<IPython.core.display.HTML object>"
      ]
     },
     "metadata": {},
     "output_type": "display_data"
    },
    {
     "data": {
      "text/html": [
       "Run data is saved locally in <code>/home/aeolian83/workspace/saturi/wandb/run-20230604_193600-s2ywiyhf</code>"
      ],
      "text/plain": [
       "<IPython.core.display.HTML object>"
      ]
     },
     "metadata": {},
     "output_type": "display_data"
    },
    {
     "data": {
      "text/html": [
       "Syncing run <strong><a href='https://wandb.ai/saturi-lab/saturi_v_transformer_new_corpus/runs/s2ywiyhf' target=\"_blank\">neat-snow-15</a></strong> to <a href='https://wandb.ai/saturi-lab/saturi_v_transformer_new_corpus' target=\"_blank\">Weights & Biases</a> (<a href='https://wandb.me/run' target=\"_blank\">docs</a>)<br/>"
      ],
      "text/plain": [
       "<IPython.core.display.HTML object>"
      ]
     },
     "metadata": {},
     "output_type": "display_data"
    },
    {
     "data": {
      "text/html": [
       " View project at <a href='https://wandb.ai/saturi-lab/saturi_v_transformer_new_corpus' target=\"_blank\">https://wandb.ai/saturi-lab/saturi_v_transformer_new_corpus</a>"
      ],
      "text/plain": [
       "<IPython.core.display.HTML object>"
      ]
     },
     "metadata": {},
     "output_type": "display_data"
    },
    {
     "data": {
      "text/html": [
       " View run at <a href='https://wandb.ai/saturi-lab/saturi_v_transformer_new_corpus/runs/s2ywiyhf' target=\"_blank\">https://wandb.ai/saturi-lab/saturi_v_transformer_new_corpus/runs/s2ywiyhf</a>"
      ],
      "text/plain": [
       "<IPython.core.display.HTML object>"
      ]
     },
     "metadata": {},
     "output_type": "display_data"
    },
    {
     "name": "stdout",
     "output_type": "stream",
     "text": [
      "Restored from /home/aeolian83/aiffel/saturi/MODEL/tf_spm16000_ckpt_final_0603_newcorpus_na/ckpt-3\n"
     ]
    },
    {
     "name": "stderr",
     "output_type": "stream",
     "text": [
      "Bucket  3: 100%|█████████████████████████████████████████████████████████████| 4/4 [00:00<00:00,  6.07it/s, Loss 5.5368]\n",
      "100%|██████████████████████████████████████████████████████████████████| 40/40 [00:01<00:00, 32.17it/s, val_Loss 3.7159]\n"
     ]
    },
    {
     "name": "stdout",
     "output_type": "stream",
     "text": [
      "Saved checkpoint for step 1: /home/aeolian83/aiffel/saturi/MODEL/tf_spm16000_ckpt_final_0603_newcorpus_na/ckpt-4\n"
     ]
    },
    {
     "name": "stderr",
     "output_type": "stream",
     "text": [
      "Bucket  2: 100%|███████████████████████████████████████████████████████| 3581/3581 [04:14<00:00, 14.09it/s, Loss 3.8558]\n",
      "100%|██████████████████████████████████████████████████████████████████| 40/40 [00:00<00:00, 76.08it/s, val_Loss 3.3326]\n"
     ]
    },
    {
     "name": "stdout",
     "output_type": "stream",
     "text": [
      "Saved checkpoint for step 1: /home/aeolian83/aiffel/saturi/MODEL/tf_spm16000_ckpt_final_0603_newcorpus_na/ckpt-5\n"
     ]
    },
    {
     "name": "stderr",
     "output_type": "stream",
     "text": [
      "Bucket  1: 100%|█████████████████████████████████████████████████████| 35561/35561 [29:02<00:00, 20.40it/s, Loss 3.3000]\n",
      "100%|██████████████████████████████████████████████████████████████████| 40/40 [00:00<00:00, 95.17it/s, val_Loss 3.4684]\n"
     ]
    },
    {
     "name": "stdout",
     "output_type": "stream",
     "text": [
      "Saved checkpoint for step 1: /home/aeolian83/aiffel/saturi/MODEL/tf_spm16000_ckpt_final_0603_newcorpus_na/ckpt-6\n"
     ]
    },
    {
     "name": "stderr",
     "output_type": "stream",
     "text": [
      "100%|███████████████████████████████████████████████████████████████████████████████| 1000/1000 [10:08<00:00,  1.64it/s]\n"
     ]
    },
    {
     "data": {
      "text/html": [
       "Finishing last run (ID:s2ywiyhf) before initializing another..."
      ],
      "text/plain": [
       "<IPython.core.display.HTML object>"
      ]
     },
     "metadata": {},
     "output_type": "display_data"
    },
    {
     "data": {
      "text/html": [
       "Waiting for W&B process to finish... <strong style=\"color:green\">(success).</strong>"
      ],
      "text/plain": [
       "<IPython.core.display.HTML object>"
      ]
     },
     "metadata": {},
     "output_type": "display_data"
    },
    {
     "data": {
      "application/vnd.jupyter.widget-view+json": {
       "model_id": "9d4e57dfde3449bc958f71e3344f6c6d",
       "version_major": 2,
       "version_minor": 0
      },
      "text/plain": [
       "VBox(children=(Label(value='0.003 MB of 0.003 MB uploaded (0.000 MB deduped)\\r'), FloatProgress(value=1.0, max…"
      ]
     },
     "metadata": {},
     "output_type": "display_data"
    },
    {
     "data": {
      "text/html": [
       "<style>\n",
       "    table.wandb td:nth-child(1) { padding: 0 10px; text-align: left ; width: auto;} td:nth-child(2) {text-align: left ; width: 100%}\n",
       "    .wandb-row { display: flex; flex-direction: row; flex-wrap: wrap; justify-content: flex-start; width: 100% }\n",
       "    .wandb-col { display: flex; flex-direction: column; flex-basis: 100%; flex: 1; padding: 10px; }\n",
       "    </style>\n",
       "<div class=\"wandb-row\"><div class=\"wandb-col\"><h3>Run history:</h3><br/><table class=\"wandb\"><tr><td>bleu</td><td>▁</td></tr><tr><td>train_loss</td><td>█▇▇▆▁▁▁▁▁▁▁▁▁▁▁▁▁▁▁▁▁▁▁▁▁▁▁▁▁▁▁▁▁▁▁▁▁▁▁▁</td></tr><tr><td>valid_loss</td><td>▅▇▆▇▇▇▇▇█████▇▆▃▃▂▂▂▁▁▁▁▂▁▁▄▃▃▄▄▄▄▄▄▄▄▄▃</td></tr></table><br/></div><div class=\"wandb-col\"><h3>Run summary:</h3><br/><table class=\"wandb\"><tr><td>bleu</td><td>17.307</td></tr><tr><td>train_loss</td><td>3.29999</td></tr><tr><td>valid_loss</td><td>3.46837</td></tr></table><br/></div></div>"
      ],
      "text/plain": [
       "<IPython.core.display.HTML object>"
      ]
     },
     "metadata": {},
     "output_type": "display_data"
    },
    {
     "data": {
      "text/html": [
       " View run <strong style=\"color:#cdcd00\">neat-snow-15</strong> at: <a href='https://wandb.ai/saturi-lab/saturi_v_transformer_new_corpus/runs/s2ywiyhf' target=\"_blank\">https://wandb.ai/saturi-lab/saturi_v_transformer_new_corpus/runs/s2ywiyhf</a><br/>Synced 6 W&B file(s), 0 media file(s), 0 artifact file(s) and 0 other file(s)"
      ],
      "text/plain": [
       "<IPython.core.display.HTML object>"
      ]
     },
     "metadata": {},
     "output_type": "display_data"
    },
    {
     "data": {
      "text/html": [
       "Find logs at: <code>./wandb/run-20230604_193600-s2ywiyhf/logs</code>"
      ],
      "text/plain": [
       "<IPython.core.display.HTML object>"
      ]
     },
     "metadata": {},
     "output_type": "display_data"
    },
    {
     "data": {
      "text/html": [
       "Successfully finished last run (ID:s2ywiyhf). Initializing new run:<br/>"
      ],
      "text/plain": [
       "<IPython.core.display.HTML object>"
      ]
     },
     "metadata": {},
     "output_type": "display_data"
    },
    {
     "data": {
      "text/html": [
       "wandb version 0.15.3 is available!  To upgrade, please run:\n",
       " $ pip install wandb --upgrade"
      ],
      "text/plain": [
       "<IPython.core.display.HTML object>"
      ]
     },
     "metadata": {},
     "output_type": "display_data"
    },
    {
     "data": {
      "text/html": [
       "Tracking run with wandb version 0.15.2"
      ],
      "text/plain": [
       "<IPython.core.display.HTML object>"
      ]
     },
     "metadata": {},
     "output_type": "display_data"
    },
    {
     "data": {
      "text/html": [
       "Run data is saved locally in <code>/home/aeolian83/workspace/saturi/wandb/run-20230604_202010-x3uchmvb</code>"
      ],
      "text/plain": [
       "<IPython.core.display.HTML object>"
      ]
     },
     "metadata": {},
     "output_type": "display_data"
    },
    {
     "data": {
      "text/html": [
       "Syncing run <strong><a href='https://wandb.ai/saturi-lab/saturi_v_transformer_new_corpus/runs/x3uchmvb' target=\"_blank\">logical-pyramid-16</a></strong> to <a href='https://wandb.ai/saturi-lab/saturi_v_transformer_new_corpus' target=\"_blank\">Weights & Biases</a> (<a href='https://wandb.me/run' target=\"_blank\">docs</a>)<br/>"
      ],
      "text/plain": [
       "<IPython.core.display.HTML object>"
      ]
     },
     "metadata": {},
     "output_type": "display_data"
    },
    {
     "data": {
      "text/html": [
       " View project at <a href='https://wandb.ai/saturi-lab/saturi_v_transformer_new_corpus' target=\"_blank\">https://wandb.ai/saturi-lab/saturi_v_transformer_new_corpus</a>"
      ],
      "text/plain": [
       "<IPython.core.display.HTML object>"
      ]
     },
     "metadata": {},
     "output_type": "display_data"
    },
    {
     "data": {
      "text/html": [
       " View run at <a href='https://wandb.ai/saturi-lab/saturi_v_transformer_new_corpus/runs/x3uchmvb' target=\"_blank\">https://wandb.ai/saturi-lab/saturi_v_transformer_new_corpus/runs/x3uchmvb</a>"
      ],
      "text/plain": [
       "<IPython.core.display.HTML object>"
      ]
     },
     "metadata": {},
     "output_type": "display_data"
    },
    {
     "name": "stdout",
     "output_type": "stream",
     "text": [
      "Restored from /home/aeolian83/aiffel/saturi/MODEL/tf_spm16000_ckpt_final_0603_newcorpus_na/ckpt-6\n"
     ]
    },
    {
     "name": "stderr",
     "output_type": "stream",
     "text": [
      "Bucket  3: 100%|█████████████████████████████████████████████████████████████| 4/4 [00:00<00:00,  6.05it/s, Loss 5.0211]\n",
      "100%|██████████████████████████████████████████████████████████████████| 40/40 [00:01<00:00, 32.09it/s, val_Loss 3.4377]\n"
     ]
    },
    {
     "name": "stdout",
     "output_type": "stream",
     "text": [
      "Saved checkpoint for step 1: /home/aeolian83/aiffel/saturi/MODEL/tf_spm16000_ckpt_final_0603_newcorpus_na/ckpt-7\n"
     ]
    },
    {
     "name": "stderr",
     "output_type": "stream",
     "text": [
      "Bucket  2: 100%|███████████████████████████████████████████████████████| 3581/3581 [04:14<00:00, 14.07it/s, Loss 3.5445]\n",
      "100%|██████████████████████████████████████████████████████████████████| 40/40 [00:00<00:00, 77.74it/s, val_Loss 3.1107]\n"
     ]
    },
    {
     "name": "stdout",
     "output_type": "stream",
     "text": [
      "Saved checkpoint for step 1: /home/aeolian83/aiffel/saturi/MODEL/tf_spm16000_ckpt_final_0603_newcorpus_na/ckpt-8\n"
     ]
    },
    {
     "name": "stderr",
     "output_type": "stream",
     "text": [
      "Bucket  1: 100%|█████████████████████████████████████████████████████| 35561/35561 [29:05<00:00, 20.37it/s, Loss 3.0874]\n",
      "100%|█████████████████████████████████████████████████████████████████| 40/40 [00:00<00:00, 101.88it/s, val_Loss 3.3751]\n"
     ]
    },
    {
     "name": "stdout",
     "output_type": "stream",
     "text": [
      "Saved checkpoint for step 1: /home/aeolian83/aiffel/saturi/MODEL/tf_spm16000_ckpt_final_0603_newcorpus_na/ckpt-9\n"
     ]
    },
    {
     "name": "stderr",
     "output_type": "stream",
     "text": [
      "100%|███████████████████████████████████████████████████████████████████████████████| 1000/1000 [09:59<00:00,  1.67it/s]\n"
     ]
    },
    {
     "data": {
      "text/html": [
       "Finishing last run (ID:x3uchmvb) before initializing another..."
      ],
      "text/plain": [
       "<IPython.core.display.HTML object>"
      ]
     },
     "metadata": {},
     "output_type": "display_data"
    },
    {
     "data": {
      "text/html": [
       "Waiting for W&B process to finish... <strong style=\"color:green\">(success).</strong>"
      ],
      "text/plain": [
       "<IPython.core.display.HTML object>"
      ]
     },
     "metadata": {},
     "output_type": "display_data"
    },
    {
     "data": {
      "text/html": [
       "<style>\n",
       "    table.wandb td:nth-child(1) { padding: 0 10px; text-align: left ; width: auto;} td:nth-child(2) {text-align: left ; width: 100%}\n",
       "    .wandb-row { display: flex; flex-direction: row; flex-wrap: wrap; justify-content: flex-start; width: 100% }\n",
       "    .wandb-col { display: flex; flex-direction: column; flex-basis: 100%; flex: 1; padding: 10px; }\n",
       "    </style>\n",
       "<div class=\"wandb-row\"><div class=\"wandb-col\"><h3>Run history:</h3><br/><table class=\"wandb\"><tr><td>bleu</td><td>▁</td></tr><tr><td>train_loss</td><td>█▇▇▆▁▁▁▁▁▁▂▂▂▂▂▂▂▂▂▂▂▂▂▂▂▂▂▂▂▂▂▂▂▂▂▂▂▂▂▂</td></tr><tr><td>valid_loss</td><td>▅█▆██▇▇▇▇████▇▆▃▃▂▂▂▁▁▁▂▂▂▁▇▅▆▇▇▇▇▇▇▇▇▇▆</td></tr></table><br/></div><div class=\"wandb-col\"><h3>Run summary:</h3><br/><table class=\"wandb\"><tr><td>bleu</td><td>18.03957</td></tr><tr><td>train_loss</td><td>3.08735</td></tr><tr><td>valid_loss</td><td>3.3751</td></tr></table><br/></div></div>"
      ],
      "text/plain": [
       "<IPython.core.display.HTML object>"
      ]
     },
     "metadata": {},
     "output_type": "display_data"
    },
    {
     "data": {
      "text/html": [
       " View run <strong style=\"color:#cdcd00\">logical-pyramid-16</strong> at: <a href='https://wandb.ai/saturi-lab/saturi_v_transformer_new_corpus/runs/x3uchmvb' target=\"_blank\">https://wandb.ai/saturi-lab/saturi_v_transformer_new_corpus/runs/x3uchmvb</a><br/>Synced 6 W&B file(s), 0 media file(s), 0 artifact file(s) and 0 other file(s)"
      ],
      "text/plain": [
       "<IPython.core.display.HTML object>"
      ]
     },
     "metadata": {},
     "output_type": "display_data"
    },
    {
     "data": {
      "text/html": [
       "Find logs at: <code>./wandb/run-20230604_202010-x3uchmvb/logs</code>"
      ],
      "text/plain": [
       "<IPython.core.display.HTML object>"
      ]
     },
     "metadata": {},
     "output_type": "display_data"
    },
    {
     "data": {
      "text/html": [
       "Successfully finished last run (ID:x3uchmvb). Initializing new run:<br/>"
      ],
      "text/plain": [
       "<IPython.core.display.HTML object>"
      ]
     },
     "metadata": {},
     "output_type": "display_data"
    },
    {
     "data": {
      "text/html": [
       "wandb version 0.15.3 is available!  To upgrade, please run:\n",
       " $ pip install wandb --upgrade"
      ],
      "text/plain": [
       "<IPython.core.display.HTML object>"
      ]
     },
     "metadata": {},
     "output_type": "display_data"
    },
    {
     "data": {
      "text/html": [
       "Tracking run with wandb version 0.15.2"
      ],
      "text/plain": [
       "<IPython.core.display.HTML object>"
      ]
     },
     "metadata": {},
     "output_type": "display_data"
    },
    {
     "data": {
      "text/html": [
       "Run data is saved locally in <code>/home/aeolian83/workspace/saturi/wandb/run-20230604_210410-icfi5t2d</code>"
      ],
      "text/plain": [
       "<IPython.core.display.HTML object>"
      ]
     },
     "metadata": {},
     "output_type": "display_data"
    },
    {
     "data": {
      "text/html": [
       "Syncing run <strong><a href='https://wandb.ai/saturi-lab/saturi_v_transformer_new_corpus/runs/icfi5t2d' target=\"_blank\">fancy-snowflake-17</a></strong> to <a href='https://wandb.ai/saturi-lab/saturi_v_transformer_new_corpus' target=\"_blank\">Weights & Biases</a> (<a href='https://wandb.me/run' target=\"_blank\">docs</a>)<br/>"
      ],
      "text/plain": [
       "<IPython.core.display.HTML object>"
      ]
     },
     "metadata": {},
     "output_type": "display_data"
    },
    {
     "data": {
      "text/html": [
       " View project at <a href='https://wandb.ai/saturi-lab/saturi_v_transformer_new_corpus' target=\"_blank\">https://wandb.ai/saturi-lab/saturi_v_transformer_new_corpus</a>"
      ],
      "text/plain": [
       "<IPython.core.display.HTML object>"
      ]
     },
     "metadata": {},
     "output_type": "display_data"
    },
    {
     "data": {
      "text/html": [
       " View run at <a href='https://wandb.ai/saturi-lab/saturi_v_transformer_new_corpus/runs/icfi5t2d' target=\"_blank\">https://wandb.ai/saturi-lab/saturi_v_transformer_new_corpus/runs/icfi5t2d</a>"
      ],
      "text/plain": [
       "<IPython.core.display.HTML object>"
      ]
     },
     "metadata": {},
     "output_type": "display_data"
    },
    {
     "name": "stdout",
     "output_type": "stream",
     "text": [
      "Restored from /home/aeolian83/aiffel/saturi/MODEL/tf_spm16000_ckpt_final_0603_newcorpus_na/ckpt-9\n"
     ]
    },
    {
     "name": "stderr",
     "output_type": "stream",
     "text": [
      "Bucket  3: 100%|█████████████████████████████████████████████████████████████| 4/4 [00:00<00:00,  6.06it/s, Loss 4.7458]\n",
      "100%|██████████████████████████████████████████████████████████████████| 40/40 [00:01<00:00, 32.31it/s, val_Loss 3.3494]\n"
     ]
    },
    {
     "name": "stdout",
     "output_type": "stream",
     "text": [
      "Saved checkpoint for step 1: /home/aeolian83/aiffel/saturi/MODEL/tf_spm16000_ckpt_final_0603_newcorpus_na/ckpt-10\n"
     ]
    },
    {
     "name": "stderr",
     "output_type": "stream",
     "text": [
      "Bucket  2: 100%|███████████████████████████████████████████████████████| 3581/3581 [04:14<00:00, 14.05it/s, Loss 3.3935]\n",
      "100%|██████████████████████████████████████████████████████████████████| 40/40 [00:00<00:00, 75.02it/s, val_Loss 3.0433]\n"
     ]
    },
    {
     "name": "stdout",
     "output_type": "stream",
     "text": [
      "Saved checkpoint for step 1: /home/aeolian83/aiffel/saturi/MODEL/tf_spm16000_ckpt_final_0603_newcorpus_na/ckpt-11\n"
     ]
    },
    {
     "name": "stderr",
     "output_type": "stream",
     "text": [
      "Bucket  1: 100%|█████████████████████████████████████████████████████| 35561/35561 [29:13<00:00, 20.28it/s, Loss 2.9582]\n",
      "100%|█████████████████████████████████████████████████████████████████| 40/40 [00:00<00:00, 107.73it/s, val_Loss 3.3391]\n"
     ]
    },
    {
     "name": "stdout",
     "output_type": "stream",
     "text": [
      "Saved checkpoint for step 1: /home/aeolian83/aiffel/saturi/MODEL/tf_spm16000_ckpt_final_0603_newcorpus_na/ckpt-12\n"
     ]
    },
    {
     "name": "stderr",
     "output_type": "stream",
     "text": [
      "100%|███████████████████████████████████████████████████████████████████████████████| 1000/1000 [10:08<00:00,  1.64it/s]\n"
     ]
    },
    {
     "data": {
      "text/html": [
       "Finishing last run (ID:icfi5t2d) before initializing another..."
      ],
      "text/plain": [
       "<IPython.core.display.HTML object>"
      ]
     },
     "metadata": {},
     "output_type": "display_data"
    },
    {
     "data": {
      "text/html": [
       "Waiting for W&B process to finish... <strong style=\"color:green\">(success).</strong>"
      ],
      "text/plain": [
       "<IPython.core.display.HTML object>"
      ]
     },
     "metadata": {},
     "output_type": "display_data"
    },
    {
     "data": {
      "application/vnd.jupyter.widget-view+json": {
       "model_id": "bacb3aebfc234f0bb2c06c52b4dcf9b2",
       "version_major": 2,
       "version_minor": 0
      },
      "text/plain": [
       "VBox(children=(Label(value='0.003 MB of 0.003 MB uploaded (0.000 MB deduped)\\r'), FloatProgress(value=0.929240…"
      ]
     },
     "metadata": {},
     "output_type": "display_data"
    },
    {
     "data": {
      "text/html": [
       "<style>\n",
       "    table.wandb td:nth-child(1) { padding: 0 10px; text-align: left ; width: auto;} td:nth-child(2) {text-align: left ; width: 100%}\n",
       "    .wandb-row { display: flex; flex-direction: row; flex-wrap: wrap; justify-content: flex-start; width: 100% }\n",
       "    .wandb-col { display: flex; flex-direction: column; flex-basis: 100%; flex: 1; padding: 10px; }\n",
       "    </style>\n",
       "<div class=\"wandb-row\"><div class=\"wandb-col\"><h3>Run history:</h3><br/><table class=\"wandb\"><tr><td>bleu</td><td>▁</td></tr><tr><td>train_loss</td><td>█▇▇▇▁▁▁▁▂▂▂▂▂▂▂▂▂▂▂▂▂▂▂▂▂▂▂▂▂▂▂▂▂▂▂▂▂▂▂▂</td></tr><tr><td>valid_loss</td><td>▆▇▆▇▇▇▇▇▇▇██▇▇▇▄▄▃▂▂▁▁▁▂▂▁▁█▆▇█▇██████▇▆</td></tr></table><br/></div><div class=\"wandb-col\"><h3>Run summary:</h3><br/><table class=\"wandb\"><tr><td>bleu</td><td>17.93123</td></tr><tr><td>train_loss</td><td>2.95819</td></tr><tr><td>valid_loss</td><td>3.33906</td></tr></table><br/></div></div>"
      ],
      "text/plain": [
       "<IPython.core.display.HTML object>"
      ]
     },
     "metadata": {},
     "output_type": "display_data"
    },
    {
     "data": {
      "text/html": [
       " View run <strong style=\"color:#cdcd00\">fancy-snowflake-17</strong> at: <a href='https://wandb.ai/saturi-lab/saturi_v_transformer_new_corpus/runs/icfi5t2d' target=\"_blank\">https://wandb.ai/saturi-lab/saturi_v_transformer_new_corpus/runs/icfi5t2d</a><br/>Synced 6 W&B file(s), 0 media file(s), 0 artifact file(s) and 0 other file(s)"
      ],
      "text/plain": [
       "<IPython.core.display.HTML object>"
      ]
     },
     "metadata": {},
     "output_type": "display_data"
    },
    {
     "data": {
      "text/html": [
       "Find logs at: <code>./wandb/run-20230604_210410-icfi5t2d/logs</code>"
      ],
      "text/plain": [
       "<IPython.core.display.HTML object>"
      ]
     },
     "metadata": {},
     "output_type": "display_data"
    },
    {
     "data": {
      "text/html": [
       "Successfully finished last run (ID:icfi5t2d). Initializing new run:<br/>"
      ],
      "text/plain": [
       "<IPython.core.display.HTML object>"
      ]
     },
     "metadata": {},
     "output_type": "display_data"
    },
    {
     "data": {
      "text/html": [
       "wandb version 0.15.3 is available!  To upgrade, please run:\n",
       " $ pip install wandb --upgrade"
      ],
      "text/plain": [
       "<IPython.core.display.HTML object>"
      ]
     },
     "metadata": {},
     "output_type": "display_data"
    },
    {
     "data": {
      "text/html": [
       "Tracking run with wandb version 0.15.2"
      ],
      "text/plain": [
       "<IPython.core.display.HTML object>"
      ]
     },
     "metadata": {},
     "output_type": "display_data"
    },
    {
     "data": {
      "text/html": [
       "Run data is saved locally in <code>/home/aeolian83/workspace/saturi/wandb/run-20230604_214827-t604ewny</code>"
      ],
      "text/plain": [
       "<IPython.core.display.HTML object>"
      ]
     },
     "metadata": {},
     "output_type": "display_data"
    },
    {
     "data": {
      "text/html": [
       "Syncing run <strong><a href='https://wandb.ai/saturi-lab/saturi_v_transformer_new_corpus/runs/t604ewny' target=\"_blank\">dulcet-snowball-18</a></strong> to <a href='https://wandb.ai/saturi-lab/saturi_v_transformer_new_corpus' target=\"_blank\">Weights & Biases</a> (<a href='https://wandb.me/run' target=\"_blank\">docs</a>)<br/>"
      ],
      "text/plain": [
       "<IPython.core.display.HTML object>"
      ]
     },
     "metadata": {},
     "output_type": "display_data"
    },
    {
     "data": {
      "text/html": [
       " View project at <a href='https://wandb.ai/saturi-lab/saturi_v_transformer_new_corpus' target=\"_blank\">https://wandb.ai/saturi-lab/saturi_v_transformer_new_corpus</a>"
      ],
      "text/plain": [
       "<IPython.core.display.HTML object>"
      ]
     },
     "metadata": {},
     "output_type": "display_data"
    },
    {
     "data": {
      "text/html": [
       " View run at <a href='https://wandb.ai/saturi-lab/saturi_v_transformer_new_corpus/runs/t604ewny' target=\"_blank\">https://wandb.ai/saturi-lab/saturi_v_transformer_new_corpus/runs/t604ewny</a>"
      ],
      "text/plain": [
       "<IPython.core.display.HTML object>"
      ]
     },
     "metadata": {},
     "output_type": "display_data"
    },
    {
     "name": "stdout",
     "output_type": "stream",
     "text": [
      "Restored from /home/aeolian83/aiffel/saturi/MODEL/tf_spm16000_ckpt_final_0603_newcorpus_na/ckpt-12\n"
     ]
    },
    {
     "name": "stderr",
     "output_type": "stream",
     "text": [
      "Bucket  3: 100%|█████████████████████████████████████████████████████████████| 4/4 [00:00<00:00,  6.08it/s, Loss 4.6033]\n",
      "100%|██████████████████████████████████████████████████████████████████| 40/40 [00:01<00:00, 32.34it/s, val_Loss 3.3187]\n"
     ]
    },
    {
     "name": "stdout",
     "output_type": "stream",
     "text": [
      "Saved checkpoint for step 1: /home/aeolian83/aiffel/saturi/MODEL/tf_spm16000_ckpt_final_0603_newcorpus_na/ckpt-13\n"
     ]
    },
    {
     "name": "stderr",
     "output_type": "stream",
     "text": [
      "Bucket  2: 100%|███████████████████████████████████████████████████████| 3581/3581 [04:14<00:00, 14.06it/s, Loss 3.2922]\n",
      "100%|██████████████████████████████████████████████████████████████████| 40/40 [00:00<00:00, 75.93it/s, val_Loss 3.0019]\n"
     ]
    },
    {
     "name": "stdout",
     "output_type": "stream",
     "text": [
      "Saved checkpoint for step 1: /home/aeolian83/aiffel/saturi/MODEL/tf_spm16000_ckpt_final_0603_newcorpus_na/ckpt-14\n"
     ]
    },
    {
     "name": "stderr",
     "output_type": "stream",
     "text": [
      "Bucket  1: 100%|█████████████████████████████████████████████████████| 35561/35561 [29:17<00:00, 20.23it/s, Loss 2.8599]\n",
      "100%|█████████████████████████████████████████████████████████████████| 40/40 [00:00<00:00, 101.14it/s, val_Loss 3.3205]\n"
     ]
    },
    {
     "name": "stdout",
     "output_type": "stream",
     "text": [
      "Saved checkpoint for step 1: /home/aeolian83/aiffel/saturi/MODEL/tf_spm16000_ckpt_final_0603_newcorpus_na/ckpt-15\n"
     ]
    },
    {
     "name": "stderr",
     "output_type": "stream",
     "text": [
      "100%|███████████████████████████████████████████████████████████████████████████████| 1000/1000 [10:03<00:00,  1.66it/s]\n"
     ]
    },
    {
     "data": {
      "text/html": [
       "Finishing last run (ID:t604ewny) before initializing another..."
      ],
      "text/plain": [
       "<IPython.core.display.HTML object>"
      ]
     },
     "metadata": {},
     "output_type": "display_data"
    },
    {
     "data": {
      "text/html": [
       "Waiting for W&B process to finish... <strong style=\"color:green\">(success).</strong>"
      ],
      "text/plain": [
       "<IPython.core.display.HTML object>"
      ]
     },
     "metadata": {},
     "output_type": "display_data"
    },
    {
     "data": {
      "application/vnd.jupyter.widget-view+json": {
       "model_id": "39393e36aa0f471e9c7578a20526001b",
       "version_major": 2,
       "version_minor": 0
      },
      "text/plain": [
       "VBox(children=(Label(value='0.003 MB of 0.003 MB uploaded (0.000 MB deduped)\\r'), FloatProgress(value=1.0, max…"
      ]
     },
     "metadata": {},
     "output_type": "display_data"
    },
    {
     "data": {
      "text/html": [
       "<style>\n",
       "    table.wandb td:nth-child(1) { padding: 0 10px; text-align: left ; width: auto;} td:nth-child(2) {text-align: left ; width: 100%}\n",
       "    .wandb-row { display: flex; flex-direction: row; flex-wrap: wrap; justify-content: flex-start; width: 100% }\n",
       "    .wandb-col { display: flex; flex-direction: column; flex-basis: 100%; flex: 1; padding: 10px; }\n",
       "    </style>\n",
       "<div class=\"wandb-row\"><div class=\"wandb-col\"><h3>Run history:</h3><br/><table class=\"wandb\"><tr><td>bleu</td><td>▁</td></tr><tr><td>train_loss</td><td>█▇▇▇▁▁▁▁▁▂▂▂▂▂▂▂▂▂▂▂▂▂▂▂▂▂▂▂▂▂▂▂▂▂▂▂▂▂▂▂</td></tr><tr><td>valid_loss</td><td>▇▇▆▇▇▇▇▇▇███▇▇▆▃▃▂▂▂▁▁▁▂▂▁▁▆▅▇█▇█▇▇███▇▇</td></tr></table><br/></div><div class=\"wandb-col\"><h3>Run summary:</h3><br/><table class=\"wandb\"><tr><td>bleu</td><td>18.42432</td></tr><tr><td>train_loss</td><td>2.85992</td></tr><tr><td>valid_loss</td><td>3.32053</td></tr></table><br/></div></div>"
      ],
      "text/plain": [
       "<IPython.core.display.HTML object>"
      ]
     },
     "metadata": {},
     "output_type": "display_data"
    },
    {
     "data": {
      "text/html": [
       " View run <strong style=\"color:#cdcd00\">dulcet-snowball-18</strong> at: <a href='https://wandb.ai/saturi-lab/saturi_v_transformer_new_corpus/runs/t604ewny' target=\"_blank\">https://wandb.ai/saturi-lab/saturi_v_transformer_new_corpus/runs/t604ewny</a><br/>Synced 6 W&B file(s), 0 media file(s), 0 artifact file(s) and 0 other file(s)"
      ],
      "text/plain": [
       "<IPython.core.display.HTML object>"
      ]
     },
     "metadata": {},
     "output_type": "display_data"
    },
    {
     "data": {
      "text/html": [
       "Find logs at: <code>./wandb/run-20230604_214827-t604ewny/logs</code>"
      ],
      "text/plain": [
       "<IPython.core.display.HTML object>"
      ]
     },
     "metadata": {},
     "output_type": "display_data"
    },
    {
     "data": {
      "text/html": [
       "Successfully finished last run (ID:t604ewny). Initializing new run:<br/>"
      ],
      "text/plain": [
       "<IPython.core.display.HTML object>"
      ]
     },
     "metadata": {},
     "output_type": "display_data"
    },
    {
     "data": {
      "text/html": [
       "wandb version 0.15.3 is available!  To upgrade, please run:\n",
       " $ pip install wandb --upgrade"
      ],
      "text/plain": [
       "<IPython.core.display.HTML object>"
      ]
     },
     "metadata": {},
     "output_type": "display_data"
    },
    {
     "data": {
      "text/html": [
       "Tracking run with wandb version 0.15.2"
      ],
      "text/plain": [
       "<IPython.core.display.HTML object>"
      ]
     },
     "metadata": {},
     "output_type": "display_data"
    },
    {
     "data": {
      "text/html": [
       "Run data is saved locally in <code>/home/aeolian83/workspace/saturi/wandb/run-20230604_223241-fkfz1dvh</code>"
      ],
      "text/plain": [
       "<IPython.core.display.HTML object>"
      ]
     },
     "metadata": {},
     "output_type": "display_data"
    },
    {
     "data": {
      "text/html": [
       "Syncing run <strong><a href='https://wandb.ai/saturi-lab/saturi_v_transformer_new_corpus/runs/fkfz1dvh' target=\"_blank\">classic-grass-19</a></strong> to <a href='https://wandb.ai/saturi-lab/saturi_v_transformer_new_corpus' target=\"_blank\">Weights & Biases</a> (<a href='https://wandb.me/run' target=\"_blank\">docs</a>)<br/>"
      ],
      "text/plain": [
       "<IPython.core.display.HTML object>"
      ]
     },
     "metadata": {},
     "output_type": "display_data"
    },
    {
     "data": {
      "text/html": [
       " View project at <a href='https://wandb.ai/saturi-lab/saturi_v_transformer_new_corpus' target=\"_blank\">https://wandb.ai/saturi-lab/saturi_v_transformer_new_corpus</a>"
      ],
      "text/plain": [
       "<IPython.core.display.HTML object>"
      ]
     },
     "metadata": {},
     "output_type": "display_data"
    },
    {
     "data": {
      "text/html": [
       " View run at <a href='https://wandb.ai/saturi-lab/saturi_v_transformer_new_corpus/runs/fkfz1dvh' target=\"_blank\">https://wandb.ai/saturi-lab/saturi_v_transformer_new_corpus/runs/fkfz1dvh</a>"
      ],
      "text/plain": [
       "<IPython.core.display.HTML object>"
      ]
     },
     "metadata": {},
     "output_type": "display_data"
    },
    {
     "name": "stdout",
     "output_type": "stream",
     "text": [
      "Restored from /home/aeolian83/aiffel/saturi/MODEL/tf_spm16000_ckpt_final_0603_newcorpus_na/ckpt-15\n"
     ]
    },
    {
     "name": "stderr",
     "output_type": "stream",
     "text": [
      "Bucket  3: 100%|█████████████████████████████████████████████████████████████| 4/4 [00:00<00:00,  6.09it/s, Loss 4.3454]\n",
      "100%|██████████████████████████████████████████████████████████████████| 40/40 [00:01<00:00, 32.29it/s, val_Loss 3.3040]\n"
     ]
    },
    {
     "name": "stdout",
     "output_type": "stream",
     "text": [
      "Saved checkpoint for step 1: /home/aeolian83/aiffel/saturi/MODEL/tf_spm16000_ckpt_final_0603_newcorpus_na/ckpt-16\n"
     ]
    },
    {
     "name": "stderr",
     "output_type": "stream",
     "text": [
      "Bucket  2: 100%|███████████████████████████████████████████████████████| 3581/3581 [04:15<00:00, 14.04it/s, Loss 3.2150]\n",
      "100%|██████████████████████████████████████████████████████████████████| 40/40 [00:00<00:00, 77.28it/s, val_Loss 2.9797]\n"
     ]
    },
    {
     "name": "stdout",
     "output_type": "stream",
     "text": [
      "Saved checkpoint for step 1: /home/aeolian83/aiffel/saturi/MODEL/tf_spm16000_ckpt_final_0603_newcorpus_na/ckpt-17\n"
     ]
    },
    {
     "name": "stderr",
     "output_type": "stream",
     "text": [
      "Bucket  1: 100%|█████████████████████████████████████████████████████| 35561/35561 [29:17<00:00, 20.23it/s, Loss 2.7800]\n",
      "100%|█████████████████████████████████████████████████████████████████| 40/40 [00:00<00:00, 100.36it/s, val_Loss 3.3250]\n"
     ]
    },
    {
     "name": "stdout",
     "output_type": "stream",
     "text": [
      "Saved checkpoint for step 1: /home/aeolian83/aiffel/saturi/MODEL/tf_spm16000_ckpt_final_0603_newcorpus_na/ckpt-18\n"
     ]
    },
    {
     "name": "stderr",
     "output_type": "stream",
     "text": [
      "100%|███████████████████████████████████████████████████████████████████████████████| 1000/1000 [10:08<00:00,  1.64it/s]\n"
     ]
    },
    {
     "data": {
      "text/html": [
       "Finishing last run (ID:fkfz1dvh) before initializing another..."
      ],
      "text/plain": [
       "<IPython.core.display.HTML object>"
      ]
     },
     "metadata": {},
     "output_type": "display_data"
    },
    {
     "data": {
      "text/html": [
       "Waiting for W&B process to finish... <strong style=\"color:green\">(success).</strong>"
      ],
      "text/plain": [
       "<IPython.core.display.HTML object>"
      ]
     },
     "metadata": {},
     "output_type": "display_data"
    },
    {
     "data": {
      "application/vnd.jupyter.widget-view+json": {
       "model_id": "15aa9a54ae3d4d28a4d38eba9f8422c3",
       "version_major": 2,
       "version_minor": 0
      },
      "text/plain": [
       "VBox(children=(Label(value='0.003 MB of 0.003 MB uploaded (0.000 MB deduped)\\r'), FloatProgress(value=1.0, max…"
      ]
     },
     "metadata": {},
     "output_type": "display_data"
    },
    {
     "data": {
      "text/html": [
       "<style>\n",
       "    table.wandb td:nth-child(1) { padding: 0 10px; text-align: left ; width: auto;} td:nth-child(2) {text-align: left ; width: 100%}\n",
       "    .wandb-row { display: flex; flex-direction: row; flex-wrap: wrap; justify-content: flex-start; width: 100% }\n",
       "    .wandb-col { display: flex; flex-direction: column; flex-basis: 100%; flex: 1; padding: 10px; }\n",
       "    </style>\n",
       "<div class=\"wandb-row\"><div class=\"wandb-col\"><h3>Run history:</h3><br/><table class=\"wandb\"><tr><td>bleu</td><td>▁</td></tr><tr><td>train_loss</td><td>█▇▇▇▁▁▁▁▂▂▂▂▂▂▂▂▂▂▂▂▂▂▂▂▂▂▂▂▂▂▂▂▂▂▂▂▂▂▂▂</td></tr><tr><td>valid_loss</td><td>▅▆▅▆▆▆▆▆▆▇▇▇▇▆▆▃▃▂▂▂▁▁▁▂▂▁▁█▆▇█▇██▇█▇▇▇▆</td></tr></table><br/></div><div class=\"wandb-col\"><h3>Run summary:</h3><br/><table class=\"wandb\"><tr><td>bleu</td><td>18.14738</td></tr><tr><td>train_loss</td><td>2.77998</td></tr><tr><td>valid_loss</td><td>3.32498</td></tr></table><br/></div></div>"
      ],
      "text/plain": [
       "<IPython.core.display.HTML object>"
      ]
     },
     "metadata": {},
     "output_type": "display_data"
    },
    {
     "data": {
      "text/html": [
       " View run <strong style=\"color:#cdcd00\">classic-grass-19</strong> at: <a href='https://wandb.ai/saturi-lab/saturi_v_transformer_new_corpus/runs/fkfz1dvh' target=\"_blank\">https://wandb.ai/saturi-lab/saturi_v_transformer_new_corpus/runs/fkfz1dvh</a><br/>Synced 6 W&B file(s), 0 media file(s), 0 artifact file(s) and 0 other file(s)"
      ],
      "text/plain": [
       "<IPython.core.display.HTML object>"
      ]
     },
     "metadata": {},
     "output_type": "display_data"
    },
    {
     "data": {
      "text/html": [
       "Find logs at: <code>./wandb/run-20230604_223241-fkfz1dvh/logs</code>"
      ],
      "text/plain": [
       "<IPython.core.display.HTML object>"
      ]
     },
     "metadata": {},
     "output_type": "display_data"
    },
    {
     "data": {
      "text/html": [
       "Successfully finished last run (ID:fkfz1dvh). Initializing new run:<br/>"
      ],
      "text/plain": [
       "<IPython.core.display.HTML object>"
      ]
     },
     "metadata": {},
     "output_type": "display_data"
    },
    {
     "data": {
      "text/html": [
       "wandb version 0.15.3 is available!  To upgrade, please run:\n",
       " $ pip install wandb --upgrade"
      ],
      "text/plain": [
       "<IPython.core.display.HTML object>"
      ]
     },
     "metadata": {},
     "output_type": "display_data"
    },
    {
     "data": {
      "text/html": [
       "Tracking run with wandb version 0.15.2"
      ],
      "text/plain": [
       "<IPython.core.display.HTML object>"
      ]
     },
     "metadata": {},
     "output_type": "display_data"
    },
    {
     "data": {
      "text/html": [
       "Run data is saved locally in <code>/home/aeolian83/workspace/saturi/wandb/run-20230604_231700-67nzh3yl</code>"
      ],
      "text/plain": [
       "<IPython.core.display.HTML object>"
      ]
     },
     "metadata": {},
     "output_type": "display_data"
    },
    {
     "data": {
      "text/html": [
       "Syncing run <strong><a href='https://wandb.ai/saturi-lab/saturi_v_transformer_new_corpus/runs/67nzh3yl' target=\"_blank\">kind-meadow-20</a></strong> to <a href='https://wandb.ai/saturi-lab/saturi_v_transformer_new_corpus' target=\"_blank\">Weights & Biases</a> (<a href='https://wandb.me/run' target=\"_blank\">docs</a>)<br/>"
      ],
      "text/plain": [
       "<IPython.core.display.HTML object>"
      ]
     },
     "metadata": {},
     "output_type": "display_data"
    },
    {
     "data": {
      "text/html": [
       " View project at <a href='https://wandb.ai/saturi-lab/saturi_v_transformer_new_corpus' target=\"_blank\">https://wandb.ai/saturi-lab/saturi_v_transformer_new_corpus</a>"
      ],
      "text/plain": [
       "<IPython.core.display.HTML object>"
      ]
     },
     "metadata": {},
     "output_type": "display_data"
    },
    {
     "data": {
      "text/html": [
       " View run at <a href='https://wandb.ai/saturi-lab/saturi_v_transformer_new_corpus/runs/67nzh3yl' target=\"_blank\">https://wandb.ai/saturi-lab/saturi_v_transformer_new_corpus/runs/67nzh3yl</a>"
      ],
      "text/plain": [
       "<IPython.core.display.HTML object>"
      ]
     },
     "metadata": {},
     "output_type": "display_data"
    },
    {
     "name": "stdout",
     "output_type": "stream",
     "text": [
      "Restored from /home/aeolian83/aiffel/saturi/MODEL/tf_spm16000_ckpt_final_0603_newcorpus_na/ckpt-18\n"
     ]
    },
    {
     "name": "stderr",
     "output_type": "stream",
     "text": [
      "Bucket  3: 100%|█████████████████████████████████████████████████████████████| 4/4 [00:00<00:00,  6.07it/s, Loss 4.2380]\n",
      "100%|██████████████████████████████████████████████████████████████████| 40/40 [00:01<00:00, 32.16it/s, val_Loss 3.3042]\n"
     ]
    },
    {
     "name": "stdout",
     "output_type": "stream",
     "text": [
      "Saved checkpoint for step 1: /home/aeolian83/aiffel/saturi/MODEL/tf_spm16000_ckpt_final_0603_newcorpus_na/ckpt-19\n"
     ]
    },
    {
     "name": "stderr",
     "output_type": "stream",
     "text": [
      "Bucket  2: 100%|███████████████████████████████████████████████████████| 3581/3581 [04:15<00:00, 14.03it/s, Loss 3.1527]\n",
      "100%|██████████████████████████████████████████████████████████████████| 40/40 [00:00<00:00, 74.77it/s, val_Loss 2.9786]\n"
     ]
    },
    {
     "name": "stdout",
     "output_type": "stream",
     "text": [
      "Saved checkpoint for step 1: /home/aeolian83/aiffel/saturi/MODEL/tf_spm16000_ckpt_final_0603_newcorpus_na/ckpt-20\n"
     ]
    },
    {
     "name": "stderr",
     "output_type": "stream",
     "text": [
      "Bucket  1: 100%|█████████████████████████████████████████████████████| 35561/35561 [29:16<00:00, 20.25it/s, Loss 2.7114]\n",
      "100%|█████████████████████████████████████████████████████████████████| 40/40 [00:00<00:00, 102.24it/s, val_Loss 3.3231]\n"
     ]
    },
    {
     "name": "stdout",
     "output_type": "stream",
     "text": [
      "Saved checkpoint for step 1: /home/aeolian83/aiffel/saturi/MODEL/tf_spm16000_ckpt_final_0603_newcorpus_na/ckpt-21\n"
     ]
    },
    {
     "name": "stderr",
     "output_type": "stream",
     "text": [
      "100%|███████████████████████████████████████████████████████████████████████████████| 1000/1000 [10:11<00:00,  1.64it/s]\n"
     ]
    }
   ],
   "source": [
    "for _ in range(7):\n",
    "    run  = wandb.init(project = project_name,\n",
    "                     entity = 'saturi-lab',\n",
    "                     config = {\n",
    "                         'model_name':'Vanilla_Transformer',\n",
    "                         'n_layers':6,\n",
    "                         'd_model':512,\n",
    "                         'n_heads':8,\n",
    "                         'd_ff':2048,\n",
    "                         'src_vocab_size':SRC_VOCAB_SIZE,\n",
    "                         'tgt_vocab_size':TGT_VOCAB_SIZE,\n",
    "                         'pos_len': 512,\n",
    "                         'dropout':0.2,\n",
    "                         'shared':True,\n",
    "                         'warmups' : warmups,\n",
    "                         'epochs':1,\n",
    "                         'optimizer' :'ADAM',\n",
    "                         'loss' : 'SparseCategoricalCrossentropy',\n",
    "                         'metric' : 'bleu'\n",
    "                     })\n",
    "    train_and_checkpoint(transformer, manager, config.epochs)"
   ]
  },
  {
   "cell_type": "code",
   "execution_count": 33,
   "id": "c0005c11",
   "metadata": {},
   "outputs": [
    {
     "data": {
      "text/plain": [
       "Text(0.5, 0, 'Train Step')"
      ]
     },
     "execution_count": 33,
     "metadata": {},
     "output_type": "execute_result"
    },
    {
     "data": {
      "image/png": "[encoded data removed]",
      "text/plain": [
       "<Figure size 640x480 with 1 Axes>"
      ]
     },
     "metadata": {},
     "output_type": "display_data"
    }
   ],
   "source": [
    "plt.plot(learningrate(tf.range(15412, dtype=tf.float32)))\n",
    "plt.ylabel('Learning Rate')\n",
    "plt.xlabel('Train Step')"
   ]
  },
  {
   "cell_type": "code",
   "execution_count": 34,
   "id": "d09359ab",
   "metadata": {},
   "outputs": [],
   "source": [
    "from time import perf_counter"
   ]
  },
  {
   "cell_type": "code",
   "execution_count": 35,
   "id": "f5d2996d",
   "metadata": {},
   "outputs": [],
   "source": [
    "examples = [\"<jj> what are you doing ?\",'<cc> what are you doing ?','<gs> what are you doing ?','<jd> what are you doing ?','<kw> what are you doing ?']"
   ]
  },
  {
   "cell_type": "code",
   "execution_count": 36,
   "id": "0fccdceb",
   "metadata": {},
   "outputs": [
    {
     "name": "stdout",
     "output_type": "stream",
     "text": [
      "Input: <jj> what are you doing ?\n",
      "Predicted translation: 뭐 하맨?\n",
      "Input: <cc> what are you doing ?\n",
      "Predicted translation: 뭐 하는 겨?\n",
      "Input: <gs> what are you doing ?\n",
      "Predicted translation: 니는 뭐 하는데?\n",
      "Input: <jd> what are you doing ?\n",
      "Predicted translation: 뭐 하제?\n",
      "Input: <kw> what are you doing ?\n",
      "Predicted translation: 뭐하나?\n",
      "1.2290398090008239\n"
     ]
    }
   ],
   "source": [
    "start = perf_counter()\n",
    "for example in examples :\n",
    "    translate(example, transformer, enc_tokenizer, dec_tokenizer, verbose =True)\n",
    "print(perf_counter() - start)"
   ]
  },
  {
   "cell_type": "code",
   "execution_count": 37,
   "id": "82a63803",
   "metadata": {},
   "outputs": [],
   "source": [
    "examples = [\"<jj> i like this song .\",'<cc> i like this song . ','<gs> i like this song . ','<jd> i like this song . ','<kw> i like this song . ']"
   ]
  },
  {
   "cell_type": "code",
   "execution_count": 38,
   "id": "f511e052",
   "metadata": {},
   "outputs": [
    {
     "name": "stdout",
     "output_type": "stream",
     "text": [
      "Input: <jj> i like this song .\n",
      "Predicted translation: 이노무 노래.\n",
      "Input: <cc> i like this song . \n",
      "Predicted translation: 이 노래여.\n",
      "Input: <gs> i like this song . \n",
      "Predicted translation: 이 노래처럼 이.\n",
      "Input: <jd> i like this song . \n",
      "Predicted translation: 이 노래를 이.\n",
      "Input: <kw> i like this song . \n",
      "Predicted translation: 이노므 노래.\n",
      "1.4171159249999619\n"
     ]
    }
   ],
   "source": [
    "start = perf_counter()\n",
    "for example in examples :\n",
    "    translate(example, transformer, enc_tokenizer, dec_tokenizer, verbose =True)\n",
    "print(perf_counter() - start)"
   ]
  },
  {
   "cell_type": "code",
   "execution_count": 39,
   "id": "c34aa8a0",
   "metadata": {},
   "outputs": [],
   "source": [
    "examples = [\"<jj> Let's do homework together .\",\"<cc> Let's do homework together .\",\"<gs> Let's do homework together .\",\"<jd> Let's do homework together .\",\"<kw> Let's do homework together .\"]"
   ]
  },
  {
   "cell_type": "code",
   "execution_count": 40,
   "id": "c1985ce7",
   "metadata": {},
   "outputs": [
    {
     "name": "stdout",
     "output_type": "stream",
     "text": [
      "Input: <jj> Let's do homework together .\n",
      "Predicted translation: 숙제도 같이 허게.\n",
      "Input: <cc> Let's do homework together .\n",
      "Predicted translation: 숙제를 같이 하게 혀.\n",
      "Input: <gs> Let's do homework together .\n",
      "Predicted translation: 숙제를 같이 하구로 놔 두게.\n",
      "Input: <jd> Let's do homework together .\n",
      "Predicted translation: 숙제를 같이 하게 혀.\n",
      "Input: <kw> Let's do homework together .\n",
      "Predicted translation: 숙제를 같이 하게끄름 해요.\n",
      "2.030678982999234\n"
     ]
    }
   ],
   "source": [
    "start = perf_counter()\n",
    "for example in examples :\n",
    "    translate(example, transformer, enc_tokenizer, dec_tokenizer, verbose =True)\n",
    "print(perf_counter() - start)"
   ]
  },
  {
   "cell_type": "code",
   "execution_count": 41,
   "id": "d5ac77c3",
   "metadata": {},
   "outputs": [],
   "source": [
    "examples = [\"<jj> Are you going to sleep ?\",\"<cc> Are you going to sleep ?\",\"<gs> Are you going to sleep ?\",\"<jd> Are you going to sleep ?\",\"<kw> Are you going to sleep ?\"]"
   ]
  },
  {
   "cell_type": "code",
   "execution_count": 42,
   "id": "3d4dfa8a",
   "metadata": {},
   "outputs": [
    {
     "name": "stdout",
     "output_type": "stream",
     "text": [
      "Input: <jj> Are you going to sleep ?\n",
      "Predicted translation: 자잰?\n",
      "Input: <cc> Are you going to sleep ?\n",
      "Predicted translation: 자려고?\n",
      "Input: <gs> Are you going to sleep ?\n",
      "Predicted translation: 자노?\n",
      "Input: <jd> Are you going to sleep ?\n",
      "Predicted translation: 자겄다고?\n",
      "Input: <kw> Are you going to sleep ?\n",
      "Predicted translation: 자려구?\n",
      "1.1021450520020153\n"
     ]
    }
   ],
   "source": [
    "start = perf_counter()\n",
    "for example in examples :\n",
    "    translate(example, transformer, enc_tokenizer, dec_tokenizer, verbose =True)\n",
    "print(perf_counter() - start)"
   ]
  },
  {
   "cell_type": "code",
   "execution_count": 43,
   "id": "5d2a41a1",
   "metadata": {},
   "outputs": [
    {
     "name": "stderr",
     "output_type": "stream",
     "text": [
      "100%|███████████████████████████████████████████████████████████████████████████████| 1000/1000 [10:05<00:00,  1.65it/s]\n"
     ]
    }
   ],
   "source": [
    "from datasets import load_metric\n",
    "\n",
    "bleu = load_metric(\"sacrebleu\")\n",
    "test_translate = []\n",
    "bleu_valid_score = []\n",
    "\n",
    "test_text = full_data_test.eng.values\n",
    "test_tgt = full_data_test.dial.values\n",
    "\n",
    "for i in tqdm(range(len(test_text))) :\n",
    "    trans = translate(test_text[i], transformer, enc_tokenizer, dec_tokenizer, verbose =False)\n",
    "    test_translate.append(trans)\n",
    "    label = dec_tokenizer.decode(test_tgt[i])\n",
    "    result = bleu.compute(predictions=[trans], references=[[label]], smooth_method='add-k')['score']\n",
    "    bleu_valid_score.append(result)\n",
    "\n",
    "full_data_test['bleu'] = np.array(bleu_valid_score)\n",
    "full_data_test['pred'] = test_translate"
   ]
  },
  {
   "cell_type": "code",
   "execution_count": 44,
   "id": "7576e884",
   "metadata": {},
   "outputs": [
    {
     "data": {
      "text/plain": [
       "17.950798246208446"
      ]
     },
     "execution_count": 44,
     "metadata": {},
     "output_type": "execute_result"
    }
   ],
   "source": [
    "full_data_test.bleu.mean()"
   ]
  },
  {
   "cell_type": "code",
   "execution_count": 45,
   "id": "5e15d5eb",
   "metadata": {},
   "outputs": [],
   "source": [
    "full_data_test.loc[:,['eng','reg','dial','pred','bleu']].sort_values('bleu', ascending=False).head()\n",
    "\n",
    "data_dir = os.getenv('HOME')+'/aiffel/s_DATA' # 파일 경로 지정\n",
    "full_data_test.to_csv(data_dir + f'/test_results_{tokenizer_name}16000_final_needs_merge_0603.csv')\n"
   ]
  },
  {
   "cell_type": "code",
   "execution_count": 46,
   "id": "f3693cb0",
   "metadata": {},
   "outputs": [
    {
     "data": {
      "text/html": [
       "Waiting for W&B process to finish... <strong style=\"color:green\">(success).</strong>"
      ],
      "text/plain": [
       "<IPython.core.display.HTML object>"
      ]
     },
     "metadata": {},
     "output_type": "display_data"
    },
    {
     "data": {
      "text/html": [
       "<style>\n",
       "    table.wandb td:nth-child(1) { padding: 0 10px; text-align: left ; width: auto;} td:nth-child(2) {text-align: left ; width: 100%}\n",
       "    .wandb-row { display: flex; flex-direction: row; flex-wrap: wrap; justify-content: flex-start; width: 100% }\n",
       "    .wandb-col { display: flex; flex-direction: column; flex-basis: 100%; flex: 1; padding: 10px; }\n",
       "    </style>\n",
       "<div class=\"wandb-row\"><div class=\"wandb-col\"><h3>Run history:</h3><br/><table class=\"wandb\"><tr><td>bleu</td><td>▁</td></tr><tr><td>train_loss</td><td>█▇▇▇▁▁▁▁▁▂▂▂▂▂▂▂▂▂▂▂▂▂▂▂▂▂▂▂▂▂▂▂▂▂▂▂▂▂▂▂</td></tr><tr><td>valid_loss</td><td>▆▇▆▇▇▇▇▇▇▇▇▇▇▆▆▄▃▂▂▂▁▁▁▂▂▂▁▇▆▇█▇██████▇▇</td></tr></table><br/></div><div class=\"wandb-col\"><h3>Run summary:</h3><br/><table class=\"wandb\"><tr><td>bleu</td><td>17.9508</td></tr><tr><td>train_loss</td><td>2.71135</td></tr><tr><td>valid_loss</td><td>3.32314</td></tr></table><br/></div></div>"
      ],
      "text/plain": [
       "<IPython.core.display.HTML object>"
      ]
     },
     "metadata": {},
     "output_type": "display_data"
    },
    {
     "data": {
      "text/html": [
       " View run <strong style=\"color:#cdcd00\">kind-meadow-20</strong> at: <a href='https://wandb.ai/saturi-lab/saturi_v_transformer_new_corpus/runs/67nzh3yl' target=\"_blank\">https://wandb.ai/saturi-lab/saturi_v_transformer_new_corpus/runs/67nzh3yl</a><br/>Synced 6 W&B file(s), 0 media file(s), 0 artifact file(s) and 0 other file(s)"
      ],
      "text/plain": [
       "<IPython.core.display.HTML object>"
      ]
     },
     "metadata": {},
     "output_type": "display_data"
    },
    {
     "data": {
      "text/html": [
       "Find logs at: <code>./wandb/run-20230604_231700-67nzh3yl/logs</code>"
      ],
      "text/plain": [
       "<IPython.core.display.HTML object>"
      ]
     },
     "metadata": {},
     "output_type": "display_data"
    }
   ],
   "source": [
    "wandb.finish()"
   ]
  },
  {
   "cell_type": "code",
   "execution_count": null,
   "id": "84af26c9",
   "metadata": {},
   "outputs": [],
   "source": []
  },
  {
   "cell_type": "code",
   "execution_count": null,
   "id": "6bb722c8",
   "metadata": {},
   "outputs": [],
   "source": []
  },
  {
   "cell_type": "code",
   "execution_count": null,
   "id": "c99fdc5f",
   "metadata": {},
   "outputs": [],
   "source": []
  },
  {
   "cell_type": "code",
   "execution_count": null,
   "id": "d69d3620",
   "metadata": {},
   "outputs": [],
   "source": []
  },
  {
   "cell_type": "code",
   "execution_count": null,
   "id": "2325ff3c",
   "metadata": {},
   "outputs": [],
   "source": []
  },
  {
   "cell_type": "code",
   "execution_count": null,
   "id": "7dc07f11",
   "metadata": {},
   "outputs": [],
   "source": []
  },
  {
   "cell_type": "code",
   "execution_count": null,
   "id": "cef5ba4c",
   "metadata": {},
   "outputs": [],
   "source": []
  },
  {
   "cell_type": "code",
   "execution_count": null,
   "id": "73bbed21",
   "metadata": {},
   "outputs": [],
   "source": []
  },
  {
   "cell_type": "code",
   "execution_count": null,
   "id": "aa496da3",
   "metadata": {},
   "outputs": [],
   "source": []
  },
  {
   "cell_type": "code",
   "execution_count": null,
   "id": "80822ac4",
   "metadata": {},
   "outputs": [],
   "source": []
  },
  {
   "cell_type": "code",
   "execution_count": null,
   "id": "ac027476",
   "metadata": {},
   "outputs": [],
   "source": []
  },
  {
   "cell_type": "code",
   "execution_count": null,
   "id": "36bfdf53",
   "metadata": {},
   "outputs": [],
   "source": []
  },
  {
   "cell_type": "code",
   "execution_count": null,
   "id": "5d9d2443",
   "metadata": {},
   "outputs": [],
   "source": []
  },
  {
   "cell_type": "code",
   "execution_count": null,
   "id": "75b81334",
   "metadata": {},
   "outputs": [],
   "source": []
  },
  {
   "cell_type": "code",
   "execution_count": null,
   "id": "72fa8d0f",
   "metadata": {},
   "outputs": [],
   "source": []
  },
  {
   "cell_type": "code",
   "execution_count": null,
   "id": "89f5a07b",
   "metadata": {},
   "outputs": [],
   "source": []
  },
  {
   "cell_type": "code",
   "execution_count": null,
   "id": "8d66c89a",
   "metadata": {},
   "outputs": [],
   "source": []
  },
  {
   "cell_type": "code",
   "execution_count": null,
   "id": "07373bdc",
   "metadata": {},
   "outputs": [],
   "source": []
  },
  {
   "cell_type": "code",
   "execution_count": null,
   "id": "25e214eb",
   "metadata": {},
   "outputs": [],
   "source": []
  },
  {
   "cell_type": "code",
   "execution_count": null,
   "id": "6c82e594",
   "metadata": {},
   "outputs": [],
   "source": []
  },
  {
   "cell_type": "code",
   "execution_count": null,
   "id": "3c77af8c",
   "metadata": {},
   "outputs": [],
   "source": []
  },
  {
   "cell_type": "code",
   "execution_count": null,
   "id": "2a78765c",
   "metadata": {},
   "outputs": [],
   "source": []
  },
  {
   "cell_type": "code",
   "execution_count": null,
   "id": "fd82e58f",
   "metadata": {},
   "outputs": [],
   "source": []
  },
  {
   "cell_type": "code",
   "execution_count": null,
   "id": "02f31a94",
   "metadata": {},
   "outputs": [],
   "source": []
  },
  {
   "cell_type": "code",
   "execution_count": null,
   "id": "a7efe0d6",
   "metadata": {},
   "outputs": [],
   "source": []
  },
  {
   "cell_type": "code",
   "execution_count": null,
   "id": "579df11a",
   "metadata": {},
   "outputs": [],
   "source": []
  },
  {
   "cell_type": "code",
   "execution_count": null,
   "id": "d1f15ee0",
   "metadata": {},
   "outputs": [],
   "source": []
  },
  {
   "cell_type": "code",
   "execution_count": null,
   "id": "d23a26a4",
   "metadata": {},
   "outputs": [],
   "source": []
  },
  {
   "cell_type": "code",
   "execution_count": null,
   "id": "f61d0fee",
   "metadata": {},
   "outputs": [],
   "source": []
  },
  {
   "cell_type": "code",
   "execution_count": null,
   "id": "ee7f57ec",
   "metadata": {},
   "outputs": [],
   "source": []
  },
  {
   "cell_type": "code",
   "execution_count": null,
   "id": "621c88b5",
   "metadata": {},
   "outputs": [],
   "source": []
  },
  {
   "cell_type": "code",
   "execution_count": null,
   "id": "93c1e9ff",
   "metadata": {},
   "outputs": [],
   "source": []
  },
  {
   "cell_type": "code",
   "execution_count": null,
   "id": "cb236d2d",
   "metadata": {},
   "outputs": [],
   "source": []
  },
  {
   "cell_type": "code",
   "execution_count": null,
   "id": "d05a9793",
   "metadata": {},
   "outputs": [],
   "source": []
  },
  {
   "cell_type": "code",
   "execution_count": null,
   "id": "d29cbea2",
   "metadata": {},
   "outputs": [],
   "source": []
  },
  {
   "cell_type": "code",
   "execution_count": null,
   "id": "739466ef",
   "metadata": {},
   "outputs": [],
   "source": []
  },
  {
   "cell_type": "code",
   "execution_count": null,
   "id": "2489c70b",
   "metadata": {},
   "outputs": [],
   "source": []
  },
  {
   "cell_type": "code",
   "execution_count": null,
   "id": "92b24d46",
   "metadata": {},
   "outputs": [],
   "source": []
  }
 ],
 "metadata": {
  "kernelspec": {
   "display_name": "Python 3.9.7(Saturi)",
   "language": "python",
   "name": "saturi_for_p397"
  },
  "language_info": {
   "codemirror_mode": {
    "name": "ipython",
    "version": 3
   },
   "file_extension": ".py",
   "mimetype": "text/x-python",
   "name": "python",
   "nbconvert_exporter": "python",
   "pygments_lexer": "ipython3",
   "version": "3.9.7"
  }
 },
 "nbformat": 4,
 "nbformat_minor": 5
}
